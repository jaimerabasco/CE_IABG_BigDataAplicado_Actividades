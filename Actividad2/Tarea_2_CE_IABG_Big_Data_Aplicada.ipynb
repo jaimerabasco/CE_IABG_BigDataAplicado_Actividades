{
  "nbformat": 4,
  "nbformat_minor": 0,
  "metadata": {
    "colab": {
      "name": "Tarea 2 CE IABG - Big Data Aplicada",
      "provenance": []
    },
    "kernelspec": {
      "name": "python3",
      "display_name": "Python 3"
    },
    "language_info": {
      "name": "python"
    }
  },
  "cells": [
    {
      "cell_type": "markdown",
      "metadata": {
        "id": "x0LUiFM4KqUc"
      },
      "source": [
        "# Ejercicios Tarea 2 Curso CE IABG del módulo Big Data Aplicado\n",
        "## Jaime Rabasco Ronda\n",
        "\n"
      ]
    },
    {
      "cell_type": "markdown",
      "metadata": {
        "id": "fZKU_K8csLaE"
      },
      "source": [
        ""
      ]
    },
    {
      "cell_type": "markdown",
      "metadata": {
        "id": "Hs62VOhiLI_W"
      },
      "source": [
        "\n",
        "# Paso 1. Instalación de Hadoop y preparación del entorno\n",
        "\n"
      ]
    },
    {
      "cell_type": "markdown",
      "metadata": {
        "id": "9-wLcR5FsTDl"
      },
      "source": [
        "####1.1 Descargamos Hadoop"
      ]
    },
    {
      "cell_type": "code",
      "metadata": {
        "id": "urYVwdcGLImB",
        "colab": {
          "base_uri": "https://localhost:8080/"
        },
        "outputId": "df6858ed-968d-4bc5-ed1f-2fcfe43e77ad"
      },
      "source": [
        "!wget https://downloads.apache.org/hadoop/common/hadoop-3.3.0/hadoop-3.3.0.tar.gz"
      ],
      "execution_count": null,
      "outputs": [
        {
          "output_type": "stream",
          "name": "stdout",
          "text": [
            "--2021-11-11 20:07:45--  https://downloads.apache.org/hadoop/common/hadoop-3.3.0/hadoop-3.3.0.tar.gz\n",
            "Resolving downloads.apache.org (downloads.apache.org)... 88.99.95.219, 135.181.214.104, 2a01:4f9:3a:2c57::2, ...\n",
            "Connecting to downloads.apache.org (downloads.apache.org)|88.99.95.219|:443... connected.\n",
            "HTTP request sent, awaiting response... 200 OK\n",
            "Length: 500749234 (478M) [application/x-gzip]\n",
            "Saving to: ‘hadoop-3.3.0.tar.gz’\n",
            "\n",
            "hadoop-3.3.0.tar.gz 100%[===================>] 477.55M  25.8MB/s    in 25s     \n",
            "\n",
            "2021-11-11 20:08:10 (19.3 MB/s) - ‘hadoop-3.3.0.tar.gz’ saved [500749234/500749234]\n",
            "\n"
          ]
        }
      ]
    },
    {
      "cell_type": "markdown",
      "metadata": {
        "id": "gIF_z7FjLq36"
      },
      "source": [
        "####1.2 Descompresión de la distribución de hadoop"
      ]
    },
    {
      "cell_type": "code",
      "metadata": {
        "id": "Sd0e9zieLL8q",
        "colab": {
          "base_uri": "https://localhost:8080/"
        },
        "outputId": "be61bf63-9bad-4018-b287-f49c1c201126"
      },
      "source": [
        "!tar -xzf hadoop-3.3.0.tar.gz"
      ],
      "execution_count": 16,
      "outputs": [
        {
          "output_type": "stream",
          "name": "stdout",
          "text": [
            "tar (child): hadoop-3.3.0.tar.gz: Cannot open: No such file or directory\n",
            "tar (child): Error is not recoverable: exiting now\n",
            "tar: Child returned status 2\n",
            "tar: Error is not recoverable: exiting now\n"
          ]
        }
      ]
    },
    {
      "cell_type": "markdown",
      "metadata": {
        "id": "Ltq5ffmPLzWA"
      },
      "source": [
        "####1.3 Copiar a /usr/local# "
      ]
    },
    {
      "cell_type": "code",
      "metadata": {
        "id": "JkGcDKuNLqe5"
      },
      "source": [
        "#copy  hadoop file to user/local\n",
        "!cp -r hadoop-3.3.0/ /usr/local/"
      ],
      "execution_count": null,
      "outputs": []
    },
    {
      "cell_type": "markdown",
      "metadata": {
        "id": "syTT8QyKjnkg"
      },
      "source": [
        "####1.4 Configurar el Hadoop JAVA HOME\n",
        "Hadoop requiere que se establezca la ruta de acceso a Java, ya sea como una variable de entorno o en el archivo de configuración de Hadoop.\n",
        "Buscamos cual es la dirección de Java en la máquina Google Colab"
      ]
    },
    {
      "cell_type": "code",
      "metadata": {
        "colab": {
          "base_uri": "https://localhost:8080/"
        },
        "id": "13KZGrA_kEYA",
        "outputId": "b57b18e0-58ac-491f-d775-1d641baa94fb"
      },
      "source": [
        "!readlink -f /usr/bin/java | sed \"s:bin/java::\""
      ],
      "execution_count": null,
      "outputs": [
        {
          "output_type": "stream",
          "name": "stdout",
          "text": [
            "/usr/lib/jvm/java-11-openjdk-amd64/\n"
          ]
        }
      ]
    },
    {
      "cell_type": "markdown",
      "metadata": {
        "id": "SqTbyF_4kOk1"
      },
      "source": [
        "####1.5 Establecemos mediante código Python el valor de esta variable"
      ]
    },
    {
      "cell_type": "code",
      "metadata": {
        "id": "A6bEDxrkkOXG"
      },
      "source": [
        "import os\n",
        "os.environ[\"JAVA_HOME\"] = \"/usr/lib/jvm/java-11-openjdk-amd64/\""
      ],
      "execution_count": null,
      "outputs": []
    },
    {
      "cell_type": "markdown",
      "metadata": {
        "id": "ZIzv_aWTkuAW"
      },
      "source": [
        "#### 1.6 Ejecutando Hadoop\n",
        "Comprobamos que lo tenemos instalado y nos da información sobre las opciones y parámetros de ejecución que tiene hadoop"
      ]
    },
    {
      "cell_type": "code",
      "metadata": {
        "id": "g94LU7-1kyS5"
      },
      "source": [
        "#Running Hadoop\n",
        "!/usr/local/hadoop-3.3.0/bin/hadoop"
      ],
      "execution_count": null,
      "outputs": []
    },
    {
      "cell_type": "markdown",
      "metadata": {
        "id": "n-l9uwGtttw7"
      },
      "source": [
        "También podemos usar la opción -version para comprobar la correcta instalación y ejecución de hadoop"
      ]
    },
    {
      "cell_type": "code",
      "metadata": {
        "colab": {
          "base_uri": "https://localhost:8080/"
        },
        "id": "KDNxp7hkt8aQ",
        "outputId": "85a143ab-e03f-459e-c9ca-0a21fbd3b889"
      },
      "source": [
        "!/usr/local/hadoop-3.3.0/bin/hadoop version"
      ],
      "execution_count": null,
      "outputs": [
        {
          "output_type": "stream",
          "name": "stdout",
          "text": [
            "Hadoop 3.3.0\n",
            "Source code repository https://gitbox.apache.org/repos/asf/hadoop.git -r aa96f1871bfd858f9bac59cf2a81ec470da649af\n",
            "Compiled by brahma on 2020-07-06T18:44Z\n",
            "Compiled with protoc 3.7.1\n",
            "From source with checksum 5dc29b802d6ccd77b262ef9d04d19c4\n",
            "This command was run using /usr/local/hadoop-3.3.0/share/hadoop/common/hadoop-common-3.3.0.jar\n"
          ]
        }
      ]
    },
    {
      "cell_type": "markdown",
      "metadata": {
        "id": "DE40p88ytbAr"
      },
      "source": [
        "#### 1.7 Observamos todas las aplicaciones que trae mapreduce"
      ]
    },
    {
      "cell_type": "code",
      "metadata": {
        "colab": {
          "base_uri": "https://localhost:8080/"
        },
        "id": "3juDde_Ty-k6",
        "outputId": "02de6730-7221-490b-d232-66848b661e9c"
      },
      "source": [
        "!ls -la /usr/local/hadoop-3.3.0/share/hadoop/mapreduce/"
      ],
      "execution_count": null,
      "outputs": [
        {
          "output_type": "stream",
          "name": "stdout",
          "text": [
            "total 5292\n",
            "drwxr-xr-x 5 root root    4096 Nov 11 20:08 .\n",
            "drwxr-xr-x 8 root root    4096 Nov 11 20:08 ..\n",
            "-rw-r--r-- 1 root root  590045 Nov 11 20:08 hadoop-mapreduce-client-app-3.3.0.jar\n",
            "-rw-r--r-- 1 root root  805467 Nov 11 20:08 hadoop-mapreduce-client-common-3.3.0.jar\n",
            "-rw-r--r-- 1 root root 1624056 Nov 11 20:08 hadoop-mapreduce-client-core-3.3.0.jar\n",
            "-rw-r--r-- 1 root root  182043 Nov 11 20:08 hadoop-mapreduce-client-hs-3.3.0.jar\n",
            "-rw-r--r-- 1 root root   10326 Nov 11 20:08 hadoop-mapreduce-client-hs-plugins-3.3.0.jar\n",
            "-rw-r--r-- 1 root root   50699 Nov 11 20:08 hadoop-mapreduce-client-jobclient-3.3.0.jar\n",
            "-rw-r--r-- 1 root root 1651832 Nov 11 20:08 hadoop-mapreduce-client-jobclient-3.3.0-tests.jar\n",
            "-rw-r--r-- 1 root root   91021 Nov 11 20:08 hadoop-mapreduce-client-nativetask-3.3.0.jar\n",
            "-rw-r--r-- 1 root root   62348 Nov 11 20:08 hadoop-mapreduce-client-shuffle-3.3.0.jar\n",
            "-rw-r--r-- 1 root root   22621 Nov 11 20:08 hadoop-mapreduce-client-uploader-3.3.0.jar\n",
            "-rw-r--r-- 1 root root  281272 Nov 11 20:08 hadoop-mapreduce-examples-3.3.0.jar\n",
            "drwxr-xr-x 2 root root    4096 Nov 11 20:08 jdiff\n",
            "drwxr-xr-x 2 root root    4096 Nov 11 20:08 lib-examples\n",
            "drwxr-xr-x 2 root root    4096 Nov 11 20:08 sources\n"
          ]
        }
      ]
    },
    {
      "cell_type": "markdown",
      "metadata": {
        "id": "mQD--ypl4V3Y"
      },
      "source": [
        "#### 1.8 Investigando los ejemplos de Map Reduce. A nosotros nos interesa \"hadoop-mapreduce-examples-3.3.0.jar\" \n",
        "Miramos todas las opciones de aplicación de ejemplos de Map Reduce ejecutándolo sin parametros. Obtenemos la lista de ejemplos"
      ]
    },
    {
      "cell_type": "code",
      "metadata": {
        "colab": {
          "base_uri": "https://localhost:8080/"
        },
        "id": "Ky9g0Scoz1z4",
        "outputId": "f3f5a461-a379-41a7-e25c-e67d840a38c1"
      },
      "source": [
        "!/usr/local/hadoop-3.3.0/bin/hadoop jar /usr/local/hadoop-3.3.0/share/hadoop/mapreduce/hadoop-mapreduce-examples-3.3.0.jar"
      ],
      "execution_count": null,
      "outputs": [
        {
          "output_type": "stream",
          "name": "stdout",
          "text": [
            "An example program must be given as the first argument.\n",
            "Valid program names are:\n",
            "  aggregatewordcount: An Aggregate based map/reduce program that counts the words in the input files.\n",
            "  aggregatewordhist: An Aggregate based map/reduce program that computes the histogram of the words in the input files.\n",
            "  bbp: A map/reduce program that uses Bailey-Borwein-Plouffe to compute exact digits of Pi.\n",
            "  dbcount: An example job that count the pageview counts from a database.\n",
            "  distbbp: A map/reduce program that uses a BBP-type formula to compute exact bits of Pi.\n",
            "  grep: A map/reduce program that counts the matches of a regex in the input.\n",
            "  join: A job that effects a join over sorted, equally partitioned datasets\n",
            "  multifilewc: A job that counts words from several files.\n",
            "  pentomino: A map/reduce tile laying program to find solutions to pentomino problems.\n",
            "  pi: A map/reduce program that estimates Pi using a quasi-Monte Carlo method.\n",
            "  randomtextwriter: A map/reduce program that writes 10GB of random textual data per node.\n",
            "  randomwriter: A map/reduce program that writes 10GB of random data per node.\n",
            "  secondarysort: An example defining a secondary sort to the reduce.\n",
            "  sort: A map/reduce program that sorts the data written by the random writer.\n",
            "  sudoku: A sudoku solver.\n",
            "  teragen: Generate data for the terasort\n",
            "  terasort: Run the terasort\n",
            "  teravalidate: Checking results of terasort\n",
            "  wordcount: A map/reduce program that counts the words in the input files.\n",
            "  wordmean: A map/reduce program that counts the average length of the words in the input files.\n",
            "  wordmedian: A map/reduce program that counts the median length of the words in the input files.\n",
            "  wordstandarddeviation: A map/reduce program that counts the standard deviation of the length of the words in the input files.\n"
          ]
        }
      ]
    },
    {
      "cell_type": "markdown",
      "metadata": {
        "id": "9udPUGLc0gfG"
      },
      "source": [
        "####1.9 Vemos que tenemos la posibilidad de jugar con dos ejemplos: pi y sudoku"
      ]
    },
    {
      "cell_type": "markdown",
      "metadata": {
        "id": "CVeH8_Uf5P-g"
      },
      "source": [
        "#Paso 2.\n",
        "###Ejemplo 1: Cálculo del número π, vía Hadoop Map/Reduce, con 16 maps y 10000000 muestras"
      ]
    },
    {
      "cell_type": "markdown",
      "metadata": {
        "id": "sL5HcyNh1Btv"
      },
      "source": [
        "#### 2.1 Primero ejecutamos pi sin parámetros para que nos de información sobre las opciones y/o parámetros para poder resolver el ejercicio propuesto"
      ]
    },
    {
      "cell_type": "code",
      "metadata": {
        "colab": {
          "base_uri": "https://localhost:8080/"
        },
        "id": "jNvTdZ3Z010m",
        "outputId": "5ccfcd36-6f5c-4666-aa1c-820eb38b6e5e"
      },
      "source": [
        "!/usr/local/hadoop-3.3.0/bin/hadoop jar /usr/local/hadoop-3.3.0/share/hadoop/mapreduce/hadoop-mapreduce-examples-3.3.0.jar pi"
      ],
      "execution_count": null,
      "outputs": [
        {
          "output_type": "stream",
          "name": "stdout",
          "text": [
            "Usage: org.apache.hadoop.examples.QuasiMonteCarlo <nMaps> <nSamples>\n",
            "Generic options supported are:\n",
            "-conf <configuration file>        specify an application configuration file\n",
            "-D <property=value>               define a value for a given property\n",
            "-fs <file:///|hdfs://namenode:port> specify default filesystem URL to use, overrides 'fs.defaultFS' property from configurations.\n",
            "-jt <local|resourcemanager:port>  specify a ResourceManager\n",
            "-files <file1,...>                specify a comma-separated list of files to be copied to the map reduce cluster\n",
            "-libjars <jar1,...>               specify a comma-separated list of jar files to be included in the classpath\n",
            "-archives <archive1,...>          specify a comma-separated list of archives to be unarchived on the compute machines\n",
            "\n",
            "The general command line syntax is:\n",
            "command [genericOptions] [commandOptions]\n",
            "\n"
          ]
        }
      ]
    },
    {
      "cell_type": "markdown",
      "metadata": {
        "id": "PL9whueo1RWf"
      },
      "source": [
        "#### 2.2 Vemos que podemos pasarle 2 parámetros:\n",
        "*   nMaps: Número de mapas\n",
        "*   nSamples: Número de muestras\n",
        "Por tanto, aplicamos pi con 16 mapas y 10000000 muestras\n",
        "\n",
        "\n",
        "\n"
      ]
    },
    {
      "cell_type": "code",
      "metadata": {
        "colab": {
          "base_uri": "https://localhost:8080/"
        },
        "id": "cbyE_eAi3ZS2",
        "outputId": "a033f337-934c-472d-d9b9-fc1051665ed3"
      },
      "source": [
        "!/usr/local/hadoop-3.3.0/bin/hadoop jar /usr/local/hadoop-3.3.0/share/hadoop/mapreduce/hadoop-mapreduce-examples-3.3.0.jar pi 16 10000000"
      ],
      "execution_count": null,
      "outputs": [
        {
          "output_type": "stream",
          "name": "stdout",
          "text": [
            "Number of Maps  = 16\n",
            "Samples per Map = 10000000\n",
            "Wrote input for Map #0\n",
            "Wrote input for Map #1\n",
            "Wrote input for Map #2\n",
            "Wrote input for Map #3\n",
            "Wrote input for Map #4\n",
            "Wrote input for Map #5\n",
            "Wrote input for Map #6\n",
            "Wrote input for Map #7\n",
            "Wrote input for Map #8\n",
            "Wrote input for Map #9\n",
            "Wrote input for Map #10\n",
            "Wrote input for Map #11\n",
            "Wrote input for Map #12\n",
            "Wrote input for Map #13\n",
            "Wrote input for Map #14\n",
            "Wrote input for Map #15\n",
            "Starting Job\n",
            "2021-11-11 21:18:56,123 INFO impl.MetricsConfig: Loaded properties from hadoop-metrics2.properties\n",
            "2021-11-11 21:18:56,310 INFO impl.MetricsSystemImpl: Scheduled Metric snapshot period at 10 second(s).\n",
            "2021-11-11 21:18:56,313 INFO impl.MetricsSystemImpl: JobTracker metrics system started\n",
            "2021-11-11 21:18:56,465 INFO input.FileInputFormat: Total input files to process : 16\n",
            "2021-11-11 21:18:56,478 INFO mapreduce.JobSubmitter: number of splits:16\n",
            "2021-11-11 21:18:56,737 INFO mapreduce.JobSubmitter: Submitting tokens for job: job_local205630793_0001\n",
            "2021-11-11 21:18:56,737 INFO mapreduce.JobSubmitter: Executing with tokens: []\n",
            "2021-11-11 21:18:57,033 INFO mapreduce.Job: The url to track the job: http://localhost:8080/\n",
            "2021-11-11 21:18:57,034 INFO mapreduce.Job: Running job: job_local205630793_0001\n",
            "2021-11-11 21:18:57,048 INFO mapred.LocalJobRunner: OutputCommitter set in config null\n",
            "2021-11-11 21:18:57,057 INFO output.FileOutputCommitter: File Output Committer Algorithm version is 2\n",
            "2021-11-11 21:18:57,057 INFO output.FileOutputCommitter: FileOutputCommitter skip cleanup _temporary folders under output directory:false, ignore cleanup failures: false\n",
            "2021-11-11 21:18:57,058 INFO mapred.LocalJobRunner: OutputCommitter is org.apache.hadoop.mapreduce.lib.output.FileOutputCommitter\n",
            "2021-11-11 21:18:57,147 INFO mapred.LocalJobRunner: Waiting for map tasks\n",
            "2021-11-11 21:18:57,149 INFO mapred.LocalJobRunner: Starting task: attempt_local205630793_0001_m_000000_0\n",
            "2021-11-11 21:18:57,186 INFO output.FileOutputCommitter: File Output Committer Algorithm version is 2\n",
            "2021-11-11 21:18:57,189 INFO output.FileOutputCommitter: FileOutputCommitter skip cleanup _temporary folders under output directory:false, ignore cleanup failures: false\n",
            "2021-11-11 21:18:57,226 INFO mapred.Task:  Using ResourceCalculatorProcessTree : [ ]\n",
            "2021-11-11 21:18:57,232 INFO mapred.MapTask: Processing split: file:/content/QuasiMonteCarlo_1636665535044_1092948653/in/part13:0+118\n",
            "2021-11-11 21:18:57,433 INFO mapred.MapTask: (EQUATOR) 0 kvi 26214396(104857584)\n",
            "2021-11-11 21:18:57,433 INFO mapred.MapTask: mapreduce.task.io.sort.mb: 100\n",
            "2021-11-11 21:18:57,433 INFO mapred.MapTask: soft limit at 83886080\n",
            "2021-11-11 21:18:57,433 INFO mapred.MapTask: bufstart = 0; bufvoid = 104857600\n",
            "2021-11-11 21:18:57,433 INFO mapred.MapTask: kvstart = 26214396; length = 6553600\n",
            "2021-11-11 21:18:57,450 INFO mapred.MapTask: Map output collector class = org.apache.hadoop.mapred.MapTask$MapOutputBuffer\n",
            "2021-11-11 21:18:57,891 INFO mapred.LocalJobRunner: \n",
            "2021-11-11 21:18:57,892 INFO mapred.MapTask: Starting flush of map output\n",
            "2021-11-11 21:18:57,892 INFO mapred.MapTask: Spilling map output\n",
            "2021-11-11 21:18:57,892 INFO mapred.MapTask: bufstart = 0; bufend = 18; bufvoid = 104857600\n",
            "2021-11-11 21:18:57,892 INFO mapred.MapTask: kvstart = 26214396(104857584); kvend = 26214392(104857568); length = 5/6553600\n",
            "2021-11-11 21:18:57,899 INFO mapred.MapTask: Finished spill 0\n",
            "2021-11-11 21:18:57,912 INFO mapred.Task: Task:attempt_local205630793_0001_m_000000_0 is done. And is in the process of committing\n",
            "2021-11-11 21:18:57,915 INFO mapred.LocalJobRunner: Generated 10000000 samples.\n",
            "2021-11-11 21:18:57,915 INFO mapred.Task: Task 'attempt_local205630793_0001_m_000000_0' done.\n",
            "2021-11-11 21:18:57,922 INFO mapred.Task: Final Counters for attempt_local205630793_0001_m_000000_0: Counters: 17\n",
            "\tFile System Counters\n",
            "\t\tFILE: Number of bytes read=283750\n",
            "\t\tFILE: Number of bytes written=893502\n",
            "\t\tFILE: Number of read operations=0\n",
            "\t\tFILE: Number of large read operations=0\n",
            "\t\tFILE: Number of write operations=0\n",
            "\tMap-Reduce Framework\n",
            "\t\tMap input records=1\n",
            "\t\tMap output records=2\n",
            "\t\tMap output bytes=18\n",
            "\t\tMap output materialized bytes=28\n",
            "\t\tInput split bytes=129\n",
            "\t\tCombine input records=0\n",
            "\t\tSpilled Records=2\n",
            "\t\tFailed Shuffles=0\n",
            "\t\tMerged Map outputs=0\n",
            "\t\tGC time elapsed (ms)=0\n",
            "\t\tTotal committed heap usage (bytes)=392167424\n",
            "\tFile Input Format Counters \n",
            "\t\tBytes Read=130\n",
            "2021-11-11 21:18:57,922 INFO mapred.LocalJobRunner: Finishing task: attempt_local205630793_0001_m_000000_0\n",
            "2021-11-11 21:18:57,923 INFO mapred.LocalJobRunner: Starting task: attempt_local205630793_0001_m_000001_0\n",
            "2021-11-11 21:18:57,928 INFO output.FileOutputCommitter: File Output Committer Algorithm version is 2\n",
            "2021-11-11 21:18:57,928 INFO output.FileOutputCommitter: FileOutputCommitter skip cleanup _temporary folders under output directory:false, ignore cleanup failures: false\n",
            "2021-11-11 21:18:57,929 INFO mapred.Task:  Using ResourceCalculatorProcessTree : [ ]\n",
            "2021-11-11 21:18:57,930 INFO mapred.MapTask: Processing split: file:/content/QuasiMonteCarlo_1636665535044_1092948653/in/part3:0+118\n",
            "2021-11-11 21:18:57,977 INFO mapred.MapTask: (EQUATOR) 0 kvi 26214396(104857584)\n",
            "2021-11-11 21:18:57,977 INFO mapred.MapTask: mapreduce.task.io.sort.mb: 100\n",
            "2021-11-11 21:18:57,977 INFO mapred.MapTask: soft limit at 83886080\n",
            "2021-11-11 21:18:57,977 INFO mapred.MapTask: bufstart = 0; bufvoid = 104857600\n",
            "2021-11-11 21:18:57,977 INFO mapred.MapTask: kvstart = 26214396; length = 6553600\n",
            "2021-11-11 21:18:57,978 INFO mapred.MapTask: Map output collector class = org.apache.hadoop.mapred.MapTask$MapOutputBuffer\n",
            "2021-11-11 21:18:58,045 INFO mapreduce.Job: Job job_local205630793_0001 running in uber mode : false\n",
            "2021-11-11 21:18:58,048 INFO mapreduce.Job:  map 100% reduce 0%\n",
            "2021-11-11 21:18:58,673 INFO mapred.LocalJobRunner: \n",
            "2021-11-11 21:18:58,674 INFO mapred.MapTask: Starting flush of map output\n",
            "2021-11-11 21:18:58,674 INFO mapred.MapTask: Spilling map output\n",
            "2021-11-11 21:18:58,674 INFO mapred.MapTask: bufstart = 0; bufend = 18; bufvoid = 104857600\n",
            "2021-11-11 21:18:58,674 INFO mapred.MapTask: kvstart = 26214396(104857584); kvend = 26214392(104857568); length = 5/6553600\n",
            "2021-11-11 21:18:58,676 INFO mapred.MapTask: Finished spill 0\n",
            "2021-11-11 21:18:58,679 INFO mapred.Task: Task:attempt_local205630793_0001_m_000001_0 is done. And is in the process of committing\n",
            "2021-11-11 21:18:58,684 INFO mapred.LocalJobRunner: Generated 10000000 samples.\n",
            "2021-11-11 21:18:58,684 INFO mapred.Task: Task 'attempt_local205630793_0001_m_000001_0' done.\n",
            "2021-11-11 21:18:58,685 INFO mapred.Task: Final Counters for attempt_local205630793_0001_m_000001_0: Counters: 17\n",
            "\tFile System Counters\n",
            "\t\tFILE: Number of bytes read=285969\n",
            "\t\tFILE: Number of bytes written=893562\n",
            "\t\tFILE: Number of read operations=0\n",
            "\t\tFILE: Number of large read operations=0\n",
            "\t\tFILE: Number of write operations=0\n",
            "\tMap-Reduce Framework\n",
            "\t\tMap input records=1\n",
            "\t\tMap output records=2\n",
            "\t\tMap output bytes=18\n",
            "\t\tMap output materialized bytes=28\n",
            "\t\tInput split bytes=128\n",
            "\t\tCombine input records=0\n",
            "\t\tSpilled Records=2\n",
            "\t\tFailed Shuffles=0\n",
            "\t\tMerged Map outputs=0\n",
            "\t\tGC time elapsed (ms)=23\n",
            "\t\tTotal committed heap usage (bytes)=392167424\n",
            "\tFile Input Format Counters \n",
            "\t\tBytes Read=130\n",
            "2021-11-11 21:18:58,685 INFO mapred.LocalJobRunner: Finishing task: attempt_local205630793_0001_m_000001_0\n",
            "2021-11-11 21:18:58,685 INFO mapred.LocalJobRunner: Starting task: attempt_local205630793_0001_m_000002_0\n",
            "2021-11-11 21:18:58,686 INFO output.FileOutputCommitter: File Output Committer Algorithm version is 2\n",
            "2021-11-11 21:18:58,686 INFO output.FileOutputCommitter: FileOutputCommitter skip cleanup _temporary folders under output directory:false, ignore cleanup failures: false\n",
            "2021-11-11 21:18:58,687 INFO mapred.Task:  Using ResourceCalculatorProcessTree : [ ]\n",
            "2021-11-11 21:18:58,688 INFO mapred.MapTask: Processing split: file:/content/QuasiMonteCarlo_1636665535044_1092948653/in/part6:0+118\n",
            "2021-11-11 21:18:58,759 INFO mapred.MapTask: (EQUATOR) 0 kvi 26214396(104857584)\n",
            "2021-11-11 21:18:58,759 INFO mapred.MapTask: mapreduce.task.io.sort.mb: 100\n",
            "2021-11-11 21:18:58,759 INFO mapred.MapTask: soft limit at 83886080\n",
            "2021-11-11 21:18:58,759 INFO mapred.MapTask: bufstart = 0; bufvoid = 104857600\n",
            "2021-11-11 21:18:58,759 INFO mapred.MapTask: kvstart = 26214396; length = 6553600\n",
            "2021-11-11 21:18:58,773 INFO mapred.MapTask: Map output collector class = org.apache.hadoop.mapred.MapTask$MapOutputBuffer\n",
            "2021-11-11 21:18:59,130 INFO mapred.LocalJobRunner: \n",
            "2021-11-11 21:18:59,130 INFO mapred.MapTask: Starting flush of map output\n",
            "2021-11-11 21:18:59,131 INFO mapred.MapTask: Spilling map output\n",
            "2021-11-11 21:18:59,131 INFO mapred.MapTask: bufstart = 0; bufend = 18; bufvoid = 104857600\n",
            "2021-11-11 21:18:59,131 INFO mapred.MapTask: kvstart = 26214396(104857584); kvend = 26214392(104857568); length = 5/6553600\n",
            "2021-11-11 21:18:59,133 INFO mapred.MapTask: Finished spill 0\n",
            "2021-11-11 21:18:59,136 INFO mapred.Task: Task:attempt_local205630793_0001_m_000002_0 is done. And is in the process of committing\n",
            "2021-11-11 21:18:59,141 INFO mapred.LocalJobRunner: Generated 10000000 samples.\n",
            "2021-11-11 21:18:59,141 INFO mapred.Task: Task 'attempt_local205630793_0001_m_000002_0' done.\n",
            "2021-11-11 21:18:59,143 INFO mapred.Task: Final Counters for attempt_local205630793_0001_m_000002_0: Counters: 17\n",
            "\tFile System Counters\n",
            "\t\tFILE: Number of bytes read=288188\n",
            "\t\tFILE: Number of bytes written=893622\n",
            "\t\tFILE: Number of read operations=0\n",
            "\t\tFILE: Number of large read operations=0\n",
            "\t\tFILE: Number of write operations=0\n",
            "\tMap-Reduce Framework\n",
            "\t\tMap input records=1\n",
            "\t\tMap output records=2\n",
            "\t\tMap output bytes=18\n",
            "\t\tMap output materialized bytes=28\n",
            "\t\tInput split bytes=128\n",
            "\t\tCombine input records=0\n",
            "\t\tSpilled Records=2\n",
            "\t\tFailed Shuffles=0\n",
            "\t\tMerged Map outputs=0\n",
            "\t\tGC time elapsed (ms)=23\n",
            "\t\tTotal committed heap usage (bytes)=392167424\n",
            "\tFile Input Format Counters \n",
            "\t\tBytes Read=130\n",
            "2021-11-11 21:18:59,143 INFO mapred.LocalJobRunner: Finishing task: attempt_local205630793_0001_m_000002_0\n",
            "2021-11-11 21:18:59,143 INFO mapred.LocalJobRunner: Starting task: attempt_local205630793_0001_m_000003_0\n",
            "2021-11-11 21:18:59,152 INFO output.FileOutputCommitter: File Output Committer Algorithm version is 2\n",
            "2021-11-11 21:18:59,152 INFO output.FileOutputCommitter: FileOutputCommitter skip cleanup _temporary folders under output directory:false, ignore cleanup failures: false\n",
            "2021-11-11 21:18:59,153 INFO mapred.Task:  Using ResourceCalculatorProcessTree : [ ]\n",
            "2021-11-11 21:18:59,156 INFO mapred.MapTask: Processing split: file:/content/QuasiMonteCarlo_1636665535044_1092948653/in/part5:0+118\n",
            "2021-11-11 21:18:59,198 INFO mapred.MapTask: (EQUATOR) 0 kvi 26214396(104857584)\n",
            "2021-11-11 21:18:59,198 INFO mapred.MapTask: mapreduce.task.io.sort.mb: 100\n",
            "2021-11-11 21:18:59,198 INFO mapred.MapTask: soft limit at 83886080\n",
            "2021-11-11 21:18:59,198 INFO mapred.MapTask: bufstart = 0; bufvoid = 104857600\n",
            "2021-11-11 21:18:59,198 INFO mapred.MapTask: kvstart = 26214396; length = 6553600\n",
            "2021-11-11 21:18:59,213 INFO mapred.MapTask: Map output collector class = org.apache.hadoop.mapred.MapTask$MapOutputBuffer\n",
            "2021-11-11 21:18:59,456 INFO mapred.LocalJobRunner: \n",
            "2021-11-11 21:18:59,457 INFO mapred.MapTask: Starting flush of map output\n",
            "2021-11-11 21:18:59,457 INFO mapred.MapTask: Spilling map output\n",
            "2021-11-11 21:18:59,457 INFO mapred.MapTask: bufstart = 0; bufend = 18; bufvoid = 104857600\n",
            "2021-11-11 21:18:59,457 INFO mapred.MapTask: kvstart = 26214396(104857584); kvend = 26214392(104857568); length = 5/6553600\n",
            "2021-11-11 21:18:59,458 INFO mapred.MapTask: Finished spill 0\n",
            "2021-11-11 21:18:59,463 INFO mapred.Task: Task:attempt_local205630793_0001_m_000003_0 is done. And is in the process of committing\n",
            "2021-11-11 21:18:59,465 INFO mapred.LocalJobRunner: Generated 10000000 samples.\n",
            "2021-11-11 21:18:59,465 INFO mapred.Task: Task 'attempt_local205630793_0001_m_000003_0' done.\n",
            "2021-11-11 21:18:59,469 INFO mapred.Task: Final Counters for attempt_local205630793_0001_m_000003_0: Counters: 17\n",
            "\tFile System Counters\n",
            "\t\tFILE: Number of bytes read=290407\n",
            "\t\tFILE: Number of bytes written=893682\n",
            "\t\tFILE: Number of read operations=0\n",
            "\t\tFILE: Number of large read operations=0\n",
            "\t\tFILE: Number of write operations=0\n",
            "\tMap-Reduce Framework\n",
            "\t\tMap input records=1\n",
            "\t\tMap output records=2\n",
            "\t\tMap output bytes=18\n",
            "\t\tMap output materialized bytes=28\n",
            "\t\tInput split bytes=128\n",
            "\t\tCombine input records=0\n",
            "\t\tSpilled Records=2\n",
            "\t\tFailed Shuffles=0\n",
            "\t\tMerged Map outputs=0\n",
            "\t\tGC time elapsed (ms)=10\n",
            "\t\tTotal committed heap usage (bytes)=558891008\n",
            "\tFile Input Format Counters \n",
            "\t\tBytes Read=130\n",
            "2021-11-11 21:18:59,469 INFO mapred.LocalJobRunner: Finishing task: attempt_local205630793_0001_m_000003_0\n",
            "2021-11-11 21:18:59,469 INFO mapred.LocalJobRunner: Starting task: attempt_local205630793_0001_m_000004_0\n",
            "2021-11-11 21:18:59,471 INFO output.FileOutputCommitter: File Output Committer Algorithm version is 2\n",
            "2021-11-11 21:18:59,471 INFO output.FileOutputCommitter: FileOutputCommitter skip cleanup _temporary folders under output directory:false, ignore cleanup failures: false\n",
            "2021-11-11 21:18:59,471 INFO mapred.Task:  Using ResourceCalculatorProcessTree : [ ]\n",
            "2021-11-11 21:18:59,473 INFO mapred.MapTask: Processing split: file:/content/QuasiMonteCarlo_1636665535044_1092948653/in/part10:0+118\n",
            "2021-11-11 21:18:59,607 INFO mapred.MapTask: (EQUATOR) 0 kvi 26214396(104857584)\n",
            "2021-11-11 21:18:59,607 INFO mapred.MapTask: mapreduce.task.io.sort.mb: 100\n",
            "2021-11-11 21:18:59,607 INFO mapred.MapTask: soft limit at 83886080\n",
            "2021-11-11 21:18:59,607 INFO mapred.MapTask: bufstart = 0; bufvoid = 104857600\n",
            "2021-11-11 21:18:59,607 INFO mapred.MapTask: kvstart = 26214396; length = 6553600\n",
            "2021-11-11 21:18:59,608 INFO mapred.MapTask: Map output collector class = org.apache.hadoop.mapred.MapTask$MapOutputBuffer\n",
            "2021-11-11 21:18:59,852 INFO mapred.LocalJobRunner: \n",
            "2021-11-11 21:18:59,852 INFO mapred.MapTask: Starting flush of map output\n",
            "2021-11-11 21:18:59,852 INFO mapred.MapTask: Spilling map output\n",
            "2021-11-11 21:18:59,852 INFO mapred.MapTask: bufstart = 0; bufend = 18; bufvoid = 104857600\n",
            "2021-11-11 21:18:59,852 INFO mapred.MapTask: kvstart = 26214396(104857584); kvend = 26214392(104857568); length = 5/6553600\n",
            "2021-11-11 21:18:59,855 INFO mapred.MapTask: Finished spill 0\n",
            "2021-11-11 21:18:59,858 INFO mapred.Task: Task:attempt_local205630793_0001_m_000004_0 is done. And is in the process of committing\n",
            "2021-11-11 21:18:59,864 INFO mapred.LocalJobRunner: Generated 10000000 samples.\n",
            "2021-11-11 21:18:59,865 INFO mapred.Task: Task 'attempt_local205630793_0001_m_000004_0' done.\n",
            "2021-11-11 21:18:59,865 INFO mapred.Task: Final Counters for attempt_local205630793_0001_m_000004_0: Counters: 17\n",
            "\tFile System Counters\n",
            "\t\tFILE: Number of bytes read=292114\n",
            "\t\tFILE: Number of bytes written=893742\n",
            "\t\tFILE: Number of read operations=0\n",
            "\t\tFILE: Number of large read operations=0\n",
            "\t\tFILE: Number of write operations=0\n",
            "\tMap-Reduce Framework\n",
            "\t\tMap input records=1\n",
            "\t\tMap output records=2\n",
            "\t\tMap output bytes=18\n",
            "\t\tMap output materialized bytes=28\n",
            "\t\tInput split bytes=129\n",
            "\t\tCombine input records=0\n",
            "\t\tSpilled Records=2\n",
            "\t\tFailed Shuffles=0\n",
            "\t\tMerged Map outputs=0\n",
            "\t\tGC time elapsed (ms)=0\n",
            "\t\tTotal committed heap usage (bytes)=558891008\n",
            "\tFile Input Format Counters \n",
            "\t\tBytes Read=130\n",
            "2021-11-11 21:18:59,865 INFO mapred.LocalJobRunner: Finishing task: attempt_local205630793_0001_m_000004_0\n",
            "2021-11-11 21:18:59,865 INFO mapred.LocalJobRunner: Starting task: attempt_local205630793_0001_m_000005_0\n",
            "2021-11-11 21:18:59,868 INFO output.FileOutputCommitter: File Output Committer Algorithm version is 2\n",
            "2021-11-11 21:18:59,868 INFO output.FileOutputCommitter: FileOutputCommitter skip cleanup _temporary folders under output directory:false, ignore cleanup failures: false\n",
            "2021-11-11 21:18:59,869 INFO mapred.Task:  Using ResourceCalculatorProcessTree : [ ]\n",
            "2021-11-11 21:18:59,872 INFO mapred.MapTask: Processing split: file:/content/QuasiMonteCarlo_1636665535044_1092948653/in/part2:0+118\n",
            "2021-11-11 21:18:59,905 INFO mapred.MapTask: (EQUATOR) 0 kvi 26214396(104857584)\n",
            "2021-11-11 21:18:59,905 INFO mapred.MapTask: mapreduce.task.io.sort.mb: 100\n",
            "2021-11-11 21:18:59,905 INFO mapred.MapTask: soft limit at 83886080\n",
            "2021-11-11 21:18:59,905 INFO mapred.MapTask: bufstart = 0; bufvoid = 104857600\n",
            "2021-11-11 21:18:59,905 INFO mapred.MapTask: kvstart = 26214396; length = 6553600\n",
            "2021-11-11 21:18:59,907 INFO mapred.MapTask: Map output collector class = org.apache.hadoop.mapred.MapTask$MapOutputBuffer\n",
            "2021-11-11 21:19:00,160 INFO mapred.LocalJobRunner: \n",
            "2021-11-11 21:19:00,161 INFO mapred.MapTask: Starting flush of map output\n",
            "2021-11-11 21:19:00,161 INFO mapred.MapTask: Spilling map output\n",
            "2021-11-11 21:19:00,161 INFO mapred.MapTask: bufstart = 0; bufend = 18; bufvoid = 104857600\n",
            "2021-11-11 21:19:00,161 INFO mapred.MapTask: kvstart = 26214396(104857584); kvend = 26214392(104857568); length = 5/6553600\n",
            "2021-11-11 21:19:00,163 INFO mapred.MapTask: Finished spill 0\n",
            "2021-11-11 21:19:00,166 INFO mapred.Task: Task:attempt_local205630793_0001_m_000005_0 is done. And is in the process of committing\n",
            "2021-11-11 21:19:00,168 INFO mapred.LocalJobRunner: Generated 10000000 samples.\n",
            "2021-11-11 21:19:00,168 INFO mapred.Task: Task 'attempt_local205630793_0001_m_000005_0' done.\n",
            "2021-11-11 21:19:00,169 INFO mapred.Task: Final Counters for attempt_local205630793_0001_m_000005_0: Counters: 17\n",
            "\tFile System Counters\n",
            "\t\tFILE: Number of bytes read=293821\n",
            "\t\tFILE: Number of bytes written=893802\n",
            "\t\tFILE: Number of read operations=0\n",
            "\t\tFILE: Number of large read operations=0\n",
            "\t\tFILE: Number of write operations=0\n",
            "\tMap-Reduce Framework\n",
            "\t\tMap input records=1\n",
            "\t\tMap output records=2\n",
            "\t\tMap output bytes=18\n",
            "\t\tMap output materialized bytes=28\n",
            "\t\tInput split bytes=128\n",
            "\t\tCombine input records=0\n",
            "\t\tSpilled Records=2\n",
            "\t\tFailed Shuffles=0\n",
            "\t\tMerged Map outputs=0\n",
            "\t\tGC time elapsed (ms)=11\n",
            "\t\tTotal committed heap usage (bytes)=558891008\n",
            "\tFile Input Format Counters \n",
            "\t\tBytes Read=130\n",
            "2021-11-11 21:19:00,169 INFO mapred.LocalJobRunner: Finishing task: attempt_local205630793_0001_m_000005_0\n",
            "2021-11-11 21:19:00,169 INFO mapred.LocalJobRunner: Starting task: attempt_local205630793_0001_m_000006_0\n",
            "2021-11-11 21:19:00,172 INFO output.FileOutputCommitter: File Output Committer Algorithm version is 2\n",
            "2021-11-11 21:19:00,172 INFO output.FileOutputCommitter: FileOutputCommitter skip cleanup _temporary folders under output directory:false, ignore cleanup failures: false\n",
            "2021-11-11 21:19:00,172 INFO mapred.Task:  Using ResourceCalculatorProcessTree : [ ]\n",
            "2021-11-11 21:19:00,173 INFO mapred.MapTask: Processing split: file:/content/QuasiMonteCarlo_1636665535044_1092948653/in/part8:0+118\n",
            "2021-11-11 21:19:00,191 INFO mapred.MapTask: (EQUATOR) 0 kvi 26214396(104857584)\n",
            "2021-11-11 21:19:00,192 INFO mapred.MapTask: mapreduce.task.io.sort.mb: 100\n",
            "2021-11-11 21:19:00,192 INFO mapred.MapTask: soft limit at 83886080\n",
            "2021-11-11 21:19:00,192 INFO mapred.MapTask: bufstart = 0; bufvoid = 104857600\n",
            "2021-11-11 21:19:00,192 INFO mapred.MapTask: kvstart = 26214396; length = 6553600\n",
            "2021-11-11 21:19:00,198 INFO mapred.MapTask: Map output collector class = org.apache.hadoop.mapred.MapTask$MapOutputBuffer\n",
            "2021-11-11 21:19:00,435 INFO mapred.LocalJobRunner: \n",
            "2021-11-11 21:19:00,435 INFO mapred.MapTask: Starting flush of map output\n",
            "2021-11-11 21:19:00,435 INFO mapred.MapTask: Spilling map output\n",
            "2021-11-11 21:19:00,435 INFO mapred.MapTask: bufstart = 0; bufend = 18; bufvoid = 104857600\n",
            "2021-11-11 21:19:00,435 INFO mapred.MapTask: kvstart = 26214396(104857584); kvend = 26214392(104857568); length = 5/6553600\n",
            "2021-11-11 21:19:00,437 INFO mapred.MapTask: Finished spill 0\n",
            "2021-11-11 21:19:00,439 INFO mapred.Task: Task:attempt_local205630793_0001_m_000006_0 is done. And is in the process of committing\n",
            "2021-11-11 21:19:00,441 INFO mapred.LocalJobRunner: Generated 10000000 samples.\n",
            "2021-11-11 21:19:00,441 INFO mapred.Task: Task 'attempt_local205630793_0001_m_000006_0' done.\n",
            "2021-11-11 21:19:00,441 INFO mapred.Task: Final Counters for attempt_local205630793_0001_m_000006_0: Counters: 17\n",
            "\tFile System Counters\n",
            "\t\tFILE: Number of bytes read=295528\n",
            "\t\tFILE: Number of bytes written=893862\n",
            "\t\tFILE: Number of read operations=0\n",
            "\t\tFILE: Number of large read operations=0\n",
            "\t\tFILE: Number of write operations=0\n",
            "\tMap-Reduce Framework\n",
            "\t\tMap input records=1\n",
            "\t\tMap output records=2\n",
            "\t\tMap output bytes=18\n",
            "\t\tMap output materialized bytes=28\n",
            "\t\tInput split bytes=128\n",
            "\t\tCombine input records=0\n",
            "\t\tSpilled Records=2\n",
            "\t\tFailed Shuffles=0\n",
            "\t\tMerged Map outputs=0\n",
            "\t\tGC time elapsed (ms)=0\n",
            "\t\tTotal committed heap usage (bytes)=558891008\n",
            "\tFile Input Format Counters \n",
            "\t\tBytes Read=130\n",
            "2021-11-11 21:19:00,441 INFO mapred.LocalJobRunner: Finishing task: attempt_local205630793_0001_m_000006_0\n",
            "2021-11-11 21:19:00,442 INFO mapred.LocalJobRunner: Starting task: attempt_local205630793_0001_m_000007_0\n",
            "2021-11-11 21:19:00,443 INFO output.FileOutputCommitter: File Output Committer Algorithm version is 2\n",
            "2021-11-11 21:19:00,443 INFO output.FileOutputCommitter: FileOutputCommitter skip cleanup _temporary folders under output directory:false, ignore cleanup failures: false\n",
            "2021-11-11 21:19:00,443 INFO mapred.Task:  Using ResourceCalculatorProcessTree : [ ]\n",
            "2021-11-11 21:19:00,445 INFO mapred.MapTask: Processing split: file:/content/QuasiMonteCarlo_1636665535044_1092948653/in/part1:0+118\n",
            "2021-11-11 21:19:00,471 INFO mapred.MapTask: (EQUATOR) 0 kvi 26214396(104857584)\n",
            "2021-11-11 21:19:00,471 INFO mapred.MapTask: mapreduce.task.io.sort.mb: 100\n",
            "2021-11-11 21:19:00,471 INFO mapred.MapTask: soft limit at 83886080\n",
            "2021-11-11 21:19:00,471 INFO mapred.MapTask: bufstart = 0; bufvoid = 104857600\n",
            "2021-11-11 21:19:00,471 INFO mapred.MapTask: kvstart = 26214396; length = 6553600\n",
            "2021-11-11 21:19:00,476 INFO mapred.MapTask: Map output collector class = org.apache.hadoop.mapred.MapTask$MapOutputBuffer\n",
            "2021-11-11 21:19:00,731 INFO mapred.LocalJobRunner: \n",
            "2021-11-11 21:19:00,731 INFO mapred.MapTask: Starting flush of map output\n",
            "2021-11-11 21:19:00,731 INFO mapred.MapTask: Spilling map output\n",
            "2021-11-11 21:19:00,731 INFO mapred.MapTask: bufstart = 0; bufend = 18; bufvoid = 104857600\n",
            "2021-11-11 21:19:00,731 INFO mapred.MapTask: kvstart = 26214396(104857584); kvend = 26214392(104857568); length = 5/6553600\n",
            "2021-11-11 21:19:00,733 INFO mapred.MapTask: Finished spill 0\n",
            "2021-11-11 21:19:00,735 INFO mapred.Task: Task:attempt_local205630793_0001_m_000007_0 is done. And is in the process of committing\n",
            "2021-11-11 21:19:00,736 INFO mapred.LocalJobRunner: Generated 10000000 samples.\n",
            "2021-11-11 21:19:00,736 INFO mapred.Task: Task 'attempt_local205630793_0001_m_000007_0' done.\n",
            "2021-11-11 21:19:00,737 INFO mapred.Task: Final Counters for attempt_local205630793_0001_m_000007_0: Counters: 17\n",
            "\tFile System Counters\n",
            "\t\tFILE: Number of bytes read=297235\n",
            "\t\tFILE: Number of bytes written=893922\n",
            "\t\tFILE: Number of read operations=0\n",
            "\t\tFILE: Number of large read operations=0\n",
            "\t\tFILE: Number of write operations=0\n",
            "\tMap-Reduce Framework\n",
            "\t\tMap input records=1\n",
            "\t\tMap output records=2\n",
            "\t\tMap output bytes=18\n",
            "\t\tMap output materialized bytes=28\n",
            "\t\tInput split bytes=128\n",
            "\t\tCombine input records=0\n",
            "\t\tSpilled Records=2\n",
            "\t\tFailed Shuffles=0\n",
            "\t\tMerged Map outputs=0\n",
            "\t\tGC time elapsed (ms)=9\n",
            "\t\tTotal committed heap usage (bytes)=558891008\n",
            "\tFile Input Format Counters \n",
            "\t\tBytes Read=130\n",
            "2021-11-11 21:19:00,737 INFO mapred.LocalJobRunner: Finishing task: attempt_local205630793_0001_m_000007_0\n",
            "2021-11-11 21:19:00,737 INFO mapred.LocalJobRunner: Starting task: attempt_local205630793_0001_m_000008_0\n",
            "2021-11-11 21:19:00,738 INFO output.FileOutputCommitter: File Output Committer Algorithm version is 2\n",
            "2021-11-11 21:19:00,739 INFO output.FileOutputCommitter: FileOutputCommitter skip cleanup _temporary folders under output directory:false, ignore cleanup failures: false\n",
            "2021-11-11 21:19:00,739 INFO mapred.Task:  Using ResourceCalculatorProcessTree : [ ]\n",
            "2021-11-11 21:19:00,740 INFO mapred.MapTask: Processing split: file:/content/QuasiMonteCarlo_1636665535044_1092948653/in/part12:0+118\n",
            "2021-11-11 21:19:00,757 INFO mapred.MapTask: (EQUATOR) 0 kvi 26214396(104857584)\n",
            "2021-11-11 21:19:00,757 INFO mapred.MapTask: mapreduce.task.io.sort.mb: 100\n",
            "2021-11-11 21:19:00,757 INFO mapred.MapTask: soft limit at 83886080\n",
            "2021-11-11 21:19:00,757 INFO mapred.MapTask: bufstart = 0; bufvoid = 104857600\n",
            "2021-11-11 21:19:00,757 INFO mapred.MapTask: kvstart = 26214396; length = 6553600\n",
            "2021-11-11 21:19:00,758 INFO mapred.MapTask: Map output collector class = org.apache.hadoop.mapred.MapTask$MapOutputBuffer\n",
            "2021-11-11 21:19:00,998 INFO mapred.LocalJobRunner: \n",
            "2021-11-11 21:19:00,998 INFO mapred.MapTask: Starting flush of map output\n",
            "2021-11-11 21:19:00,998 INFO mapred.MapTask: Spilling map output\n",
            "2021-11-11 21:19:00,998 INFO mapred.MapTask: bufstart = 0; bufend = 18; bufvoid = 104857600\n",
            "2021-11-11 21:19:00,998 INFO mapred.MapTask: kvstart = 26214396(104857584); kvend = 26214392(104857568); length = 5/6553600\n",
            "2021-11-11 21:19:01,000 INFO mapred.MapTask: Finished spill 0\n",
            "2021-11-11 21:19:01,002 INFO mapred.Task: Task:attempt_local205630793_0001_m_000008_0 is done. And is in the process of committing\n",
            "2021-11-11 21:19:01,003 INFO mapred.LocalJobRunner: Generated 10000000 samples.\n",
            "2021-11-11 21:19:01,003 INFO mapred.Task: Task 'attempt_local205630793_0001_m_000008_0' done.\n",
            "2021-11-11 21:19:01,004 INFO mapred.Task: Final Counters for attempt_local205630793_0001_m_000008_0: Counters: 17\n",
            "\tFile System Counters\n",
            "\t\tFILE: Number of bytes read=298430\n",
            "\t\tFILE: Number of bytes written=893982\n",
            "\t\tFILE: Number of read operations=0\n",
            "\t\tFILE: Number of large read operations=0\n",
            "\t\tFILE: Number of write operations=0\n",
            "\tMap-Reduce Framework\n",
            "\t\tMap input records=1\n",
            "\t\tMap output records=2\n",
            "\t\tMap output bytes=18\n",
            "\t\tMap output materialized bytes=28\n",
            "\t\tInput split bytes=129\n",
            "\t\tCombine input records=0\n",
            "\t\tSpilled Records=2\n",
            "\t\tFailed Shuffles=0\n",
            "\t\tMerged Map outputs=0\n",
            "\t\tGC time elapsed (ms)=0\n",
            "\t\tTotal committed heap usage (bytes)=558891008\n",
            "\tFile Input Format Counters \n",
            "\t\tBytes Read=130\n",
            "2021-11-11 21:19:01,004 INFO mapred.LocalJobRunner: Finishing task: attempt_local205630793_0001_m_000008_0\n",
            "2021-11-11 21:19:01,004 INFO mapred.LocalJobRunner: Starting task: attempt_local205630793_0001_m_000009_0\n",
            "2021-11-11 21:19:01,013 INFO output.FileOutputCommitter: File Output Committer Algorithm version is 2\n",
            "2021-11-11 21:19:01,014 INFO output.FileOutputCommitter: FileOutputCommitter skip cleanup _temporary folders under output directory:false, ignore cleanup failures: false\n",
            "2021-11-11 21:19:01,014 INFO mapred.Task:  Using ResourceCalculatorProcessTree : [ ]\n",
            "2021-11-11 21:19:01,015 INFO mapred.MapTask: Processing split: file:/content/QuasiMonteCarlo_1636665535044_1092948653/in/part9:0+118\n",
            "2021-11-11 21:19:01,066 INFO mapred.MapTask: (EQUATOR) 0 kvi 26214396(104857584)\n",
            "2021-11-11 21:19:01,066 INFO mapred.MapTask: mapreduce.task.io.sort.mb: 100\n",
            "2021-11-11 21:19:01,066 INFO mapred.MapTask: soft limit at 83886080\n",
            "2021-11-11 21:19:01,066 INFO mapred.MapTask: bufstart = 0; bufvoid = 104857600\n",
            "2021-11-11 21:19:01,066 INFO mapred.MapTask: kvstart = 26214396; length = 6553600\n",
            "2021-11-11 21:19:01,073 INFO mapred.MapTask: Map output collector class = org.apache.hadoop.mapred.MapTask$MapOutputBuffer\n",
            "2021-11-11 21:19:01,305 INFO mapred.LocalJobRunner: \n",
            "2021-11-11 21:19:01,306 INFO mapred.MapTask: Starting flush of map output\n",
            "2021-11-11 21:19:01,306 INFO mapred.MapTask: Spilling map output\n",
            "2021-11-11 21:19:01,306 INFO mapred.MapTask: bufstart = 0; bufend = 18; bufvoid = 104857600\n",
            "2021-11-11 21:19:01,306 INFO mapred.MapTask: kvstart = 26214396(104857584); kvend = 26214392(104857568); length = 5/6553600\n",
            "2021-11-11 21:19:01,307 INFO mapred.MapTask: Finished spill 0\n",
            "2021-11-11 21:19:01,312 INFO mapred.Task: Task:attempt_local205630793_0001_m_000009_0 is done. And is in the process of committing\n",
            "2021-11-11 21:19:01,314 INFO mapred.LocalJobRunner: Generated 10000000 samples.\n",
            "2021-11-11 21:19:01,314 INFO mapred.Task: Task 'attempt_local205630793_0001_m_000009_0' done.\n",
            "2021-11-11 21:19:01,315 INFO mapred.Task: Final Counters for attempt_local205630793_0001_m_000009_0: Counters: 17\n",
            "\tFile System Counters\n",
            "\t\tFILE: Number of bytes read=299625\n",
            "\t\tFILE: Number of bytes written=894042\n",
            "\t\tFILE: Number of read operations=0\n",
            "\t\tFILE: Number of large read operations=0\n",
            "\t\tFILE: Number of write operations=0\n",
            "\tMap-Reduce Framework\n",
            "\t\tMap input records=1\n",
            "\t\tMap output records=2\n",
            "\t\tMap output bytes=18\n",
            "\t\tMap output materialized bytes=28\n",
            "\t\tInput split bytes=128\n",
            "\t\tCombine input records=0\n",
            "\t\tSpilled Records=2\n",
            "\t\tFailed Shuffles=0\n",
            "\t\tMerged Map outputs=0\n",
            "\t\tGC time elapsed (ms)=9\n",
            "\t\tTotal committed heap usage (bytes)=558891008\n",
            "\tFile Input Format Counters \n",
            "\t\tBytes Read=130\n",
            "2021-11-11 21:19:01,315 INFO mapred.LocalJobRunner: Finishing task: attempt_local205630793_0001_m_000009_0\n",
            "2021-11-11 21:19:01,315 INFO mapred.LocalJobRunner: Starting task: attempt_local205630793_0001_m_000010_0\n",
            "2021-11-11 21:19:01,321 INFO output.FileOutputCommitter: File Output Committer Algorithm version is 2\n",
            "2021-11-11 21:19:01,321 INFO output.FileOutputCommitter: FileOutputCommitter skip cleanup _temporary folders under output directory:false, ignore cleanup failures: false\n",
            "2021-11-11 21:19:01,322 INFO mapred.Task:  Using ResourceCalculatorProcessTree : [ ]\n",
            "2021-11-11 21:19:01,323 INFO mapred.MapTask: Processing split: file:/content/QuasiMonteCarlo_1636665535044_1092948653/in/part15:0+118\n",
            "2021-11-11 21:19:01,340 INFO mapred.MapTask: (EQUATOR) 0 kvi 26214396(104857584)\n",
            "2021-11-11 21:19:01,340 INFO mapred.MapTask: mapreduce.task.io.sort.mb: 100\n",
            "2021-11-11 21:19:01,340 INFO mapred.MapTask: soft limit at 83886080\n",
            "2021-11-11 21:19:01,340 INFO mapred.MapTask: bufstart = 0; bufvoid = 104857600\n",
            "2021-11-11 21:19:01,340 INFO mapred.MapTask: kvstart = 26214396; length = 6553600\n",
            "2021-11-11 21:19:01,341 INFO mapred.MapTask: Map output collector class = org.apache.hadoop.mapred.MapTask$MapOutputBuffer\n",
            "2021-11-11 21:19:01,581 INFO mapred.LocalJobRunner: \n",
            "2021-11-11 21:19:01,582 INFO mapred.MapTask: Starting flush of map output\n",
            "2021-11-11 21:19:01,582 INFO mapred.MapTask: Spilling map output\n",
            "2021-11-11 21:19:01,582 INFO mapred.MapTask: bufstart = 0; bufend = 18; bufvoid = 104857600\n",
            "2021-11-11 21:19:01,582 INFO mapred.MapTask: kvstart = 26214396(104857584); kvend = 26214392(104857568); length = 5/6553600\n",
            "2021-11-11 21:19:01,585 INFO mapred.MapTask: Finished spill 0\n",
            "2021-11-11 21:19:01,587 INFO mapred.Task: Task:attempt_local205630793_0001_m_000010_0 is done. And is in the process of committing\n",
            "2021-11-11 21:19:01,588 INFO mapred.LocalJobRunner: Generated 10000000 samples.\n",
            "2021-11-11 21:19:01,588 INFO mapred.Task: Task 'attempt_local205630793_0001_m_000010_0' done.\n",
            "2021-11-11 21:19:01,592 INFO mapred.Task: Final Counters for attempt_local205630793_0001_m_000010_0: Counters: 17\n",
            "\tFile System Counters\n",
            "\t\tFILE: Number of bytes read=300820\n",
            "\t\tFILE: Number of bytes written=894102\n",
            "\t\tFILE: Number of read operations=0\n",
            "\t\tFILE: Number of large read operations=0\n",
            "\t\tFILE: Number of write operations=0\n",
            "\tMap-Reduce Framework\n",
            "\t\tMap input records=1\n",
            "\t\tMap output records=2\n",
            "\t\tMap output bytes=18\n",
            "\t\tMap output materialized bytes=28\n",
            "\t\tInput split bytes=129\n",
            "\t\tCombine input records=0\n",
            "\t\tSpilled Records=2\n",
            "\t\tFailed Shuffles=0\n",
            "\t\tMerged Map outputs=0\n",
            "\t\tGC time elapsed (ms)=0\n",
            "\t\tTotal committed heap usage (bytes)=558891008\n",
            "\tFile Input Format Counters \n",
            "\t\tBytes Read=130\n",
            "2021-11-11 21:19:01,593 INFO mapred.LocalJobRunner: Finishing task: attempt_local205630793_0001_m_000010_0\n",
            "2021-11-11 21:19:01,593 INFO mapred.LocalJobRunner: Starting task: attempt_local205630793_0001_m_000011_0\n",
            "2021-11-11 21:19:01,595 INFO output.FileOutputCommitter: File Output Committer Algorithm version is 2\n",
            "2021-11-11 21:19:01,595 INFO output.FileOutputCommitter: FileOutputCommitter skip cleanup _temporary folders under output directory:false, ignore cleanup failures: false\n",
            "2021-11-11 21:19:01,595 INFO mapred.Task:  Using ResourceCalculatorProcessTree : [ ]\n",
            "2021-11-11 21:19:01,596 INFO mapred.MapTask: Processing split: file:/content/QuasiMonteCarlo_1636665535044_1092948653/in/part0:0+118\n",
            "2021-11-11 21:19:01,625 INFO mapred.MapTask: (EQUATOR) 0 kvi 26214396(104857584)\n",
            "2021-11-11 21:19:01,625 INFO mapred.MapTask: mapreduce.task.io.sort.mb: 100\n",
            "2021-11-11 21:19:01,625 INFO mapred.MapTask: soft limit at 83886080\n",
            "2021-11-11 21:19:01,625 INFO mapred.MapTask: bufstart = 0; bufvoid = 104857600\n",
            "2021-11-11 21:19:01,625 INFO mapred.MapTask: kvstart = 26214396; length = 6553600\n",
            "2021-11-11 21:19:01,630 INFO mapred.MapTask: Map output collector class = org.apache.hadoop.mapred.MapTask$MapOutputBuffer\n",
            "2021-11-11 21:19:01,892 INFO mapred.LocalJobRunner: \n",
            "2021-11-11 21:19:01,892 INFO mapred.MapTask: Starting flush of map output\n",
            "2021-11-11 21:19:01,892 INFO mapred.MapTask: Spilling map output\n",
            "2021-11-11 21:19:01,892 INFO mapred.MapTask: bufstart = 0; bufend = 18; bufvoid = 104857600\n",
            "2021-11-11 21:19:01,892 INFO mapred.MapTask: kvstart = 26214396(104857584); kvend = 26214392(104857568); length = 5/6553600\n",
            "2021-11-11 21:19:01,894 INFO mapred.MapTask: Finished spill 0\n",
            "2021-11-11 21:19:01,896 INFO mapred.Task: Task:attempt_local205630793_0001_m_000011_0 is done. And is in the process of committing\n",
            "2021-11-11 21:19:01,898 INFO mapred.LocalJobRunner: Generated 10000000 samples.\n",
            "2021-11-11 21:19:01,899 INFO mapred.Task: Task 'attempt_local205630793_0001_m_000011_0' done.\n",
            "2021-11-11 21:19:01,899 INFO mapred.Task: Final Counters for attempt_local205630793_0001_m_000011_0: Counters: 17\n",
            "\tFile System Counters\n",
            "\t\tFILE: Number of bytes read=302015\n",
            "\t\tFILE: Number of bytes written=894162\n",
            "\t\tFILE: Number of read operations=0\n",
            "\t\tFILE: Number of large read operations=0\n",
            "\t\tFILE: Number of write operations=0\n",
            "\tMap-Reduce Framework\n",
            "\t\tMap input records=1\n",
            "\t\tMap output records=2\n",
            "\t\tMap output bytes=18\n",
            "\t\tMap output materialized bytes=28\n",
            "\t\tInput split bytes=128\n",
            "\t\tCombine input records=0\n",
            "\t\tSpilled Records=2\n",
            "\t\tFailed Shuffles=0\n",
            "\t\tMerged Map outputs=0\n",
            "\t\tGC time elapsed (ms)=11\n",
            "\t\tTotal committed heap usage (bytes)=558891008\n",
            "\tFile Input Format Counters \n",
            "\t\tBytes Read=130\n",
            "2021-11-11 21:19:01,899 INFO mapred.LocalJobRunner: Finishing task: attempt_local205630793_0001_m_000011_0\n",
            "2021-11-11 21:19:01,899 INFO mapred.LocalJobRunner: Starting task: attempt_local205630793_0001_m_000012_0\n",
            "2021-11-11 21:19:01,903 INFO output.FileOutputCommitter: File Output Committer Algorithm version is 2\n",
            "2021-11-11 21:19:01,903 INFO output.FileOutputCommitter: FileOutputCommitter skip cleanup _temporary folders under output directory:false, ignore cleanup failures: false\n",
            "2021-11-11 21:19:01,904 INFO mapred.Task:  Using ResourceCalculatorProcessTree : [ ]\n",
            "2021-11-11 21:19:01,905 INFO mapred.MapTask: Processing split: file:/content/QuasiMonteCarlo_1636665535044_1092948653/in/part4:0+118\n",
            "2021-11-11 21:19:01,923 INFO mapred.MapTask: (EQUATOR) 0 kvi 26214396(104857584)\n",
            "2021-11-11 21:19:01,924 INFO mapred.MapTask: mapreduce.task.io.sort.mb: 100\n",
            "2021-11-11 21:19:01,924 INFO mapred.MapTask: soft limit at 83886080\n",
            "2021-11-11 21:19:01,924 INFO mapred.MapTask: bufstart = 0; bufvoid = 104857600\n",
            "2021-11-11 21:19:01,924 INFO mapred.MapTask: kvstart = 26214396; length = 6553600\n",
            "2021-11-11 21:19:01,926 INFO mapred.MapTask: Map output collector class = org.apache.hadoop.mapred.MapTask$MapOutputBuffer\n",
            "2021-11-11 21:19:02,162 INFO mapred.LocalJobRunner: \n",
            "2021-11-11 21:19:02,163 INFO mapred.MapTask: Starting flush of map output\n",
            "2021-11-11 21:19:02,163 INFO mapred.MapTask: Spilling map output\n",
            "2021-11-11 21:19:02,163 INFO mapred.MapTask: bufstart = 0; bufend = 18; bufvoid = 104857600\n",
            "2021-11-11 21:19:02,163 INFO mapred.MapTask: kvstart = 26214396(104857584); kvend = 26214392(104857568); length = 5/6553600\n",
            "2021-11-11 21:19:02,164 INFO mapred.MapTask: Finished spill 0\n",
            "2021-11-11 21:19:02,167 INFO mapred.Task: Task:attempt_local205630793_0001_m_000012_0 is done. And is in the process of committing\n",
            "2021-11-11 21:19:02,168 INFO mapred.LocalJobRunner: Generated 10000000 samples.\n",
            "2021-11-11 21:19:02,168 INFO mapred.Task: Task 'attempt_local205630793_0001_m_000012_0' done.\n",
            "2021-11-11 21:19:02,169 INFO mapred.Task: Final Counters for attempt_local205630793_0001_m_000012_0: Counters: 17\n",
            "\tFile System Counters\n",
            "\t\tFILE: Number of bytes read=302698\n",
            "\t\tFILE: Number of bytes written=894222\n",
            "\t\tFILE: Number of read operations=0\n",
            "\t\tFILE: Number of large read operations=0\n",
            "\t\tFILE: Number of write operations=0\n",
            "\tMap-Reduce Framework\n",
            "\t\tMap input records=1\n",
            "\t\tMap output records=2\n",
            "\t\tMap output bytes=18\n",
            "\t\tMap output materialized bytes=28\n",
            "\t\tInput split bytes=128\n",
            "\t\tCombine input records=0\n",
            "\t\tSpilled Records=2\n",
            "\t\tFailed Shuffles=0\n",
            "\t\tMerged Map outputs=0\n",
            "\t\tGC time elapsed (ms)=0\n",
            "\t\tTotal committed heap usage (bytes)=558891008\n",
            "\tFile Input Format Counters \n",
            "\t\tBytes Read=130\n",
            "2021-11-11 21:19:02,169 INFO mapred.LocalJobRunner: Finishing task: attempt_local205630793_0001_m_000012_0\n",
            "2021-11-11 21:19:02,169 INFO mapred.LocalJobRunner: Starting task: attempt_local205630793_0001_m_000013_0\n",
            "2021-11-11 21:19:02,171 INFO output.FileOutputCommitter: File Output Committer Algorithm version is 2\n",
            "2021-11-11 21:19:02,171 INFO output.FileOutputCommitter: FileOutputCommitter skip cleanup _temporary folders under output directory:false, ignore cleanup failures: false\n",
            "2021-11-11 21:19:02,172 INFO mapred.Task:  Using ResourceCalculatorProcessTree : [ ]\n",
            "2021-11-11 21:19:02,173 INFO mapred.MapTask: Processing split: file:/content/QuasiMonteCarlo_1636665535044_1092948653/in/part11:0+118\n",
            "2021-11-11 21:19:02,205 INFO mapred.MapTask: (EQUATOR) 0 kvi 26214396(104857584)\n",
            "2021-11-11 21:19:02,205 INFO mapred.MapTask: mapreduce.task.io.sort.mb: 100\n",
            "2021-11-11 21:19:02,205 INFO mapred.MapTask: soft limit at 83886080\n",
            "2021-11-11 21:19:02,205 INFO mapred.MapTask: bufstart = 0; bufvoid = 104857600\n",
            "2021-11-11 21:19:02,205 INFO mapred.MapTask: kvstart = 26214396; length = 6553600\n",
            "2021-11-11 21:19:02,221 INFO mapred.MapTask: Map output collector class = org.apache.hadoop.mapred.MapTask$MapOutputBuffer\n",
            "2021-11-11 21:19:02,460 INFO mapred.LocalJobRunner: \n",
            "2021-11-11 21:19:02,460 INFO mapred.MapTask: Starting flush of map output\n",
            "2021-11-11 21:19:02,460 INFO mapred.MapTask: Spilling map output\n",
            "2021-11-11 21:19:02,460 INFO mapred.MapTask: bufstart = 0; bufend = 18; bufvoid = 104857600\n",
            "2021-11-11 21:19:02,460 INFO mapred.MapTask: kvstart = 26214396(104857584); kvend = 26214392(104857568); length = 5/6553600\n",
            "2021-11-11 21:19:02,462 INFO mapred.MapTask: Finished spill 0\n",
            "2021-11-11 21:19:02,463 INFO mapred.Task: Task:attempt_local205630793_0001_m_000013_0 is done. And is in the process of committing\n",
            "2021-11-11 21:19:02,467 INFO mapred.LocalJobRunner: Generated 10000000 samples.\n",
            "2021-11-11 21:19:02,467 INFO mapred.Task: Task 'attempt_local205630793_0001_m_000013_0' done.\n",
            "2021-11-11 21:19:02,468 INFO mapred.Task: Final Counters for attempt_local205630793_0001_m_000013_0: Counters: 17\n",
            "\tFile System Counters\n",
            "\t\tFILE: Number of bytes read=303381\n",
            "\t\tFILE: Number of bytes written=894282\n",
            "\t\tFILE: Number of read operations=0\n",
            "\t\tFILE: Number of large read operations=0\n",
            "\t\tFILE: Number of write operations=0\n",
            "\tMap-Reduce Framework\n",
            "\t\tMap input records=1\n",
            "\t\tMap output records=2\n",
            "\t\tMap output bytes=18\n",
            "\t\tMap output materialized bytes=28\n",
            "\t\tInput split bytes=129\n",
            "\t\tCombine input records=0\n",
            "\t\tSpilled Records=2\n",
            "\t\tFailed Shuffles=0\n",
            "\t\tMerged Map outputs=0\n",
            "\t\tGC time elapsed (ms)=2\n",
            "\t\tTotal committed heap usage (bytes)=558891008\n",
            "\tFile Input Format Counters \n",
            "\t\tBytes Read=130\n",
            "2021-11-11 21:19:02,468 INFO mapred.LocalJobRunner: Finishing task: attempt_local205630793_0001_m_000013_0\n",
            "2021-11-11 21:19:02,469 INFO mapred.LocalJobRunner: Starting task: attempt_local205630793_0001_m_000014_0\n",
            "2021-11-11 21:19:02,471 INFO output.FileOutputCommitter: File Output Committer Algorithm version is 2\n",
            "2021-11-11 21:19:02,471 INFO output.FileOutputCommitter: FileOutputCommitter skip cleanup _temporary folders under output directory:false, ignore cleanup failures: false\n",
            "2021-11-11 21:19:02,471 INFO mapred.Task:  Using ResourceCalculatorProcessTree : [ ]\n",
            "2021-11-11 21:19:02,473 INFO mapred.MapTask: Processing split: file:/content/QuasiMonteCarlo_1636665535044_1092948653/in/part14:0+118\n",
            "2021-11-11 21:19:02,490 INFO mapred.MapTask: (EQUATOR) 0 kvi 26214396(104857584)\n",
            "2021-11-11 21:19:02,490 INFO mapred.MapTask: mapreduce.task.io.sort.mb: 100\n",
            "2021-11-11 21:19:02,490 INFO mapred.MapTask: soft limit at 83886080\n",
            "2021-11-11 21:19:02,490 INFO mapred.MapTask: bufstart = 0; bufvoid = 104857600\n",
            "2021-11-11 21:19:02,490 INFO mapred.MapTask: kvstart = 26214396; length = 6553600\n",
            "2021-11-11 21:19:02,491 INFO mapred.MapTask: Map output collector class = org.apache.hadoop.mapred.MapTask$MapOutputBuffer\n",
            "2021-11-11 21:19:02,730 INFO mapred.LocalJobRunner: \n",
            "2021-11-11 21:19:02,730 INFO mapred.MapTask: Starting flush of map output\n",
            "2021-11-11 21:19:02,730 INFO mapred.MapTask: Spilling map output\n",
            "2021-11-11 21:19:02,730 INFO mapred.MapTask: bufstart = 0; bufend = 18; bufvoid = 104857600\n",
            "2021-11-11 21:19:02,730 INFO mapred.MapTask: kvstart = 26214396(104857584); kvend = 26214392(104857568); length = 5/6553600\n",
            "2021-11-11 21:19:02,732 INFO mapred.MapTask: Finished spill 0\n",
            "2021-11-11 21:19:02,735 INFO mapred.Task: Task:attempt_local205630793_0001_m_000014_0 is done. And is in the process of committing\n",
            "2021-11-11 21:19:02,737 INFO mapred.LocalJobRunner: Generated 10000000 samples.\n",
            "2021-11-11 21:19:02,737 INFO mapred.Task: Task 'attempt_local205630793_0001_m_000014_0' done.\n",
            "2021-11-11 21:19:02,737 INFO mapred.Task: Final Counters for attempt_local205630793_0001_m_000014_0: Counters: 17\n",
            "\tFile System Counters\n",
            "\t\tFILE: Number of bytes read=304064\n",
            "\t\tFILE: Number of bytes written=894342\n",
            "\t\tFILE: Number of read operations=0\n",
            "\t\tFILE: Number of large read operations=0\n",
            "\t\tFILE: Number of write operations=0\n",
            "\tMap-Reduce Framework\n",
            "\t\tMap input records=1\n",
            "\t\tMap output records=2\n",
            "\t\tMap output bytes=18\n",
            "\t\tMap output materialized bytes=28\n",
            "\t\tInput split bytes=129\n",
            "\t\tCombine input records=0\n",
            "\t\tSpilled Records=2\n",
            "\t\tFailed Shuffles=0\n",
            "\t\tMerged Map outputs=0\n",
            "\t\tGC time elapsed (ms)=0\n",
            "\t\tTotal committed heap usage (bytes)=558891008\n",
            "\tFile Input Format Counters \n",
            "\t\tBytes Read=130\n",
            "2021-11-11 21:19:02,738 INFO mapred.LocalJobRunner: Finishing task: attempt_local205630793_0001_m_000014_0\n",
            "2021-11-11 21:19:02,740 INFO mapred.LocalJobRunner: Starting task: attempt_local205630793_0001_m_000015_0\n",
            "2021-11-11 21:19:02,745 INFO output.FileOutputCommitter: File Output Committer Algorithm version is 2\n",
            "2021-11-11 21:19:02,745 INFO output.FileOutputCommitter: FileOutputCommitter skip cleanup _temporary folders under output directory:false, ignore cleanup failures: false\n",
            "2021-11-11 21:19:02,746 INFO mapred.Task:  Using ResourceCalculatorProcessTree : [ ]\n",
            "2021-11-11 21:19:02,748 INFO mapred.MapTask: Processing split: file:/content/QuasiMonteCarlo_1636665535044_1092948653/in/part7:0+118\n",
            "2021-11-11 21:19:02,768 INFO mapred.MapTask: (EQUATOR) 0 kvi 26214396(104857584)\n",
            "2021-11-11 21:19:02,768 INFO mapred.MapTask: mapreduce.task.io.sort.mb: 100\n",
            "2021-11-11 21:19:02,768 INFO mapred.MapTask: soft limit at 83886080\n",
            "2021-11-11 21:19:02,768 INFO mapred.MapTask: bufstart = 0; bufvoid = 104857600\n",
            "2021-11-11 21:19:02,768 INFO mapred.MapTask: kvstart = 26214396; length = 6553600\n",
            "2021-11-11 21:19:02,795 INFO mapred.MapTask: Map output collector class = org.apache.hadoop.mapred.MapTask$MapOutputBuffer\n",
            "2021-11-11 21:19:03,040 INFO mapred.LocalJobRunner: \n",
            "2021-11-11 21:19:03,041 INFO mapred.MapTask: Starting flush of map output\n",
            "2021-11-11 21:19:03,041 INFO mapred.MapTask: Spilling map output\n",
            "2021-11-11 21:19:03,041 INFO mapred.MapTask: bufstart = 0; bufend = 18; bufvoid = 104857600\n",
            "2021-11-11 21:19:03,041 INFO mapred.MapTask: kvstart = 26214396(104857584); kvend = 26214392(104857568); length = 5/6553600\n",
            "2021-11-11 21:19:03,042 INFO mapred.MapTask: Finished spill 0\n",
            "2021-11-11 21:19:03,044 INFO mapred.Task: Task:attempt_local205630793_0001_m_000015_0 is done. And is in the process of committing\n",
            "2021-11-11 21:19:03,048 INFO mapred.LocalJobRunner: Generated 10000000 samples.\n",
            "2021-11-11 21:19:03,048 INFO mapred.Task: Task 'attempt_local205630793_0001_m_000015_0' done.\n",
            "2021-11-11 21:19:03,048 INFO mapred.Task: Final Counters for attempt_local205630793_0001_m_000015_0: Counters: 17\n",
            "\tFile System Counters\n",
            "\t\tFILE: Number of bytes read=304747\n",
            "\t\tFILE: Number of bytes written=894402\n",
            "\t\tFILE: Number of read operations=0\n",
            "\t\tFILE: Number of large read operations=0\n",
            "\t\tFILE: Number of write operations=0\n",
            "\tMap-Reduce Framework\n",
            "\t\tMap input records=1\n",
            "\t\tMap output records=2\n",
            "\t\tMap output bytes=18\n",
            "\t\tMap output materialized bytes=28\n",
            "\t\tInput split bytes=128\n",
            "\t\tCombine input records=0\n",
            "\t\tSpilled Records=2\n",
            "\t\tFailed Shuffles=0\n",
            "\t\tMerged Map outputs=0\n",
            "\t\tGC time elapsed (ms)=1\n",
            "\t\tTotal committed heap usage (bytes)=558891008\n",
            "\tFile Input Format Counters \n",
            "\t\tBytes Read=130\n",
            "2021-11-11 21:19:03,048 INFO mapred.LocalJobRunner: Finishing task: attempt_local205630793_0001_m_000015_0\n",
            "2021-11-11 21:19:03,049 INFO mapred.LocalJobRunner: map task executor complete.\n",
            "2021-11-11 21:19:03,062 INFO mapred.LocalJobRunner: Waiting for reduce tasks\n",
            "2021-11-11 21:19:03,063 INFO mapred.LocalJobRunner: Starting task: attempt_local205630793_0001_r_000000_0\n",
            "2021-11-11 21:19:03,073 INFO output.FileOutputCommitter: File Output Committer Algorithm version is 2\n",
            "2021-11-11 21:19:03,073 INFO output.FileOutputCommitter: FileOutputCommitter skip cleanup _temporary folders under output directory:false, ignore cleanup failures: false\n",
            "2021-11-11 21:19:03,073 INFO mapred.Task:  Using ResourceCalculatorProcessTree : [ ]\n",
            "2021-11-11 21:19:03,076 INFO mapred.ReduceTask: Using ShuffleConsumerPlugin: org.apache.hadoop.mapreduce.task.reduce.Shuffle@1a155f42\n",
            "2021-11-11 21:19:03,083 WARN impl.MetricsSystemImpl: JobTracker metrics system already initialized!\n",
            "2021-11-11 21:19:03,112 INFO reduce.MergeManagerImpl: MergerManager: memoryLimit=2384042240, maxSingleShuffleLimit=596010560, mergeThreshold=1573467904, ioSortFactor=10, memToMemMergeOutputsThreshold=10\n",
            "2021-11-11 21:19:03,117 INFO reduce.EventFetcher: attempt_local205630793_0001_r_000000_0 Thread started: EventFetcher for fetching Map Completion Events\n",
            "2021-11-11 21:19:03,179 INFO reduce.LocalFetcher: localfetcher#1 about to shuffle output of map attempt_local205630793_0001_m_000001_0 decomp: 24 len: 28 to MEMORY\n",
            "2021-11-11 21:19:03,183 INFO reduce.InMemoryMapOutput: Read 24 bytes from map-output for attempt_local205630793_0001_m_000001_0\n",
            "2021-11-11 21:19:03,183 INFO reduce.MergeManagerImpl: closeInMemoryFile -> map-output of size: 24, inMemoryMapOutputs.size() -> 1, commitMemory -> 0, usedMemory ->24\n",
            "2021-11-11 21:19:03,190 INFO reduce.LocalFetcher: localfetcher#1 about to shuffle output of map attempt_local205630793_0001_m_000014_0 decomp: 24 len: 28 to MEMORY\n",
            "2021-11-11 21:19:03,191 INFO reduce.InMemoryMapOutput: Read 24 bytes from map-output for attempt_local205630793_0001_m_000014_0\n",
            "2021-11-11 21:19:03,192 INFO reduce.MergeManagerImpl: closeInMemoryFile -> map-output of size: 24, inMemoryMapOutputs.size() -> 2, commitMemory -> 24, usedMemory ->48\n",
            "2021-11-11 21:19:03,193 INFO reduce.LocalFetcher: localfetcher#1 about to shuffle output of map attempt_local205630793_0001_m_000008_0 decomp: 24 len: 28 to MEMORY\n",
            "2021-11-11 21:19:03,195 INFO reduce.InMemoryMapOutput: Read 24 bytes from map-output for attempt_local205630793_0001_m_000008_0\n",
            "2021-11-11 21:19:03,196 INFO reduce.MergeManagerImpl: closeInMemoryFile -> map-output of size: 24, inMemoryMapOutputs.size() -> 3, commitMemory -> 48, usedMemory ->72\n",
            "2021-11-11 21:19:03,197 WARN io.ReadaheadPool: Failed readahead on ifile\n",
            "EBADF: Bad file descriptor\n",
            "\tat org.apache.hadoop.io.nativeio.NativeIO$POSIX.posix_fadvise(Native Method)\n",
            "\tat org.apache.hadoop.io.nativeio.NativeIO$POSIX.posixFadviseIfPossible(NativeIO.java:419)\n",
            "\tat org.apache.hadoop.io.nativeio.NativeIO$POSIX$CacheManipulator.posixFadviseIfPossible(NativeIO.java:296)\n",
            "\tat org.apache.hadoop.io.ReadaheadPool$ReadaheadRequestImpl.run(ReadaheadPool.java:209)\n",
            "\tat java.base/java.util.concurrent.ThreadPoolExecutor.runWorker(ThreadPoolExecutor.java:1128)\n",
            "\tat java.base/java.util.concurrent.ThreadPoolExecutor$Worker.run(ThreadPoolExecutor.java:628)\n",
            "\tat java.base/java.lang.Thread.run(Thread.java:829)\n",
            "2021-11-11 21:19:03,198 INFO reduce.LocalFetcher: localfetcher#1 about to shuffle output of map attempt_local205630793_0001_m_000015_0 decomp: 24 len: 28 to MEMORY\n",
            "2021-11-11 21:19:03,203 INFO reduce.InMemoryMapOutput: Read 24 bytes from map-output for attempt_local205630793_0001_m_000015_0\n",
            "2021-11-11 21:19:03,203 INFO reduce.MergeManagerImpl: closeInMemoryFile -> map-output of size: 24, inMemoryMapOutputs.size() -> 4, commitMemory -> 72, usedMemory ->96\n",
            "2021-11-11 21:19:03,204 INFO reduce.LocalFetcher: localfetcher#1 about to shuffle output of map attempt_local205630793_0001_m_000002_0 decomp: 24 len: 28 to MEMORY\n",
            "2021-11-11 21:19:03,204 INFO reduce.InMemoryMapOutput: Read 24 bytes from map-output for attempt_local205630793_0001_m_000002_0\n",
            "2021-11-11 21:19:03,204 INFO reduce.MergeManagerImpl: closeInMemoryFile -> map-output of size: 24, inMemoryMapOutputs.size() -> 5, commitMemory -> 96, usedMemory ->120\n",
            "2021-11-11 21:19:03,206 INFO reduce.LocalFetcher: localfetcher#1 about to shuffle output of map attempt_local205630793_0001_m_000012_0 decomp: 24 len: 28 to MEMORY\n",
            "2021-11-11 21:19:03,206 INFO reduce.InMemoryMapOutput: Read 24 bytes from map-output for attempt_local205630793_0001_m_000012_0\n",
            "2021-11-11 21:19:03,206 INFO reduce.MergeManagerImpl: closeInMemoryFile -> map-output of size: 24, inMemoryMapOutputs.size() -> 6, commitMemory -> 120, usedMemory ->144\n",
            "2021-11-11 21:19:03,207 INFO reduce.LocalFetcher: localfetcher#1 about to shuffle output of map attempt_local205630793_0001_m_000006_0 decomp: 24 len: 28 to MEMORY\n",
            "2021-11-11 21:19:03,208 INFO reduce.InMemoryMapOutput: Read 24 bytes from map-output for attempt_local205630793_0001_m_000006_0\n",
            "2021-11-11 21:19:03,208 INFO reduce.MergeManagerImpl: closeInMemoryFile -> map-output of size: 24, inMemoryMapOutputs.size() -> 7, commitMemory -> 144, usedMemory ->168\n",
            "2021-11-11 21:19:03,211 INFO reduce.LocalFetcher: localfetcher#1 about to shuffle output of map attempt_local205630793_0001_m_000013_0 decomp: 24 len: 28 to MEMORY\n",
            "2021-11-11 21:19:03,212 INFO reduce.InMemoryMapOutput: Read 24 bytes from map-output for attempt_local205630793_0001_m_000013_0\n",
            "2021-11-11 21:19:03,212 INFO reduce.MergeManagerImpl: closeInMemoryFile -> map-output of size: 24, inMemoryMapOutputs.size() -> 8, commitMemory -> 168, usedMemory ->192\n",
            "2021-11-11 21:19:03,213 INFO reduce.LocalFetcher: localfetcher#1 about to shuffle output of map attempt_local205630793_0001_m_000000_0 decomp: 24 len: 28 to MEMORY\n",
            "2021-11-11 21:19:03,215 INFO reduce.InMemoryMapOutput: Read 24 bytes from map-output for attempt_local205630793_0001_m_000000_0\n",
            "2021-11-11 21:19:03,215 INFO reduce.MergeManagerImpl: closeInMemoryFile -> map-output of size: 24, inMemoryMapOutputs.size() -> 9, commitMemory -> 192, usedMemory ->216\n",
            "2021-11-11 21:19:03,216 INFO reduce.LocalFetcher: localfetcher#1 about to shuffle output of map attempt_local205630793_0001_m_000007_0 decomp: 24 len: 28 to MEMORY\n",
            "2021-11-11 21:19:03,217 INFO reduce.InMemoryMapOutput: Read 24 bytes from map-output for attempt_local205630793_0001_m_000007_0\n",
            "2021-11-11 21:19:03,217 INFO reduce.MergeManagerImpl: closeInMemoryFile -> map-output of size: 24, inMemoryMapOutputs.size() -> 10, commitMemory -> 216, usedMemory ->240\n",
            "2021-11-11 21:19:03,220 INFO reduce.LocalFetcher: localfetcher#1 about to shuffle output of map attempt_local205630793_0001_m_000004_0 decomp: 24 len: 28 to MEMORY\n",
            "2021-11-11 21:19:03,221 INFO reduce.InMemoryMapOutput: Read 24 bytes from map-output for attempt_local205630793_0001_m_000004_0\n",
            "2021-11-11 21:19:03,221 INFO reduce.MergeManagerImpl: closeInMemoryFile -> map-output of size: 24, inMemoryMapOutputs.size() -> 11, commitMemory -> 240, usedMemory ->264\n",
            "2021-11-11 21:19:03,223 INFO reduce.LocalFetcher: localfetcher#1 about to shuffle output of map attempt_local205630793_0001_m_000011_0 decomp: 24 len: 28 to MEMORY\n",
            "2021-11-11 21:19:03,225 INFO reduce.InMemoryMapOutput: Read 24 bytes from map-output for attempt_local205630793_0001_m_000011_0\n",
            "2021-11-11 21:19:03,225 INFO reduce.MergeManagerImpl: closeInMemoryFile -> map-output of size: 24, inMemoryMapOutputs.size() -> 12, commitMemory -> 264, usedMemory ->288\n",
            "2021-11-11 21:19:03,226 INFO reduce.LocalFetcher: localfetcher#1 about to shuffle output of map attempt_local205630793_0001_m_000005_0 decomp: 24 len: 28 to MEMORY\n",
            "2021-11-11 21:19:03,227 INFO reduce.InMemoryMapOutput: Read 24 bytes from map-output for attempt_local205630793_0001_m_000005_0\n",
            "2021-11-11 21:19:03,227 INFO reduce.MergeManagerImpl: closeInMemoryFile -> map-output of size: 24, inMemoryMapOutputs.size() -> 13, commitMemory -> 288, usedMemory ->312\n",
            "2021-11-11 21:19:03,229 INFO reduce.LocalFetcher: localfetcher#1 about to shuffle output of map attempt_local205630793_0001_m_000009_0 decomp: 24 len: 28 to MEMORY\n",
            "2021-11-11 21:19:03,230 INFO reduce.InMemoryMapOutput: Read 24 bytes from map-output for attempt_local205630793_0001_m_000009_0\n",
            "2021-11-11 21:19:03,230 INFO reduce.MergeManagerImpl: closeInMemoryFile -> map-output of size: 24, inMemoryMapOutputs.size() -> 14, commitMemory -> 312, usedMemory ->336\n",
            "2021-11-11 21:19:03,231 INFO reduce.LocalFetcher: localfetcher#1 about to shuffle output of map attempt_local205630793_0001_m_000003_0 decomp: 24 len: 28 to MEMORY\n",
            "2021-11-11 21:19:03,232 INFO reduce.InMemoryMapOutput: Read 24 bytes from map-output for attempt_local205630793_0001_m_000003_0\n",
            "2021-11-11 21:19:03,232 INFO reduce.MergeManagerImpl: closeInMemoryFile -> map-output of size: 24, inMemoryMapOutputs.size() -> 15, commitMemory -> 336, usedMemory ->360\n",
            "2021-11-11 21:19:03,234 INFO reduce.LocalFetcher: localfetcher#1 about to shuffle output of map attempt_local205630793_0001_m_000010_0 decomp: 24 len: 28 to MEMORY\n",
            "2021-11-11 21:19:03,234 INFO reduce.InMemoryMapOutput: Read 24 bytes from map-output for attempt_local205630793_0001_m_000010_0\n",
            "2021-11-11 21:19:03,234 INFO reduce.MergeManagerImpl: closeInMemoryFile -> map-output of size: 24, inMemoryMapOutputs.size() -> 16, commitMemory -> 360, usedMemory ->384\n",
            "2021-11-11 21:19:03,235 INFO reduce.EventFetcher: EventFetcher is interrupted.. Returning\n",
            "2021-11-11 21:19:03,236 INFO mapred.LocalJobRunner: 16 / 16 copied.\n",
            "2021-11-11 21:19:03,236 INFO reduce.MergeManagerImpl: finalMerge called with 16 in-memory map-outputs and 0 on-disk map-outputs\n",
            "2021-11-11 21:19:03,245 INFO mapred.Merger: Merging 16 sorted segments\n",
            "2021-11-11 21:19:03,246 INFO mapred.Merger: Down to the last merge-pass, with 16 segments left of total size: 336 bytes\n",
            "2021-11-11 21:19:03,252 INFO reduce.MergeManagerImpl: Merged 16 segments, 384 bytes to disk to satisfy reduce memory limit\n",
            "2021-11-11 21:19:03,253 INFO reduce.MergeManagerImpl: Merging 1 files, 358 bytes from disk\n",
            "2021-11-11 21:19:03,253 INFO reduce.MergeManagerImpl: Merging 0 segments, 0 bytes from memory into reduce\n",
            "2021-11-11 21:19:03,253 INFO mapred.Merger: Merging 1 sorted segments\n",
            "2021-11-11 21:19:03,255 INFO mapred.Merger: Down to the last merge-pass, with 1 segments left of total size: 351 bytes\n",
            "2021-11-11 21:19:03,256 INFO mapred.LocalJobRunner: 16 / 16 copied.\n",
            "2021-11-11 21:19:03,261 INFO Configuration.deprecation: mapred.skip.on is deprecated. Instead, use mapreduce.job.skiprecords\n",
            "2021-11-11 21:19:03,267 INFO mapred.Task: Task:attempt_local205630793_0001_r_000000_0 is done. And is in the process of committing\n",
            "2021-11-11 21:19:03,268 INFO mapred.LocalJobRunner: 16 / 16 copied.\n",
            "2021-11-11 21:19:03,268 INFO mapred.Task: Task attempt_local205630793_0001_r_000000_0 is allowed to commit now\n",
            "2021-11-11 21:19:03,270 INFO output.FileOutputCommitter: Saved output of task 'attempt_local205630793_0001_r_000000_0' to file:/content/QuasiMonteCarlo_1636665535044_1092948653/out\n",
            "2021-11-11 21:19:03,271 INFO mapred.LocalJobRunner: reduce > reduce\n",
            "2021-11-11 21:19:03,271 INFO mapred.Task: Task 'attempt_local205630793_0001_r_000000_0' done.\n",
            "2021-11-11 21:19:03,271 INFO mapred.Task: Final Counters for attempt_local205630793_0001_r_000000_0: Counters: 24\n",
            "\tFile System Counters\n",
            "\t\tFILE: Number of bytes read=306065\n",
            "\t\tFILE: Number of bytes written=894999\n",
            "\t\tFILE: Number of read operations=0\n",
            "\t\tFILE: Number of large read operations=0\n",
            "\t\tFILE: Number of write operations=0\n",
            "\tMap-Reduce Framework\n",
            "\t\tCombine input records=0\n",
            "\t\tCombine output records=0\n",
            "\t\tReduce input groups=2\n",
            "\t\tReduce shuffle bytes=448\n",
            "\t\tReduce input records=32\n",
            "\t\tReduce output records=0\n",
            "\t\tSpilled Records=32\n",
            "\t\tShuffled Maps =16\n",
            "\t\tFailed Shuffles=0\n",
            "\t\tMerged Map outputs=16\n",
            "\t\tGC time elapsed (ms)=0\n",
            "\t\tTotal committed heap usage (bytes)=558891008\n",
            "\tShuffle Errors\n",
            "\t\tBAD_ID=0\n",
            "\t\tCONNECTION=0\n",
            "\t\tIO_ERROR=0\n",
            "\t\tWRONG_LENGTH=0\n",
            "\t\tWRONG_MAP=0\n",
            "\t\tWRONG_REDUCE=0\n",
            "\tFile Output Format Counters \n",
            "\t\tBytes Written=109\n",
            "2021-11-11 21:19:03,271 INFO mapred.LocalJobRunner: Finishing task: attempt_local205630793_0001_r_000000_0\n",
            "2021-11-11 21:19:03,271 INFO mapred.LocalJobRunner: reduce task executor complete.\n",
            "2021-11-11 21:19:04,067 INFO mapreduce.Job:  map 100% reduce 100%\n",
            "2021-11-11 21:19:04,068 INFO mapreduce.Job: Job job_local205630793_0001 completed successfully\n",
            "2021-11-11 21:19:04,104 INFO mapreduce.Job: Counters: 30\n",
            "\tFile System Counters\n",
            "\t\tFILE: Number of bytes read=5048857\n",
            "\t\tFILE: Number of bytes written=15198231\n",
            "\t\tFILE: Number of read operations=0\n",
            "\t\tFILE: Number of large read operations=0\n",
            "\t\tFILE: Number of write operations=0\n",
            "\tMap-Reduce Framework\n",
            "\t\tMap input records=16\n",
            "\t\tMap output records=32\n",
            "\t\tMap output bytes=288\n",
            "\t\tMap output materialized bytes=448\n",
            "\t\tInput split bytes=2054\n",
            "\t\tCombine input records=0\n",
            "\t\tCombine output records=0\n",
            "\t\tReduce input groups=2\n",
            "\t\tReduce shuffle bytes=448\n",
            "\t\tReduce input records=32\n",
            "\t\tReduce output records=0\n",
            "\t\tSpilled Records=64\n",
            "\t\tShuffled Maps =16\n",
            "\t\tFailed Shuffles=0\n",
            "\t\tMerged Map outputs=16\n",
            "\t\tGC time elapsed (ms)=99\n",
            "\t\tTotal committed heap usage (bytes)=9000976384\n",
            "\tShuffle Errors\n",
            "\t\tBAD_ID=0\n",
            "\t\tCONNECTION=0\n",
            "\t\tIO_ERROR=0\n",
            "\t\tWRONG_LENGTH=0\n",
            "\t\tWRONG_MAP=0\n",
            "\t\tWRONG_REDUCE=0\n",
            "\tFile Input Format Counters \n",
            "\t\tBytes Read=2080\n",
            "\tFile Output Format Counters \n",
            "\t\tBytes Written=109\n",
            "Job Finished in 8.104 seconds\n",
            "Estimated value of Pi is 3.14159155000000000000\n"
          ]
        }
      ]
    },
    {
      "cell_type": "markdown",
      "metadata": {
        "id": "_j1CyG5b4gq3"
      },
      "source": [
        "#Paso 3.\n",
        "###Ejemplo 2: Resolución, vía Hadoop Map/Reduce, del siguiente Sudoku."
      ]
    },
    {
      "cell_type": "markdown",
      "metadata": {
        "id": "Ic74rkTyuMyU"
      },
      "source": [
        "#### 3.1 Primero ejecutamos sudoku sin parámetros para que nos de información sobre las opciones y/o parámetros para poder resolver el ejercicio propuesto"
      ]
    },
    {
      "cell_type": "code",
      "metadata": {
        "colab": {
          "base_uri": "https://localhost:8080/"
        },
        "id": "fPs6Ymv75WgK",
        "outputId": "02c3df26-f862-4dc2-836c-724920a4f2e4"
      },
      "source": [
        "!/usr/local/hadoop-3.3.0/bin/hadoop jar /usr/local/hadoop-3.3.0/share/hadoop/mapreduce/hadoop-mapreduce-examples-3.3.0.jar sudoku"
      ],
      "execution_count": null,
      "outputs": [
        {
          "output_type": "stream",
          "name": "stdout",
          "text": [
            "Include a puzzle on the command line.\n"
          ]
        }
      ]
    },
    {
      "cell_type": "markdown",
      "metadata": {
        "id": "Ol_XXbR55ybW"
      },
      "source": [
        "####3.2 Nos indica que tenemos que pasar por linea de comandos el sudoku. Creamos un fichero con los datos del sudoku"
      ]
    },
    {
      "cell_type": "code",
      "metadata": {
        "id": "airFyE7o8J17"
      },
      "source": [
        "!mkdir ~/ejemplo2\n"
      ],
      "execution_count": null,
      "outputs": []
    },
    {
      "cell_type": "code",
      "metadata": {
        "id": "GWeAygAZ8lx7"
      },
      "source": [
        "!echo \"8 5 ? 3 9 ? ? ? ?\" > ~/ejemplo2/sudoku1.data\n",
        "!echo \"? ? 2 ? ? ? ? ? ?\" >> ~/ejemplo2/sudoku1.data\n",
        "!echo \"? ? 6 ? 1 ? ? ? 2\" >> ~/ejemplo2/sudoku1.data\n",
        "!echo \"? ? 4 ? ? 3 ? 5 9\" >> ~/ejemplo2/sudoku1.data\n",
        "!echo \"? ? 8 9 ? 1 4 ? ?\" >> ~/ejemplo2/sudoku1.data\n",
        "!echo \"3 2 ? 4 ? ? 8 ? ?\" >> ~/ejemplo2/sudoku1.data\n",
        "!echo \"9 ? ? ? 8 ? 5 ? ?\" >> ~/ejemplo2/sudoku1.data\n",
        "!echo \"? ? ? ? ? ? 2 ? ?\" >> ~/ejemplo2/sudoku1.data\n",
        "!echo \"? ? ? ? 4 5 ? 7 8\" >> ~/ejemplo2/sudoku1.data\n"
      ],
      "execution_count": null,
      "outputs": []
    },
    {
      "cell_type": "markdown",
      "metadata": {
        "id": "AEOsi0dxuTkc"
      },
      "source": [
        "####3.3 Comprobamos que se ha creado correctamente"
      ]
    },
    {
      "cell_type": "code",
      "metadata": {
        "colab": {
          "base_uri": "https://localhost:8080/"
        },
        "id": "PodYpj-B-M_H",
        "outputId": "9f9da850-42f9-45e8-dadb-5262280f0472"
      },
      "source": [
        "!cat ~/ejemplo2/sudoku1.data"
      ],
      "execution_count": null,
      "outputs": [
        {
          "output_type": "stream",
          "name": "stdout",
          "text": [
            "8 5 ? 3 9 ? ? ? ?\n",
            "? ? 2 ? ? ? ? ? ?\n",
            "? ? 6 ? 1 ? ? ? 2\n",
            "? ? 4 ? ? 3 ? 5 9\n",
            "? ? 8 9 ? 1 4 ? ?\n",
            "3 2 ? 4 ? ? 8 ? ?\n",
            "9 ? ? ? 8 ? 5 ? ?\n",
            "? ? ? ? ? ? 2 ? ?\n",
            "? ? ? ? 4 5 ? 7 8\n"
          ]
        }
      ]
    },
    {
      "cell_type": "markdown",
      "metadata": {
        "id": "sZrlQuPBB1KH"
      },
      "source": [
        "####3.4 Una vez creado el fichero que contiene el sudoku ejecutamos para hallar la solución"
      ]
    },
    {
      "cell_type": "code",
      "metadata": {
        "colab": {
          "base_uri": "https://localhost:8080/"
        },
        "id": "-yqbSJJ4553j",
        "outputId": "485243c5-c503-4c9f-aeb9-b01326ac0339"
      },
      "source": [
        "!/usr/local/hadoop-3.3.0/bin/hadoop jar /usr/local/hadoop-3.3.0/share/hadoop/mapreduce/hadoop-mapreduce-examples-3.3.0.jar sudoku ~/ejemplo2/sudoku1.data"
      ],
      "execution_count": null,
      "outputs": [
        {
          "output_type": "stream",
          "name": "stdout",
          "text": [
            "Solving /root/ejemplo2/sudoku1.data\n",
            "8 5 1 3 9 2 6 4 7 \n",
            "4 3 2 6 7 8 1 9 5 \n",
            "7 9 6 5 1 4 3 8 2 \n",
            "6 1 4 8 2 3 7 5 9 \n",
            "5 7 8 9 6 1 4 2 3 \n",
            "3 2 9 4 5 7 8 1 6 \n",
            "9 4 7 2 8 6 5 3 1 \n",
            "1 8 5 7 3 9 2 6 4 \n",
            "2 6 3 1 4 5 9 7 8 \n",
            "\n",
            "Found 1 solutions\n"
          ]
        }
      ]
    },
    {
      "cell_type": "markdown",
      "metadata": {
        "id": "PIlaRJt6umXs"
      },
      "source": [
        "# Paso 4. Preparación del Entorno con Apache Spark"
      ]
    },
    {
      "cell_type": "markdown",
      "metadata": {
        "id": "Wj-AXSi2nAdO"
      },
      "source": [
        "####4.1 Instalación e Importación de Datos en Hive utilizando PySpark"
      ]
    },
    {
      "cell_type": "code",
      "metadata": {
        "id": "aoHbkfFRnBL0"
      },
      "source": [
        "!wget -q https://downloads.apache.org/spark/spark-3.2.0/spark-3.2.0-bin-hadoop3.2.tgz\n",
        "!tar xf spark-3.2.0-bin-hadoop3.2.tgz\n",
        "!pip install -q findspark\n",
        "import os\n",
        "os.environ[\"SPARK_HOME\"] = \"/content/spark-3.2.0-bin-hadoop3.2\"\n",
        "import findspark\n",
        "findspark.init()"
      ],
      "execution_count": 5,
      "outputs": []
    },
    {
      "cell_type": "markdown",
      "metadata": {
        "id": "mnubfM4lpDsV"
      },
      "source": [
        "#### 4.2 Leer un fichero con spark (necesario para poder leer los ficheros que vamos a cargar)"
      ]
    },
    {
      "cell_type": "code",
      "metadata": {
        "id": "WyA27WXUpOfn"
      },
      "source": [
        "from pyspark.sql import SparkSession\n",
        "spark = SparkSession.builder \\\n",
        "    .master(\"local[*]\") \\\n",
        "    .appName(\"Learning_Spark\") \\\n",
        "    .getOrCreate()\n",
        "\n",
        "sc = spark.sparkContext\n"
      ],
      "execution_count": 12,
      "outputs": []
    },
    {
      "cell_type": "markdown",
      "metadata": {
        "id": "Nwb1w80e5epc"
      },
      "source": [
        "#Paso 5\n",
        "## Ejercicio 3:\n",
        "Tras descargar el fichero: [https://cnecovid.isciii.es/covid19/resources/casos_diagnostico_ccaa.csv](https://cnecovid.isciii.es/covid19/resources/casos_diagnostico_ccaa.csv) realiza:\n",
        "\n",
        "\n",
        "* 3.1) Filtrado del archivo csv, quedándote únicamente con las columnas “ccaa_iso”,\n",
        "“fecha” y “num_casos”\n",
        "* 3.2) Finalizado el filtrado, almacena el nuevo contenido en otro fichero csv\n",
        "* 3.3) Creación de una tabla en Apache Hive partiendo del archivo anterior.\n",
        "\n",
        "Este tercer ejercicio se deberá realizar utilizando Apache Spark."
      ]
    },
    {
      "cell_type": "markdown",
      "metadata": {
        "id": "Pd3vi1mWnKmk"
      },
      "source": [
        "####5.1 Cargar el fichero del ejercicio desde colab [https://cnecovid.isciii.es/covid19/resources/casos_diagnostico_ccaa.csv](https://cnecovid.isciii.es/covid19/resources/casos_diagnostico_ccaa.csv)"
      ]
    },
    {
      "cell_type": "code",
      "metadata": {
        "colab": {
          "resources": {
            "http://localhost:8080/nbextensions/google.colab/files.js": {
              "data": "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",
              "ok": true,
              "headers": [
                [
                  "content-type",
                  "application/javascript"
                ]
              ],
              "status": 200,
              "status_text": ""
            }
          },
          "base_uri": "https://localhost:8080/",
          "height": 110
        },
        "id": "JDgFsyuxnLIE",
        "outputId": "55c5c42d-dd8e-4d9d-8ba5-5d48573a32ff"
      },
      "source": [
        "from google.colab import files\n",
        "files.upload()"
      ],
      "execution_count": 1,
      "outputs": [
        {
          "output_type": "display_data",
          "data": {
            "text/html": [
              "\n",
              "     <input type=\"file\" id=\"files-2ea18ab1-17dd-4fa3-9f9f-f45d9fe9dee5\" name=\"files[]\" multiple disabled\n",
              "        style=\"border:none\" />\n",
              "     <output id=\"result-2ea18ab1-17dd-4fa3-9f9f-f45d9fe9dee5\">\n",
              "      Upload widget is only available when the cell has been executed in the\n",
              "      current browser session. Please rerun this cell to enable.\n",
              "      </output>\n",
              "      <script src=\"/nbextensions/google.colab/files.js\"></script> "
            ],
            "text/plain": [
              "<IPython.core.display.HTML object>"
            ]
          },
          "metadata": {}
        },
        {
          "output_type": "stream",
          "name": "stdout",
          "text": [
            "Saving casos_diagnostico_ccaa.csv to casos_diagnostico_ccaa.csv\n"
          ]
        },
        {
          "output_type": "execute_result",
          "data": {
            "text/plain": [
              "{'casos_diagnostico_ccaa.csv': b'ccaa_iso,fecha,num_casos,num_casos_prueba_pcr,num_casos_prueba_test_ac,num_casos_prueba_ag,num_casos_prueba_elisa,num_casos_prueba_desconocida\\nAN,2020-01-01,0,0,0,0,0,0\\nAR,2020-01-01,0,0,0,0,0,0\\nAS,2020-01-01,0,0,0,0,0,0\\nCB,2020-01-01,0,0,0,0,0,0\\nCE,2020-01-01,1,0,0,1,0,0\\nCL,2020-01-01,0,0,0,0,0,0\\nCM,2020-01-01,0,0,0,0,0,0\\nCN,2020-01-01,0,0,0,0,0,0\\nCT,2020-01-01,3,3,0,0,0,0\\nEX,2020-01-01,0,0,0,0,0,0\\nGA,2020-01-01,0,0,0,0,0,0\\nIB,2020-01-01,0,0,0,0,0,0\\nMC,2020-01-01,0,0,0,0,0,0\\nMD,2020-01-01,3,3,0,0,0,0\\nML,2020-01-01,0,0,0,0,0,0\\nNC,2020-01-01,0,0,0,0,0,0\\nPV,2020-01-01,0,0,0,0,0,0\\nRI,2020-01-01,0,0,0,0,0,0\\nVC,2020-01-01,3,3,0,0,0,0\\nAN,2020-01-02,0,0,0,0,0,0\\nAR,2020-01-02,0,0,0,0,0,0\\nAS,2020-01-02,0,0,0,0,0,0\\nCB,2020-01-02,0,0,0,0,0,0\\nCE,2020-01-02,0,0,0,0,0,0\\nCL,2020-01-02,0,0,0,0,0,0\\nCM,2020-01-02,0,0,0,0,0,0\\nCN,2020-01-02,0,0,0,0,0,0\\nCT,2020-01-02,9,9,0,0,0,0\\nEX,2020-01-02,0,0,0,0,0,0\\nGA,2020-01-02,2,2,0,0,0,0\\nIB,2020-01-02,0,0,0,0,0,0\\nMC,2020-01-02,0,0,0,0,0,0\\nMD,2020-01-02,4,4,0,0,0,0\\nML,2020-01-02,0,0,0,0,0,0\\nNC,2020-01-02,0,0,0,0,0,0\\nPV,2020-01-02,0,0,0,0,0,0\\nRI,2020-01-02,0,0,0,0,0,0\\nVC,2020-01-02,2,2,0,0,0,0\\nAN,2020-01-03,0,0,0,0,0,0\\nAR,2020-01-03,0,0,0,0,0,0\\nAS,2020-01-03,0,0,0,0,0,0\\nCB,2020-01-03,0,0,0,0,0,0\\nCE,2020-01-03,0,0,0,0,0,0\\nCL,2020-01-03,0,0,0,0,0,0\\nCM,2020-01-03,0,0,0,0,0,0\\nCN,2020-01-03,0,0,0,0,0,0\\nCT,2020-01-03,7,7,0,0,0,0\\nEX,2020-01-03,0,0,0,0,0,0\\nGA,2020-01-03,2,2,0,0,0,0\\nIB,2020-01-03,0,0,0,0,0,0\\nMC,2020-01-03,0,0,0,0,0,0\\nMD,2020-01-03,3,2,0,1,0,0\\nML,2020-01-03,0,0,0,0,0,0\\nNC,2020-01-03,0,0,0,0,0,0\\nPV,2020-01-03,0,0,0,0,0,0\\nRI,2020-01-03,2,2,0,0,0,0\\nVC,2020-01-03,0,0,0,0,0,0\\nAN,2020-01-04,0,0,0,0,0,0\\nAR,2020-01-04,0,0,0,0,0,0\\nAS,2020-01-04,0,0,0,0,0,0\\nCB,2020-01-04,0,0,0,0,0,0\\nCE,2020-01-04,1,0,0,1,0,0\\nCL,2020-01-04,0,0,0,0,0,0\\nCM,2020-01-04,0,0,0,0,0,0\\nCN,2020-01-04,0,0,0,0,0,0\\nCT,2020-01-04,4,4,0,0,0,0\\nEX,2020-01-04,0,0,0,0,0,0\\nGA,2020-01-04,4,3,0,1,0,0\\nIB,2020-01-04,0,0,0,0,0,0\\nMC,2020-01-04,0,0,0,0,0,0\\nMD,2020-01-04,5,3,0,2,0,0\\nML,2020-01-04,0,0,0,0,0,0\\nNC,2020-01-04,0,0,0,0,0,0\\nPV,2020-01-04,0,0,0,0,0,0\\nRI,2020-01-04,0,0,0,0,0,0\\nVC,2020-01-04,0,0,0,0,0,0\\nAN,2020-01-05,0,0,0,0,0,0\\nAR,2020-01-05,0,0,0,0,0,0\\nAS,2020-01-05,0,0,0,0,0,0\\nCB,2020-01-05,0,0,0,0,0,0\\nCE,2020-01-05,0,0,0,0,0,0\\nCL,2020-01-05,0,0,0,0,0,0\\nCM,2020-01-05,0,0,0,0,0,0\\nCN,2020-01-05,0,0,0,0,0,0\\nCT,2020-01-05,4,4,0,0,0,0\\nEX,2020-01-05,0,0,0,0,0,0\\nGA,2020-01-05,2,2,0,0,0,0\\nIB,2020-01-05,0,0,0,0,0,0\\nMC,2020-01-05,0,0,0,0,0,0\\nMD,2020-01-05,3,1,0,2,0,0\\nML,2020-01-05,0,0,0,0,0,0\\nNC,2020-01-05,0,0,0,0,0,0\\nPV,2020-01-05,0,0,0,0,0,0\\nRI,2020-01-05,2,2,0,0,0,0\\nVC,2020-01-05,1,1,0,0,0,0\\nAN,2020-01-06,0,0,0,0,0,0\\nAR,2020-01-06,0,0,0,0,0,0\\nAS,2020-01-06,0,0,0,0,0,0\\nCB,2020-01-06,0,0,0,0,0,0\\nCE,2020-01-06,0,0,0,0,0,0\\nCL,2020-01-06,0,0,0,0,0,0\\nCM,2020-01-06,0,0,0,0,0,0\\nCN,2020-01-06,0,0,0,0,0,0\\nCT,2020-01-06,9,8,0,0,0,1\\nEX,2020-01-06,0,0,0,0,0,0\\nGA,2020-01-06,2,1,0,1,0,0\\nIB,2020-01-06,0,0,0,0,0,0\\nMC,2020-01-06,0,0,0,0,0,0\\nMD,2020-01-06,6,2,0,4,0,0\\nML,2020-01-06,0,0,0,0,0,0\\nNC,2020-01-06,0,0,0,0,0,0\\nPV,2020-01-06,0,0,0,0,0,0\\nRI,2020-01-06,1,1,0,0,0,0\\nVC,2020-01-06,2,2,0,0,0,0\\nAN,2020-01-07,0,0,0,0,0,0\\nAR,2020-01-07,0,0,0,0,0,0\\nAS,2020-01-07,0,0,0,0,0,0\\nCB,2020-01-07,0,0,0,0,0,0\\nCE,2020-01-07,0,0,0,0,0,0\\nCL,2020-01-07,0,0,0,0,0,0\\nCM,2020-01-07,0,0,0,0,0,0\\nCN,2020-01-07,0,0,0,0,0,0\\nCT,2020-01-07,10,10,0,0,0,0\\nEX,2020-01-07,0,0,0,0,0,0\\nGA,2020-01-07,3,3,0,0,0,0\\nIB,2020-01-07,0,0,0,0,0,0\\nMC,2020-01-07,1,0,0,1,0,0\\nMD,2020-01-07,2,1,0,1,0,0\\nML,2020-01-07,0,0,0,0,0,0\\nNC,2020-01-07,0,0,0,0,0,0\\nPV,2020-01-07,0,0,0,0,0,0\\nRI,2020-01-07,1,1,0,0,0,0\\nVC,2020-01-07,1,1,0,0,0,0\\nAN,2020-01-08,0,0,0,0,0,0\\nAR,2020-01-08,0,0,0,0,0,0\\nAS,2020-01-08,0,0,0,0,0,0\\nCB,2020-01-08,0,0,0,0,0,0\\nCE,2020-01-08,0,0,0,0,0,0\\nCL,2020-01-08,0,0,0,0,0,0\\nCM,2020-01-08,0,0,0,0,0,0\\nCN,2020-01-08,0,0,0,0,0,0\\nCT,2020-01-08,16,16,0,0,0,0\\nEX,2020-01-08,0,0,0,0,0,0\\nGA,2020-01-08,0,0,0,0,0,0\\nIB,2020-01-08,0,0,0,0,0,0\\nMC,2020-01-08,0,0,0,0,0,0\\nMD,2020-01-08,9,3,0,6,0,0\\nML,2020-01-08,0,0,0,0,0,0\\nNC,2020-01-08,0,0,0,0,0,0\\nPV,2020-01-08,0,0,0,0,0,0\\nRI,2020-01-08,0,0,0,0,0,0\\nVC,2020-01-08,0,0,0,0,0,0\\nAN,2020-01-09,0,0,0,0,0,0\\nAR,2020-01-09,0,0,0,0,0,0\\nAS,2020-01-09,0,0,0,0,0,0\\nCB,2020-01-09,0,0,0,0,0,0\\nCE,2020-01-09,0,0,0,0,0,0\\nCL,2020-01-09,0,0,0,0,0,0\\nCM,2020-01-09,0,0,0,0,0,0\\nCN,2020-01-09,0,0,0,0,0,0\\nCT,2020-01-09,12,12,0,0,0,0\\nEX,2020-01-09,0,0,0,0,0,0\\nGA,2020-01-09,0,0,0,0,0,0\\nIB,2020-01-09,0,0,0,0,0,0\\nMC,2020-01-09,0,0,0,0,0,0\\nMD,2020-01-09,9,3,0,6,0,0\\nML,2020-01-09,0,0,0,0,0,0\\nNC,2020-01-09,0,0,0,0,0,0\\nPV,2020-01-09,0,0,0,0,0,0\\nRI,2020-01-09,0,0,0,0,0,0\\nVC,2020-01-09,1,0,0,1,0,0\\nAN,2020-01-10,0,0,0,0,0,0\\nAR,2020-01-10,0,0,0,0,0,0\\nAS,2020-01-10,0,0,0,0,0,0\\nCB,2020-01-10,0,0,0,0,0,0\\nCE,2020-01-10,0,0,0,0,0,0\\nCL,2020-01-10,0,0,0,0,0,0\\nCM,2020-01-10,0,0,0,0,0,0\\nCN,2020-01-10,0,0,0,0,0,0\\nCT,2020-01-10,17,17,0,0,0,0\\nEX,2020-01-10,0,0,0,0,0,0\\nGA,2020-01-10,1,1,0,0,0,0\\nIB,2020-01-10,0,0,0,0,0,0\\nMC,2020-01-10,0,0,0,0,0,0\\nMD,2020-01-10,8,4,0,4,0,0\\nML,2020-01-10,0,0,0,0,0,0\\nNC,2020-01-10,0,0,0,0,0,0\\nPV,2020-01-10,0,0,0,0,0,0\\nRI,2020-01-10,1,1,0,0,0,0\\nVC,2020-01-10,0,0,0,0,0,0\\nAN,2020-01-11,0,0,0,0,0,0\\nAR,2020-01-11,0,0,0,0,0,0\\nAS,2020-01-11,0,0,0,0,0,0\\nCB,2020-01-11,0,0,0,0,0,0\\nCE,2020-01-11,0,0,0,0,0,0\\nCL,2020-01-11,0,0,0,0,0,0\\nCM,2020-01-11,0,0,0,0,0,0\\nCN,2020-01-11,0,0,0,0,0,0\\nCT,2020-01-11,17,17,0,0,0,0\\nEX,2020-01-11,0,0,0,0,0,0\\nGA,2020-01-11,6,5,0,1,0,0\\nIB,2020-01-11,0,0,0,0,0,0\\nMC,2020-01-11,0,0,0,0,0,0\\nMD,2020-01-11,5,3,0,2,0,0\\nML,2020-01-11,0,0,0,0,0,0\\nNC,2020-01-11,0,0,0,0,0,0\\nPV,2020-01-11,0,0,0,0,0,0\\nRI,2020-01-11,0,0,0,0,0,0\\nVC,2020-01-11,1,1,0,0,0,0\\nAN,2020-01-12,0,0,0,0,0,0\\nAR,2020-01-12,0,0,0,0,0,0\\nAS,2020-01-12,0,0,0,0,0,0\\nCB,2020-01-12,0,0,0,0,0,0\\nCE,2020-01-12,0,0,0,0,0,0\\nCL,2020-01-12,0,0,0,0,0,0\\nCM,2020-01-12,0,0,0,0,0,0\\nCN,2020-01-12,0,0,0,0,0,0\\nCT,2020-01-12,25,25,0,0,0,0\\nEX,2020-01-12,0,0,0,0,0,0\\nGA,2020-01-12,1,1,0,0,0,0\\nIB,2020-01-12,0,0,0,0,0,0\\nMC,2020-01-12,1,1,0,0,0,0\\nMD,2020-01-12,6,3,0,3,0,0\\nML,2020-01-12,0,0,0,0,0,0\\nNC,2020-01-12,0,0,0,0,0,0\\nPV,2020-01-12,0,0,0,0,0,0\\nRI,2020-01-12,0,0,0,0,0,0\\nVC,2020-01-12,1,0,0,1,0,0\\nAN,2020-01-13,0,0,0,0,0,0\\nAR,2020-01-13,0,0,0,0,0,0\\nAS,2020-01-13,0,0,0,0,0,0\\nCB,2020-01-13,0,0,0,0,0,0\\nCE,2020-01-13,0,0,0,0,0,0\\nCL,2020-01-13,0,0,0,0,0,0\\nCM,2020-01-13,0,0,0,0,0,0\\nCN,2020-01-13,0,0,0,0,0,0\\nCT,2020-01-13,15,15,0,0,0,0\\nEX,2020-01-13,0,0,0,0,0,0\\nGA,2020-01-13,0,0,0,0,0,0\\nIB,2020-01-13,0,0,0,0,0,0\\nMC,2020-01-13,0,0,0,0,0,0\\nMD,2020-01-13,11,6,0,5,0,0\\nML,2020-01-13,0,0,0,0,0,0\\nNC,2020-01-13,0,0,0,0,0,0\\nPV,2020-01-13,0,0,0,0,0,0\\nRI,2020-01-13,2,2,0,0,0,0\\nVC,2020-01-13,1,1,0,0,0,0\\nAN,2020-01-14,0,0,0,0,0,0\\nAR,2020-01-14,1,1,0,0,0,0\\nAS,2020-01-14,0,0,0,0,0,0\\nCB,2020-01-14,0,0,0,0,0,0\\nCE,2020-01-14,0,0,0,0,0,0\\nCL,2020-01-14,0,0,0,0,0,0\\nCM,2020-01-14,0,0,0,0,0,0\\nCN,2020-01-14,0,0,0,0,0,0\\nCT,2020-01-14,2,2,0,0,0,0\\nEX,2020-01-14,0,0,0,0,0,0\\nGA,2020-01-14,1,1,0,0,0,0\\nIB,2020-01-14,0,0,0,0,0,0\\nMC,2020-01-14,0,0,0,0,0,0\\nMD,2020-01-14,6,3,0,3,0,0\\nML,2020-01-14,0,0,0,0,0,0\\nNC,2020-01-14,0,0,0,0,0,0\\nPV,2020-01-14,0,0,0,0,0,0\\nRI,2020-01-14,0,0,0,0,0,0\\nVC,2020-01-14,0,0,0,0,0,0\\nAN,2020-01-15,0,0,0,0,0,0\\nAR,2020-01-15,0,0,0,0,0,0\\nAS,2020-01-15,0,0,0,0,0,0\\nCB,2020-01-15,0,0,0,0,0,0\\nCE,2020-01-15,0,0,0,0,0,0\\nCL,2020-01-15,0,0,0,0,0,0\\nCM,2020-01-15,0,0,0,0,0,0\\nCN,2020-01-15,0,0,0,0,0,0\\nCT,2020-01-15,9,9,0,0,0,0\\nEX,2020-01-15,0,0,0,0,0,0\\nGA,2020-01-15,0,0,0,0,0,0\\nIB,2020-01-15,0,0,0,0,0,0\\nMC,2020-01-15,0,0,0,0,0,0\\nMD,2020-01-15,7,3,0,4,0,0\\nML,2020-01-15,0,0,0,0,0,0\\nNC,2020-01-15,0,0,0,0,0,0\\nPV,2020-01-15,0,0,0,0,0,0\\nRI,2020-01-15,0,0,0,0,0,0\\nVC,2020-01-15,1,0,0,1,0,0\\nAN,2020-01-16,0,0,0,0,0,0\\nAR,2020-01-16,1,1,0,0,0,0\\nAS,2020-01-16,0,0,0,0,0,0\\nCB,2020-01-16,0,0,0,0,0,0\\nCE,2020-01-16,0,0,0,0,0,0\\nCL,2020-01-16,0,0,0,0,0,0\\nCM,2020-01-16,0,0,0,0,0,0\\nCN,2020-01-16,0,0,0,0,0,0\\nCT,2020-01-16,10,10,0,0,0,0\\nEX,2020-01-16,0,0,0,0,0,0\\nGA,2020-01-16,0,0,0,0,0,0\\nIB,2020-01-16,0,0,0,0,0,0\\nMC,2020-01-16,0,0,0,0,0,0\\nMD,2020-01-16,8,2,0,6,0,0\\nML,2020-01-16,0,0,0,0,0,0\\nNC,2020-01-16,0,0,0,0,0,0\\nPV,2020-01-16,0,0,0,0,0,0\\nRI,2020-01-16,0,0,0,0,0,0\\nVC,2020-01-16,2,1,0,1,0,0\\nAN,2020-01-17,0,0,0,0,0,0\\nAR,2020-01-17,0,0,0,0,0,0\\nAS,2020-01-17,0,0,0,0,0,0\\nCB,2020-01-17,0,0,0,0,0,0\\nCE,2020-01-17,0,0,0,0,0,0\\nCL,2020-01-17,0,0,0,0,0,0\\nCM,2020-01-17,0,0,0,0,0,0\\nCN,2020-01-17,0,0,0,0,0,0\\nCT,2020-01-17,10,10,0,0,0,0\\nEX,2020-01-17,0,0,0,0,0,0\\nGA,2020-01-17,0,0,0,0,0,0\\nIB,2020-01-17,0,0,0,0,0,0\\nMC,2020-01-17,0,0,0,0,0,0\\nMD,2020-01-17,6,2,0,4,0,0\\nML,2020-01-17,0,0,0,0,0,0\\nNC,2020-01-17,0,0,0,0,0,0\\nPV,2020-01-17,0,0,0,0,0,0\\nRI,2020-01-17,0,0,0,0,0,0\\nVC,2020-01-17,1,0,0,1,0,0\\nAN,2020-01-18,0,0,0,0,0,0\\nAR,2020-01-18,2,2,0,0,0,0\\nAS,2020-01-18,0,0,0,0,0,0\\nCB,2020-01-18,0,0,0,0,0,0\\nCE,2020-01-18,0,0,0,0,0,0\\nCL,2020-01-18,0,0,0,0,0,0\\nCM,2020-01-18,0,0,0,0,0,0\\nCN,2020-01-18,0,0,0,0,0,0\\nCT,2020-01-18,12,12,0,0,0,0\\nEX,2020-01-18,0,0,0,0,0,0\\nGA,2020-01-18,0,0,0,0,0,0\\nIB,2020-01-18,0,0,0,0,0,0\\nMC,2020-01-18,0,0,0,0,0,0\\nMD,2020-01-18,7,5,0,2,0,0\\nML,2020-01-18,0,0,0,0,0,0\\nNC,2020-01-18,0,0,0,0,0,0\\nPV,2020-01-18,0,0,0,0,0,0\\nRI,2020-01-18,0,0,0,0,0,0\\nVC,2020-01-18,0,0,0,0,0,0\\nAN,2020-01-19,1,1,0,0,0,0\\nAR,2020-01-19,0,0,0,0,0,0\\nAS,2020-01-19,0,0,0,0,0,0\\nCB,2020-01-19,0,0,0,0,0,0\\nCE,2020-01-19,0,0,0,0,0,0\\nCL,2020-01-19,0,0,0,0,0,0\\nCM,2020-01-19,0,0,0,0,0,0\\nCN,2020-01-19,0,0,0,0,0,0\\nCT,2020-01-19,10,10,0,0,0,0\\nEX,2020-01-19,0,0,0,0,0,0\\nGA,2020-01-19,1,1,0,0,0,0\\nIB,2020-01-19,0,0,0,0,0,0\\nMC,2020-01-19,0,0,0,0,0,0\\nMD,2020-01-19,7,1,0,6,0,0\\nML,2020-01-19,0,0,0,0,0,0\\nNC,2020-01-19,0,0,0,0,0,0\\nPV,2020-01-19,0,0,0,0,0,0\\nRI,2020-01-19,1,1,0,0,0,0\\nVC,2020-01-19,0,0,0,0,0,0\\nAN,2020-01-20,0,0,0,0,0,0\\nAR,2020-01-20,0,0,0,0,0,0\\nAS,2020-01-20,0,0,0,0,0,0\\nCB,2020-01-20,0,0,0,0,0,0\\nCE,2020-01-20,0,0,0,0,0,0\\nCL,2020-01-20,0,0,0,0,0,0\\nCM,2020-01-20,0,0,0,0,0,0\\nCN,2020-01-20,0,0,0,0,0,0\\nCT,2020-01-20,12,12,0,0,0,0\\nEX,2020-01-20,0,0,0,0,0,0\\nGA,2020-01-20,3,3,0,0,0,0\\nIB,2020-01-20,0,0,0,0,0,0\\nMC,2020-01-20,0,0,0,0,0,0\\nMD,2020-01-20,6,4,0,2,0,0\\nML,2020-01-20,0,0,0,0,0,0\\nNC,2020-01-20,0,0,0,0,0,0\\nPV,2020-01-20,0,0,0,0,0,0\\nRI,2020-01-20,0,0,0,0,0,0\\nVC,2020-01-20,0,0,0,0,0,0\\nAN,2020-01-21,1,0,0,1,0,0\\nAR,2020-01-21,0,0,0,0,0,0\\nAS,2020-01-21,0,0,0,0,0,0\\nCB,2020-01-21,0,0,0,0,0,0\\nCE,2020-01-21,0,0,0,0,0,0\\nCL,2020-01-21,0,0,0,0,0,0\\nCM,2020-01-21,0,0,0,0,0,0\\nCN,2020-01-21,0,0,0,0,0,0\\nCT,2020-01-21,5,5,0,0,0,0\\nEX,2020-01-21,0,0,0,0,0,0\\nGA,2020-01-21,0,0,0,0,0,0\\nIB,2020-01-21,0,0,0,0,0,0\\nMC,2020-01-21,0,0,0,0,0,0\\nMD,2020-01-21,4,2,0,2,0,0\\nML,2020-01-21,0,0,0,0,0,0\\nNC,2020-01-21,0,0,0,0,0,0\\nPV,2020-01-21,0,0,0,0,0,0\\nRI,2020-01-21,0,0,0,0,0,0\\nVC,2020-01-21,0,0,0,0,0,0\\nAN,2020-01-22,0,0,0,0,0,0\\nAR,2020-01-22,0,0,0,0,0,0\\nAS,2020-01-22,0,0,0,0,0,0\\nCB,2020-01-22,0,0,0,0,0,0\\nCE,2020-01-22,0,0,0,0,0,0\\nCL,2020-01-22,0,0,0,0,0,0\\nCM,2020-01-22,0,0,0,0,0,0\\nCN,2020-01-22,0,0,0,0,0,0\\nCT,2020-01-22,0,0,0,0,0,0\\nEX,2020-01-22,0,0,0,0,0,0\\nGA,2020-01-22,0,0,0,0,0,0\\nIB,2020-01-22,0,0,0,0,0,0\\nMC,2020-01-22,0,0,0,0,0,0\\nMD,2020-01-22,5,0,0,5,0,0\\nML,2020-01-22,0,0,0,0,0,0\\nNC,2020-01-22,0,0,0,0,0,0\\nPV,2020-01-22,0,0,0,0,0,0\\nRI,2020-01-22,0,0,0,0,0,0\\nVC,2020-01-22,1,1,0,0,0,0\\nAN,2020-01-23,0,0,0,0,0,0\\nAR,2020-01-23,0,0,0,0,0,0\\nAS,2020-01-23,0,0,0,0,0,0\\nCB,2020-01-23,0,0,0,0,0,0\\nCE,2020-01-23,0,0,0,0,0,0\\nCL,2020-01-23,0,0,0,0,0,0\\nCM,2020-01-23,0,0,0,0,0,0\\nCN,2020-01-23,0,0,0,0,0,0\\nCT,2020-01-23,0,0,0,0,0,0\\nEX,2020-01-23,0,0,0,0,0,0\\nGA,2020-01-23,1,1,0,0,0,0\\nIB,2020-01-23,0,0,0,0,0,0\\nMC,2020-01-23,0,0,0,0,0,0\\nMD,2020-01-23,4,4,0,0,0,0\\nML,2020-01-23,0,0,0,0,0,0\\nNC,2020-01-23,0,0,0,0,0,0\\nPV,2020-01-23,0,0,0,0,0,0\\nRI,2020-01-23,0,0,0,0,0,0\\nVC,2020-01-23,1,0,0,1,0,0\\nAN,2020-01-24,0,0,0,0,0,0\\nAR,2020-01-24,0,0,0,0,0,0\\nAS,2020-01-24,0,0,0,0,0,0\\nCB,2020-01-24,0,0,0,0,0,0\\nCE,2020-01-24,0,0,0,0,0,0\\nCL,2020-01-24,0,0,0,0,0,0\\nCM,2020-01-24,0,0,0,0,0,0\\nCN,2020-01-24,0,0,0,0,0,0\\nCT,2020-01-24,0,0,0,0,0,0\\nEX,2020-01-24,0,0,0,0,0,0\\nGA,2020-01-24,0,0,0,0,0,0\\nIB,2020-01-24,0,0,0,0,0,0\\nMC,2020-01-24,0,0,0,0,0,0\\nMD,2020-01-24,3,2,0,1,0,0\\nML,2020-01-24,0,0,0,0,0,0\\nNC,2020-01-24,0,0,0,0,0,0\\nPV,2020-01-24,0,0,0,0,0,0\\nRI,2020-01-24,0,0,0,0,0,0\\nVC,2020-01-24,0,0,0,0,0,0\\nAN,2020-01-25,0,0,0,0,0,0\\nAR,2020-01-25,0,0,0,0,0,0\\nAS,2020-01-25,0,0,0,0,0,0\\nCB,2020-01-25,0,0,0,0,0,0\\nCE,2020-01-25,0,0,0,0,0,0\\nCL,2020-01-25,0,0,0,0,0,0\\nCM,2020-01-25,0,0,0,0,0,0\\nCN,2020-01-25,0,0,0,0,0,0\\nCT,2020-01-25,0,0,0,0,0,0\\nEX,2020-01-25,0,0,0,0,0,0\\nGA,2020-01-25,0,0,0,0,0,0\\nIB,2020-01-25,0,0,0,0,0,0\\nMC,2020-01-25,0,0,0,0,0,0\\nMD,2020-01-25,2,2,0,0,0,0\\nML,2020-01-25,0,0,0,0,0,0\\nNC,2020-01-25,0,0,0,0,0,0\\nPV,2020-01-25,0,0,0,0,0,0\\nRI,2020-01-25,0,0,0,0,0,0\\nVC,2020-01-25,1,1,0,0,0,0\\nAN,2020-01-26,0,0,0,0,0,0\\nAR,2020-01-26,0,0,0,0,0,0\\nAS,2020-01-26,0,0,0,0,0,0\\nCB,2020-01-26,0,0,0,0,0,0\\nCE,2020-01-26,0,0,0,0,0,0\\nCL,2020-01-26,0,0,0,0,0,0\\nCM,2020-01-26,0,0,0,0,0,0\\nCN,2020-01-26,0,0,0,0,0,0\\nCT,2020-01-26,0,0,0,0,0,0\\nEX,2020-01-26,0,0,0,0,0,0\\nGA,2020-01-26,0,0,0,0,0,0\\nIB,2020-01-26,0,0,0,0,0,0\\nMC,2020-01-26,0,0,0,0,0,0\\nMD,2020-01-26,1,1,0,0,0,0\\nML,2020-01-26,0,0,0,0,0,0\\nNC,2020-01-26,0,0,0,0,0,0\\nPV,2020-01-26,0,0,0,0,0,0\\nRI,2020-01-26,0,0,0,0,0,0\\nVC,2020-01-26,1,1,0,0,0,0\\nAN,2020-01-27,0,0,0,0,0,0\\nAR,2020-01-27,0,0,0,0,0,0\\nAS,2020-01-27,0,0,0,0,0,0\\nCB,2020-01-27,0,0,0,0,0,0\\nCE,2020-01-27,0,0,0,0,0,0\\nCL,2020-01-27,0,0,0,0,0,0\\nCM,2020-01-27,0,0,0,0,0,0\\nCN,2020-01-27,0,0,0,0,0,0\\nCT,2020-01-27,2,1,0,0,1,0\\nEX,2020-01-27,0,0,0,0,0,0\\nGA,2020-01-27,0,0,0,0,0,0\\nIB,2020-01-27,0,0,0,0,0,0\\nMC,2020-01-27,0,0,0,0,0,0\\nMD,2020-01-27,1,1,0,0,0,0\\nML,2020-01-27,0,0,0,0,0,0\\nNC,2020-01-27,0,0,0,0,0,0\\nPV,2020-01-27,0,0,0,0,0,0\\nRI,2020-01-27,0,0,0,0,0,0\\nVC,2020-01-27,0,0,0,0,0,0\\nAN,2020-01-28,0,0,0,0,0,0\\nAR,2020-01-28,0,0,0,0,0,0\\nAS,2020-01-28,0,0,0,0,0,0\\nCB,2020-01-28,0,0,0,0,0,0\\nCE,2020-01-28,0,0,0,0,0,0\\nCL,2020-01-28,0,0,0,0,0,0\\nCM,2020-01-28,0,0,0,0,0,0\\nCN,2020-01-28,0,0,0,0,0,0\\nCT,2020-01-28,0,0,0,0,0,0\\nEX,2020-01-28,0,0,0,0,0,0\\nGA,2020-01-28,0,0,0,0,0,0\\nIB,2020-01-28,0,0,0,0,0,0\\nMC,2020-01-28,0,0,0,0,0,0\\nMD,2020-01-28,1,1,0,0,0,0\\nML,2020-01-28,0,0,0,0,0,0\\nNC,2020-01-28,0,0,0,0,0,0\\nPV,2020-01-28,0,0,0,0,0,0\\nRI,2020-01-28,0,0,0,0,0,0\\nVC,2020-01-28,1,1,0,0,0,0\\nAN,2020-01-29,0,0,0,0,0,0\\nAR,2020-01-29,0,0,0,0,0,0\\nAS,2020-01-29,0,0,0,0,0,0\\nCB,2020-01-29,0,0,0,0,0,0\\nCE,2020-01-29,0,0,0,0,0,0\\nCL,2020-01-29,0,0,0,0,0,0\\nCM,2020-01-29,0,0,0,0,0,0\\nCN,2020-01-29,1,1,0,0,0,0\\nCT,2020-01-29,0,0,0,0,0,0\\nEX,2020-01-29,0,0,0,0,0,0\\nGA,2020-01-29,0,0,0,0,0,0\\nIB,2020-01-29,1,1,0,0,0,0\\nMC,2020-01-29,0,0,0,0,0,0\\nMD,2020-01-29,4,4,0,0,0,0\\nML,2020-01-29,0,0,0,0,0,0\\nNC,2020-01-29,0,0,0,0,0,0\\nPV,2020-01-29,0,0,0,0,0,0\\nRI,2020-01-29,1,1,0,0,0,0\\nVC,2020-01-29,1,1,0,0,0,0\\nAN,2020-01-30,0,0,0,0,0,0\\nAR,2020-01-30,0,0,0,0,0,0\\nAS,2020-01-30,0,0,0,0,0,0\\nCB,2020-01-30,0,0,0,0,0,0\\nCE,2020-01-30,0,0,0,0,0,0\\nCL,2020-01-30,0,0,0,0,0,0\\nCM,2020-01-30,0,0,0,0,0,0\\nCN,2020-01-30,0,0,0,0,0,0\\nCT,2020-01-30,2,2,0,0,0,0\\nEX,2020-01-30,0,0,0,0,0,0\\nGA,2020-01-30,0,0,0,0,0,0\\nIB,2020-01-30,0,0,0,0,0,0\\nMC,2020-01-30,0,0,0,0,0,0\\nMD,2020-01-30,2,2,0,0,0,0\\nML,2020-01-30,0,0,0,0,0,0\\nNC,2020-01-30,0,0,0,0,0,0\\nPV,2020-01-30,0,0,0,0,0,0\\nRI,2020-01-30,0,0,0,0,0,0\\nVC,2020-01-30,2,1,0,1,0,0\\nAN,2020-01-31,0,0,0,0,0,0\\nAR,2020-01-31,0,0,0,0,0,0\\nAS,2020-01-31,0,0,0,0,0,0\\nCB,2020-01-31,0,0,0,0,0,0\\nCE,2020-01-31,0,0,0,0,0,0\\nCL,2020-01-31,0,0,0,0,0,0\\nCM,2020-01-31,0,0,0,0,0,0\\nCN,2020-01-31,0,0,0,0,0,0\\nCT,2020-01-31,2,2,0,0,0,0\\nEX,2020-01-31,0,0,0,0,0,0\\nGA,2020-01-31,4,3,0,1,0,0\\nIB,2020-01-31,0,0,0,0,0,0\\nMC,2020-01-31,0,0,0,0,0,0\\nMD,2020-01-31,4,3,0,1,0,0\\nML,2020-01-31,0,0,0,0,0,0\\nNC,2020-01-31,0,0,0,0,0,0\\nPV,2020-01-31,0,0,0,0,0,0\\nRI,2020-01-31,0,0,0,0,0,0\\nVC,2020-01-31,2,2,0,0,0,0\\nAN,2020-02-01,1,0,0,1,0,0\\nAR,2020-02-01,0,0,0,0,0,0\\nAS,2020-02-01,0,0,0,0,0,0\\nCB,2020-02-01,0,0,0,0,0,0\\nCE,2020-02-01,0,0,0,0,0,0\\nCL,2020-02-01,0,0,0,0,0,0\\nCM,2020-02-01,0,0,0,0,0,0\\nCN,2020-02-01,0,0,0,0,0,0\\nCT,2020-02-01,9,8,0,0,0,1\\nEX,2020-02-01,0,0,0,0,0,0\\nGA,2020-02-01,1,1,0,0,0,0\\nIB,2020-02-01,0,0,0,0,0,0\\nMC,2020-02-01,0,0,0,0,0,0\\nMD,2020-02-01,11,8,0,3,0,0\\nML,2020-02-01,0,0,0,0,0,0\\nNC,2020-02-01,0,0,0,0,0,0\\nPV,2020-02-01,0,0,0,0,0,0\\nRI,2020-02-01,0,0,0,0,0,0\\nVC,2020-02-01,2,1,0,1,0,0\\nAN,2020-02-02,1,1,0,0,0,0\\nAR,2020-02-02,0,0,0,0,0,0\\nAS,2020-02-02,0,0,0,0,0,0\\nCB,2020-02-02,0,0,0,0,0,0\\nCE,2020-02-02,0,0,0,0,0,0\\nCL,2020-02-02,1,1,0,0,0,0\\nCM,2020-02-02,0,0,0,0,0,0\\nCN,2020-02-02,0,0,0,0,0,0\\nCT,2020-02-02,6,6,0,0,0,0\\nEX,2020-02-02,0,0,0,0,0,0\\nGA,2020-02-02,1,1,0,0,0,0\\nIB,2020-02-02,0,0,0,0,0,0\\nMC,2020-02-02,0,0,0,0,0,0\\nMD,2020-02-02,10,8,0,2,0,0\\nML,2020-02-02,0,0,0,0,0,0\\nNC,2020-02-02,0,0,0,0,0,0\\nPV,2020-02-02,0,0,0,0,0,0\\nRI,2020-02-02,0,0,0,0,0,0\\nVC,2020-02-02,0,0,0,0,0,0\\nAN,2020-02-03,1,1,0,0,0,0\\nAR,2020-02-03,0,0,0,0,0,0\\nAS,2020-02-03,0,0,0,0,0,0\\nCB,2020-02-03,0,0,0,0,0,0\\nCE,2020-02-03,0,0,0,0,0,0\\nCL,2020-02-03,0,0,0,0,0,0\\nCM,2020-02-03,0,0,0,0,0,0\\nCN,2020-02-03,0,0,0,0,0,0\\nCT,2020-02-03,1,1,0,0,0,0\\nEX,2020-02-03,0,0,0,0,0,0\\nGA,2020-02-03,1,1,0,0,0,0\\nIB,2020-02-03,0,0,0,0,0,0\\nMC,2020-02-03,0,0,0,0,0,0\\nMD,2020-02-03,10,9,0,1,0,0\\nML,2020-02-03,0,0,0,0,0,0\\nNC,2020-02-03,0,0,0,0,0,0\\nPV,2020-02-03,0,0,0,0,0,0\\nRI,2020-02-03,0,0,0,0,0,0\\nVC,2020-02-03,1,1,0,0,0,0\\nAN,2020-02-04,0,0,0,0,0,0\\nAR,2020-02-04,0,0,0,0,0,0\\nAS,2020-02-04,0,0,0,0,0,0\\nCB,2020-02-04,0,0,0,0,0,0\\nCE,2020-02-04,0,0,0,0,0,0\\nCL,2020-02-04,1,1,0,0,0,0\\nCM,2020-02-04,0,0,0,0,0,0\\nCN,2020-02-04,1,1,0,0,0,0\\nCT,2020-02-04,7,7,0,0,0,0\\nEX,2020-02-04,0,0,0,0,0,0\\nGA,2020-02-04,0,0,0,0,0,0\\nIB,2020-02-04,0,0,0,0,0,0\\nMC,2020-02-04,0,0,0,0,0,0\\nMD,2020-02-04,2,2,0,0,0,0\\nML,2020-02-04,0,0,0,0,0,0\\nNC,2020-02-04,0,0,0,0,0,0\\nPV,2020-02-04,0,0,0,0,0,0\\nRI,2020-02-04,0,0,0,0,0,0\\nVC,2020-02-04,1,1,0,0,0,0\\nAN,2020-02-05,0,0,0,0,0,0\\nAR,2020-02-05,0,0,0,0,0,0\\nAS,2020-02-05,0,0,0,0,0,0\\nCB,2020-02-05,0,0,0,0,0,0\\nCE,2020-02-05,0,0,0,0,0,0\\nCL,2020-02-05,1,1,0,0,0,0\\nCM,2020-02-05,0,0,0,0,0,0\\nCN,2020-02-05,0,0,0,0,0,0\\nCT,2020-02-05,1,1,0,0,0,0\\nEX,2020-02-05,0,0,0,0,0,0\\nGA,2020-02-05,0,0,0,0,0,0\\nIB,2020-02-05,0,0,0,0,0,0\\nMC,2020-02-05,0,0,0,0,0,0\\nMD,2020-02-05,4,4,0,0,0,0\\nML,2020-02-05,0,0,0,0,0,0\\nNC,2020-02-05,0,0,0,0,0,0\\nPV,2020-02-05,0,0,0,0,0,0\\nRI,2020-02-05,0,0,0,0,0,0\\nVC,2020-02-05,1,1,0,0,0,0\\nAN,2020-02-06,2,1,1,0,0,0\\nAR,2020-02-06,2,2,0,0,0,0\\nAS,2020-02-06,0,0,0,0,0,0\\nCB,2020-02-06,0,0,0,0,0,0\\nCE,2020-02-06,0,0,0,0,0,0\\nCL,2020-02-06,0,0,0,0,0,0\\nCM,2020-02-06,0,0,0,0,0,0\\nCN,2020-02-06,0,0,0,0,0,0\\nCT,2020-02-06,0,0,0,0,0,0\\nEX,2020-02-06,0,0,0,0,0,0\\nGA,2020-02-06,0,0,0,0,0,0\\nIB,2020-02-06,0,0,0,0,0,0\\nMC,2020-02-06,0,0,0,0,0,0\\nMD,2020-02-06,5,5,0,0,0,0\\nML,2020-02-06,0,0,0,0,0,0\\nNC,2020-02-06,0,0,0,0,0,0\\nPV,2020-02-06,0,0,0,0,0,0\\nRI,2020-02-06,0,0,0,0,0,0\\nVC,2020-02-06,2,2,0,0,0,0\\nAN,2020-02-07,2,2,0,0,0,0\\nAR,2020-02-07,0,0,0,0,0,0\\nAS,2020-02-07,0,0,0,0,0,0\\nCB,2020-02-07,0,0,0,0,0,0\\nCE,2020-02-07,0,0,0,0,0,0\\nCL,2020-02-07,1,1,0,0,0,0\\nCM,2020-02-07,0,0,0,0,0,0\\nCN,2020-02-07,0,0,0,0,0,0\\nCT,2020-02-07,4,3,0,0,0,1\\nEX,2020-02-07,0,0,0,0,0,0\\nGA,2020-02-07,0,0,0,0,0,0\\nIB,2020-02-07,0,0,0,0,0,0\\nMC,2020-02-07,0,0,0,0,0,0\\nMD,2020-02-07,9,9,0,0,0,0\\nML,2020-02-07,0,0,0,0,0,0\\nNC,2020-02-07,0,0,0,0,0,0\\nPV,2020-02-07,0,0,0,0,0,0\\nRI,2020-02-07,0,0,0,0,0,0\\nVC,2020-02-07,0,0,0,0,0,0\\nAN,2020-02-08,0,0,0,0,0,0\\nAR,2020-02-08,0,0,0,0,0,0\\nAS,2020-02-08,0,0,0,0,0,0\\nCB,2020-02-08,0,0,0,0,0,0\\nCE,2020-02-08,0,0,0,0,0,0\\nCL,2020-02-08,0,0,0,0,0,0\\nCM,2020-02-08,0,0,0,0,0,0\\nCN,2020-02-08,0,0,0,0,0,0\\nCT,2020-02-08,0,0,0,0,0,0\\nEX,2020-02-08,1,1,0,0,0,0\\nGA,2020-02-08,0,0,0,0,0,0\\nIB,2020-02-08,0,0,0,0,0,0\\nMC,2020-02-08,0,0,0,0,0,0\\nMD,2020-02-08,8,8,0,0,0,0\\nML,2020-02-08,0,0,0,0,0,0\\nNC,2020-02-08,0,0,0,0,0,0\\nPV,2020-02-08,0,0,0,0,0,0\\nRI,2020-02-08,0,0,0,0,0,0\\nVC,2020-02-08,0,0,0,0,0,0\\nAN,2020-02-09,0,0,0,0,0,0\\nAR,2020-02-09,0,0,0,0,0,0\\nAS,2020-02-09,0,0,0,0,0,0\\nCB,2020-02-09,0,0,0,0,0,0\\nCE,2020-02-09,0,0,0,0,0,0\\nCL,2020-02-09,0,0,0,0,0,0\\nCM,2020-02-09,0,0,0,0,0,0\\nCN,2020-02-09,0,0,0,0,0,0\\nCT,2020-02-09,2,2,0,0,0,0\\nEX,2020-02-09,0,0,0,0,0,0\\nGA,2020-02-09,0,0,0,0,0,0\\nIB,2020-02-09,0,0,0,0,0,0\\nMC,2020-02-09,0,0,0,0,0,0\\nMD,2020-02-09,2,2,0,0,0,0\\nML,2020-02-09,0,0,0,0,0,0\\nNC,2020-02-09,0,0,0,0,0,0\\nPV,2020-02-09,0,0,0,0,0,0\\nRI,2020-02-09,0,0,0,0,0,0\\nVC,2020-02-09,0,0,0,0,0,0\\nAN,2020-02-10,1,1,0,0,0,0\\nAR,2020-02-10,0,0,0,0,0,0\\nAS,2020-02-10,0,0,0,0,0,0\\nCB,2020-02-10,0,0,0,0,0,0\\nCE,2020-02-10,0,0,0,0,0,0\\nCL,2020-02-10,1,0,1,0,0,0\\nCM,2020-02-10,0,0,0,0,0,0\\nCN,2020-02-10,0,0,0,0,0,0\\nCT,2020-02-10,5,5,0,0,0,0\\nEX,2020-02-10,0,0,0,0,0,0\\nGA,2020-02-10,0,0,0,0,0,0\\nIB,2020-02-10,2,2,0,0,0,0\\nMC,2020-02-10,0,0,0,0,0,0\\nMD,2020-02-10,13,12,0,1,0,0\\nML,2020-02-10,0,0,0,0,0,0\\nNC,2020-02-10,1,1,0,0,0,0\\nPV,2020-02-10,0,0,0,0,0,0\\nRI,2020-02-10,0,0,0,0,0,0\\nVC,2020-02-10,1,1,0,0,0,0\\nAN,2020-02-11,0,0,0,0,0,0\\nAR,2020-02-11,1,1,0,0,0,0\\nAS,2020-02-11,0,0,0,0,0,0\\nCB,2020-02-11,0,0,0,0,0,0\\nCE,2020-02-11,0,0,0,0,0,0\\nCL,2020-02-11,1,1,0,0,0,0\\nCM,2020-02-11,0,0,0,0,0,0\\nCN,2020-02-11,0,0,0,0,0,0\\nCT,2020-02-11,3,2,0,0,1,0\\nEX,2020-02-11,0,0,0,0,0,0\\nGA,2020-02-11,0,0,0,0,0,0\\nIB,2020-02-11,0,0,0,0,0,0\\nMC,2020-02-11,0,0,0,0,0,0\\nMD,2020-02-11,9,9,0,0,0,0\\nML,2020-02-11,0,0,0,0,0,0\\nNC,2020-02-11,0,0,0,0,0,0\\nPV,2020-02-11,0,0,0,0,0,0\\nRI,2020-02-11,0,0,0,0,0,0\\nVC,2020-02-11,1,1,0,0,0,0\\nAN,2020-02-12,1,1,0,0,0,0\\nAR,2020-02-12,0,0,0,0,0,0\\nAS,2020-02-12,0,0,0,0,0,0\\nCB,2020-02-12,0,0,0,0,0,0\\nCE,2020-02-12,0,0,0,0,0,0\\nCL,2020-02-12,2,2,0,0,0,0\\nCM,2020-02-12,0,0,0,0,0,0\\nCN,2020-02-12,1,1,0,0,0,0\\nCT,2020-02-12,9,8,0,0,0,1\\nEX,2020-02-12,0,0,0,0,0,0\\nGA,2020-02-12,0,0,0,0,0,0\\nIB,2020-02-12,0,0,0,0,0,0\\nMC,2020-02-12,0,0,0,0,0,0\\nMD,2020-02-12,12,12,0,0,0,0\\nML,2020-02-12,0,0,0,0,0,0\\nNC,2020-02-12,0,0,0,0,0,0\\nPV,2020-02-12,2,2,0,0,0,0\\nRI,2020-02-12,0,0,0,0,0,0\\nVC,2020-02-12,1,1,0,0,0,0\\nAN,2020-02-13,1,1,0,0,0,0\\nAR,2020-02-13,1,1,0,0,0,0\\nAS,2020-02-13,0,0,0,0,0,0\\nCB,2020-02-13,0,0,0,0,0,0\\nCE,2020-02-13,0,0,0,0,0,0\\nCL,2020-02-13,0,0,0,0,0,0\\nCM,2020-02-13,0,0,0,0,0,0\\nCN,2020-02-13,0,0,0,0,0,0\\nCT,2020-02-13,6,6,0,0,0,0\\nEX,2020-02-13,0,0,0,0,0,0\\nGA,2020-02-13,0,0,0,0,0,0\\nIB,2020-02-13,0,0,0,0,0,0\\nMC,2020-02-13,0,0,0,0,0,0\\nMD,2020-02-13,16,16,0,0,0,0\\nML,2020-02-13,0,0,0,0,0,0\\nNC,2020-02-13,0,0,0,0,0,0\\nPV,2020-02-13,0,0,0,0,0,0\\nRI,2020-02-13,0,0,0,0,0,0\\nVC,2020-02-13,1,1,0,0,0,0\\nAN,2020-02-14,1,1,0,0,0,0\\nAR,2020-02-14,0,0,0,0,0,0\\nAS,2020-02-14,0,0,0,0,0,0\\nCB,2020-02-14,0,0,0,0,0,0\\nCE,2020-02-14,0,0,0,0,0,0\\nCL,2020-02-14,1,1,0,0,0,0\\nCM,2020-02-14,0,0,0,0,0,0\\nCN,2020-02-14,1,1,0,0,0,0\\nCT,2020-02-14,2,2,0,0,0,0\\nEX,2020-02-14,1,1,0,0,0,0\\nGA,2020-02-14,0,0,0,0,0,0\\nIB,2020-02-14,1,1,0,0,0,0\\nMC,2020-02-14,0,0,0,0,0,0\\nMD,2020-02-14,11,11,0,0,0,0\\nML,2020-02-14,0,0,0,0,0,0\\nNC,2020-02-14,0,0,0,0,0,0\\nPV,2020-02-14,0,0,0,0,0,0\\nRI,2020-02-14,0,0,0,0,0,0\\nVC,2020-02-14,2,2,0,0,0,0\\nAN,2020-02-15,1,1,0,0,0,0\\nAR,2020-02-15,0,0,0,0,0,0\\nAS,2020-02-15,0,0,0,0,0,0\\nCB,2020-02-15,0,0,0,0,0,0\\nCE,2020-02-15,0,0,0,0,0,0\\nCL,2020-02-15,0,0,0,0,0,0\\nCM,2020-02-15,0,0,0,0,0,0\\nCN,2020-02-15,0,0,0,0,0,0\\nCT,2020-02-15,14,14,0,0,0,0\\nEX,2020-02-15,1,1,0,0,0,0\\nGA,2020-02-15,0,0,0,0,0,0\\nIB,2020-02-15,0,0,0,0,0,0\\nMC,2020-02-15,0,0,0,0,0,0\\nMD,2020-02-15,13,13,0,0,0,0\\nML,2020-02-15,0,0,0,0,0,0\\nNC,2020-02-15,0,0,0,0,0,0\\nPV,2020-02-15,3,3,0,0,0,0\\nRI,2020-02-15,0,0,0,0,0,0\\nVC,2020-02-15,4,4,0,0,0,0\\nAN,2020-02-16,0,0,0,0,0,0\\nAR,2020-02-16,1,1,0,0,0,0\\nAS,2020-02-16,0,0,0,0,0,0\\nCB,2020-02-16,0,0,0,0,0,0\\nCE,2020-02-16,0,0,0,0,0,0\\nCL,2020-02-16,0,0,0,0,0,0\\nCM,2020-02-16,0,0,0,0,0,0\\nCN,2020-02-16,2,2,0,0,0,0\\nCT,2020-02-16,4,3,0,0,0,1\\nEX,2020-02-16,0,0,0,0,0,0\\nGA,2020-02-16,1,1,0,0,0,0\\nIB,2020-02-16,0,0,0,0,0,0\\nMC,2020-02-16,0,0,0,0,0,0\\nMD,2020-02-16,17,15,0,2,0,0\\nML,2020-02-16,0,0,0,0,0,0\\nNC,2020-02-16,0,0,0,0,0,0\\nPV,2020-02-16,1,1,0,0,0,0\\nRI,2020-02-16,0,0,0,0,0,0\\nVC,2020-02-16,1,1,0,0,0,0\\nAN,2020-02-17,0,0,0,0,0,0\\nAR,2020-02-17,2,2,0,0,0,0\\nAS,2020-02-17,0,0,0,0,0,0\\nCB,2020-02-17,0,0,0,0,0,0\\nCE,2020-02-17,0,0,0,0,0,0\\nCL,2020-02-17,0,0,0,0,0,0\\nCM,2020-02-17,0,0,0,0,0,0\\nCN,2020-02-17,0,0,0,0,0,0\\nCT,2020-02-17,1,1,0,0,0,0\\nEX,2020-02-17,1,0,1,0,0,0\\nGA,2020-02-17,0,0,0,0,0,0\\nIB,2020-02-17,0,0,0,0,0,0\\nMC,2020-02-17,0,0,0,0,0,0\\nMD,2020-02-17,20,20,0,0,0,0\\nML,2020-02-17,0,0,0,0,0,0\\nNC,2020-02-17,0,0,0,0,0,0\\nPV,2020-02-17,2,2,0,0,0,0\\nRI,2020-02-17,0,0,0,0,0,0\\nVC,2020-02-17,3,3,0,0,0,0\\nAN,2020-02-18,3,3,0,0,0,0\\nAR,2020-02-18,2,1,0,1,0,0\\nAS,2020-02-18,0,0,0,0,0,0\\nCB,2020-02-18,0,0,0,0,0,0\\nCE,2020-02-18,0,0,0,0,0,0\\nCL,2020-02-18,1,1,0,0,0,0\\nCM,2020-02-18,0,0,0,0,0,0\\nCN,2020-02-18,1,1,0,0,0,0\\nCT,2020-02-18,6,6,0,0,0,0\\nEX,2020-02-18,0,0,0,0,0,0\\nGA,2020-02-18,1,1,0,0,0,0\\nIB,2020-02-18,0,0,0,0,0,0\\nMC,2020-02-18,0,0,0,0,0,0\\nMD,2020-02-18,14,14,0,0,0,0\\nML,2020-02-18,0,0,0,0,0,0\\nNC,2020-02-18,0,0,0,0,0,0\\nPV,2020-02-18,0,0,0,0,0,0\\nRI,2020-02-18,0,0,0,0,0,0\\nVC,2020-02-18,1,1,0,0,0,0\\nAN,2020-02-19,0,0,0,0,0,0\\nAR,2020-02-19,0,0,0,0,0,0\\nAS,2020-02-19,0,0,0,0,0,0\\nCB,2020-02-19,0,0,0,0,0,0\\nCE,2020-02-19,0,0,0,0,0,0\\nCL,2020-02-19,0,0,0,0,0,0\\nCM,2020-02-19,0,0,0,0,0,0\\nCN,2020-02-19,1,1,0,0,0,0\\nCT,2020-02-19,1,1,0,0,0,0\\nEX,2020-02-19,1,1,0,0,0,0\\nGA,2020-02-19,0,0,0,0,0,0\\nIB,2020-02-19,0,0,0,0,0,0\\nMC,2020-02-19,0,0,0,0,0,0\\nMD,2020-02-19,13,12,0,1,0,0\\nML,2020-02-19,0,0,0,0,0,0\\nNC,2020-02-19,0,0,0,0,0,0\\nPV,2020-02-19,1,1,0,0,0,0\\nRI,2020-02-19,0,0,0,0,0,0\\nVC,2020-02-19,1,1,0,0,0,0\\nAN,2020-02-20,4,3,1,0,0,0\\nAR,2020-02-20,0,0,0,0,0,0\\nAS,2020-02-20,0,0,0,0,0,0\\nCB,2020-02-20,0,0,0,0,0,0\\nCE,2020-02-20,0,0,0,0,0,0\\nCL,2020-02-20,1,1,0,0,0,0\\nCM,2020-02-20,0,0,0,0,0,0\\nCN,2020-02-20,1,1,0,0,0,0\\nCT,2020-02-20,14,13,0,0,0,1\\nEX,2020-02-20,0,0,0,0,0,0\\nGA,2020-02-20,3,3,0,0,0,0\\nIB,2020-02-20,1,0,1,0,0,0\\nMC,2020-02-20,0,0,0,0,0,0\\nMD,2020-02-20,30,29,0,1,0,0\\nML,2020-02-20,0,0,0,0,0,0\\nNC,2020-02-20,0,0,0,0,0,0\\nPV,2020-02-20,1,1,0,0,0,0\\nRI,2020-02-20,0,0,0,0,0,0\\nVC,2020-02-20,3,3,0,0,0,0\\nAN,2020-02-21,4,4,0,0,0,0\\nAR,2020-02-21,2,2,0,0,0,0\\nAS,2020-02-21,0,0,0,0,0,0\\nCB,2020-02-21,0,0,0,0,0,0\\nCE,2020-02-21,0,0,0,0,0,0\\nCL,2020-02-21,4,3,1,0,0,0\\nCM,2020-02-21,0,0,0,0,0,0\\nCN,2020-02-21,0,0,0,0,0,0\\nCT,2020-02-21,17,16,0,0,0,1\\nEX,2020-02-21,0,0,0,0,0,0\\nGA,2020-02-21,0,0,0,0,0,0\\nIB,2020-02-21,0,0,0,0,0,0\\nMC,2020-02-21,0,0,0,0,0,0\\nMD,2020-02-21,31,30,0,1,0,0\\nML,2020-02-21,0,0,0,0,0,0\\nNC,2020-02-21,1,1,0,0,0,0\\nPV,2020-02-21,3,3,0,0,0,0\\nRI,2020-02-21,0,0,0,0,0,0\\nVC,2020-02-21,2,2,0,0,0,0\\nAN,2020-02-22,2,2,0,0,0,0\\nAR,2020-02-22,3,3,0,0,0,0\\nAS,2020-02-22,0,0,0,0,0,0\\nCB,2020-02-22,0,0,0,0,0,0\\nCE,2020-02-22,0,0,0,0,0,0\\nCL,2020-02-22,2,2,0,0,0,0\\nCM,2020-02-22,0,0,0,0,0,0\\nCN,2020-02-22,0,0,0,0,0,0\\nCT,2020-02-22,13,13,0,0,0,0\\nEX,2020-02-22,0,0,0,0,0,0\\nGA,2020-02-22,2,2,0,0,0,0\\nIB,2020-02-22,0,0,0,0,0,0\\nMC,2020-02-22,1,1,0,0,0,0\\nMD,2020-02-22,32,31,0,1,0,0\\nML,2020-02-22,0,0,0,0,0,0\\nNC,2020-02-22,1,1,0,0,0,0\\nPV,2020-02-22,4,4,0,0,0,0\\nRI,2020-02-22,0,0,0,0,0,0\\nVC,2020-02-22,2,2,0,0,0,0\\nAN,2020-02-23,2,2,0,0,0,0\\nAR,2020-02-23,2,1,0,1,0,0\\nAS,2020-02-23,1,1,0,0,0,0\\nCB,2020-02-23,1,1,0,0,0,0\\nCE,2020-02-23,0,0,0,0,0,0\\nCL,2020-02-23,4,4,0,0,0,0\\nCM,2020-02-23,0,0,0,0,0,0\\nCN,2020-02-23,1,1,0,0,0,0\\nCT,2020-02-23,8,6,0,0,0,2\\nEX,2020-02-23,0,0,0,0,0,0\\nGA,2020-02-23,0,0,0,0,0,0\\nIB,2020-02-23,0,0,0,0,0,0\\nMC,2020-02-23,1,1,0,0,0,0\\nMD,2020-02-23,46,46,0,0,0,0\\nML,2020-02-23,0,0,0,0,0,0\\nNC,2020-02-23,1,1,0,0,0,0\\nPV,2020-02-23,1,1,0,0,0,0\\nRI,2020-02-23,3,3,0,0,0,0\\nVC,2020-02-23,6,5,0,1,0,0\\nAN,2020-02-24,5,5,0,0,0,0\\nAR,2020-02-24,3,2,0,1,0,0\\nAS,2020-02-24,0,0,0,0,0,0\\nCB,2020-02-24,0,0,0,0,0,0\\nCE,2020-02-24,0,0,0,0,0,0\\nCL,2020-02-24,4,4,0,0,0,0\\nCM,2020-02-24,1,1,0,0,0,0\\nCN,2020-02-24,0,0,0,0,0,0\\nCT,2020-02-24,12,10,0,0,0,2\\nEX,2020-02-24,0,0,0,0,0,0\\nGA,2020-02-24,1,1,0,0,0,0\\nIB,2020-02-24,0,0,0,0,0,0\\nMC,2020-02-24,1,1,0,0,0,0\\nMD,2020-02-24,58,58,0,0,0,0\\nML,2020-02-24,0,0,0,0,0,0\\nNC,2020-02-24,3,3,0,0,0,0\\nPV,2020-02-24,7,6,0,1,0,0\\nRI,2020-02-24,2,2,0,0,0,0\\nVC,2020-02-24,14,13,0,0,0,1\\nAN,2020-02-25,9,9,0,0,0,0\\nAR,2020-02-25,2,2,0,0,0,0\\nAS,2020-02-25,1,1,0,0,0,0\\nCB,2020-02-25,9,9,0,0,0,0\\nCE,2020-02-25,0,0,0,0,0,0\\nCL,2020-02-25,5,5,0,0,0,0\\nCM,2020-02-25,0,0,0,0,0,0\\nCN,2020-02-25,2,2,0,0,0,0\\nCT,2020-02-25,21,18,0,0,1,2\\nEX,2020-02-25,2,2,0,0,0,0\\nGA,2020-02-25,2,2,0,0,0,0\\nIB,2020-02-25,0,0,0,0,0,0\\nMC,2020-02-25,3,1,2,0,0,0\\nMD,2020-02-25,53,53,0,0,0,0\\nML,2020-02-25,0,0,0,0,0,0\\nNC,2020-02-25,2,2,0,0,0,0\\nPV,2020-02-25,11,11,0,0,0,0\\nRI,2020-02-25,2,2,0,0,0,0\\nVC,2020-02-25,8,8,0,0,0,0\\nAN,2020-02-26,9,9,0,0,0,0\\nAR,2020-02-26,2,2,0,0,0,0\\nAS,2020-02-26,0,0,0,0,0,0\\nCB,2020-02-26,0,0,0,0,0,0\\nCE,2020-02-26,0,0,0,0,0,0\\nCL,2020-02-26,7,7,0,0,0,0\\nCM,2020-02-26,0,0,0,0,0,0\\nCN,2020-02-26,6,6,0,0,0,0\\nCT,2020-02-26,26,21,0,0,0,5\\nEX,2020-02-26,0,0,0,0,0,0\\nGA,2020-02-26,3,3,0,0,0,0\\nIB,2020-02-26,0,0,0,0,0,0\\nMC,2020-02-26,1,0,1,0,0,0\\nMD,2020-02-26,73,72,0,1,0,0\\nML,2020-02-26,0,0,0,0,0,0\\nNC,2020-02-26,2,2,0,0,0,0\\nPV,2020-02-26,11,11,0,0,0,0\\nRI,2020-02-26,3,3,0,0,0,0\\nVC,2020-02-26,8,8,0,0,0,0\\nAN,2020-02-27,8,7,1,0,0,0\\nAR,2020-02-27,0,0,0,0,0,0\\nAS,2020-02-27,0,0,0,0,0,0\\nCB,2020-02-27,0,0,0,0,0,0\\nCE,2020-02-27,0,0,0,0,0,0\\nCL,2020-02-27,6,6,0,0,0,0\\nCM,2020-02-27,1,1,0,0,0,0\\nCN,2020-02-27,2,2,0,0,0,0\\nCT,2020-02-27,16,13,0,0,1,2\\nEX,2020-02-27,1,1,0,0,0,0\\nGA,2020-02-27,7,7,0,0,0,0\\nIB,2020-02-27,4,4,0,0,0,0\\nMC,2020-02-27,1,1,0,0,0,0\\nMD,2020-02-27,99,99,0,0,0,0\\nML,2020-02-27,0,0,0,0,0,0\\nNC,2020-02-27,4,4,0,0,0,0\\nPV,2020-02-27,13,13,0,0,0,0\\nRI,2020-02-27,8,8,0,0,0,0\\nVC,2020-02-27,15,15,0,0,0,0\\nAN,2020-02-28,8,8,0,0,0,0\\nAR,2020-02-28,3,3,0,0,0,0\\nAS,2020-02-28,1,1,0,0,0,0\\nCB,2020-02-28,0,0,0,0,0,0\\nCE,2020-02-28,0,0,0,0,0,0\\nCL,2020-02-28,8,8,0,0,0,0\\nCM,2020-02-28,13,12,1,0,0,0\\nCN,2020-02-28,7,7,0,0,0,0\\nCT,2020-02-28,37,32,0,0,3,2\\nEX,2020-02-28,6,6,0,0,0,0\\nGA,2020-02-28,6,6,0,0,0,0\\nIB,2020-02-28,4,4,0,0,0,0\\nMC,2020-02-28,1,1,0,0,0,0\\nMD,2020-02-28,163,163,0,0,0,0\\nML,2020-02-28,0,0,0,0,0,0\\nNC,2020-02-28,2,2,0,0,0,0\\nPV,2020-02-28,33,32,0,1,0,0\\nRI,2020-02-28,11,11,0,0,0,0\\nVC,2020-02-28,22,22,0,0,0,0\\nAN,2020-02-29,8,8,0,0,0,0\\nAR,2020-02-29,8,8,0,0,0,0\\nAS,2020-02-29,2,2,0,0,0,0\\nCB,2020-02-29,1,1,0,0,0,0\\nCE,2020-02-29,0,0,0,0,0,0\\nCL,2020-02-29,10,10,0,0,0,0\\nCM,2020-02-29,16,16,0,0,0,0\\nCN,2020-02-29,4,4,0,0,0,0\\nCT,2020-02-29,19,19,0,0,0,0\\nEX,2020-02-29,3,3,0,0,0,0\\nGA,2020-02-29,1,1,0,0,0,0\\nIB,2020-02-29,2,2,0,0,0,0\\nMC,2020-02-29,2,2,0,0,0,0\\nMD,2020-02-29,111,110,0,1,0,0\\nML,2020-02-29,0,0,0,0,0,0\\nNC,2020-02-29,4,4,0,0,0,0\\nPV,2020-02-29,25,25,0,0,0,0\\nRI,2020-02-29,14,14,0,0,0,0\\nVC,2020-02-29,14,14,0,0,0,0\\nAN,2020-03-01,26,25,1,0,0,0\\nAR,2020-03-01,8,8,0,0,0,0\\nAS,2020-03-01,2,2,0,0,0,0\\nCB,2020-03-01,1,1,0,0,0,0\\nCE,2020-03-01,0,0,0,0,0,0\\nCL,2020-03-01,28,27,1,0,0,0\\nCM,2020-03-01,59,55,2,0,2,0\\nCN,2020-03-01,7,7,0,0,0,0\\nCT,2020-03-01,93,85,0,0,2,6\\nEX,2020-03-01,4,3,1,0,0,0\\nGA,2020-03-01,6,5,1,0,0,0\\nIB,2020-03-01,4,4,0,0,0,0\\nMC,2020-03-01,5,4,1,0,0,0\\nMD,2020-03-01,332,331,0,1,0,0\\nML,2020-03-01,0,0,0,0,0,0\\nNC,2020-03-01,8,8,0,0,0,0\\nPV,2020-03-01,50,48,0,2,0,0\\nRI,2020-03-01,23,23,0,0,0,0\\nVC,2020-03-01,38,36,2,0,0,0\\nAN,2020-03-02,32,32,0,0,0,0\\nAR,2020-03-02,16,16,0,0,0,0\\nAS,2020-03-02,3,3,0,0,0,0\\nCB,2020-03-02,0,0,0,0,0,0\\nCE,2020-03-02,0,0,0,0,0,0\\nCL,2020-03-02,38,37,1,0,0,0\\nCM,2020-03-02,60,49,7,0,4,0\\nCN,2020-03-02,11,11,0,0,0,0\\nCT,2020-03-02,84,78,0,0,1,5\\nEX,2020-03-02,6,6,0,0,0,0\\nGA,2020-03-02,19,19,0,0,0,0\\nIB,2020-03-02,6,6,0,0,0,0\\nMC,2020-03-02,7,6,1,0,0,0\\nMD,2020-03-02,389,387,0,2,0,0\\nML,2020-03-02,0,0,0,0,0,0\\nNC,2020-03-02,11,11,0,0,0,0\\nPV,2020-03-02,55,55,0,0,0,0\\nRI,2020-03-02,30,29,1,0,0,0\\nVC,2020-03-02,38,36,1,0,0,1\\nAN,2020-03-03,37,37,0,0,0,0\\nAR,2020-03-03,7,7,0,0,0,0\\nAS,2020-03-03,2,2,0,0,0,0\\nCB,2020-03-03,0,0,0,0,0,0\\nCE,2020-03-03,1,1,0,0,0,0\\nCL,2020-03-03,29,29,0,0,0,0\\nCM,2020-03-03,50,44,6,0,0,0\\nCN,2020-03-03,9,9,0,0,0,0\\nCT,2020-03-03,92,87,0,0,0,5\\nEX,2020-03-03,4,3,1,0,0,0\\nGA,2020-03-03,16,16,0,0,0,0\\nIB,2020-03-03,8,8,0,0,0,0\\nMC,2020-03-03,3,3,0,0,0,0\\nMD,2020-03-03,408,408,0,0,0,0\\nML,2020-03-03,0,0,0,0,0,0\\nNC,2020-03-03,14,14,0,0,0,0\\nPV,2020-03-03,59,58,0,1,0,0\\nRI,2020-03-03,29,28,1,0,0,0\\nVC,2020-03-03,28,26,0,0,0,2\\nAN,2020-03-04,32,32,0,0,0,0\\nAR,2020-03-04,14,14,0,0,0,0\\nAS,2020-03-04,2,2,0,0,0,0\\nCB,2020-03-04,0,0,0,0,0,0\\nCE,2020-03-04,0,0,0,0,0,0\\nCL,2020-03-04,33,31,2,0,0,0\\nCM,2020-03-04,54,48,4,0,2,0\\nCN,2020-03-04,16,16,0,0,0,0\\nCT,2020-03-04,158,150,0,0,2,6\\nEX,2020-03-04,5,5,0,0,0,0\\nGA,2020-03-04,13,13,0,0,0,0\\nIB,2020-03-04,5,5,0,0,0,0\\nMC,2020-03-04,5,5,0,0,0,0\\nMD,2020-03-04,474,474,0,0,0,0\\nML,2020-03-04,0,0,0,0,0,0\\nNC,2020-03-04,18,18,0,0,0,0\\nPV,2020-03-04,69,69,0,0,0,0\\nRI,2020-03-04,25,25,0,0,0,0\\nVC,2020-03-04,35,35,0,0,0,0\\nAN,2020-03-05,57,57,0,0,0,0\\nAR,2020-03-05,15,15,0,0,0,0\\nAS,2020-03-05,5,5,0,0,0,0\\nCB,2020-03-05,0,0,0,0,0,0\\nCE,2020-03-05,0,0,0,0,0,0\\nCL,2020-03-05,46,46,0,0,0,0\\nCM,2020-03-05,71,68,2,0,1,0\\nCN,2020-03-05,16,16,0,0,0,0\\nCT,2020-03-05,189,181,0,0,3,5\\nEX,2020-03-05,5,5,0,0,0,0\\nGA,2020-03-05,18,18,0,0,0,0\\nIB,2020-03-05,12,12,0,0,0,0\\nMC,2020-03-05,12,10,2,0,0,0\\nMD,2020-03-05,673,670,0,3,0,0\\nML,2020-03-05,1,1,0,0,0,0\\nNC,2020-03-05,19,19,0,0,0,0\\nPV,2020-03-05,75,75,0,0,0,0\\nRI,2020-03-05,27,27,0,0,0,0\\nVC,2020-03-05,47,47,0,0,0,0\\nAN,2020-03-06,69,67,2,0,0,0\\nAR,2020-03-06,15,15,0,0,0,0\\nAS,2020-03-06,12,12,0,0,0,0\\nCB,2020-03-06,9,9,0,0,0,0\\nCE,2020-03-06,0,0,0,0,0,0\\nCL,2020-03-06,51,50,1,0,0,0\\nCM,2020-03-06,97,91,6,0,0,0\\nCN,2020-03-06,23,23,0,0,0,0\\nCT,2020-03-06,271,258,0,0,4,9\\nEX,2020-03-06,11,11,0,0,0,0\\nGA,2020-03-06,25,25,0,0,0,0\\nIB,2020-03-06,10,10,0,0,0,0\\nMC,2020-03-06,10,10,0,0,0,0\\nMD,2020-03-06,811,811,0,0,0,0\\nML,2020-03-06,1,1,0,0,0,0\\nNC,2020-03-06,19,19,0,0,0,0\\nPV,2020-03-06,81,80,0,1,0,0\\nRI,2020-03-06,45,44,1,0,0,0\\nVC,2020-03-06,68,66,2,0,0,0\\nAN,2020-03-07,74,74,0,0,0,0\\nAR,2020-03-07,22,22,0,0,0,0\\nAS,2020-03-07,12,12,0,0,0,0\\nCB,2020-03-07,12,12,0,0,0,0\\nCE,2020-03-07,0,0,0,0,0,0\\nCL,2020-03-07,73,71,2,0,0,0\\nCM,2020-03-07,134,129,5,0,0,0\\nCN,2020-03-07,19,19,0,0,0,0\\nCT,2020-03-07,332,308,0,0,7,17\\nEX,2020-03-07,13,12,1,0,0,0\\nGA,2020-03-07,32,31,0,0,1,0\\nIB,2020-03-07,6,6,0,0,0,0\\nMC,2020-03-07,17,15,2,0,0,0\\nMD,2020-03-07,867,865,1,1,0,0\\nML,2020-03-07,3,3,0,0,0,0\\nNC,2020-03-07,43,42,1,0,0,0\\nPV,2020-03-07,90,88,0,0,0,2\\nRI,2020-03-07,39,38,1,0,0,0\\nVC,2020-03-07,73,71,1,0,0,1\\nAN,2020-03-08,80,80,0,0,0,0\\nAR,2020-03-08,38,37,0,0,0,1\\nAS,2020-03-08,14,14,0,0,0,0\\nCB,2020-03-08,17,17,0,0,0,0\\nCE,2020-03-08,1,1,0,0,0,0\\nCL,2020-03-08,70,70,0,0,0,0\\nCM,2020-03-08,142,136,6,0,0,0\\nCN,2020-03-08,33,33,0,0,0,0\\nCT,2020-03-08,349,339,0,0,0,10\\nEX,2020-03-08,15,13,2,0,0,0\\nGA,2020-03-08,35,35,0,0,0,0\\nIB,2020-03-08,14,13,1,0,0,0\\nMC,2020-03-08,15,14,1,0,0,0\\nMD,2020-03-08,1092,1091,0,1,0,0\\nML,2020-03-08,1,1,0,0,0,0\\nNC,2020-03-08,38,38,0,0,0,0\\nPV,2020-03-08,100,99,0,1,0,0\\nRI,2020-03-08,41,41,0,0,0,0\\nVC,2020-03-08,103,101,2,0,0,0\\nAN,2020-03-09,161,161,0,0,0,0\\nAR,2020-03-09,38,38,0,0,0,0\\nAS,2020-03-09,32,32,0,0,0,0\\nCB,2020-03-09,9,9,0,0,0,0\\nCE,2020-03-09,0,0,0,0,0,0\\nCL,2020-03-09,150,147,3,0,0,0\\nCM,2020-03-09,200,190,10,0,0,0\\nCN,2020-03-09,46,46,0,0,0,0\\nCT,2020-03-09,636,605,0,0,7,24\\nEX,2020-03-09,31,30,1,0,0,0\\nGA,2020-03-09,80,80,0,0,0,0\\nIB,2020-03-09,16,16,0,0,0,0\\nMC,2020-03-09,25,24,1,0,0,0\\nMD,2020-03-09,1540,1539,0,1,0,0\\nML,2020-03-09,2,2,0,0,0,0\\nNC,2020-03-09,77,77,0,0,0,0\\nPV,2020-03-09,141,141,0,0,0,0\\nRI,2020-03-09,61,59,2,0,0,0\\nVC,2020-03-09,169,162,5,0,0,2\\nAN,2020-03-10,212,210,2,0,0,0\\nAR,2020-03-10,58,57,0,1,0,0\\nAS,2020-03-10,53,53,0,0,0,0\\nCB,2020-03-10,3,3,0,0,0,0\\nCE,2020-03-10,1,1,0,0,0,0\\nCL,2020-03-10,194,191,3,0,0,0\\nCM,2020-03-10,268,256,12,0,0,0\\nCN,2020-03-10,50,50,0,0,0,0\\nCT,2020-03-10,865,839,0,0,4,22\\nEX,2020-03-10,36,36,0,0,0,0\\nGA,2020-03-10,113,113,0,0,0,0\\nIB,2020-03-10,36,34,2,0,0,0\\nMC,2020-03-10,50,48,2,0,0,0\\nMD,2020-03-10,2066,2064,1,1,0,0\\nML,2020-03-10,5,5,0,0,0,0\\nNC,2020-03-10,84,84,0,0,0,0\\nPV,2020-03-10,226,225,0,1,0,0\\nRI,2020-03-10,88,88,0,0,0,0\\nVC,2020-03-10,278,272,5,0,0,1\\nAN,2020-03-11,252,250,2,0,0,0\\nAR,2020-03-11,67,67,0,0,0,0\\nAS,2020-03-11,43,43,0,0,0,0\\nCB,2020-03-11,17,17,0,0,0,0\\nCE,2020-03-11,2,2,0,0,0,0\\nCL,2020-03-11,228,221,7,0,0,0\\nCM,2020-03-11,303,288,14,0,1,0\\nCN,2020-03-11,59,58,0,0,0,1\\nCT,2020-03-11,805,781,0,0,4,20\\nEX,2020-03-11,59,57,2,0,0,0\\nGA,2020-03-11,131,130,0,0,1,0\\nIB,2020-03-11,42,41,1,0,0,0\\nMC,2020-03-11,60,58,2,0,0,0\\nMD,2020-03-11,1992,1992,0,0,0,0\\nML,2020-03-11,4,4,0,0,0,0\\nNC,2020-03-11,109,109,0,0,0,0\\nPV,2020-03-11,224,221,0,0,0,3\\nRI,2020-03-11,69,69,0,0,0,0\\nVC,2020-03-11,274,265,5,0,0,4\\nAN,2020-03-12,303,302,1,0,0,0\\nAR,2020-03-12,82,81,0,0,1,0\\nAS,2020-03-12,57,57,0,0,0,0\\nCB,2020-03-12,36,36,0,0,0,0\\nCE,2020-03-12,1,1,0,0,0,0\\nCL,2020-03-12,311,308,3,0,0,0\\nCM,2020-03-12,413,394,17,0,2,0\\nCN,2020-03-12,72,71,0,0,0,1\\nCT,2020-03-12,1102,1081,0,0,4,17\\nEX,2020-03-12,72,72,0,0,0,0\\nGA,2020-03-12,182,182,0,0,0,0\\nIB,2020-03-12,41,39,2,0,0,0\\nMC,2020-03-12,40,40,0,0,0,0\\nMD,2020-03-12,2392,2388,1,3,0,0\\nML,2020-03-12,2,2,0,0,0,0\\nNC,2020-03-12,140,140,0,0,0,0\\nPV,2020-03-12,268,265,0,1,0,2\\nRI,2020-03-12,72,72,0,0,0,0\\nVC,2020-03-12,365,359,4,0,0,2\\nAN,2020-03-13,455,448,7,0,0,0\\nAR,2020-03-13,120,120,0,0,0,0\\nAS,2020-03-13,70,70,0,0,0,0\\nCB,2020-03-13,54,54,0,0,0,0\\nCE,2020-03-13,6,6,0,0,0,0\\nCL,2020-03-13,451,445,6,0,0,0\\nCM,2020-03-13,585,546,36,0,3,0\\nCN,2020-03-13,107,107,0,0,0,0\\nCT,2020-03-13,1482,1434,0,0,7,41\\nEX,2020-03-13,83,81,2,0,0,0\\nGA,2020-03-13,247,246,0,0,1,0\\nIB,2020-03-13,61,61,0,0,0,0\\nMC,2020-03-13,74,70,4,0,0,0\\nMD,2020-03-13,2904,2901,0,3,0,0\\nML,2020-03-13,9,9,0,0,0,0\\nNC,2020-03-13,138,138,0,0,0,0\\nPV,2020-03-13,416,411,0,0,0,5\\nRI,2020-03-13,108,106,2,0,0,0\\nVC,2020-03-13,454,446,3,0,0,5\\nAN,2020-03-14,396,394,1,1,0,0\\nAR,2020-03-14,108,108,0,0,0,0\\nAS,2020-03-14,81,81,0,0,0,0\\nCB,2020-03-14,59,59,0,0,0,0\\nCE,2020-03-14,3,3,0,0,0,0\\nCL,2020-03-14,474,467,6,0,1,0\\nCM,2020-03-14,544,527,15,0,2,0\\nCN,2020-03-14,96,95,0,0,0,1\\nCT,2020-03-14,1471,1432,0,0,8,31\\nEX,2020-03-14,71,71,0,0,0,0\\nGA,2020-03-14,244,242,0,0,2,0\\nIB,2020-03-14,69,68,1,0,0,0\\nMC,2020-03-14,84,80,4,0,0,0\\nMD,2020-03-14,2621,2620,0,1,0,0\\nML,2020-03-14,3,3,0,0,0,0\\nNC,2020-03-14,121,121,0,0,0,0\\nPV,2020-03-14,419,411,0,3,0,5\\nRI,2020-03-14,137,136,1,0,0,0\\nVC,2020-03-14,463,453,3,0,0,7\\nAN,2020-03-15,415,411,4,0,0,0\\nAR,2020-03-15,128,128,0,0,0,0\\nAS,2020-03-15,89,89,0,0,0,0\\nCB,2020-03-15,68,68,0,0,0,0\\nCE,2020-03-15,1,1,0,0,0,0\\nCL,2020-03-15,481,471,10,0,0,0\\nCM,2020-03-15,749,692,52,0,5,0\\nCN,2020-03-15,99,97,0,0,0,2\\nCT,2020-03-15,1495,1444,0,0,16,35\\nEX,2020-03-15,62,62,0,0,0,0\\nGA,2020-03-15,273,273,0,0,0,0\\nIB,2020-03-15,83,83,0,0,0,0\\nMC,2020-03-15,75,71,3,0,1,0\\nMD,2020-03-15,2738,2738,0,0,0,0\\nML,2020-03-15,3,3,0,0,0,0\\nNC,2020-03-15,167,166,1,0,0,0\\nPV,2020-03-15,426,422,0,1,0,3\\nRI,2020-03-15,111,110,1,0,0,0\\nVC,2020-03-15,483,470,6,0,0,7\\nAN,2020-03-16,546,543,3,0,0,0\\nAR,2020-03-16,166,166,0,0,0,0\\nAS,2020-03-16,105,105,0,0,0,0\\nCB,2020-03-16,71,71,0,0,0,0\\nCE,2020-03-16,5,5,0,0,0,0\\nCL,2020-03-16,686,680,5,0,1,0\\nCM,2020-03-16,758,719,38,0,1,0\\nCN,2020-03-16,131,130,0,0,0,1\\nCT,2020-03-16,1851,1772,0,0,11,68\\nEX,2020-03-16,96,93,3,0,0,0\\nGA,2020-03-16,383,383,0,0,0,0\\nIB,2020-03-16,85,84,1,0,0,0\\nMC,2020-03-16,100,98,2,0,0,0\\nMD,2020-03-16,3014,3011,0,3,0,0\\nML,2020-03-16,4,3,0,1,0,0\\nNC,2020-03-16,156,156,0,0,0,0\\nPV,2020-03-16,583,580,0,1,0,2\\nRI,2020-03-16,156,154,2,0,0,0\\nVC,2020-03-16,593,579,11,0,0,3\\nAN,2020-03-17,547,542,5,0,0,0\\nAR,2020-03-17,159,158,0,0,1,0\\nAS,2020-03-17,80,80,0,0,0,0\\nCB,2020-03-17,76,76,0,0,0,0\\nCE,2020-03-17,4,4,0,0,0,0\\nCL,2020-03-17,665,653,11,0,1,0\\nCM,2020-03-17,686,636,47,0,2,1\\nCN,2020-03-17,101,100,0,0,0,1\\nCT,2020-03-17,1648,1604,0,0,12,32\\nEX,2020-03-17,96,94,2,0,0,0\\nGA,2020-03-17,328,327,0,0,1,0\\nIB,2020-03-17,79,79,0,0,0,0\\nMC,2020-03-17,79,78,1,0,0,0\\nMD,2020-03-17,2957,2956,0,1,0,0\\nML,2020-03-17,3,3,0,0,0,0\\nNC,2020-03-17,171,170,1,0,0,0\\nPV,2020-03-17,523,520,0,0,0,3\\nRI,2020-03-17,120,118,2,0,0,0\\nVC,2020-03-17,518,509,2,0,0,7\\nAN,2020-03-18,502,496,6,0,0,0\\nAR,2020-03-18,170,170,0,0,0,0\\nAS,2020-03-18,91,91,0,0,0,0\\nCB,2020-03-18,89,89,0,0,0,0\\nCE,2020-03-18,4,4,0,0,0,0\\nCL,2020-03-18,743,736,7,0,0,0\\nCM,2020-03-18,713,659,52,0,1,1\\nCN,2020-03-18,116,116,0,0,0,0\\nCT,2020-03-18,1829,1783,0,0,6,40\\nEX,2020-03-18,108,106,2,0,0,0\\nGA,2020-03-18,310,309,1,0,0,0\\nIB,2020-03-18,81,79,1,0,0,1\\nMC,2020-03-18,93,89,4,0,0,0\\nMD,2020-03-18,2755,2753,0,2,0,0\\nML,2020-03-18,6,6,0,0,0,0\\nNC,2020-03-18,178,176,2,0,0,0\\nPV,2020-03-18,546,544,0,0,0,2\\nRI,2020-03-18,142,142,0,0,0,0\\nVC,2020-03-18,499,481,10,0,0,8\\nAN,2020-03-19,534,529,4,1,0,0\\nAR,2020-03-19,170,170,0,0,0,0\\nAS,2020-03-19,101,101,0,0,0,0\\nCB,2020-03-19,178,178,0,0,0,0\\nCE,2020-03-19,3,3,0,0,0,0\\nCL,2020-03-19,806,800,6,0,0,0\\nCM,2020-03-19,694,636,56,0,2,0\\nCN,2020-03-19,75,75,0,0,0,0\\nCT,2020-03-19,1709,1654,0,0,6,49\\nEX,2020-03-19,107,104,3,0,0,0\\nGA,2020-03-19,290,289,0,0,1,0\\nIB,2020-03-19,103,102,1,0,0,0\\nMC,2020-03-19,81,80,1,0,0,0\\nMD,2020-03-19,2560,2556,1,3,0,0\\nML,2020-03-19,5,5,0,0,0,0\\nNC,2020-03-19,154,153,1,0,0,0\\nPV,2020-03-19,455,451,0,1,0,3\\nRI,2020-03-19,169,169,0,0,0,0\\nVC,2020-03-19,469,457,9,0,0,3\\nAN,2020-03-20,762,756,6,0,0,0\\nAR,2020-03-20,242,242,0,0,0,0\\nAS,2020-03-20,83,83,0,0,0,0\\nCB,2020-03-20,143,143,0,0,0,0\\nCE,2020-03-20,6,6,0,0,0,0\\nCL,2020-03-20,847,830,17,0,0,0\\nCM,2020-03-20,846,766,76,0,4,0\\nCN,2020-03-20,121,120,0,0,0,1\\nCT,2020-03-20,2067,2000,0,0,12,55\\nEX,2020-03-20,140,139,1,0,0,0\\nGA,2020-03-20,465,462,1,0,2,0\\nIB,2020-03-20,97,95,2,0,0,0\\nMC,2020-03-20,92,88,4,0,0,0\\nMD,2020-03-20,3219,3216,2,1,0,0\\nML,2020-03-20,4,4,0,0,0,0\\nNC,2020-03-20,231,230,1,0,0,0\\nPV,2020-03-20,588,583,0,0,0,5\\nRI,2020-03-20,190,190,0,0,0,0\\nVC,2020-03-20,527,511,12,0,0,4\\nAN,2020-03-21,523,519,4,0,0,0\\nAR,2020-03-21,178,178,0,0,0,0\\nAS,2020-03-21,68,68,0,0,0,0\\nCB,2020-03-21,99,99,0,0,0,0\\nCE,2020-03-21,6,6,0,0,0,0\\nCL,2020-03-21,705,695,10,0,0,0\\nCM,2020-03-21,562,519,43,0,0,0\\nCN,2020-03-21,75,75,0,0,0,0\\nCT,2020-03-21,1548,1511,0,0,10,27\\nEX,2020-03-21,115,111,4,0,0,0\\nGA,2020-03-21,267,264,0,0,3,0\\nIB,2020-03-21,62,61,1,0,0,0\\nMC,2020-03-21,70,67,3,0,0,0\\nMD,2020-03-21,2019,2016,2,1,0,0\\nML,2020-03-21,3,3,0,0,0,0\\nNC,2020-03-21,152,152,0,0,0,0\\nPV,2020-03-21,430,425,0,2,0,3\\nRI,2020-03-21,134,134,0,0,0,0\\nVC,2020-03-21,423,412,7,0,0,4\\nAN,2020-03-22,492,483,9,0,0,0\\nAR,2020-03-22,169,167,0,2,0,0\\nAS,2020-03-22,76,76,0,0,0,0\\nCB,2020-03-22,84,84,0,0,0,0\\nCE,2020-03-22,7,7,0,0,0,0\\nCL,2020-03-22,650,636,14,0,0,0\\nCM,2020-03-22,586,522,64,0,0,0\\nCN,2020-03-22,73,73,0,0,0,0\\nCT,2020-03-22,1411,1369,0,0,2,40\\nEX,2020-03-22,117,115,2,0,0,0\\nGA,2020-03-22,242,241,0,0,1,0\\nIB,2020-03-22,90,90,0,0,0,0\\nMC,2020-03-22,65,65,0,0,0,0\\nMD,2020-03-22,1701,1699,2,0,0,0\\nML,2020-03-22,5,5,0,0,0,0\\nNC,2020-03-22,142,141,1,0,0,0\\nPV,2020-03-22,387,384,0,0,0,3\\nRI,2020-03-22,108,108,0,0,0,0\\nVC,2020-03-22,375,364,6,0,0,5\\nAN,2020-03-23,535,534,1,0,0,0\\nAR,2020-03-23,269,268,0,1,0,0\\nAS,2020-03-23,70,70,0,0,0,0\\nCB,2020-03-23,88,88,0,0,0,0\\nCE,2020-03-23,3,3,0,0,0,0\\nCL,2020-03-23,687,667,20,0,0,0\\nCM,2020-03-23,667,593,74,0,0,0\\nCN,2020-03-23,99,99,0,0,0,0\\nCT,2020-03-23,1661,1603,0,0,17,41\\nEX,2020-03-23,210,207,3,0,0,0\\nGA,2020-03-23,375,373,1,0,1,0\\nIB,2020-03-23,81,79,2,0,0,0\\nMC,2020-03-23,103,102,1,0,0,0\\nMD,2020-03-23,2202,2200,1,1,0,0\\nML,2020-03-23,5,5,0,0,0,0\\nNC,2020-03-23,164,161,3,0,0,0\\nPV,2020-03-23,469,463,0,2,0,4\\nRI,2020-03-23,158,156,1,0,0,1\\nVC,2020-03-23,441,431,8,0,0,2\\nAN,2020-03-24,476,467,9,0,0,0\\nAR,2020-03-24,193,193,0,0,0,0\\nAS,2020-03-24,58,58,0,0,0,0\\nCB,2020-03-24,58,58,0,0,0,0\\nCE,2020-03-24,7,7,0,0,0,0\\nCL,2020-03-24,579,556,22,0,1,0\\nCM,2020-03-24,542,471,71,0,0,0\\nCN,2020-03-24,54,53,0,0,0,1\\nCT,2020-03-24,1503,1454,0,0,6,43\\nEX,2020-03-24,138,137,1,0,0,0\\nGA,2020-03-24,287,285,0,0,2,0\\nIB,2020-03-24,65,65,0,0,0,0\\nMC,2020-03-24,62,61,1,0,0,0\\nMD,2020-03-24,2084,2082,1,1,0,0\\nML,2020-03-24,1,1,0,0,0,0\\nNC,2020-03-24,200,198,2,0,0,0\\nPV,2020-03-24,385,377,0,2,0,6\\nRI,2020-03-24,119,119,0,0,0,0\\nVC,2020-03-24,321,306,10,0,0,5\\nAN,2020-03-25,497,491,6,0,0,0\\nAR,2020-03-25,189,188,0,1,0,0\\nAS,2020-03-25,57,57,0,0,0,0\\nCB,2020-03-25,57,57,0,0,0,0\\nCE,2020-03-25,7,7,0,0,0,0\\nCL,2020-03-25,612,597,15,0,0,0\\nCM,2020-03-25,536,443,90,0,3,0\\nCN,2020-03-25,57,57,0,0,0,0\\nCT,2020-03-25,1435,1401,0,0,5,29\\nEX,2020-03-25,126,122,4,0,0,0\\nGA,2020-03-25,286,282,2,0,2,0\\nIB,2020-03-25,82,80,2,0,0,0\\nMC,2020-03-25,69,69,0,0,0,0\\nMD,2020-03-25,1839,1837,1,1,0,0\\nML,2020-03-25,3,3,0,0,0,0\\nNC,2020-03-25,187,182,5,0,0,0\\nPV,2020-03-25,397,390,0,0,0,7\\nRI,2020-03-25,130,130,0,0,0,0\\nVC,2020-03-25,386,363,11,0,0,12\\nAN,2020-03-26,440,433,6,0,1,0\\nAR,2020-03-26,169,169,0,0,0,0\\nAS,2020-03-26,77,77,0,0,0,0\\nCB,2020-03-26,39,39,0,0,0,0\\nCE,2020-03-26,4,4,0,0,0,0\\nCL,2020-03-26,499,482,17,0,0,0\\nCM,2020-03-26,547,477,68,0,1,1\\nCN,2020-03-26,63,62,0,0,0,1\\nCT,2020-03-26,1501,1471,0,0,3,27\\nEX,2020-03-26,125,121,4,0,0,0\\nGA,2020-03-26,290,289,0,0,1,0\\nIB,2020-03-26,70,68,2,0,0,0\\nMC,2020-03-26,36,36,0,0,0,0\\nMD,2020-03-26,1621,1620,1,0,0,0\\nML,2020-03-26,5,5,0,0,0,0\\nNC,2020-03-26,121,117,4,0,0,0\\nPV,2020-03-26,355,351,0,2,0,2\\nRI,2020-03-26,118,116,2,0,0,0\\nVC,2020-03-26,284,272,10,0,0,2\\nAN,2020-03-27,402,392,10,0,0,0\\nAR,2020-03-27,213,213,0,0,0,0\\nAS,2020-03-27,69,69,0,0,0,0\\nCB,2020-03-27,74,74,0,0,0,0\\nCE,2020-03-27,1,1,0,0,0,0\\nCL,2020-03-27,467,457,10,0,0,0\\nCM,2020-03-27,423,338,82,0,3,0\\nCN,2020-03-27,66,66,0,0,0,0\\nCT,2020-03-27,1391,1347,0,0,9,35\\nEX,2020-03-27,91,91,0,0,0,0\\nGA,2020-03-27,295,291,1,0,3,0\\nIB,2020-03-27,38,37,1,0,0,0\\nMC,2020-03-27,39,37,2,0,0,0\\nMD,2020-03-27,1551,1547,1,3,0,0\\nML,2020-03-27,5,5,0,0,0,0\\nNC,2020-03-27,116,115,1,0,0,0\\nPV,2020-03-27,392,389,0,0,0,3\\nRI,2020-03-27,131,129,2,0,0,0\\nVC,2020-03-27,307,294,2,1,0,10\\nAN,2020-03-28,297,292,5,0,0,0\\nAR,2020-03-28,148,148,0,0,0,0\\nAS,2020-03-28,53,53,0,0,0,0\\nCB,2020-03-28,68,68,0,0,0,0\\nCE,2020-03-28,4,4,0,0,0,0\\nCL,2020-03-28,471,461,10,0,0,0\\nCM,2020-03-28,391,324,66,0,1,0\\nCN,2020-03-28,38,37,0,0,0,1\\nCT,2020-03-28,1414,1377,0,0,7,30\\nEX,2020-03-28,75,72,3,0,0,0\\nGA,2020-03-28,338,337,0,0,1,0\\nIB,2020-03-28,35,32,3,0,0,0\\nMC,2020-03-28,31,29,2,0,0,0\\nMD,2020-03-28,1278,1277,0,1,0,0\\nML,2020-03-28,3,3,0,0,0,0\\nNC,2020-03-28,109,108,1,0,0,0\\nPV,2020-03-28,285,280,0,4,0,1\\nRI,2020-03-28,103,103,0,0,0,0\\nVC,2020-03-28,227,219,2,0,0,6\\nAN,2020-03-29,325,318,7,0,0,0\\nAR,2020-03-29,138,137,0,1,0,0\\nAS,2020-03-29,42,42,0,0,0,0\\nCB,2020-03-29,39,39,0,0,0,0\\nCE,2020-03-29,7,7,0,0,0,0\\nCL,2020-03-29,393,388,5,0,0,0\\nCM,2020-03-29,375,321,54,0,0,0\\nCN,2020-03-29,38,38,0,0,0,0\\nCT,2020-03-29,1063,1026,0,0,7,30\\nEX,2020-03-29,51,51,0,0,0,0\\nGA,2020-03-29,199,199,0,0,0,0\\nIB,2020-03-29,37,36,1,0,0,0\\nMC,2020-03-29,25,23,2,0,0,0\\nMD,2020-03-29,903,901,2,0,0,0\\nML,2020-03-29,5,5,0,0,0,0\\nNC,2020-03-29,79,79,0,0,0,0\\nPV,2020-03-29,245,240,0,2,0,3\\nRI,2020-03-29,90,88,2,0,0,0\\nVC,2020-03-29,197,183,8,0,0,6\\nAN,2020-03-30,308,300,8,0,0,0\\nAR,2020-03-30,135,135,0,0,0,0\\nAS,2020-03-30,44,44,0,0,0,0\\nCB,2020-03-30,28,28,0,0,0,0\\nCE,2020-03-30,3,3,0,0,0,0\\nCL,2020-03-30,443,426,17,0,0,0\\nCM,2020-03-30,458,381,75,0,2,0\\nCN,2020-03-30,57,56,0,0,0,1\\nCT,2020-03-30,1250,1199,0,0,11,40\\nEX,2020-03-30,69,64,5,0,0,0\\nGA,2020-03-30,250,249,0,0,1,0\\nIB,2020-03-30,63,61,2,0,0,0\\nMC,2020-03-30,30,26,4,0,0,0\\nMD,2020-03-30,1144,1142,1,1,0,0\\nML,2020-03-30,3,3,0,0,0,0\\nNC,2020-03-30,213,211,2,0,0,0\\nPV,2020-03-30,310,306,0,2,0,2\\nRI,2020-03-30,114,114,0,0,0,0\\nVC,2020-03-30,234,223,6,0,0,5\\nAN,2020-03-31,249,244,5,0,0,0\\nAR,2020-03-31,117,117,0,0,0,0\\nAS,2020-03-31,42,42,0,0,0,0\\nCB,2020-03-31,33,33,0,0,0,0\\nCE,2020-03-31,1,1,0,0,0,0\\nCL,2020-03-31,371,360,11,0,0,0\\nCM,2020-03-31,299,231,66,0,2,0\\nCN,2020-03-31,22,22,0,0,0,0\\nCT,2020-03-31,1229,1198,0,0,4,27\\nEX,2020-03-31,42,39,3,0,0,0\\nGA,2020-03-31,159,157,2,0,0,0\\nIB,2020-03-31,47,45,2,0,0,0\\nMC,2020-03-31,23,23,0,0,0,0\\nMD,2020-03-31,1131,1130,1,0,0,0\\nML,2020-03-31,3,3,0,0,0,0\\nNC,2020-03-31,127,125,2,0,0,0\\nPV,2020-03-31,259,249,0,4,0,6\\nRI,2020-03-31,107,106,1,0,0,0\\nVC,2020-03-31,163,153,6,0,0,4\\nAN,2020-04-01,333,325,8,0,0,0\\nAR,2020-04-01,159,159,0,0,0,0\\nAS,2020-04-01,29,29,0,0,0,0\\nCB,2020-04-01,72,72,0,0,0,0\\nCE,2020-04-01,2,2,0,0,0,0\\nCL,2020-04-01,475,451,24,0,0,0\\nCM,2020-04-01,347,250,96,0,1,0\\nCN,2020-04-01,58,57,0,0,0,1\\nCT,2020-04-01,1374,1339,0,0,9,26\\nEX,2020-04-01,96,90,6,0,0,0\\nGA,2020-04-01,246,242,1,0,3,0\\nIB,2020-04-01,83,81,2,0,0,0\\nMC,2020-04-01,23,19,4,0,0,0\\nMD,2020-04-01,1394,1393,1,0,0,0\\nML,2020-04-01,5,5,0,0,0,0\\nNC,2020-04-01,197,195,2,0,0,0\\nPV,2020-04-01,276,270,0,2,0,4\\nRI,2020-04-01,109,107,1,0,0,1\\nVC,2020-04-01,214,202,10,0,0,2\\nAN,2020-04-02,225,218,7,0,0,0\\nAR,2020-04-02,130,130,0,0,0,0\\nAS,2020-04-02,53,53,0,0,0,0\\nCB,2020-04-02,53,52,1,0,0,0\\nCE,2020-04-02,0,0,0,0,0,0\\nCL,2020-04-02,454,445,8,0,0,1\\nCM,2020-04-02,264,198,64,0,1,1\\nCN,2020-04-02,30,29,0,0,0,1\\nCT,2020-04-02,1154,1128,0,0,3,23\\nEX,2020-04-02,60,52,8,0,0,0\\nGA,2020-04-02,269,266,0,0,3,0\\nIB,2020-04-02,35,34,1,0,0,0\\nMC,2020-04-02,20,20,0,0,0,0\\nMD,2020-04-02,1044,1044,0,0,0,0\\nML,2020-04-02,3,3,0,0,0,0\\nNC,2020-04-02,128,126,2,0,0,0\\nPV,2020-04-02,243,240,0,0,0,3\\nRI,2020-04-02,103,103,0,0,0,0\\nVC,2020-04-02,194,184,5,0,0,5\\nAN,2020-04-03,178,173,5,0,0,0\\nAR,2020-04-03,109,109,0,0,0,0\\nAS,2020-04-03,37,37,0,0,0,0\\nCB,2020-04-03,34,34,0,0,0,0\\nCE,2020-04-03,1,1,0,0,0,0\\nCL,2020-04-03,506,492,14,0,0,0\\nCM,2020-04-03,241,177,64,0,0,0\\nCN,2020-04-03,17,17,0,0,0,0\\nCT,2020-04-03,1335,1311,0,0,3,21\\nEX,2020-04-03,67,66,1,0,0,0\\nGA,2020-04-03,209,209,0,0,0,0\\nIB,2020-04-03,45,43,2,0,0,0\\nMC,2020-04-03,16,14,2,0,0,0\\nMD,2020-04-03,963,960,0,3,0,0\\nML,2020-04-03,3,3,0,0,0,0\\nNC,2020-04-03,128,126,2,0,0,0\\nPV,2020-04-03,313,310,0,0,0,3\\nRI,2020-04-03,79,76,3,0,0,0\\nVC,2020-04-03,195,189,5,0,0,1\\nAN,2020-04-04,179,169,10,0,0,0\\nAR,2020-04-04,96,95,0,1,0,0\\nAS,2020-04-04,45,45,0,0,0,0\\nCB,2020-04-04,63,63,0,0,0,0\\nCE,2020-04-04,2,2,0,0,0,0\\nCL,2020-04-04,509,492,17,0,0,0\\nCM,2020-04-04,271,212,59,0,0,0\\nCN,2020-04-04,26,26,0,0,0,0\\nCT,2020-04-04,1034,1017,0,0,2,15\\nEX,2020-04-04,52,47,5,0,0,0\\nGA,2020-04-04,130,130,0,0,0,0\\nIB,2020-04-04,25,23,2,0,0,0\\nMC,2020-04-04,20,19,1,0,0,0\\nMD,2020-04-04,751,750,0,1,0,0\\nML,2020-04-04,2,2,0,0,0,0\\nNC,2020-04-04,80,76,4,0,0,0\\nPV,2020-04-04,203,200,0,1,0,2\\nRI,2020-04-04,56,54,2,0,0,0\\nVC,2020-04-04,133,122,5,0,0,6\\nAN,2020-04-05,173,167,6,0,0,0\\nAR,2020-04-05,98,96,0,1,1,0\\nAS,2020-04-05,44,44,0,0,0,0\\nCB,2020-04-05,25,25,0,0,0,0\\nCE,2020-04-05,2,2,0,0,0,0\\nCL,2020-04-05,332,318,14,0,0,0\\nCM,2020-04-05,293,224,66,0,1,2\\nCN,2020-04-05,14,14,0,0,0,0\\nCT,2020-04-05,903,889,0,0,0,14\\nEX,2020-04-05,31,25,5,1,0,0\\nGA,2020-04-05,129,127,1,0,1,0\\nIB,2020-04-05,29,27,2,0,0,0\\nMC,2020-04-05,12,11,1,0,0,0\\nMD,2020-04-05,672,671,0,1,0,0\\nML,2020-04-05,0,0,0,0,0,0\\nNC,2020-04-05,86,86,0,0,0,0\\nPV,2020-04-05,221,218,0,1,0,2\\nRI,2020-04-05,38,36,1,0,0,1\\nVC,2020-04-05,116,108,5,0,0,3\\nAN,2020-04-06,147,142,5,0,0,0\\nAR,2020-04-06,132,128,0,4,0,0\\nAS,2020-04-06,44,44,0,0,0,0\\nCB,2020-04-06,28,27,1,0,0,0\\nCE,2020-04-06,2,2,0,0,0,0\\nCL,2020-04-06,485,462,23,0,0,0\\nCM,2020-04-06,303,232,69,0,2,0\\nCN,2020-04-06,21,21,0,0,0,0\\nCT,2020-04-06,851,812,0,0,2,37\\nEX,2020-04-06,41,37,4,0,0,0\\nGA,2020-04-06,181,180,1,0,0,0\\nIB,2020-04-06,23,21,2,0,0,0\\nMC,2020-04-06,12,8,4,0,0,0\\nMD,2020-04-06,651,650,1,0,0,0\\nML,2020-04-06,0,0,0,0,0,0\\nNC,2020-04-06,136,132,4,0,0,0\\nPV,2020-04-06,293,285,0,5,0,3\\nRI,2020-04-06,42,42,0,0,0,0\\nVC,2020-04-06,152,137,11,0,0,4\\nAN,2020-04-07,172,164,8,0,0,0\\nAR,2020-04-07,110,109,0,1,0,0\\nAS,2020-04-07,45,45,0,0,0,0\\nCB,2020-04-07,13,13,0,0,0,0\\nCE,2020-04-07,0,0,0,0,0,0\\nCL,2020-04-07,355,327,28,0,0,0\\nCM,2020-04-07,206,150,56,0,0,0\\nCN,2020-04-07,17,16,0,0,0,1\\nCT,2020-04-07,813,781,0,0,1,31\\nEX,2020-04-07,29,28,1,0,0,0\\nGA,2020-04-07,147,143,0,0,4,0\\nIB,2020-04-07,19,18,1,0,0,0\\nMC,2020-04-07,4,3,1,0,0,0\\nMD,2020-04-07,768,766,0,2,0,0\\nML,2020-04-07,2,2,0,0,0,0\\nNC,2020-04-07,85,84,1,0,0,0\\nPV,2020-04-07,233,224,0,3,0,6\\nRI,2020-04-07,50,49,1,0,0,0\\nVC,2020-04-07,132,124,7,0,0,1\\nAN,2020-04-08,145,134,11,0,0,0\\nAR,2020-04-08,109,109,0,0,0,0\\nAS,2020-04-08,48,48,0,0,0,0\\nCB,2020-04-08,27,27,0,0,0,0\\nCE,2020-04-08,0,0,0,0,0,0\\nCL,2020-04-08,384,372,12,0,0,0\\nCM,2020-04-08,207,158,48,0,0,1\\nCN,2020-04-08,12,11,0,0,0,1\\nCT,2020-04-08,1104,1090,0,0,3,11\\nEX,2020-04-08,42,36,6,0,0,0\\nGA,2020-04-08,151,149,1,0,1,0\\nIB,2020-04-08,23,22,1,0,0,0\\nMC,2020-04-08,18,16,2,0,0,0\\nMD,2020-04-08,711,709,0,2,0,0\\nML,2020-04-08,0,0,0,0,0,0\\nNC,2020-04-08,93,93,0,0,0,0\\nPV,2020-04-08,224,219,0,0,0,5\\nRI,2020-04-08,47,37,10,0,0,0\\nVC,2020-04-08,137,125,8,0,0,4\\nAN,2020-04-09,94,87,7,0,0,0\\nAR,2020-04-09,100,90,0,1,0,9\\nAS,2020-04-09,42,42,0,0,0,0\\nCB,2020-04-09,23,23,0,0,0,0\\nCE,2020-04-09,2,2,0,0,0,0\\nCL,2020-04-09,381,355,26,0,0,0\\nCM,2020-04-09,175,125,48,0,2,0\\nCN,2020-04-09,21,21,0,0,0,0\\nCT,2020-04-09,1142,1118,0,0,1,23\\nEX,2020-04-09,22,19,3,0,0,0\\nGA,2020-04-09,160,157,3,0,0,0\\nIB,2020-04-09,11,8,3,0,0,0\\nMC,2020-04-09,7,6,1,0,0,0\\nMD,2020-04-09,657,654,0,3,0,0\\nML,2020-04-09,0,0,0,0,0,0\\nNC,2020-04-09,80,79,1,0,0,0\\nPV,2020-04-09,193,193,0,0,0,0\\nRI,2020-04-09,47,40,5,0,0,2\\nVC,2020-04-09,134,116,12,0,0,6\\nAN,2020-04-10,103,95,8,0,0,0\\nAR,2020-04-10,99,73,0,1,1,24\\nAS,2020-04-10,59,59,0,0,0,0\\nCB,2020-04-10,29,29,0,0,0,0\\nCE,2020-04-10,1,1,0,0,0,0\\nCL,2020-04-10,351,328,23,0,0,0\\nCM,2020-04-10,156,110,46,0,0,0\\nCN,2020-04-10,14,14,0,0,0,0\\nCT,2020-04-10,1088,1057,0,0,3,28\\nEX,2020-04-10,47,39,8,0,0,0\\nGA,2020-04-10,75,73,2,0,0,0\\nIB,2020-04-10,21,17,4,0,0,0\\nMC,2020-04-10,7,6,1,0,0,0\\nMD,2020-04-10,731,731,0,0,0,0\\nML,2020-04-10,1,1,0,0,0,0\\nNC,2020-04-10,70,69,1,0,0,0\\nPV,2020-04-10,184,176,0,1,0,7\\nRI,2020-04-10,40,38,2,0,0,0\\nVC,2020-04-10,104,96,8,0,0,0\\nAN,2020-04-11,108,97,10,1,0,0\\nAR,2020-04-11,69,57,0,2,0,10\\nAS,2020-04-11,51,51,0,0,0,0\\nCB,2020-04-11,24,24,0,0,0,0\\nCE,2020-04-11,0,0,0,0,0,0\\nCL,2020-04-11,336,311,25,0,0,0\\nCM,2020-04-11,116,80,36,0,0,0\\nCN,2020-04-11,13,13,0,0,0,0\\nCT,2020-04-11,1169,1157,0,0,2,10\\nEX,2020-04-11,30,27,3,0,0,0\\nGA,2020-04-11,67,65,0,0,2,0\\nIB,2020-04-11,15,14,1,0,0,0\\nMC,2020-04-11,7,5,2,0,0,0\\nMD,2020-04-11,598,598,0,0,0,0\\nML,2020-04-11,0,0,0,0,0,0\\nNC,2020-04-11,46,45,1,0,0,0\\nPV,2020-04-11,132,124,0,3,0,5\\nRI,2020-04-11,26,24,2,0,0,0\\nVC,2020-04-11,84,77,4,0,0,3\\nAN,2020-04-12,89,83,6,0,0,0\\nAR,2020-04-12,57,53,0,1,0,3\\nAS,2020-04-12,24,24,0,0,0,0\\nCB,2020-04-12,46,46,0,0,0,0\\nCE,2020-04-12,0,0,0,0,0,0\\nCL,2020-04-12,179,160,19,0,0,0\\nCM,2020-04-12,146,113,33,0,0,0\\nCN,2020-04-12,8,8,0,0,0,0\\nCT,2020-04-12,799,776,0,0,3,20\\nEX,2020-04-12,26,21,5,0,0,0\\nGA,2020-04-12,63,61,1,0,1,0\\nIB,2020-04-12,15,15,0,0,0,0\\nMC,2020-04-12,4,3,1,0,0,0\\nMD,2020-04-12,513,513,0,0,0,0\\nML,2020-04-12,1,1,0,0,0,0\\nNC,2020-04-12,59,59,0,0,0,0\\nPV,2020-04-12,151,142,0,4,0,5\\nRI,2020-04-12,22,22,0,0,0,0\\nVC,2020-04-12,71,65,4,0,0,2\\nAN,2020-04-13,80,75,4,0,1,0\\nAR,2020-04-13,85,74,0,1,0,10\\nAS,2020-04-13,31,31,0,0,0,0\\nCB,2020-04-13,35,35,0,0,0,0\\nCE,2020-04-13,1,1,0,0,0,0\\nCL,2020-04-13,258,237,21,0,0,0\\nCM,2020-04-13,181,140,40,0,1,0\\nCN,2020-04-13,10,10,0,0,0,0\\nCT,2020-04-13,687,662,0,0,2,23\\nEX,2020-04-13,35,24,11,0,0,0\\nGA,2020-04-13,105,104,1,0,0,0\\nIB,2020-04-13,13,10,3,0,0,0\\nMC,2020-04-13,1,0,1,0,0,0\\nMD,2020-04-13,403,398,0,5,0,0\\nML,2020-04-13,1,1,0,0,0,0\\nNC,2020-04-13,59,56,3,0,0,0\\nPV,2020-04-13,117,111,0,2,0,4\\nRI,2020-04-13,29,28,1,0,0,0\\nVC,2020-04-13,71,64,4,0,0,3\\nAN,2020-04-14,67,56,11,0,0,0\\nAR,2020-04-14,59,45,0,0,0,14\\nAS,2020-04-14,30,30,0,0,0,0\\nCB,2020-04-14,14,14,0,0,0,0\\nCE,2020-04-14,0,0,0,0,0,0\\nCL,2020-04-14,228,201,27,0,0,0\\nCM,2020-04-14,143,101,42,0,0,0\\nCN,2020-04-14,14,14,0,0,0,0\\nCT,2020-04-14,846,828,0,0,4,14\\nEX,2020-04-14,32,28,4,0,0,0\\nGA,2020-04-14,67,64,1,0,2,0\\nIB,2020-04-14,9,8,1,0,0,0\\nMC,2020-04-14,3,3,0,0,0,0\\nMD,2020-04-14,516,515,0,1,0,0\\nML,2020-04-14,0,0,0,0,0,0\\nNC,2020-04-14,49,48,1,0,0,0\\nPV,2020-04-14,93,90,0,3,0,0\\nRI,2020-04-14,25,24,1,0,0,0\\nVC,2020-04-14,70,64,4,0,0,2\\nAN,2020-04-15,107,97,10,0,0,0\\nAR,2020-04-15,82,64,0,0,0,18\\nAS,2020-04-15,39,39,0,0,0,0\\nCB,2020-04-15,17,17,0,0,0,0\\nCE,2020-04-15,0,0,0,0,0,0\\nCL,2020-04-15,187,174,13,0,0,0\\nCM,2020-04-15,138,105,33,0,0,0\\nCN,2020-04-15,15,15,0,0,0,0\\nCT,2020-04-15,926,915,0,0,2,9\\nEX,2020-04-15,28,26,2,0,0,0\\nGA,2020-04-15,101,97,2,0,2,0\\nIB,2020-04-15,8,5,3,0,0,0\\nMC,2020-04-15,3,3,0,0,0,0\\nMD,2020-04-15,507,506,0,1,0,0\\nML,2020-04-15,0,0,0,0,0,0\\nNC,2020-04-15,35,35,0,0,0,0\\nPV,2020-04-15,108,102,0,3,0,3\\nRI,2020-04-15,14,14,0,0,0,0\\nVC,2020-04-15,80,73,6,0,0,1\\nAN,2020-04-16,58,49,9,0,0,0\\nAR,2020-04-16,71,56,1,1,0,13\\nAS,2020-04-16,12,12,0,0,0,0\\nCB,2020-04-16,18,18,0,0,0,0\\nCE,2020-04-16,1,1,0,0,0,0\\nCL,2020-04-16,159,144,15,0,0,0\\nCM,2020-04-16,98,66,32,0,0,0\\nCN,2020-04-16,13,13,0,0,0,0\\nCT,2020-04-16,923,913,0,0,1,9\\nEX,2020-04-16,25,23,1,1,0,0\\nGA,2020-04-16,73,70,1,0,2,0\\nIB,2020-04-16,14,14,0,0,0,0\\nMC,2020-04-16,1,1,0,0,0,0\\nMD,2020-04-16,602,602,0,0,0,0\\nML,2020-04-16,0,0,0,0,0,0\\nNC,2020-04-16,31,30,1,0,0,0\\nPV,2020-04-16,111,108,0,1,0,2\\nRI,2020-04-16,30,29,1,0,0,0\\nVC,2020-04-16,60,54,6,0,0,0\\nAN,2020-04-17,70,66,4,0,0,0\\nAR,2020-04-17,59,54,0,0,0,5\\nAS,2020-04-17,12,12,0,0,0,0\\nCB,2020-04-17,26,26,0,0,0,0\\nCE,2020-04-17,0,0,0,0,0,0\\nCL,2020-04-17,162,146,16,0,0,0\\nCM,2020-04-17,82,46,34,0,0,2\\nCN,2020-04-17,12,12,0,0,0,0\\nCT,2020-04-17,691,673,0,0,0,18\\nEX,2020-04-17,32,28,4,0,0,0\\nGA,2020-04-17,59,53,3,0,3,0\\nIB,2020-04-17,8,7,1,0,0,0\\nMC,2020-04-17,3,3,0,0,0,0\\nMD,2020-04-17,409,406,0,3,0,0\\nML,2020-04-17,0,0,0,0,0,0\\nNC,2020-04-17,47,44,3,0,0,0\\nPV,2020-04-17,134,132,0,2,0,0\\nRI,2020-04-17,23,22,1,0,0,0\\nVC,2020-04-17,90,82,7,0,0,1\\nAN,2020-04-18,47,43,4,0,0,0\\nAR,2020-04-18,57,55,0,0,0,2\\nAS,2020-04-18,10,10,0,0,0,0\\nCB,2020-04-18,13,13,0,0,0,0\\nCE,2020-04-18,0,0,0,0,0,0\\nCL,2020-04-18,106,94,11,0,1,0\\nCM,2020-04-18,84,63,21,0,0,0\\nCN,2020-04-18,9,9,0,0,0,0\\nCT,2020-04-18,548,538,0,0,0,10\\nEX,2020-04-18,20,19,1,0,0,0\\nGA,2020-04-18,66,64,2,0,0,0\\nIB,2020-04-18,12,12,0,0,0,0\\nMC,2020-04-18,2,0,2,0,0,0\\nMD,2020-04-18,485,484,0,1,0,0\\nML,2020-04-18,0,0,0,0,0,0\\nNC,2020-04-18,39,39,0,0,0,0\\nPV,2020-04-18,104,97,0,5,0,2\\nRI,2020-04-18,17,17,0,0,0,0\\nVC,2020-04-18,59,50,7,0,0,2\\nAN,2020-04-19,40,27,13,0,0,0\\nAR,2020-04-19,36,35,0,1,0,0\\nAS,2020-04-19,7,7,0,0,0,0\\nCB,2020-04-19,15,15,0,0,0,0\\nCE,2020-04-19,0,0,0,0,0,0\\nCL,2020-04-19,144,135,9,0,0,0\\nCM,2020-04-19,74,57,17,0,0,0\\nCN,2020-04-19,12,12,0,0,0,0\\nCT,2020-04-19,336,328,1,0,1,6\\nEX,2020-04-19,15,11,3,1,0,0\\nGA,2020-04-19,51,47,4,0,0,0\\nIB,2020-04-19,10,8,2,0,0,0\\nMC,2020-04-19,3,3,0,0,0,0\\nMD,2020-04-19,269,268,0,1,0,0\\nML,2020-04-19,0,0,0,0,0,0\\nNC,2020-04-19,35,35,0,0,0,0\\nPV,2020-04-19,55,50,0,5,0,0\\nRI,2020-04-19,14,14,0,0,0,0\\nVC,2020-04-19,35,25,8,0,0,2\\nAN,2020-04-20,42,39,3,0,0,0\\nAR,2020-04-20,33,32,0,0,0,1\\nAS,2020-04-20,7,7,0,0,0,0\\nCB,2020-04-20,24,24,0,0,0,0\\nCE,2020-04-20,1,1,0,0,0,0\\nCL,2020-04-20,206,195,10,0,1,0\\nCM,2020-04-20,135,96,39,0,0,0\\nCN,2020-04-20,14,13,0,0,0,1\\nCT,2020-04-20,448,428,0,0,1,19\\nEX,2020-04-20,37,31,6,0,0,0\\nGA,2020-04-20,66,61,3,0,2,0\\nIB,2020-04-20,16,14,2,0,0,0\\nMC,2020-04-20,1,1,0,0,0,0\\nMD,2020-04-20,298,295,0,3,0,0\\nML,2020-04-20,2,2,0,0,0,0\\nNC,2020-04-20,31,31,0,0,0,0\\nPV,2020-04-20,79,78,0,1,0,0\\nRI,2020-04-20,11,11,0,0,0,0\\nVC,2020-04-20,40,35,5,0,0,0\\nAN,2020-04-21,44,39,5,0,0,0\\nAR,2020-04-21,47,38,0,1,0,8\\nAS,2020-04-21,15,15,0,0,0,0\\nCB,2020-04-21,10,10,0,0,0,0\\nCE,2020-04-21,0,0,0,0,0,0\\nCL,2020-04-21,131,120,11,0,0,0\\nCM,2020-04-21,78,58,20,0,0,0\\nCN,2020-04-21,7,7,0,0,0,0\\nCT,2020-04-21,275,260,0,0,2,13\\nEX,2020-04-21,20,17,3,0,0,0\\nGA,2020-04-21,46,44,1,0,1,0\\nIB,2020-04-21,10,7,3,0,0,0\\nMC,2020-04-21,3,2,1,0,0,0\\nMD,2020-04-21,487,486,0,1,0,0\\nML,2020-04-21,0,0,0,0,0,0\\nNC,2020-04-21,11,11,0,0,0,0\\nPV,2020-04-21,84,70,0,12,0,2\\nRI,2020-04-21,14,12,2,0,0,0\\nVC,2020-04-21,57,49,6,0,0,2\\nAN,2020-04-22,29,27,2,0,0,0\\nAR,2020-04-22,59,57,0,0,0,2\\nAS,2020-04-22,8,8,0,0,0,0\\nCB,2020-04-22,26,26,0,0,0,0\\nCE,2020-04-22,1,1,0,0,0,0\\nCL,2020-04-22,173,165,8,0,0,0\\nCM,2020-04-22,81,59,22,0,0,0\\nCN,2020-04-22,6,6,0,0,0,0\\nCT,2020-04-22,387,379,0,0,4,4\\nEX,2020-04-22,36,27,9,0,0,0\\nGA,2020-04-22,55,48,4,0,3,0\\nIB,2020-04-22,6,5,1,0,0,0\\nMC,2020-04-22,2,2,0,0,0,0\\nMD,2020-04-22,475,475,0,0,0,0\\nML,2020-04-22,1,1,0,0,0,0\\nNC,2020-04-22,22,21,1,0,0,0\\nPV,2020-04-22,55,50,0,5,0,0\\nRI,2020-04-22,22,22,0,0,0,0\\nVC,2020-04-22,42,35,6,0,0,1\\nAN,2020-04-23,41,37,4,0,0,0\\nAR,2020-04-23,21,21,0,0,0,0\\nAS,2020-04-23,9,9,0,0,0,0\\nCB,2020-04-23,26,26,0,0,0,0\\nCE,2020-04-23,0,0,0,0,0,0\\nCL,2020-04-23,91,82,9,0,0,0\\nCM,2020-04-23,70,43,27,0,0,0\\nCN,2020-04-23,2,2,0,0,0,0\\nCT,2020-04-23,335,329,0,0,2,4\\nEX,2020-04-23,19,15,4,0,0,0\\nGA,2020-04-23,59,57,1,0,1,0\\nIB,2020-04-23,5,5,0,0,0,0\\nMC,2020-04-23,2,2,0,0,0,0\\nMD,2020-04-23,371,371,0,0,0,0\\nML,2020-04-23,0,0,0,0,0,0\\nNC,2020-04-23,19,19,0,0,0,0\\nPV,2020-04-23,64,58,0,6,0,0\\nRI,2020-04-23,13,13,0,0,0,0\\nVC,2020-04-23,50,42,7,0,0,1\\nAN,2020-04-24,52,46,6,0,0,0\\nAR,2020-04-24,26,22,0,0,0,4\\nAS,2020-04-24,16,16,0,0,0,0\\nCB,2020-04-24,14,14,0,0,0,0\\nCE,2020-04-24,0,0,0,0,0,0\\nCL,2020-04-24,148,137,11,0,0,0\\nCM,2020-04-24,48,30,17,0,0,1\\nCN,2020-04-24,8,8,0,0,0,0\\nCT,2020-04-24,325,315,0,0,6,4\\nEX,2020-04-24,18,17,1,0,0,0\\nGA,2020-04-24,41,39,1,0,1,0\\nIB,2020-04-24,10,9,1,0,0,0\\nMC,2020-04-24,0,0,0,0,0,0\\nMD,2020-04-24,260,260,0,0,0,0\\nML,2020-04-24,1,1,0,0,0,0\\nNC,2020-04-24,22,21,1,0,0,0\\nPV,2020-04-24,91,87,0,3,0,1\\nRI,2020-04-24,5,4,1,0,0,0\\nVC,2020-04-24,45,40,3,0,0,2\\nAN,2020-04-25,29,25,4,0,0,0\\nAR,2020-04-25,19,19,0,0,0,0\\nAS,2020-04-25,3,3,0,0,0,0\\nCB,2020-04-25,12,12,0,0,0,0\\nCE,2020-04-25,1,1,0,0,0,0\\nCL,2020-04-25,94,88,6,0,0,0\\nCM,2020-04-25,68,33,33,0,0,2\\nCN,2020-04-25,4,4,0,0,0,0\\nCT,2020-04-25,216,209,0,0,1,6\\nEX,2020-04-25,24,22,2,0,0,0\\nGA,2020-04-25,26,25,1,0,0,0\\nIB,2020-04-25,11,10,1,0,0,0\\nMC,2020-04-25,3,2,1,0,0,0\\nMD,2020-04-25,141,141,0,0,0,0\\nML,2020-04-25,1,1,0,0,0,0\\nNC,2020-04-25,23,21,2,0,0,0\\nPV,2020-04-25,50,38,0,10,0,2\\nRI,2020-04-25,5,5,0,0,0,0\\nVC,2020-04-25,40,37,2,0,0,1\\nAN,2020-04-26,20,17,3,0,0,0\\nAR,2020-04-26,17,16,0,0,0,1\\nAS,2020-04-26,5,5,0,0,0,0\\nCB,2020-04-26,4,4,0,0,0,0\\nCE,2020-04-26,0,0,0,0,0,0\\nCL,2020-04-26,41,40,1,0,0,0\\nCM,2020-04-26,81,50,31,0,0,0\\nCN,2020-04-26,2,2,0,0,0,0\\nCT,2020-04-26,167,165,0,0,0,2\\nEX,2020-04-26,13,12,1,0,0,0\\nGA,2020-04-26,20,16,3,0,1,0\\nIB,2020-04-26,0,0,0,0,0,0\\nMC,2020-04-26,3,3,0,0,0,0\\nMD,2020-04-26,129,129,0,0,0,0\\nML,2020-04-26,0,0,0,0,0,0\\nNC,2020-04-26,8,8,0,0,0,0\\nPV,2020-04-26,32,31,0,1,0,0\\nRI,2020-04-26,2,2,0,0,0,0\\nVC,2020-04-26,21,19,1,0,0,1\\nAN,2020-04-27,23,17,5,0,1,0\\nAR,2020-04-27,31,25,0,0,1,5\\nAS,2020-04-27,5,5,0,0,0,0\\nCB,2020-04-27,2,2,0,0,0,0\\nCE,2020-04-27,1,1,0,0,0,0\\nCL,2020-04-27,56,47,9,0,0,0\\nCM,2020-04-27,84,50,34,0,0,0\\nCN,2020-04-27,3,3,0,0,0,0\\nCT,2020-04-27,157,152,0,0,0,5\\nEX,2020-04-27,14,10,4,0,0,0\\nGA,2020-04-27,32,28,1,0,3,0\\nIB,2020-04-27,3,3,0,0,0,0\\nMC,2020-04-27,0,0,0,0,0,0\\nMD,2020-04-27,220,219,0,1,0,0\\nML,2020-04-27,0,0,0,0,0,0\\nNC,2020-04-27,20,20,0,0,0,0\\nPV,2020-04-27,37,29,0,7,0,1\\nRI,2020-04-27,4,4,0,0,0,0\\nVC,2020-04-27,25,20,4,0,0,1\\nAN,2020-04-28,22,17,5,0,0,0\\nAR,2020-04-28,37,29,0,0,1,7\\nAS,2020-04-28,10,10,0,0,0,0\\nCB,2020-04-28,5,5,0,0,0,0\\nCE,2020-04-28,1,1,0,0,0,0\\nCL,2020-04-28,70,64,6,0,0,0\\nCM,2020-04-28,83,60,23,0,0,0\\nCN,2020-04-28,3,1,0,0,0,2\\nCT,2020-04-28,210,207,0,0,0,3\\nEX,2020-04-28,7,5,2,0,0,0\\nGA,2020-04-28,23,20,1,0,2,0\\nIB,2020-04-28,4,4,0,0,0,0\\nMC,2020-04-28,1,0,1,0,0,0\\nMD,2020-04-28,268,267,0,1,0,0\\nML,2020-04-28,0,0,0,0,0,0\\nNC,2020-04-28,13,13,0,0,0,0\\nPV,2020-04-28,48,39,0,9,0,0\\nRI,2020-04-28,9,9,0,0,0,0\\nVC,2020-04-28,46,38,7,0,0,1\\nAN,2020-04-29,35,32,3,0,0,0\\nAR,2020-04-29,28,23,0,0,0,5\\nAS,2020-04-29,3,3,0,0,0,0\\nCB,2020-04-29,5,5,0,0,0,0\\nCE,2020-04-29,4,4,0,0,0,0\\nCL,2020-04-29,53,48,5,0,0,0\\nCM,2020-04-29,56,34,20,0,2,0\\nCN,2020-04-29,4,3,0,0,0,1\\nCT,2020-04-29,179,179,0,0,0,0\\nEX,2020-04-29,19,15,4,0,0,0\\nGA,2020-04-29,45,43,2,0,0,0\\nIB,2020-04-29,3,2,1,0,0,0\\nMC,2020-04-29,2,2,0,0,0,0\\nMD,2020-04-29,225,224,0,1,0,0\\nML,2020-04-29,1,1,0,0,0,0\\nNC,2020-04-29,19,18,1,0,0,0\\nPV,2020-04-29,36,32,0,4,0,0\\nRI,2020-04-29,5,5,0,0,0,0\\nVC,2020-04-29,39,34,4,0,0,1\\nAN,2020-04-30,25,19,5,0,1,0\\nAR,2020-04-30,34,28,0,0,0,6\\nAS,2020-04-30,9,9,0,0,0,0\\nCB,2020-04-30,12,12,0,0,0,0\\nCE,2020-04-30,0,0,0,0,0,0\\nCL,2020-04-30,73,68,5,0,0,0\\nCM,2020-04-30,60,28,32,0,0,0\\nCN,2020-04-30,6,6,0,0,0,0\\nCT,2020-04-30,215,206,0,0,2,7\\nEX,2020-04-30,14,12,2,0,0,0\\nGA,2020-04-30,26,24,1,0,1,0\\nIB,2020-04-30,5,5,0,0,0,0\\nMC,2020-04-30,1,1,0,0,0,0\\nMD,2020-04-30,197,197,0,0,0,0\\nML,2020-04-30,1,1,0,0,0,0\\nNC,2020-04-30,17,16,1,0,0,0\\nPV,2020-04-30,31,29,0,1,0,1\\nRI,2020-04-30,2,2,0,0,0,0\\nVC,2020-04-30,26,19,6,0,0,1\\nAN,2020-05-01,17,15,2,0,0,0\\nAR,2020-05-01,16,16,0,0,0,0\\nAS,2020-05-01,2,2,0,0,0,0\\nCB,2020-05-01,16,16,0,0,0,0\\nCE,2020-05-01,1,1,0,0,0,0\\nCL,2020-05-01,58,53,3,0,2,0\\nCM,2020-05-01,52,41,11,0,0,0\\nCN,2020-05-01,8,8,0,0,0,0\\nCT,2020-05-01,230,227,0,0,1,2\\nEX,2020-05-01,25,24,1,0,0,0\\nGA,2020-05-01,23,19,2,0,2,0\\nIB,2020-05-01,10,8,2,0,0,0\\nMC,2020-05-01,1,1,0,0,0,0\\nMD,2020-05-01,209,208,0,1,0,0\\nML,2020-05-01,0,0,0,0,0,0\\nNC,2020-05-01,24,22,2,0,0,0\\nPV,2020-05-01,39,33,0,5,0,1\\nRI,2020-05-01,1,1,0,0,0,0\\nVC,2020-05-01,28,24,3,1,0,0\\nAN,2020-05-02,17,15,2,0,0,0\\nAR,2020-05-02,22,16,0,0,1,5\\nAS,2020-05-02,3,3,0,0,0,0\\nCB,2020-05-02,0,0,0,0,0,0\\nCE,2020-05-02,2,2,0,0,0,0\\nCL,2020-05-02,65,61,4,0,0,0\\nCM,2020-05-02,43,23,20,0,0,0\\nCN,2020-05-02,5,5,0,0,0,0\\nCT,2020-05-02,181,177,0,0,0,4\\nEX,2020-05-02,14,14,0,0,0,0\\nGA,2020-05-02,23,22,0,0,1,0\\nIB,2020-05-02,2,1,1,0,0,0\\nMC,2020-05-02,2,1,1,0,0,0\\nMD,2020-05-02,186,184,0,2,0,0\\nML,2020-05-02,0,0,0,0,0,0\\nNC,2020-05-02,16,16,0,0,0,0\\nPV,2020-05-02,48,41,0,6,0,1\\nRI,2020-05-02,1,1,0,0,0,0\\nVC,2020-05-02,36,31,5,0,0,0\\nAN,2020-05-03,13,11,2,0,0,0\\nAR,2020-05-03,19,16,0,0,2,1\\nAS,2020-05-03,3,3,0,0,0,0\\nCB,2020-05-03,3,3,0,0,0,0\\nCE,2020-05-03,0,0,0,0,0,0\\nCL,2020-05-03,64,58,6,0,0,0\\nCM,2020-05-03,34,23,11,0,0,0\\nCN,2020-05-03,0,0,0,0,0,0\\nCT,2020-05-03,160,156,0,0,0,4\\nEX,2020-05-03,6,6,0,0,0,0\\nGA,2020-05-03,7,7,0,0,0,0\\nIB,2020-05-03,4,3,1,0,0,0\\nMC,2020-05-03,1,1,0,0,0,0\\nMD,2020-05-03,81,79,1,1,0,0\\nML,2020-05-03,0,0,0,0,0,0\\nNC,2020-05-03,10,10,0,0,0,0\\nPV,2020-05-03,34,28,0,5,0,1\\nRI,2020-05-03,2,2,0,0,0,0\\nVC,2020-05-03,19,15,3,0,0,1\\nAN,2020-05-04,24,18,6,0,0,0\\nAR,2020-05-04,44,36,0,0,0,8\\nAS,2020-05-04,4,4,0,0,0,0\\nCB,2020-05-04,2,2,0,0,0,0\\nCE,2020-05-04,0,0,0,0,0,0\\nCL,2020-05-04,30,27,3,0,0,0\\nCM,2020-05-04,65,48,16,0,1,0\\nCN,2020-05-04,3,3,0,0,0,0\\nCT,2020-05-04,158,146,0,0,3,9\\nEX,2020-05-04,13,12,1,0,0,0\\nGA,2020-05-04,15,14,1,0,0,0\\nIB,2020-05-04,1,1,0,0,0,0\\nMC,2020-05-04,4,2,2,0,0,0\\nMD,2020-05-04,120,118,0,2,0,0\\nML,2020-05-04,0,0,0,0,0,0\\nNC,2020-05-04,14,13,1,0,0,0\\nPV,2020-05-04,23,14,0,9,0,0\\nRI,2020-05-04,3,2,0,0,0,1\\nVC,2020-05-04,10,6,3,0,0,1\\nAN,2020-05-05,13,12,1,0,0,0\\nAR,2020-05-05,9,7,0,0,0,2\\nAS,2020-05-05,4,4,0,0,0,0\\nCB,2020-05-05,0,0,0,0,0,0\\nCE,2020-05-05,0,0,0,0,0,0\\nCL,2020-05-05,14,14,0,0,0,0\\nCM,2020-05-05,70,40,29,0,0,1\\nCN,2020-05-05,2,2,0,0,0,0\\nCT,2020-05-05,85,81,0,0,0,4\\nEX,2020-05-05,3,1,1,1,0,0\\nGA,2020-05-05,9,7,2,0,0,0\\nIB,2020-05-05,4,4,0,0,0,0\\nMC,2020-05-05,1,1,0,0,0,0\\nMD,2020-05-05,73,67,0,6,0,0\\nML,2020-05-05,0,0,0,0,0,0\\nNC,2020-05-05,5,5,0,0,0,0\\nPV,2020-05-05,28,19,0,9,0,0\\nRI,2020-05-05,0,0,0,0,0,0\\nVC,2020-05-05,12,12,0,0,0,0\\nAN,2020-05-06,4,3,1,0,0,0\\nAR,2020-05-06,12,6,0,0,1,5\\nAS,2020-05-06,4,4,0,0,0,0\\nCB,2020-05-06,1,1,0,0,0,0\\nCE,2020-05-06,1,1,0,0,0,0\\nCL,2020-05-06,15,12,3,0,0,0\\nCM,2020-05-06,78,60,18,0,0,0\\nCN,2020-05-06,0,0,0,0,0,0\\nCT,2020-05-06,69,65,0,0,0,4\\nEX,2020-05-06,7,5,2,0,0,0\\nGA,2020-05-06,16,15,0,0,1,0\\nIB,2020-05-06,4,4,0,0,0,0\\nMC,2020-05-06,3,3,0,0,0,0\\nMD,2020-05-06,59,57,0,2,0,0\\nML,2020-05-06,0,0,0,0,0,0\\nNC,2020-05-06,7,7,0,0,0,0\\nPV,2020-05-06,24,16,0,8,0,0\\nRI,2020-05-06,0,0,0,0,0,0\\nVC,2020-05-06,13,12,0,0,0,1\\nAN,2020-05-07,5,3,1,0,1,0\\nAR,2020-05-07,37,34,0,1,0,2\\nAS,2020-05-07,3,3,0,0,0,0\\nCB,2020-05-07,0,0,0,0,0,0\\nCE,2020-05-07,1,1,0,0,0,0\\nCL,2020-05-07,18,18,0,0,0,0\\nCM,2020-05-07,45,29,15,0,0,1\\nCN,2020-05-07,0,0,0,0,0,0\\nCT,2020-05-07,89,85,0,0,0,4\\nEX,2020-05-07,5,2,3,0,0,0\\nGA,2020-05-07,10,10,0,0,0,0\\nIB,2020-05-07,2,2,0,0,0,0\\nMC,2020-05-07,1,1,0,0,0,0\\nMD,2020-05-07,89,87,0,2,0,0\\nML,2020-05-07,0,0,0,0,0,0\\nNC,2020-05-07,2,2,0,0,0,0\\nPV,2020-05-07,18,12,0,6,0,0\\nRI,2020-05-07,2,2,0,0,0,0\\nVC,2020-05-07,6,4,2,0,0,0\\nAN,2020-05-08,7,7,0,0,0,0\\nAR,2020-05-08,18,15,0,0,0,3\\nAS,2020-05-08,3,3,0,0,0,0\\nCB,2020-05-08,2,2,0,0,0,0\\nCE,2020-05-08,0,0,0,0,0,0\\nCL,2020-05-08,20,19,1,0,0,0\\nCM,2020-05-08,30,15,15,0,0,0\\nCN,2020-05-08,1,1,0,0,0,0\\nCT,2020-05-08,93,86,0,0,2,5\\nEX,2020-05-08,5,2,2,1,0,0\\nGA,2020-05-08,11,7,3,0,1,0\\nIB,2020-05-08,4,4,0,0,0,0\\nMC,2020-05-08,1,1,0,0,0,0\\nMD,2020-05-08,81,76,0,5,0,0\\nML,2020-05-08,0,0,0,0,0,0\\nNC,2020-05-08,7,7,0,0,0,0\\nPV,2020-05-08,33,18,0,14,0,1\\nRI,2020-05-08,1,1,0,0,0,0\\nVC,2020-05-08,8,5,3,0,0,0\\nAN,2020-05-09,2,2,0,0,0,0\\nAR,2020-05-09,6,4,0,0,0,2\\nAS,2020-05-09,3,3,0,0,0,0\\nCB,2020-05-09,3,3,0,0,0,0\\nCE,2020-05-09,0,0,0,0,0,0\\nCL,2020-05-09,12,8,2,0,2,0\\nCM,2020-05-09,28,12,16,0,0,0\\nCN,2020-05-09,3,3,0,0,0,0\\nCT,2020-05-09,72,70,0,0,0,2\\nEX,2020-05-09,6,2,4,0,0,0\\nGA,2020-05-09,13,12,1,0,0,0\\nIB,2020-05-09,0,0,0,0,0,0\\nMC,2020-05-09,1,1,0,0,0,0\\nMD,2020-05-09,74,72,0,2,0,0\\nML,2020-05-09,0,0,0,0,0,0\\nNC,2020-05-09,3,3,0,0,0,0\\nPV,2020-05-09,22,12,0,10,0,0\\nRI,2020-05-09,0,0,0,0,0,0\\nVC,2020-05-09,7,7,0,0,0,0\\nAN,2020-05-10,5,5,0,0,0,0\\nAR,2020-05-10,9,9,0,0,0,0\\nAS,2020-05-10,1,1,0,0,0,0\\nCB,2020-05-10,2,1,1,0,0,0\\nCE,2020-05-10,0,0,0,0,0,0\\nCL,2020-05-10,10,10,0,0,0,0\\nCM,2020-05-10,26,23,3,0,0,0\\nCN,2020-05-10,0,0,0,0,0,0\\nCT,2020-05-10,110,108,0,0,2,0\\nEX,2020-05-10,4,3,1,0,0,0\\nGA,2020-05-10,10,8,2,0,0,0\\nIB,2020-05-10,7,6,1,0,0,0\\nMC,2020-05-10,2,1,0,1,0,0\\nMD,2020-05-10,84,77,0,7,0,0\\nML,2020-05-10,0,0,0,0,0,0\\nNC,2020-05-10,5,4,1,0,0,0\\nPV,2020-05-10,14,6,0,7,0,1\\nRI,2020-05-10,1,1,0,0,0,0\\nVC,2020-05-10,8,8,0,0,0,0\\nAN,2020-05-11,18,18,0,0,0,0\\nAR,2020-05-11,6,5,0,0,1,0\\nAS,2020-05-11,4,4,0,0,0,0\\nCB,2020-05-11,10,9,1,0,0,0\\nCE,2020-05-11,1,1,0,0,0,0\\nCL,2020-05-11,28,28,0,0,0,0\\nCM,2020-05-11,46,32,10,0,4,0\\nCN,2020-05-11,3,3,0,0,0,0\\nCT,2020-05-11,181,144,0,0,37,0\\nEX,2020-05-11,5,5,0,0,0,0\\nGA,2020-05-11,12,12,0,0,0,0\\nIB,2020-05-11,8,8,0,0,0,0\\nMC,2020-05-11,2,2,0,0,0,0\\nMD,2020-05-11,208,197,0,10,1,0\\nML,2020-05-11,0,0,0,0,0,0\\nNC,2020-05-11,12,12,0,0,0,0\\nPV,2020-05-11,25,23,0,2,0,0\\nRI,2020-05-11,4,4,0,0,0,0\\nVC,2020-05-11,21,21,0,0,0,0\\nAN,2020-05-12,21,21,0,0,0,0\\nAR,2020-05-12,17,17,0,0,0,0\\nAS,2020-05-12,0,0,0,0,0,0\\nCB,2020-05-12,8,7,1,0,0,0\\nCE,2020-05-12,2,2,0,0,0,0\\nCL,2020-05-12,32,29,0,0,3,0\\nCM,2020-05-12,40,32,7,0,1,0\\nCN,2020-05-12,4,4,0,0,0,0\\nCT,2020-05-12,181,149,0,0,31,1\\nEX,2020-05-12,11,7,2,0,2,0\\nGA,2020-05-12,16,15,0,0,1,0\\nIB,2020-05-12,7,7,0,0,0,0\\nMC,2020-05-12,2,2,0,0,0,0\\nMD,2020-05-12,154,145,0,9,0,0\\nML,2020-05-12,0,0,0,0,0,0\\nNC,2020-05-12,2,2,0,0,0,0\\nPV,2020-05-12,33,18,0,15,0,0\\nRI,2020-05-12,3,3,0,0,0,0\\nVC,2020-05-12,19,19,0,0,0,0\\nAN,2020-05-13,15,14,0,1,0,0\\nAR,2020-05-13,20,20,0,0,0,0\\nAS,2020-05-13,2,2,0,0,0,0\\nCB,2020-05-13,2,2,0,0,0,0\\nCE,2020-05-13,0,0,0,0,0,0\\nCL,2020-05-13,55,54,0,0,1,0\\nCM,2020-05-13,42,40,1,0,1,0\\nCN,2020-05-13,5,5,0,0,0,0\\nCT,2020-05-13,267,224,0,0,43,0\\nEX,2020-05-13,7,6,0,0,1,0\\nGA,2020-05-13,10,10,0,0,0,0\\nIB,2020-05-13,10,10,0,0,0,0\\nMC,2020-05-13,5,5,0,0,0,0\\nMD,2020-05-13,157,148,0,9,0,0\\nML,2020-05-13,0,0,0,0,0,0\\nNC,2020-05-13,9,9,0,0,0,0\\nPV,2020-05-13,27,22,0,5,0,0\\nRI,2020-05-13,5,5,0,0,0,0\\nVC,2020-05-13,12,12,0,0,0,0\\nAN,2020-05-14,13,12,0,1,0,0\\nAR,2020-05-14,23,23,0,0,0,0\\nAS,2020-05-14,2,2,0,0,0,0\\nCB,2020-05-14,2,2,0,0,0,0\\nCE,2020-05-14,0,0,0,0,0,0\\nCL,2020-05-14,40,39,0,0,1,0\\nCM,2020-05-14,32,29,1,0,2,0\\nCN,2020-05-14,2,2,0,0,0,0\\nCT,2020-05-14,209,151,0,0,58,0\\nEX,2020-05-14,2,1,1,0,0,0\\nGA,2020-05-14,5,4,1,0,0,0\\nIB,2020-05-14,7,7,0,0,0,0\\nMC,2020-05-14,2,2,0,0,0,0\\nMD,2020-05-14,176,169,0,7,0,0\\nML,2020-05-14,0,0,0,0,0,0\\nNC,2020-05-14,19,19,0,0,0,0\\nPV,2020-05-14,19,12,0,7,0,0\\nRI,2020-05-14,5,5,0,0,0,0\\nVC,2020-05-14,19,19,0,0,0,0\\nAN,2020-05-15,15,14,0,1,0,0\\nAR,2020-05-15,17,17,0,0,0,0\\nAS,2020-05-15,4,4,0,0,0,0\\nCB,2020-05-15,2,2,0,0,0,0\\nCE,2020-05-15,0,0,0,0,0,0\\nCL,2020-05-15,35,33,0,0,2,0\\nCM,2020-05-15,37,35,0,0,2,0\\nCN,2020-05-15,3,3,0,0,0,0\\nCT,2020-05-15,297,245,0,0,52,0\\nEX,2020-05-15,2,2,0,0,0,0\\nGA,2020-05-15,6,5,0,0,1,0\\nIB,2020-05-15,16,15,1,0,0,0\\nMC,2020-05-15,1,1,0,0,0,0\\nMD,2020-05-15,144,140,0,4,0,0\\nML,2020-05-15,0,0,0,0,0,0\\nNC,2020-05-15,11,11,0,0,0,0\\nPV,2020-05-15,22,12,0,10,0,0\\nRI,2020-05-15,3,3,0,0,0,0\\nVC,2020-05-15,13,13,0,0,0,0\\nAN,2020-05-16,4,3,0,0,1,0\\nAR,2020-05-16,10,8,0,2,0,0\\nAS,2020-05-16,1,1,0,0,0,0\\nCB,2020-05-16,4,4,0,0,0,0\\nCE,2020-05-16,1,1,0,0,0,0\\nCL,2020-05-16,29,28,0,0,1,0\\nCM,2020-05-16,30,28,1,0,1,0\\nCN,2020-05-16,6,6,0,0,0,0\\nCT,2020-05-16,167,167,0,0,0,0\\nEX,2020-05-16,2,1,1,0,0,0\\nGA,2020-05-16,6,6,0,0,0,0\\nIB,2020-05-16,0,0,0,0,0,0\\nMC,2020-05-16,1,1,0,0,0,0\\nMD,2020-05-16,64,60,0,4,0,0\\nML,2020-05-16,0,0,0,0,0,0\\nNC,2020-05-16,4,4,0,0,0,0\\nPV,2020-05-16,17,7,0,10,0,0\\nRI,2020-05-16,2,2,0,0,0,0\\nVC,2020-05-16,8,8,0,0,0,0\\nAN,2020-05-17,5,5,0,0,0,0\\nAR,2020-05-17,8,8,0,0,0,0\\nAS,2020-05-17,4,4,0,0,0,0\\nCB,2020-05-17,0,0,0,0,0,0\\nCE,2020-05-17,0,0,0,0,0,0\\nCL,2020-05-17,6,6,0,0,0,0\\nCM,2020-05-17,13,11,0,1,1,0\\nCN,2020-05-17,1,1,0,0,0,0\\nCT,2020-05-17,126,126,0,0,0,0\\nEX,2020-05-17,2,2,0,0,0,0\\nGA,2020-05-17,1,1,0,0,0,0\\nIB,2020-05-17,5,5,0,0,0,0\\nMC,2020-05-17,1,1,0,0,0,0\\nMD,2020-05-17,96,89,0,7,0,0\\nML,2020-05-17,0,0,0,0,0,0\\nNC,2020-05-17,20,20,0,0,0,0\\nPV,2020-05-17,25,6,0,19,0,0\\nRI,2020-05-17,0,0,0,0,0,0\\nVC,2020-05-17,7,7,0,0,0,0\\nAN,2020-05-18,11,11,0,0,0,0\\nAR,2020-05-18,19,19,0,0,0,0\\nAS,2020-05-18,0,0,0,0,0,0\\nCB,2020-05-18,3,3,0,0,0,0\\nCE,2020-05-18,2,2,0,0,0,0\\nCL,2020-05-18,32,32,0,0,0,0\\nCM,2020-05-18,38,35,0,1,2,0\\nCN,2020-05-18,4,4,0,0,0,0\\nCT,2020-05-18,266,218,0,0,46,2\\nEX,2020-05-18,3,3,0,0,0,0\\nGA,2020-05-18,7,7,0,0,0,0\\nIB,2020-05-18,5,5,0,0,0,0\\nMC,2020-05-18,2,2,0,0,0,0\\nMD,2020-05-18,160,144,0,16,0,0\\nML,2020-05-18,1,1,0,0,0,0\\nNC,2020-05-18,6,6,0,0,0,0\\nPV,2020-05-18,21,13,0,8,0,0\\nRI,2020-05-18,5,5,0,0,0,0\\nVC,2020-05-18,10,10,0,0,0,0\\nAN,2020-05-19,12,12,0,0,0,0\\nAR,2020-05-19,23,23,0,0,0,0\\nAS,2020-05-19,0,0,0,0,0,0\\nCB,2020-05-19,2,2,0,0,0,0\\nCE,2020-05-19,3,3,0,0,0,0\\nCL,2020-05-19,33,33,0,0,0,0\\nCM,2020-05-19,41,35,0,0,5,1\\nCN,2020-05-19,7,7,0,0,0,0\\nCT,2020-05-19,282,221,0,0,61,0\\nEX,2020-05-19,2,2,0,0,0,0\\nGA,2020-05-19,7,7,0,0,0,0\\nIB,2020-05-19,12,12,0,0,0,0\\nMC,2020-05-19,3,2,0,1,0,0\\nMD,2020-05-19,156,149,0,7,0,0\\nML,2020-05-19,0,0,0,0,0,0\\nNC,2020-05-19,9,9,0,0,0,0\\nPV,2020-05-19,25,11,0,14,0,0\\nRI,2020-05-19,5,5,0,0,0,0\\nVC,2020-05-19,12,12,0,0,0,0\\nAN,2020-05-20,13,13,0,0,0,0\\nAR,2020-05-20,15,13,0,1,1,0\\nAS,2020-05-20,1,1,0,0,0,0\\nCB,2020-05-20,0,0,0,0,0,0\\nCE,2020-05-20,1,1,0,0,0,0\\nCL,2020-05-20,27,26,0,0,1,0\\nCM,2020-05-20,32,32,0,0,0,0\\nCN,2020-05-20,4,4,0,0,0,0\\nCT,2020-05-20,261,195,0,0,66,0\\nEX,2020-05-20,3,3,0,0,0,0\\nGA,2020-05-20,6,6,0,0,0,0\\nIB,2020-05-20,6,6,0,0,0,0\\nMC,2020-05-20,0,0,0,0,0,0\\nMD,2020-05-20,122,114,0,8,0,0\\nML,2020-05-20,0,0,0,0,0,0\\nNC,2020-05-20,5,5,0,0,0,0\\nPV,2020-05-20,14,9,0,5,0,0\\nRI,2020-05-20,4,4,0,0,0,0\\nVC,2020-05-20,14,14,0,0,0,0\\nAN,2020-05-21,9,9,0,0,0,0\\nAR,2020-05-21,11,11,0,0,0,0\\nAS,2020-05-21,1,1,0,0,0,0\\nCB,2020-05-21,3,3,0,0,0,0\\nCE,2020-05-21,1,1,0,0,0,0\\nCL,2020-05-21,38,37,0,0,1,0\\nCM,2020-05-21,23,23,0,0,0,0\\nCN,2020-05-21,5,5,0,0,0,0\\nCT,2020-05-21,298,220,0,0,78,0\\nEX,2020-05-21,2,2,0,0,0,0\\nGA,2020-05-21,11,11,0,0,0,0\\nIB,2020-05-21,5,5,0,0,0,0\\nMC,2020-05-21,1,1,0,0,0,0\\nMD,2020-05-21,129,125,0,4,0,0\\nML,2020-05-21,0,0,0,0,0,0\\nNC,2020-05-21,3,3,0,0,0,0\\nPV,2020-05-21,10,8,0,2,0,0\\nRI,2020-05-21,4,3,0,0,0,1\\nVC,2020-05-21,8,8,0,0,0,0\\nAN,2020-05-22,5,5,0,0,0,0\\nAR,2020-05-22,13,13,0,0,0,0\\nAS,2020-05-22,1,1,0,0,0,0\\nCB,2020-05-22,1,1,0,0,0,0\\nCE,2020-05-22,0,0,0,0,0,0\\nCL,2020-05-22,41,40,0,0,1,0\\nCM,2020-05-22,46,41,0,0,4,1\\nCN,2020-05-22,3,3,0,0,0,0\\nCT,2020-05-22,377,290,0,0,86,1\\nEX,2020-05-22,4,3,0,0,1,0\\nGA,2020-05-22,5,5,0,0,0,0\\nIB,2020-05-22,3,3,0,0,0,0\\nMC,2020-05-22,2,2,0,0,0,0\\nMD,2020-05-22,101,93,0,8,0,0\\nML,2020-05-22,0,0,0,0,0,0\\nNC,2020-05-22,6,6,0,0,0,0\\nPV,2020-05-22,11,6,0,5,0,0\\nRI,2020-05-22,2,2,0,0,0,0\\nVC,2020-05-22,16,16,0,0,0,0\\nAN,2020-05-23,7,7,0,0,0,0\\nAR,2020-05-23,11,11,0,0,0,0\\nAS,2020-05-23,1,1,0,0,0,0\\nCB,2020-05-23,2,2,0,0,0,0\\nCE,2020-05-23,5,5,0,0,0,0\\nCL,2020-05-23,18,17,0,0,1,0\\nCM,2020-05-23,35,30,0,0,5,0\\nCN,2020-05-23,1,1,0,0,0,0\\nCT,2020-05-23,167,164,0,0,3,0\\nEX,2020-05-23,0,0,0,0,0,0\\nGA,2020-05-23,7,7,0,0,0,0\\nIB,2020-05-23,2,2,0,0,0,0\\nMC,2020-05-23,2,2,0,0,0,0\\nMD,2020-05-23,63,59,0,4,0,0\\nML,2020-05-23,0,0,0,0,0,0\\nNC,2020-05-23,12,12,0,0,0,0\\nPV,2020-05-23,19,5,0,14,0,0\\nRI,2020-05-23,2,2,0,0,0,0\\nVC,2020-05-23,8,8,0,0,0,0\\nAN,2020-05-24,3,3,0,0,0,0\\nAR,2020-05-24,6,6,0,0,0,0\\nAS,2020-05-24,2,2,0,0,0,0\\nCB,2020-05-24,2,2,0,0,0,0\\nCE,2020-05-24,2,2,0,0,0,0\\nCL,2020-05-24,13,13,0,0,0,0\\nCM,2020-05-24,23,20,0,1,2,0\\nCN,2020-05-24,2,2,0,0,0,0\\nCT,2020-05-24,177,177,0,0,0,0\\nEX,2020-05-24,2,1,1,0,0,0\\nGA,2020-05-24,7,7,0,0,0,0\\nIB,2020-05-24,2,2,0,0,0,0\\nMC,2020-05-24,0,0,0,0,0,0\\nMD,2020-05-24,62,53,0,9,0,0\\nML,2020-05-24,0,0,0,0,0,0\\nNC,2020-05-24,2,2,0,0,0,0\\nPV,2020-05-24,21,2,0,19,0,0\\nRI,2020-05-24,0,0,0,0,0,0\\nVC,2020-05-24,9,9,0,0,0,0\\nAN,2020-05-25,8,8,0,0,0,0\\nAR,2020-05-25,12,12,0,0,0,0\\nAS,2020-05-25,1,1,0,0,0,0\\nCB,2020-05-25,1,1,0,0,0,0\\nCE,2020-05-25,5,5,0,0,0,0\\nCL,2020-05-25,36,35,0,0,1,0\\nCM,2020-05-25,38,37,0,0,1,0\\nCN,2020-05-25,4,4,0,0,0,0\\nCT,2020-05-25,292,220,0,0,72,0\\nEX,2020-05-25,5,5,0,0,0,0\\nGA,2020-05-25,4,4,0,0,0,0\\nIB,2020-05-25,3,3,0,0,0,0\\nMC,2020-05-25,2,1,1,0,0,0\\nMD,2020-05-25,166,157,0,9,0,0\\nML,2020-05-25,0,0,0,0,0,0\\nNC,2020-05-25,5,5,0,0,0,0\\nPV,2020-05-25,13,6,0,7,0,0\\nRI,2020-05-25,4,3,0,0,0,1\\nVC,2020-05-25,5,5,0,0,0,0\\nAN,2020-05-26,8,8,0,0,0,0\\nAR,2020-05-26,11,11,0,0,0,0\\nAS,2020-05-26,2,2,0,0,0,0\\nCB,2020-05-26,4,4,0,0,0,0\\nCE,2020-05-26,1,1,0,0,0,0\\nCL,2020-05-26,47,47,0,0,0,0\\nCM,2020-05-26,44,41,0,2,1,0\\nCN,2020-05-26,3,3,0,0,0,0\\nCT,2020-05-26,261,185,0,0,75,1\\nEX,2020-05-26,2,2,0,0,0,0\\nGA,2020-05-26,3,3,0,0,0,0\\nIB,2020-05-26,4,4,0,0,0,0\\nMC,2020-05-26,0,0,0,0,0,0\\nMD,2020-05-26,171,166,0,5,0,0\\nML,2020-05-26,0,0,0,0,0,0\\nNC,2020-05-26,4,4,0,0,0,0\\nPV,2020-05-26,22,10,0,12,0,0\\nRI,2020-05-26,0,0,0,0,0,0\\nVC,2020-05-26,13,13,0,0,0,0\\nAN,2020-05-27,11,11,0,0,0,0\\nAR,2020-05-27,14,14,0,0,0,0\\nAS,2020-05-27,0,0,0,0,0,0\\nCB,2020-05-27,2,2,0,0,0,0\\nCE,2020-05-27,2,2,0,0,0,0\\nCL,2020-05-27,26,26,0,0,0,0\\nCM,2020-05-27,43,41,0,1,1,0\\nCN,2020-05-27,2,2,0,0,0,0\\nCT,2020-05-27,205,151,0,0,54,0\\nEX,2020-05-27,3,2,1,0,0,0\\nGA,2020-05-27,0,0,0,0,0,0\\nIB,2020-05-27,3,3,0,0,0,0\\nMC,2020-05-27,4,4,0,0,0,0\\nMD,2020-05-27,109,99,0,10,0,0\\nML,2020-05-27,0,0,0,0,0,0\\nNC,2020-05-27,11,11,0,0,0,0\\nPV,2020-05-27,9,2,0,7,0,0\\nRI,2020-05-27,1,1,0,0,0,0\\nVC,2020-05-27,15,15,0,0,0,0\\nAN,2020-05-28,7,7,0,0,0,0\\nAR,2020-05-28,5,5,0,0,0,0\\nAS,2020-05-28,0,0,0,0,0,0\\nCB,2020-05-28,1,1,0,0,0,0\\nCE,2020-05-28,5,5,0,0,0,0\\nCL,2020-05-28,45,45,0,0,0,0\\nCM,2020-05-28,44,41,0,1,2,0\\nCN,2020-05-28,7,7,0,0,0,0\\nCT,2020-05-28,269,187,0,0,82,0\\nEX,2020-05-28,0,0,0,0,0,0\\nGA,2020-05-28,2,2,0,0,0,0\\nIB,2020-05-28,14,13,1,0,0,0\\nMC,2020-05-28,2,2,0,0,0,0\\nMD,2020-05-28,131,131,0,0,0,0\\nML,2020-05-28,0,0,0,0,0,0\\nNC,2020-05-28,9,9,0,0,0,0\\nPV,2020-05-28,8,4,0,4,0,0\\nRI,2020-05-28,1,1,0,0,0,0\\nVC,2020-05-28,9,9,0,0,0,0\\nAN,2020-05-29,13,13,0,0,0,0\\nAR,2020-05-29,11,10,0,0,1,0\\nAS,2020-05-29,13,13,0,0,0,0\\nCB,2020-05-29,3,3,0,0,0,0\\nCE,2020-05-29,2,2,0,0,0,0\\nCL,2020-05-29,47,45,0,0,2,0\\nCM,2020-05-29,31,31,0,0,0,0\\nCN,2020-05-29,7,7,0,0,0,0\\nCT,2020-05-29,231,177,0,0,54,0\\nEX,2020-05-29,3,3,0,0,0,0\\nGA,2020-05-29,3,3,0,0,0,0\\nIB,2020-05-29,5,4,1,0,0,0\\nMC,2020-05-29,1,1,0,0,0,0\\nMD,2020-05-29,127,122,0,5,0,0\\nML,2020-05-29,0,0,0,0,0,0\\nNC,2020-05-29,5,5,0,0,0,0\\nPV,2020-05-29,11,3,0,8,0,0\\nRI,2020-05-29,2,2,0,0,0,0\\nVC,2020-05-29,9,9,0,0,0,0\\nAN,2020-05-30,13,13,0,0,0,0\\nAR,2020-05-30,5,5,0,0,0,0\\nAS,2020-05-30,4,4,0,0,0,0\\nCB,2020-05-30,2,2,0,0,0,0\\nCE,2020-05-30,3,3,0,0,0,0\\nCL,2020-05-30,36,36,0,0,0,0\\nCM,2020-05-30,28,25,0,0,3,0\\nCN,2020-05-30,3,3,0,0,0,0\\nCT,2020-05-30,125,121,0,0,4,0\\nEX,2020-05-30,2,2,0,0,0,0\\nGA,2020-05-30,1,1,0,0,0,0\\nIB,2020-05-30,2,2,0,0,0,0\\nMC,2020-05-30,1,1,0,0,0,0\\nMD,2020-05-30,67,59,0,8,0,0\\nML,2020-05-30,0,0,0,0,0,0\\nNC,2020-05-30,7,7,0,0,0,0\\nPV,2020-05-30,17,3,0,14,0,0\\nRI,2020-05-30,1,1,0,0,0,0\\nVC,2020-05-30,5,5,0,0,0,0\\nAN,2020-05-31,9,9,0,0,0,0\\nAR,2020-05-31,7,7,0,0,0,0\\nAS,2020-05-31,3,3,0,0,0,0\\nCB,2020-05-31,1,1,0,0,0,0\\nCE,2020-05-31,1,1,0,0,0,0\\nCL,2020-05-31,18,18,0,0,0,0\\nCM,2020-05-31,13,10,0,1,2,0\\nCN,2020-05-31,1,1,0,0,0,0\\nCT,2020-05-31,74,74,0,0,0,0\\nEX,2020-05-31,1,1,0,0,0,0\\nGA,2020-05-31,1,1,0,0,0,0\\nIB,2020-05-31,2,2,0,0,0,0\\nMC,2020-05-31,0,0,0,0,0,0\\nMD,2020-05-31,89,78,0,11,0,0\\nML,2020-05-31,0,0,0,0,0,0\\nNC,2020-05-31,3,3,0,0,0,0\\nPV,2020-05-31,13,0,0,13,0,0\\nRI,2020-05-31,0,0,0,0,0,0\\nVC,2020-05-31,7,7,0,0,0,0\\nAN,2020-06-01,18,18,0,0,0,0\\nAR,2020-06-01,7,7,0,0,0,0\\nAS,2020-06-01,0,0,0,0,0,0\\nCB,2020-06-01,4,4,0,0,0,0\\nCE,2020-06-01,4,4,0,0,0,0\\nCL,2020-06-01,28,28,0,0,0,0\\nCM,2020-06-01,27,27,0,0,0,0\\nCN,2020-06-01,4,4,0,0,0,0\\nCT,2020-06-01,111,103,0,0,8,0\\nEX,2020-06-01,3,3,0,0,0,0\\nGA,2020-06-01,2,2,0,0,0,0\\nIB,2020-06-01,4,3,1,0,0,0\\nMC,2020-06-01,4,4,0,0,0,0\\nMD,2020-06-01,177,160,0,17,0,0\\nML,2020-06-01,1,1,0,0,0,0\\nNC,2020-06-01,1,1,0,0,0,0\\nPV,2020-06-01,22,7,0,15,0,0\\nRI,2020-06-01,3,3,0,0,0,0\\nVC,2020-06-01,15,15,0,0,0,0\\nAN,2020-06-02,5,5,0,0,0,0\\nAR,2020-06-02,17,17,0,0,0,0\\nAS,2020-06-02,0,0,0,0,0,0\\nCB,2020-06-02,2,2,0,0,0,0\\nCE,2020-06-02,2,2,0,0,0,0\\nCL,2020-06-02,19,19,0,0,0,0\\nCM,2020-06-02,27,22,0,0,5,0\\nCN,2020-06-02,4,4,0,0,0,0\\nCT,2020-06-02,148,125,0,0,23,0\\nEX,2020-06-02,5,4,0,0,1,0\\nGA,2020-06-02,1,1,0,0,0,0\\nIB,2020-06-02,7,7,0,0,0,0\\nMC,2020-06-02,2,2,0,0,0,0\\nMD,2020-06-02,130,123,0,7,0,0\\nML,2020-06-02,0,0,0,0,0,0\\nNC,2020-06-02,3,3,0,0,0,0\\nPV,2020-06-02,23,10,0,13,0,0\\nRI,2020-06-02,1,1,0,0,0,0\\nVC,2020-06-02,19,19,0,0,0,0\\nAN,2020-06-03,15,15,0,0,0,0\\nAR,2020-06-03,6,6,0,0,0,0\\nAS,2020-06-03,1,1,0,0,0,0\\nCB,2020-06-03,0,0,0,0,0,0\\nCE,2020-06-03,4,4,0,0,0,0\\nCL,2020-06-03,28,28,0,0,0,0\\nCM,2020-06-03,41,38,0,2,1,0\\nCN,2020-06-03,4,4,0,0,0,0\\nCT,2020-06-03,162,133,0,0,29,0\\nEX,2020-06-03,0,0,0,0,0,0\\nGA,2020-06-03,0,0,0,0,0,0\\nIB,2020-06-03,3,3,0,0,0,0\\nMC,2020-06-03,2,2,0,0,0,0\\nMD,2020-06-03,159,150,0,9,0,0\\nML,2020-06-03,0,0,0,0,0,0\\nNC,2020-06-03,6,6,0,0,0,0\\nPV,2020-06-03,13,7,0,6,0,0\\nRI,2020-06-03,2,2,0,0,0,0\\nVC,2020-06-03,11,11,0,0,0,0\\nAN,2020-06-04,5,5,0,0,0,0\\nAR,2020-06-04,9,9,0,0,0,0\\nAS,2020-06-04,0,0,0,0,0,0\\nCB,2020-06-04,1,1,0,0,0,0\\nCE,2020-06-04,0,0,0,0,0,0\\nCL,2020-06-04,27,25,0,0,2,0\\nCM,2020-06-04,39,33,0,0,6,0\\nCN,2020-06-04,1,1,0,0,0,0\\nCT,2020-06-04,151,117,0,0,34,0\\nEX,2020-06-04,3,3,0,0,0,0\\nGA,2020-06-04,2,2,0,0,0,0\\nIB,2020-06-04,6,6,0,0,0,0\\nMC,2020-06-04,2,2,0,0,0,0\\nMD,2020-06-04,121,114,0,7,0,0\\nML,2020-06-04,0,0,0,0,0,0\\nNC,2020-06-04,7,7,0,0,0,0\\nPV,2020-06-04,12,6,0,6,0,0\\nRI,2020-06-04,2,2,0,0,0,0\\nVC,2020-06-04,9,9,0,0,0,0\\nAN,2020-06-05,12,12,0,0,0,0\\nAR,2020-06-05,5,5,0,0,0,0\\nAS,2020-06-05,2,2,0,0,0,0\\nCB,2020-06-05,2,2,0,0,0,0\\nCE,2020-06-05,0,0,0,0,0,0\\nCL,2020-06-05,36,36,0,0,0,0\\nCM,2020-06-05,33,32,0,1,0,0\\nCN,2020-06-05,1,1,0,0,0,0\\nCT,2020-06-05,224,196,0,0,28,0\\nEX,2020-06-05,0,0,0,0,0,0\\nGA,2020-06-05,4,4,0,0,0,0\\nIB,2020-06-05,2,2,0,0,0,0\\nMC,2020-06-05,1,1,0,0,0,0\\nMD,2020-06-05,152,146,0,6,0,0\\nML,2020-06-05,0,0,0,0,0,0\\nNC,2020-06-05,6,6,0,0,0,0\\nPV,2020-06-05,16,10,0,6,0,0\\nRI,2020-06-05,2,2,0,0,0,0\\nVC,2020-06-05,8,8,0,0,0,0\\nAN,2020-06-06,6,6,0,0,0,0\\nAR,2020-06-06,5,5,0,0,0,0\\nAS,2020-06-06,2,2,0,0,0,0\\nCB,2020-06-06,0,0,0,0,0,0\\nCE,2020-06-06,0,0,0,0,0,0\\nCL,2020-06-06,12,12,0,0,0,0\\nCM,2020-06-06,22,22,0,0,0,0\\nCN,2020-06-06,4,4,0,0,0,0\\nCT,2020-06-06,85,85,0,0,0,0\\nEX,2020-06-06,0,0,0,0,0,0\\nGA,2020-06-06,1,1,0,0,0,0\\nIB,2020-06-06,2,2,0,0,0,0\\nMC,2020-06-06,3,3,0,0,0,0\\nMD,2020-06-06,91,81,0,10,0,0\\nML,2020-06-06,0,0,0,0,0,0\\nNC,2020-06-06,1,1,0,0,0,0\\nPV,2020-06-06,22,7,0,15,0,0\\nRI,2020-06-06,2,2,0,0,0,0\\nVC,2020-06-06,8,8,0,0,0,0\\nAN,2020-06-07,2,2,0,0,0,0\\nAR,2020-06-07,4,4,0,0,0,0\\nAS,2020-06-07,1,1,0,0,0,0\\nCB,2020-06-07,3,3,0,0,0,0\\nCE,2020-06-07,0,0,0,0,0,0\\nCL,2020-06-07,13,13,0,0,0,0\\nCM,2020-06-07,12,12,0,0,0,0\\nCN,2020-06-07,1,1,0,0,0,0\\nCT,2020-06-07,72,68,0,0,3,1\\nEX,2020-06-07,1,1,0,0,0,0\\nGA,2020-06-07,1,1,0,0,0,0\\nIB,2020-06-07,3,3,0,0,0,0\\nMC,2020-06-07,0,0,0,0,0,0\\nMD,2020-06-07,75,64,0,11,0,0\\nML,2020-06-07,0,0,0,0,0,0\\nNC,2020-06-07,2,2,0,0,0,0\\nPV,2020-06-07,25,12,0,13,0,0\\nRI,2020-06-07,1,1,0,0,0,0\\nVC,2020-06-07,7,7,0,0,0,0\\nAN,2020-06-08,6,6,0,0,0,0\\nAR,2020-06-08,5,5,0,0,0,0\\nAS,2020-06-08,0,0,0,0,0,0\\nCB,2020-06-08,1,1,0,0,0,0\\nCE,2020-06-08,0,0,0,0,0,0\\nCL,2020-06-08,35,35,0,0,0,0\\nCM,2020-06-08,36,35,0,0,1,0\\nCN,2020-06-08,2,2,0,0,0,0\\nCT,2020-06-08,159,140,0,0,18,1\\nEX,2020-06-08,1,1,0,0,0,0\\nGA,2020-06-08,4,4,0,0,0,0\\nIB,2020-06-08,2,2,0,0,0,0\\nMC,2020-06-08,2,2,0,0,0,0\\nMD,2020-06-08,158,141,0,17,0,0\\nML,2020-06-08,0,0,0,0,0,0\\nNC,2020-06-08,0,0,0,0,0,0\\nPV,2020-06-08,19,13,0,6,0,0\\nRI,2020-06-08,0,0,0,0,0,0\\nVC,2020-06-08,5,5,0,0,0,0\\nAN,2020-06-09,8,8,0,0,0,0\\nAR,2020-06-09,10,10,0,0,0,0\\nAS,2020-06-09,0,0,0,0,0,0\\nCB,2020-06-09,0,0,0,0,0,0\\nCE,2020-06-09,0,0,0,0,0,0\\nCL,2020-06-09,27,26,0,0,1,0\\nCM,2020-06-09,27,26,0,1,0,0\\nCN,2020-06-09,2,2,0,0,0,0\\nCT,2020-06-09,110,70,0,0,40,0\\nEX,2020-06-09,3,2,1,0,0,0\\nGA,2020-06-09,3,3,0,0,0,0\\nIB,2020-06-09,1,1,0,0,0,0\\nMC,2020-06-09,2,2,0,0,0,0\\nMD,2020-06-09,133,118,0,15,0,0\\nML,2020-06-09,1,1,0,0,0,0\\nNC,2020-06-09,5,5,0,0,0,0\\nPV,2020-06-09,24,11,0,13,0,0\\nRI,2020-06-09,1,1,0,0,0,0\\nVC,2020-06-09,8,8,0,0,0,0\\nAN,2020-06-10,6,6,0,0,0,0\\nAR,2020-06-10,2,2,0,0,0,0\\nAS,2020-06-10,0,0,0,0,0,0\\nCB,2020-06-10,1,0,1,0,0,0\\nCE,2020-06-10,0,0,0,0,0,0\\nCL,2020-06-10,17,16,0,0,1,0\\nCM,2020-06-10,30,26,0,2,2,0\\nCN,2020-06-10,1,1,0,0,0,0\\nCT,2020-06-10,155,98,0,0,55,2\\nEX,2020-06-10,1,1,0,0,0,0\\nGA,2020-06-10,0,0,0,0,0,0\\nIB,2020-06-10,4,4,0,0,0,0\\nMC,2020-06-10,1,1,0,0,0,0\\nMD,2020-06-10,126,122,0,4,0,0\\nML,2020-06-10,0,0,0,0,0,0\\nNC,2020-06-10,4,4,0,0,0,0\\nPV,2020-06-10,22,8,0,14,0,0\\nRI,2020-06-10,0,0,0,0,0,0\\nVC,2020-06-10,3,3,0,0,0,0\\nAN,2020-06-11,5,5,0,0,0,0\\nAR,2020-06-11,5,5,0,0,0,0\\nAS,2020-06-11,3,3,0,0,0,0\\nCB,2020-06-11,3,3,0,0,0,0\\nCE,2020-06-11,0,0,0,0,0,0\\nCL,2020-06-11,17,17,0,0,0,0\\nCM,2020-06-11,13,11,0,1,1,0\\nCN,2020-06-11,2,2,0,0,0,0\\nCT,2020-06-11,133,82,0,0,49,2\\nEX,2020-06-11,0,0,0,0,0,0\\nGA,2020-06-11,1,1,0,0,0,0\\nIB,2020-06-11,4,4,0,0,0,0\\nMC,2020-06-11,0,0,0,0,0,0\\nMD,2020-06-11,113,105,0,8,0,0\\nML,2020-06-11,0,0,0,0,0,0\\nNC,2020-06-11,1,1,0,0,0,0\\nPV,2020-06-11,21,10,0,11,0,0\\nRI,2020-06-11,1,1,0,0,0,0\\nVC,2020-06-11,11,11,0,0,0,0\\nAN,2020-06-12,4,4,0,0,0,0\\nAR,2020-06-12,3,3,0,0,0,0\\nAS,2020-06-12,0,0,0,0,0,0\\nCB,2020-06-12,2,2,0,0,0,0\\nCE,2020-06-12,0,0,0,0,0,0\\nCL,2020-06-12,21,20,0,0,1,0\\nCM,2020-06-12,18,17,0,0,1,0\\nCN,2020-06-12,4,4,0,0,0,0\\nCT,2020-06-12,145,112,0,0,33,0\\nEX,2020-06-12,1,1,0,0,0,0\\nGA,2020-06-12,3,3,0,0,0,0\\nIB,2020-06-12,7,7,0,0,0,0\\nMC,2020-06-12,0,0,0,0,0,0\\nMD,2020-06-12,129,126,0,3,0,0\\nML,2020-06-12,0,0,0,0,0,0\\nNC,2020-06-12,1,1,0,0,0,0\\nPV,2020-06-12,28,19,0,9,0,0\\nRI,2020-06-12,0,0,0,0,0,0\\nVC,2020-06-12,11,11,0,0,0,0\\nAN,2020-06-13,4,4,0,0,0,0\\nAR,2020-06-13,4,4,0,0,0,0\\nAS,2020-06-13,0,0,0,0,0,0\\nCB,2020-06-13,1,1,0,0,0,0\\nCE,2020-06-13,0,0,0,0,0,0\\nCL,2020-06-13,12,11,0,0,1,0\\nCM,2020-06-13,9,9,0,0,0,0\\nCN,2020-06-13,2,2,0,0,0,0\\nCT,2020-06-13,51,47,0,0,4,0\\nEX,2020-06-13,1,1,0,0,0,0\\nGA,2020-06-13,0,0,0,0,0,0\\nIB,2020-06-13,2,2,0,0,0,0\\nMC,2020-06-13,1,1,0,0,0,0\\nMD,2020-06-13,34,28,0,6,0,0\\nML,2020-06-13,0,0,0,0,0,0\\nNC,2020-06-13,1,1,0,0,0,0\\nPV,2020-06-13,27,10,0,17,0,0\\nRI,2020-06-13,2,2,0,0,0,0\\nVC,2020-06-13,3,3,0,0,0,0\\nAN,2020-06-14,4,4,0,0,0,0\\nAR,2020-06-14,2,1,0,0,1,0\\nAS,2020-06-14,0,0,0,0,0,0\\nCB,2020-06-14,2,2,0,0,0,0\\nCE,2020-06-14,0,0,0,0,0,0\\nCL,2020-06-14,6,5,0,0,1,0\\nCM,2020-06-14,12,12,0,0,0,0\\nCN,2020-06-14,1,1,0,0,0,0\\nCT,2020-06-14,58,57,0,0,1,0\\nEX,2020-06-14,0,0,0,0,0,0\\nGA,2020-06-14,1,1,0,0,0,0\\nIB,2020-06-14,4,4,0,0,0,0\\nMC,2020-06-14,3,3,0,0,0,0\\nMD,2020-06-14,51,47,0,4,0,0\\nML,2020-06-14,0,0,0,0,0,0\\nNC,2020-06-14,2,2,0,0,0,0\\nPV,2020-06-14,19,7,0,12,0,0\\nRI,2020-06-14,1,1,0,0,0,0\\nVC,2020-06-14,2,2,0,0,0,0\\nAN,2020-06-15,7,7,0,0,0,0\\nAR,2020-06-15,6,6,0,0,0,0\\nAS,2020-06-15,0,0,0,0,0,0\\nCB,2020-06-15,1,1,0,0,0,0\\nCE,2020-06-15,0,0,0,0,0,0\\nCL,2020-06-15,15,15,0,0,0,0\\nCM,2020-06-15,16,16,0,0,0,0\\nCN,2020-06-15,1,1,0,0,0,0\\nCT,2020-06-15,107,78,0,0,29,0\\nEX,2020-06-15,5,5,0,0,0,0\\nGA,2020-06-15,4,4,0,0,0,0\\nIB,2020-06-15,3,3,0,0,0,0\\nMC,2020-06-15,2,2,0,0,0,0\\nMD,2020-06-15,128,125,0,3,0,0\\nML,2020-06-15,1,1,0,0,0,0\\nNC,2020-06-15,4,4,0,0,0,0\\nPV,2020-06-15,22,15,0,7,0,0\\nRI,2020-06-15,0,0,0,0,0,0\\nVC,2020-06-15,11,11,0,0,0,0\\nAN,2020-06-16,10,10,0,0,0,0\\nAR,2020-06-16,11,11,0,0,0,0\\nAS,2020-06-16,1,1,0,0,0,0\\nCB,2020-06-16,2,2,0,0,0,0\\nCE,2020-06-16,0,0,0,0,0,0\\nCL,2020-06-16,42,41,0,0,1,0\\nCM,2020-06-16,25,25,0,0,0,0\\nCN,2020-06-16,2,2,0,0,0,0\\nCT,2020-06-16,97,82,0,0,15,0\\nEX,2020-06-16,2,2,0,0,0,0\\nGA,2020-06-16,1,1,0,0,0,0\\nIB,2020-06-16,4,4,0,0,0,0\\nMC,2020-06-16,1,1,0,0,0,0\\nMD,2020-06-16,56,56,0,0,0,0\\nML,2020-06-16,0,0,0,0,0,0\\nNC,2020-06-16,12,12,0,0,0,0\\nPV,2020-06-16,20,10,0,10,0,0\\nRI,2020-06-16,1,1,0,0,0,0\\nVC,2020-06-16,10,10,0,0,0,0\\nAN,2020-06-17,10,10,0,0,0,0\\nAR,2020-06-17,6,6,0,0,0,0\\nAS,2020-06-17,0,0,0,0,0,0\\nCB,2020-06-17,3,3,0,0,0,0\\nCE,2020-06-17,0,0,0,0,0,0\\nCL,2020-06-17,18,18,0,0,0,0\\nCM,2020-06-17,15,15,0,0,0,0\\nCN,2020-06-17,14,14,0,0,0,0\\nCT,2020-06-17,121,102,0,0,18,1\\nEX,2020-06-17,7,7,0,0,0,0\\nGA,2020-06-17,4,4,0,0,0,0\\nIB,2020-06-17,4,4,0,0,0,0\\nMC,2020-06-17,2,2,0,0,0,0\\nMD,2020-06-17,81,81,0,0,0,0\\nML,2020-06-17,0,0,0,0,0,0\\nNC,2020-06-17,3,3,0,0,0,0\\nPV,2020-06-17,19,8,0,11,0,0\\nRI,2020-06-17,0,0,0,0,0,0\\nVC,2020-06-17,9,9,0,0,0,0\\nAN,2020-06-18,25,25,0,0,0,0\\nAR,2020-06-18,17,16,0,1,0,0\\nAS,2020-06-18,0,0,0,0,0,0\\nCB,2020-06-18,5,5,0,0,0,0\\nCE,2020-06-18,0,0,0,0,0,0\\nCL,2020-06-18,12,11,0,0,1,0\\nCM,2020-06-18,13,13,0,0,0,0\\nCN,2020-06-18,0,0,0,0,0,0\\nCT,2020-06-18,124,106,0,0,18,0\\nEX,2020-06-18,4,4,0,0,0,0\\nGA,2020-06-18,2,2,0,0,0,0\\nIB,2020-06-18,5,5,0,0,0,0\\nMC,2020-06-18,2,2,0,0,0,0\\nMD,2020-06-18,71,69,0,2,0,0\\nML,2020-06-18,0,0,0,0,0,0\\nNC,2020-06-18,6,6,0,0,0,0\\nPV,2020-06-18,24,11,0,13,0,0\\nRI,2020-06-18,1,1,0,0,0,0\\nVC,2020-06-18,8,8,0,0,0,0\\nAN,2020-06-19,11,11,0,0,0,0\\nAR,2020-06-19,23,23,0,0,0,0\\nAS,2020-06-19,0,0,0,0,0,0\\nCB,2020-06-19,0,0,0,0,0,0\\nCE,2020-06-19,0,0,0,0,0,0\\nCL,2020-06-19,14,13,0,0,1,0\\nCM,2020-06-19,18,18,0,0,0,0\\nCN,2020-06-19,1,1,0,0,0,0\\nCT,2020-06-19,108,90,0,0,18,0\\nEX,2020-06-19,2,2,0,0,0,0\\nGA,2020-06-19,2,2,0,0,0,0\\nIB,2020-06-19,8,8,0,0,0,0\\nMC,2020-06-19,3,3,0,0,0,0\\nMD,2020-06-19,60,59,0,1,0,0\\nML,2020-06-19,0,0,0,0,0,0\\nNC,2020-06-19,9,9,0,0,0,0\\nPV,2020-06-19,21,11,0,10,0,0\\nRI,2020-06-19,0,0,0,0,0,0\\nVC,2020-06-19,11,11,0,0,0,0\\nAN,2020-06-20,15,15,0,0,0,0\\nAR,2020-06-20,29,29,0,0,0,0\\nAS,2020-06-20,0,0,0,0,0,0\\nCB,2020-06-20,3,3,0,0,0,0\\nCE,2020-06-20,0,0,0,0,0,0\\nCL,2020-06-20,18,17,0,0,1,0\\nCM,2020-06-20,16,16,0,0,0,0\\nCN,2020-06-20,11,11,0,0,0,0\\nCT,2020-06-20,101,98,0,0,3,0\\nEX,2020-06-20,1,1,0,0,0,0\\nGA,2020-06-20,2,2,0,0,0,0\\nIB,2020-06-20,3,3,0,0,0,0\\nMC,2020-06-20,3,3,0,0,0,0\\nMD,2020-06-20,40,40,0,0,0,0\\nML,2020-06-20,0,0,0,0,0,0\\nNC,2020-06-20,4,4,0,0,0,0\\nPV,2020-06-20,16,4,0,12,0,0\\nRI,2020-06-20,1,1,0,0,0,0\\nVC,2020-06-20,5,5,0,0,0,0\\nAN,2020-06-21,10,10,0,0,0,0\\nAR,2020-06-21,38,37,0,0,1,0\\nAS,2020-06-21,0,0,0,0,0,0\\nCB,2020-06-21,2,2,0,0,0,0\\nCE,2020-06-21,0,0,0,0,0,0\\nCL,2020-06-21,6,6,0,0,0,0\\nCM,2020-06-21,14,12,0,2,0,0\\nCN,2020-06-21,2,2,0,0,0,0\\nCT,2020-06-21,85,84,0,0,1,0\\nEX,2020-06-21,5,5,0,0,0,0\\nGA,2020-06-21,6,6,0,0,0,0\\nIB,2020-06-21,2,2,0,0,0,0\\nMC,2020-06-21,5,5,0,0,0,0\\nMD,2020-06-21,30,29,0,1,0,0\\nML,2020-06-21,2,2,0,0,0,0\\nNC,2020-06-21,15,15,0,0,0,0\\nPV,2020-06-21,15,6,0,9,0,0\\nRI,2020-06-21,0,0,0,0,0,0\\nVC,2020-06-21,10,10,0,0,0,0\\nAN,2020-06-22,17,17,0,0,0,0\\nAR,2020-06-22,46,46,0,0,0,0\\nAS,2020-06-22,0,0,0,0,0,0\\nCB,2020-06-22,1,1,0,0,0,0\\nCE,2020-06-22,0,0,0,0,0,0\\nCL,2020-06-22,14,14,0,0,0,0\\nCM,2020-06-22,20,17,0,3,0,0\\nCN,2020-06-22,0,0,0,0,0,0\\nCT,2020-06-22,141,111,0,0,30,0\\nEX,2020-06-22,1,1,0,0,0,0\\nGA,2020-06-22,0,0,0,0,0,0\\nIB,2020-06-22,1,1,0,0,0,0\\nMC,2020-06-22,4,4,0,0,0,0\\nMD,2020-06-22,41,39,0,2,0,0\\nML,2020-06-22,0,0,0,0,0,0\\nNC,2020-06-22,18,18,0,0,0,0\\nPV,2020-06-22,16,9,0,7,0,0\\nRI,2020-06-22,0,0,0,0,0,0\\nVC,2020-06-22,7,7,0,0,0,0\\nAN,2020-06-23,13,13,0,0,0,0\\nAR,2020-06-23,28,28,0,0,0,0\\nAS,2020-06-23,0,0,0,0,0,0\\nCB,2020-06-23,2,2,0,0,0,0\\nCE,2020-06-23,0,0,0,0,0,0\\nCL,2020-06-23,29,28,0,0,1,0\\nCM,2020-06-23,29,28,0,1,0,0\\nCN,2020-06-23,6,6,0,0,0,0\\nCT,2020-06-23,155,128,0,0,27,0\\nEX,2020-06-23,5,5,0,0,0,0\\nGA,2020-06-23,6,6,0,0,0,0\\nIB,2020-06-23,5,5,0,0,0,0\\nMC,2020-06-23,5,5,0,0,0,0\\nMD,2020-06-23,46,46,0,0,0,0\\nML,2020-06-23,0,0,0,0,0,0\\nNC,2020-06-23,8,8,0,0,0,0\\nPV,2020-06-23,19,5,0,14,0,0\\nRI,2020-06-23,1,1,0,0,0,0\\nVC,2020-06-23,12,12,0,0,0,0\\nAN,2020-06-24,97,97,0,0,0,0\\nAR,2020-06-24,57,56,0,0,1,0\\nAS,2020-06-24,0,0,0,0,0,0\\nCB,2020-06-24,2,2,0,0,0,0\\nCE,2020-06-24,0,0,0,0,0,0\\nCL,2020-06-24,14,14,0,0,0,0\\nCM,2020-06-24,22,21,0,1,0,0\\nCN,2020-06-24,1,1,0,0,0,0\\nCT,2020-06-24,111,111,0,0,0,0\\nEX,2020-06-24,1,1,0,0,0,0\\nGA,2020-06-24,4,4,0,0,0,0\\nIB,2020-06-24,3,3,0,0,0,0\\nMC,2020-06-24,7,7,0,0,0,0\\nMD,2020-06-24,45,44,0,1,0,0\\nML,2020-06-24,0,0,0,0,0,0\\nNC,2020-06-24,11,11,0,0,0,0\\nPV,2020-06-24,27,13,0,14,0,0\\nRI,2020-06-24,1,1,0,0,0,0\\nVC,2020-06-24,6,6,0,0,0,0\\nAN,2020-06-25,22,22,0,0,0,0\\nAR,2020-06-25,43,43,0,0,0,0\\nAS,2020-06-25,0,0,0,0,0,0\\nCB,2020-06-25,0,0,0,0,0,0\\nCE,2020-06-25,0,0,0,0,0,0\\nCL,2020-06-25,17,17,0,0,0,0\\nCM,2020-06-25,22,22,0,0,0,0\\nCN,2020-06-25,1,1,0,0,0,0\\nCT,2020-06-25,166,129,0,0,37,0\\nEX,2020-06-25,4,4,0,0,0,0\\nGA,2020-06-25,11,11,0,0,0,0\\nIB,2020-06-25,1,1,0,0,0,0\\nMC,2020-06-25,5,5,0,0,0,0\\nMD,2020-06-25,57,55,0,2,0,0\\nML,2020-06-25,0,0,0,0,0,0\\nNC,2020-06-25,6,6,0,0,0,0\\nPV,2020-06-25,12,5,0,7,0,0\\nRI,2020-06-25,0,0,0,0,0,0\\nVC,2020-06-25,9,9,0,0,0,0\\nAN,2020-06-26,19,19,0,0,0,0\\nAR,2020-06-26,21,21,0,0,0,0\\nAS,2020-06-26,0,0,0,0,0,0\\nCB,2020-06-26,3,3,0,0,0,0\\nCE,2020-06-26,0,0,0,0,0,0\\nCL,2020-06-26,15,15,0,0,0,0\\nCM,2020-06-26,14,14,0,0,0,0\\nCN,2020-06-26,1,1,0,0,0,0\\nCT,2020-06-26,243,196,0,0,47,0\\nEX,2020-06-26,0,0,0,0,0,0\\nGA,2020-06-26,3,3,0,0,0,0\\nIB,2020-06-26,10,10,0,0,0,0\\nMC,2020-06-26,7,7,0,0,0,0\\nMD,2020-06-26,54,53,0,1,0,0\\nML,2020-06-26,0,0,0,0,0,0\\nNC,2020-06-26,6,6,0,0,0,0\\nPV,2020-06-26,17,10,0,7,0,0\\nRI,2020-06-26,0,0,0,0,0,0\\nVC,2020-06-26,15,15,0,0,0,0\\nAN,2020-06-27,15,15,0,0,0,0\\nAR,2020-06-27,49,49,0,0,0,0\\nAS,2020-06-27,0,0,0,0,0,0\\nCB,2020-06-27,2,2,0,0,0,0\\nCE,2020-06-27,0,0,0,0,0,0\\nCL,2020-06-27,13,13,0,0,0,0\\nCM,2020-06-27,20,18,0,2,0,0\\nCN,2020-06-27,0,0,0,0,0,0\\nCT,2020-06-27,139,139,0,0,0,0\\nEX,2020-06-27,4,4,0,0,0,0\\nGA,2020-06-27,8,7,0,0,1,0\\nIB,2020-06-27,5,5,0,0,0,0\\nMC,2020-06-27,6,6,0,0,0,0\\nMD,2020-06-27,26,24,0,2,0,0\\nML,2020-06-27,0,0,0,0,0,0\\nNC,2020-06-27,7,7,0,0,0,0\\nPV,2020-06-27,14,5,0,9,0,0\\nRI,2020-06-27,0,0,0,0,0,0\\nVC,2020-06-27,13,13,0,0,0,0\\nAN,2020-06-28,27,27,0,0,0,0\\nAR,2020-06-28,17,17,0,0,0,0\\nAS,2020-06-28,0,0,0,0,0,0\\nCB,2020-06-28,0,0,0,0,0,0\\nCE,2020-06-28,0,0,0,0,0,0\\nCL,2020-06-28,5,5,0,0,0,0\\nCM,2020-06-28,18,16,0,2,0,0\\nCN,2020-06-28,0,0,0,0,0,0\\nCT,2020-06-28,121,119,0,0,2,0\\nEX,2020-06-28,4,4,0,0,0,0\\nGA,2020-06-28,9,9,0,0,0,0\\nIB,2020-06-28,5,5,0,0,0,0\\nMC,2020-06-28,3,3,0,0,0,0\\nMD,2020-06-28,29,29,0,0,0,0\\nML,2020-06-28,0,0,0,0,0,0\\nNC,2020-06-28,2,2,0,0,0,0\\nPV,2020-06-28,19,6,0,13,0,0\\nRI,2020-06-28,2,2,0,0,0,0\\nVC,2020-06-28,13,13,0,0,0,0\\nAN,2020-06-29,22,22,0,0,0,0\\nAR,2020-06-29,27,27,0,0,0,0\\nAS,2020-06-29,1,1,0,0,0,0\\nCB,2020-06-29,0,0,0,0,0,0\\nCE,2020-06-29,0,0,0,0,0,0\\nCL,2020-06-29,11,11,0,0,0,0\\nCM,2020-06-29,21,21,0,0,0,0\\nCN,2020-06-29,0,0,0,0,0,0\\nCT,2020-06-29,216,196,0,0,20,0\\nEX,2020-06-29,6,6,0,0,0,0\\nGA,2020-06-29,10,10,0,0,0,0\\nIB,2020-06-29,9,9,0,0,0,0\\nMC,2020-06-29,10,10,0,0,0,0\\nMD,2020-06-29,56,55,0,1,0,0\\nML,2020-06-29,0,0,0,0,0,0\\nNC,2020-06-29,1,1,0,0,0,0\\nPV,2020-06-29,23,8,0,15,0,0\\nRI,2020-06-29,1,1,0,0,0,0\\nVC,2020-06-29,18,18,0,0,0,0\\nAN,2020-06-30,26,25,0,0,1,0\\nAR,2020-06-30,36,36,0,0,0,0\\nAS,2020-06-30,0,0,0,0,0,0\\nCB,2020-06-30,1,1,0,0,0,0\\nCE,2020-06-30,0,0,0,0,0,0\\nCL,2020-06-30,13,13,0,0,0,0\\nCM,2020-06-30,18,16,0,2,0,0\\nCN,2020-06-30,5,5,0,0,0,0\\nCT,2020-06-30,221,201,0,0,19,1\\nEX,2020-06-30,8,8,0,0,0,0\\nGA,2020-06-30,20,20,0,0,0,0\\nIB,2020-06-30,3,3,0,0,0,0\\nMC,2020-06-30,3,3,0,0,0,0\\nMD,2020-06-30,65,63,0,2,0,0\\nML,2020-06-30,0,0,0,0,0,0\\nNC,2020-06-30,3,3,0,0,0,0\\nPV,2020-06-30,27,15,0,12,0,0\\nRI,2020-06-30,0,0,0,0,0,0\\nVC,2020-06-30,18,18,0,0,0,0\\nAN,2020-07-01,23,23,0,0,0,0\\nAR,2020-07-01,36,36,0,0,0,0\\nAS,2020-07-01,1,1,0,0,0,0\\nCB,2020-07-01,1,1,0,0,0,0\\nCE,2020-07-01,0,0,0,0,0,0\\nCL,2020-07-01,10,9,0,0,1,0\\nCM,2020-07-01,23,23,0,0,0,0\\nCN,2020-07-01,7,7,0,0,0,0\\nCT,2020-07-01,333,306,0,0,25,2\\nEX,2020-07-01,9,9,0,0,0,0\\nGA,2020-07-01,25,25,0,0,0,0\\nIB,2020-07-01,4,4,0,0,0,0\\nMC,2020-07-01,5,5,0,0,0,0\\nMD,2020-07-01,70,67,0,3,0,0\\nML,2020-07-01,0,0,0,0,0,0\\nNC,2020-07-01,6,6,0,0,0,0\\nPV,2020-07-01,15,7,0,8,0,0\\nRI,2020-07-01,0,0,0,0,0,0\\nVC,2020-07-01,23,23,0,0,0,0\\nAN,2020-07-02,14,14,0,0,0,0\\nAR,2020-07-02,21,21,0,0,0,0\\nAS,2020-07-02,0,0,0,0,0,0\\nCB,2020-07-02,0,0,0,0,0,0\\nCE,2020-07-02,0,0,0,0,0,0\\nCL,2020-07-02,9,9,0,0,0,0\\nCM,2020-07-02,17,17,0,0,0,0\\nCN,2020-07-02,1,1,0,0,0,0\\nCT,2020-07-02,274,246,0,0,27,1\\nEX,2020-07-02,4,4,0,0,0,0\\nGA,2020-07-02,16,16,0,0,0,0\\nIB,2020-07-02,3,3,0,0,0,0\\nMC,2020-07-02,2,2,0,0,0,0\\nMD,2020-07-02,49,49,0,0,0,0\\nML,2020-07-02,0,0,0,0,0,0\\nNC,2020-07-02,5,5,0,0,0,0\\nPV,2020-07-02,13,9,0,4,0,0\\nRI,2020-07-02,0,0,0,0,0,0\\nVC,2020-07-02,24,24,0,0,0,0\\nAN,2020-07-03,28,28,0,0,0,0\\nAR,2020-07-03,46,45,0,0,1,0\\nAS,2020-07-03,0,0,0,0,0,0\\nCB,2020-07-03,3,3,0,0,0,0\\nCE,2020-07-03,0,0,0,0,0,0\\nCL,2020-07-03,11,11,0,0,0,0\\nCM,2020-07-03,23,22,0,1,0,0\\nCN,2020-07-03,4,4,0,0,0,0\\nCT,2020-07-03,294,285,0,0,9,0\\nEX,2020-07-03,8,8,0,0,0,0\\nGA,2020-07-03,21,21,0,0,0,0\\nIB,2020-07-03,4,4,0,0,0,0\\nMC,2020-07-03,3,3,0,0,0,0\\nMD,2020-07-03,84,79,0,5,0,0\\nML,2020-07-03,0,0,0,0,0,0\\nNC,2020-07-03,8,8,0,0,0,0\\nPV,2020-07-03,25,13,0,12,0,0\\nRI,2020-07-03,0,0,0,0,0,0\\nVC,2020-07-03,15,15,0,0,0,0\\nAN,2020-07-04,25,25,0,0,0,0\\nAR,2020-07-04,32,31,0,1,0,0\\nAS,2020-07-04,0,0,0,0,0,0\\nCB,2020-07-04,0,0,0,0,0,0\\nCE,2020-07-04,0,0,0,0,0,0\\nCL,2020-07-04,8,8,0,0,0,0\\nCM,2020-07-04,16,15,0,1,0,0\\nCN,2020-07-04,4,4,0,0,0,0\\nCT,2020-07-04,275,274,0,0,1,0\\nEX,2020-07-04,4,4,0,0,0,0\\nGA,2020-07-04,16,16,0,0,0,0\\nIB,2020-07-04,3,3,0,0,0,0\\nMC,2020-07-04,6,6,0,0,0,0\\nMD,2020-07-04,34,33,0,1,0,0\\nML,2020-07-04,0,0,0,0,0,0\\nNC,2020-07-04,5,5,0,0,0,0\\nPV,2020-07-04,21,7,0,14,0,0\\nRI,2020-07-04,0,0,0,0,0,0\\nVC,2020-07-04,7,7,0,0,0,0\\nAN,2020-07-05,16,16,0,0,0,0\\nAR,2020-07-05,37,37,0,0,0,0\\nAS,2020-07-05,0,0,0,0,0,0\\nCB,2020-07-05,2,2,0,0,0,0\\nCE,2020-07-05,0,0,0,0,0,0\\nCL,2020-07-05,3,3,0,0,0,0\\nCM,2020-07-05,7,6,0,1,0,0\\nCN,2020-07-05,1,1,0,0,0,0\\nCT,2020-07-05,266,266,0,0,0,0\\nEX,2020-07-05,6,6,0,0,0,0\\nGA,2020-07-05,23,23,0,0,0,0\\nIB,2020-07-05,3,3,0,0,0,0\\nMC,2020-07-05,7,7,0,0,0,0\\nMD,2020-07-05,41,33,0,8,0,0\\nML,2020-07-05,0,0,0,0,0,0\\nNC,2020-07-05,1,1,0,0,0,0\\nPV,2020-07-05,34,16,0,18,0,0\\nRI,2020-07-05,1,1,0,0,0,0\\nVC,2020-07-05,11,11,0,0,0,0\\nAN,2020-07-06,23,23,0,0,0,0\\nAR,2020-07-06,77,77,0,0,0,0\\nAS,2020-07-06,0,0,0,0,0,0\\nCB,2020-07-06,0,0,0,0,0,0\\nCE,2020-07-06,0,0,0,0,0,0\\nCL,2020-07-06,16,14,0,0,2,0\\nCM,2020-07-06,19,19,0,0,0,0\\nCN,2020-07-06,3,3,0,0,0,0\\nCT,2020-07-06,433,416,0,0,0,17\\nEX,2020-07-06,2,1,0,0,1,0\\nGA,2020-07-06,22,22,0,0,0,0\\nIB,2020-07-06,4,3,1,0,0,0\\nMC,2020-07-06,8,8,0,0,0,0\\nMD,2020-07-06,76,73,0,3,0,0\\nML,2020-07-06,0,0,0,0,0,0\\nNC,2020-07-06,12,12,0,0,0,0\\nPV,2020-07-06,39,33,0,6,0,0\\nRI,2020-07-06,0,0,0,0,0,0\\nVC,2020-07-06,24,24,0,0,0,0\\nAN,2020-07-07,32,32,0,0,0,0\\nAR,2020-07-07,90,90,0,0,0,0\\nAS,2020-07-07,0,0,0,0,0,0\\nCB,2020-07-07,1,1,0,0,0,0\\nCE,2020-07-07,0,0,0,0,0,0\\nCL,2020-07-07,10,9,0,0,1,0\\nCM,2020-07-07,17,17,0,0,0,0\\nCN,2020-07-07,4,4,0,0,0,0\\nCT,2020-07-07,485,482,0,0,3,0\\nEX,2020-07-07,16,16,0,0,0,0\\nGA,2020-07-07,21,21,0,0,0,0\\nIB,2020-07-07,1,1,0,0,0,0\\nMC,2020-07-07,14,14,0,0,0,0\\nMD,2020-07-07,72,67,0,5,0,0\\nML,2020-07-07,0,0,0,0,0,0\\nNC,2020-07-07,13,13,0,0,0,0\\nPV,2020-07-07,43,31,0,12,0,0\\nRI,2020-07-07,3,3,0,0,0,0\\nVC,2020-07-07,27,27,0,0,0,0\\nAN,2020-07-08,56,56,0,0,0,0\\nAR,2020-07-08,76,76,0,0,0,0\\nAS,2020-07-08,2,2,0,0,0,0\\nCB,2020-07-08,2,2,0,0,0,0\\nCE,2020-07-08,0,0,0,0,0,0\\nCL,2020-07-08,14,13,0,0,1,0\\nCM,2020-07-08,23,22,0,1,0,0\\nCN,2020-07-08,8,8,0,0,0,0\\nCT,2020-07-08,546,544,0,0,2,0\\nEX,2020-07-08,6,6,0,0,0,0\\nGA,2020-07-08,31,31,0,0,0,0\\nIB,2020-07-08,5,4,0,1,0,0\\nMC,2020-07-08,16,16,0,0,0,0\\nMD,2020-07-08,105,97,0,8,0,0\\nML,2020-07-08,0,0,0,0,0,0\\nNC,2020-07-08,8,8,0,0,0,0\\nPV,2020-07-08,47,37,0,10,0,0\\nRI,2020-07-08,5,5,0,0,0,0\\nVC,2020-07-08,29,29,0,0,0,0\\nAN,2020-07-09,37,37,0,0,0,0\\nAR,2020-07-09,91,91,0,0,0,0\\nAS,2020-07-09,0,0,0,0,0,0\\nCB,2020-07-09,1,1,0,0,0,0\\nCE,2020-07-09,0,0,0,0,0,0\\nCL,2020-07-09,8,8,0,0,0,0\\nCM,2020-07-09,30,29,0,1,0,0\\nCN,2020-07-09,8,7,0,0,0,1\\nCT,2020-07-09,572,571,0,0,0,1\\nEX,2020-07-09,23,23,0,0,0,0\\nGA,2020-07-09,20,20,0,0,0,0\\nIB,2020-07-09,6,6,0,0,0,0\\nMC,2020-07-09,6,6,0,0,0,0\\nMD,2020-07-09,100,92,0,8,0,0\\nML,2020-07-09,0,0,0,0,0,0\\nNC,2020-07-09,29,29,0,0,0,0\\nPV,2020-07-09,41,35,0,6,0,0\\nRI,2020-07-09,1,1,0,0,0,0\\nVC,2020-07-09,28,28,0,0,0,0\\nAN,2020-07-10,60,60,0,0,0,0\\nAR,2020-07-10,129,129,0,0,0,0\\nAS,2020-07-10,2,2,0,0,0,0\\nCB,2020-07-10,1,1,0,0,0,0\\nCE,2020-07-10,0,0,0,0,0,0\\nCL,2020-07-10,16,15,0,0,1,0\\nCM,2020-07-10,27,25,0,2,0,0\\nCN,2020-07-10,3,3,0,0,0,0\\nCT,2020-07-10,724,722,0,0,1,1\\nEX,2020-07-10,45,45,0,0,0,0\\nGA,2020-07-10,7,7,0,0,0,0\\nIB,2020-07-10,8,8,0,0,0,0\\nMC,2020-07-10,9,9,0,0,0,0\\nMD,2020-07-10,86,77,0,9,0,0\\nML,2020-07-10,0,0,0,0,0,0\\nNC,2020-07-10,20,20,0,0,0,0\\nPV,2020-07-10,33,24,0,9,0,0\\nRI,2020-07-10,10,10,0,0,0,0\\nVC,2020-07-10,33,33,0,0,0,0\\nAN,2020-07-11,50,50,0,0,0,0\\nAR,2020-07-11,155,154,0,1,0,0\\nAS,2020-07-11,3,3,0,0,0,0\\nCB,2020-07-11,1,1,0,0,0,0\\nCE,2020-07-11,0,0,0,0,0,0\\nCL,2020-07-11,13,13,0,0,0,0\\nCM,2020-07-11,13,13,0,0,0,0\\nCN,2020-07-11,1,1,0,0,0,0\\nCT,2020-07-11,445,445,0,0,0,0\\nEX,2020-07-11,18,18,0,0,0,0\\nGA,2020-07-11,13,13,0,0,0,0\\nIB,2020-07-11,7,7,0,0,0,0\\nMC,2020-07-11,17,17,0,0,0,0\\nMD,2020-07-11,71,62,0,9,0,0\\nML,2020-07-11,0,0,0,0,0,0\\nNC,2020-07-11,35,35,0,0,0,0\\nPV,2020-07-11,55,40,0,15,0,0\\nRI,2020-07-11,3,3,0,0,0,0\\nVC,2020-07-11,35,35,0,0,0,0\\nAN,2020-07-12,33,33,0,0,0,0\\nAR,2020-07-12,131,131,0,0,0,0\\nAS,2020-07-12,0,0,0,0,0,0\\nCB,2020-07-12,2,2,0,0,0,0\\nCE,2020-07-12,0,0,0,0,0,0\\nCL,2020-07-12,9,9,0,0,0,0\\nCM,2020-07-12,13,13,0,0,0,0\\nCN,2020-07-12,3,3,0,0,0,0\\nCT,2020-07-12,514,509,0,0,2,3\\nEX,2020-07-12,12,12,0,0,0,0\\nGA,2020-07-12,6,6,0,0,0,0\\nIB,2020-07-12,4,4,0,0,0,0\\nMC,2020-07-12,12,12,0,0,0,0\\nMD,2020-07-12,77,70,0,7,0,0\\nML,2020-07-12,2,2,0,0,0,0\\nNC,2020-07-12,23,23,0,0,0,0\\nPV,2020-07-12,58,42,0,16,0,0\\nRI,2020-07-12,2,2,0,0,0,0\\nVC,2020-07-12,18,18,0,0,0,0\\nAN,2020-07-13,48,48,0,0,0,0\\nAR,2020-07-13,234,233,0,1,0,0\\nAS,2020-07-13,0,0,0,0,0,0\\nCB,2020-07-13,1,1,0,0,0,0\\nCE,2020-07-13,0,0,0,0,0,0\\nCL,2020-07-13,21,21,0,0,0,0\\nCM,2020-07-13,20,19,0,1,0,0\\nCN,2020-07-13,6,6,0,0,0,0\\nCT,2020-07-13,790,784,0,0,5,1\\nEX,2020-07-13,13,13,0,0,0,0\\nGA,2020-07-13,8,8,0,0,0,0\\nIB,2020-07-13,8,8,0,0,0,0\\nMC,2020-07-13,13,13,0,0,0,0\\nMD,2020-07-13,136,123,0,13,0,0\\nML,2020-07-13,0,0,0,0,0,0\\nNC,2020-07-13,40,40,0,0,0,0\\nPV,2020-07-13,75,53,0,22,0,0\\nRI,2020-07-13,4,4,0,0,0,0\\nVC,2020-07-13,48,48,0,0,0,0\\nAN,2020-07-14,96,96,0,0,0,0\\nAR,2020-07-14,291,291,0,0,0,0\\nAS,2020-07-14,2,2,0,0,0,0\\nCB,2020-07-14,2,2,0,0,0,0\\nCE,2020-07-14,1,1,0,0,0,0\\nCL,2020-07-14,20,20,0,0,0,0\\nCM,2020-07-14,31,30,0,1,0,0\\nCN,2020-07-14,2,2,0,0,0,0\\nCT,2020-07-14,766,760,0,0,5,1\\nEX,2020-07-14,3,3,0,0,0,0\\nGA,2020-07-14,10,10,0,0,0,0\\nIB,2020-07-14,11,11,0,0,0,0\\nMC,2020-07-14,21,21,0,0,0,0\\nMD,2020-07-14,134,126,0,8,0,0\\nML,2020-07-14,0,0,0,0,0,0\\nNC,2020-07-14,52,52,0,0,0,0\\nPV,2020-07-14,114,79,0,35,0,0\\nRI,2020-07-14,7,7,0,0,0,0\\nVC,2020-07-14,55,55,0,0,0,0\\nAN,2020-07-15,63,63,0,0,0,0\\nAR,2020-07-15,359,358,0,0,1,0\\nAS,2020-07-15,2,2,0,0,0,0\\nCB,2020-07-15,4,4,0,0,0,0\\nCE,2020-07-15,0,0,0,0,0,0\\nCL,2020-07-15,12,12,0,0,0,0\\nCM,2020-07-15,29,28,0,1,0,0\\nCN,2020-07-15,9,9,0,0,0,0\\nCT,2020-07-15,989,984,0,0,2,3\\nEX,2020-07-15,13,13,0,0,0,0\\nGA,2020-07-15,15,15,0,0,0,0\\nIB,2020-07-15,14,14,0,0,0,0\\nMC,2020-07-15,32,32,0,0,0,0\\nMD,2020-07-15,149,141,0,8,0,0\\nML,2020-07-15,0,0,0,0,0,0\\nNC,2020-07-15,43,43,0,0,0,0\\nPV,2020-07-15,142,94,0,48,0,0\\nRI,2020-07-15,2,2,0,0,0,0\\nVC,2020-07-15,82,82,0,0,0,0\\nAN,2020-07-16,91,91,0,0,0,0\\nAR,2020-07-16,298,298,0,0,0,0\\nAS,2020-07-16,1,1,0,0,0,0\\nCB,2020-07-16,5,5,0,0,0,0\\nCE,2020-07-16,0,0,0,0,0,0\\nCL,2020-07-16,21,21,0,0,0,0\\nCM,2020-07-16,25,25,0,0,0,0\\nCN,2020-07-16,4,4,0,0,0,0\\nCT,2020-07-16,894,890,0,0,3,1\\nEX,2020-07-16,22,22,0,0,0,0\\nGA,2020-07-16,15,15,0,0,0,0\\nIB,2020-07-16,7,7,0,0,0,0\\nMC,2020-07-16,24,24,0,0,0,0\\nMD,2020-07-16,123,116,0,7,0,0\\nML,2020-07-16,0,0,0,0,0,0\\nNC,2020-07-16,47,47,0,0,0,0\\nPV,2020-07-16,144,128,0,16,0,0\\nRI,2020-07-16,9,8,0,0,0,1\\nVC,2020-07-16,71,71,0,0,0,0\\nAN,2020-07-17,97,97,0,0,0,0\\nAR,2020-07-17,400,400,0,0,0,0\\nAS,2020-07-17,1,1,0,0,0,0\\nCB,2020-07-17,3,3,0,0,0,0\\nCE,2020-07-17,0,0,0,0,0,0\\nCL,2020-07-17,18,16,0,0,2,0\\nCM,2020-07-17,25,25,0,0,0,0\\nCN,2020-07-17,7,7,0,0,0,0\\nCT,2020-07-17,1077,1075,0,0,0,2\\nEX,2020-07-17,5,5,0,0,0,0\\nGA,2020-07-17,9,9,0,0,0,0\\nIB,2020-07-17,6,6,0,0,0,0\\nMC,2020-07-17,31,31,0,0,0,0\\nMD,2020-07-17,174,169,0,5,0,0\\nML,2020-07-17,0,0,0,0,0,0\\nNC,2020-07-17,73,73,0,0,0,0\\nPV,2020-07-17,115,101,0,14,0,0\\nRI,2020-07-17,11,5,0,0,1,5\\nVC,2020-07-17,90,90,0,0,0,0\\nAN,2020-07-18,86,86,0,0,0,0\\nAR,2020-07-18,335,335,0,0,0,0\\nAS,2020-07-18,1,1,0,0,0,0\\nCB,2020-07-18,12,12,0,0,0,0\\nCE,2020-07-18,0,0,0,0,0,0\\nCL,2020-07-18,27,25,0,0,2,0\\nCM,2020-07-18,16,15,0,1,0,0\\nCN,2020-07-18,13,13,0,0,0,0\\nCT,2020-07-18,848,846,0,0,1,1\\nEX,2020-07-18,5,5,0,0,0,0\\nGA,2020-07-18,11,11,0,0,0,0\\nIB,2020-07-18,7,7,0,0,0,0\\nMC,2020-07-18,21,21,0,0,0,0\\nMD,2020-07-18,133,127,0,6,0,0\\nML,2020-07-18,0,0,0,0,0,0\\nNC,2020-07-18,78,78,0,0,0,0\\nPV,2020-07-18,205,185,0,20,0,0\\nRI,2020-07-18,7,5,0,0,0,2\\nVC,2020-07-18,91,91,0,0,0,0\\nAN,2020-07-19,114,114,0,0,0,0\\nAR,2020-07-19,341,341,0,0,0,0\\nAS,2020-07-19,2,2,0,0,0,0\\nCB,2020-07-19,5,5,0,0,0,0\\nCE,2020-07-19,0,0,0,0,0,0\\nCL,2020-07-19,24,23,0,0,1,0\\nCM,2020-07-19,10,9,0,0,1,0\\nCN,2020-07-19,53,53,0,0,0,0\\nCT,2020-07-19,668,667,0,0,0,1\\nEX,2020-07-19,6,6,0,0,0,0\\nGA,2020-07-19,14,14,0,0,0,0\\nIB,2020-07-19,5,5,0,0,0,0\\nMC,2020-07-19,26,26,0,0,0,0\\nMD,2020-07-19,145,133,0,12,0,0\\nML,2020-07-19,0,0,0,0,0,0\\nNC,2020-07-19,51,51,0,0,0,0\\nPV,2020-07-19,119,93,0,26,0,0\\nRI,2020-07-19,0,0,0,0,0,0\\nVC,2020-07-19,83,83,0,0,0,0\\nAN,2020-07-20,122,122,0,0,0,0\\nAR,2020-07-20,430,430,0,0,0,0\\nAS,2020-07-20,1,1,0,0,0,0\\nCB,2020-07-20,9,9,0,0,0,0\\nCE,2020-07-20,0,0,0,0,0,0\\nCL,2020-07-20,35,34,0,0,1,0\\nCM,2020-07-20,35,35,0,0,0,0\\nCN,2020-07-20,3,3,0,0,0,0\\nCT,2020-07-20,1174,1168,0,0,6,0\\nEX,2020-07-20,9,9,0,0,0,0\\nGA,2020-07-20,22,22,0,0,0,0\\nIB,2020-07-20,16,16,0,0,0,0\\nMC,2020-07-20,38,38,0,0,0,0\\nMD,2020-07-20,224,209,0,15,0,0\\nML,2020-07-20,0,0,0,0,0,0\\nNC,2020-07-20,103,103,0,0,0,0\\nPV,2020-07-20,129,113,0,16,0,0\\nRI,2020-07-20,5,5,0,0,0,0\\nVC,2020-07-20,121,121,0,0,0,0\\nAN,2020-07-21,74,74,0,0,0,0\\nAR,2020-07-21,456,456,0,0,0,0\\nAS,2020-07-21,2,2,0,0,0,0\\nCB,2020-07-21,5,5,0,0,0,0\\nCE,2020-07-21,0,0,0,0,0,0\\nCL,2020-07-21,20,20,0,0,0,0\\nCM,2020-07-21,25,25,0,0,0,0\\nCN,2020-07-21,11,11,0,0,0,0\\nCT,2020-07-21,1105,1075,0,0,29,1\\nEX,2020-07-21,17,17,0,0,0,0\\nGA,2020-07-21,26,26,0,0,0,0\\nIB,2020-07-21,13,13,0,0,0,0\\nMC,2020-07-21,50,49,0,1,0,0\\nMD,2020-07-21,257,247,0,10,0,0\\nML,2020-07-21,0,0,0,0,0,0\\nNC,2020-07-21,118,118,0,0,0,0\\nPV,2020-07-21,142,120,0,22,0,0\\nRI,2020-07-21,17,17,0,0,0,0\\nVC,2020-07-21,132,132,0,0,0,0\\nAN,2020-07-22,78,78,0,0,0,0\\nAR,2020-07-22,465,465,0,0,0,0\\nAS,2020-07-22,2,2,0,0,0,0\\nCB,2020-07-22,6,6,0,0,0,0\\nCE,2020-07-22,1,1,0,0,0,0\\nCL,2020-07-22,24,24,0,0,0,0\\nCM,2020-07-22,43,43,0,0,0,0\\nCN,2020-07-22,8,8,0,0,0,0\\nCT,2020-07-22,1151,1141,0,0,9,1\\nEX,2020-07-22,6,6,0,0,0,0\\nGA,2020-07-22,18,18,0,0,0,0\\nIB,2020-07-22,15,15,0,0,0,0\\nMC,2020-07-22,59,59,0,0,0,0\\nMD,2020-07-22,247,236,0,11,0,0\\nML,2020-07-22,0,0,0,0,0,0\\nNC,2020-07-22,65,65,0,0,0,0\\nPV,2020-07-22,173,158,0,15,0,0\\nRI,2020-07-22,9,9,0,0,0,0\\nVC,2020-07-22,137,137,0,0,0,0\\nAN,2020-07-23,126,126,0,0,0,0\\nAR,2020-07-23,390,390,0,0,0,0\\nAS,2020-07-23,4,4,0,0,0,0\\nCB,2020-07-23,8,8,0,0,0,0\\nCE,2020-07-23,0,0,0,0,0,0\\nCL,2020-07-23,45,45,0,0,0,0\\nCM,2020-07-23,24,23,0,1,0,0\\nCN,2020-07-23,11,11,0,0,0,0\\nCT,2020-07-23,1121,1113,0,0,8,0\\nEX,2020-07-23,4,4,0,0,0,0\\nGA,2020-07-23,12,12,0,0,0,0\\nIB,2020-07-23,20,20,0,0,0,0\\nMC,2020-07-23,48,48,0,0,0,0\\nMD,2020-07-23,238,233,0,5,0,0\\nML,2020-07-23,0,0,0,0,0,0\\nNC,2020-07-23,67,67,0,0,0,0\\nPV,2020-07-23,129,125,0,4,0,0\\nRI,2020-07-23,5,5,0,0,0,0\\nVC,2020-07-23,126,126,0,0,0,0\\nAN,2020-07-24,128,128,0,0,0,0\\nAR,2020-07-24,448,447,0,1,0,0\\nAS,2020-07-24,3,3,0,0,0,0\\nCB,2020-07-24,6,6,0,0,0,0\\nCE,2020-07-24,0,0,0,0,0,0\\nCL,2020-07-24,37,37,0,0,0,0\\nCM,2020-07-24,49,48,0,1,0,0\\nCN,2020-07-24,6,5,0,1,0,0\\nCT,2020-07-24,1144,1134,0,0,9,1\\nEX,2020-07-24,11,11,0,0,0,0\\nGA,2020-07-24,15,15,0,0,0,0\\nIB,2020-07-24,25,25,0,0,0,0\\nMC,2020-07-24,72,72,0,0,0,0\\nMD,2020-07-24,371,365,0,6,0,0\\nML,2020-07-24,0,0,0,0,0,0\\nNC,2020-07-24,56,56,0,0,0,0\\nPV,2020-07-24,125,110,0,15,0,0\\nRI,2020-07-24,11,11,0,0,0,0\\nVC,2020-07-24,154,154,0,0,0,0\\nAN,2020-07-25,110,110,0,0,0,0\\nAR,2020-07-25,376,375,0,0,1,0\\nAS,2020-07-25,8,8,0,0,0,0\\nCB,2020-07-25,9,9,0,0,0,0\\nCE,2020-07-25,0,0,0,0,0,0\\nCL,2020-07-25,29,29,0,0,0,0\\nCM,2020-07-25,28,27,0,1,0,0\\nCN,2020-07-25,13,13,0,0,0,0\\nCT,2020-07-25,714,713,0,0,1,0\\nEX,2020-07-25,4,4,0,0,0,0\\nGA,2020-07-25,16,16,0,0,0,0\\nIB,2020-07-25,24,24,0,0,0,0\\nMC,2020-07-25,85,85,0,0,0,0\\nMD,2020-07-25,302,296,0,6,0,0\\nML,2020-07-25,0,0,0,0,0,0\\nNC,2020-07-25,82,82,0,0,0,0\\nPV,2020-07-25,192,173,0,19,0,0\\nRI,2020-07-25,2,2,0,0,0,0\\nVC,2020-07-25,167,167,0,0,0,0\\nAN,2020-07-26,106,106,0,0,0,0\\nAR,2020-07-26,384,384,0,0,0,0\\nAS,2020-07-26,7,7,0,0,0,0\\nCB,2020-07-26,7,7,0,0,0,0\\nCE,2020-07-26,1,1,0,0,0,0\\nCL,2020-07-26,31,31,0,0,0,0\\nCM,2020-07-26,29,28,0,1,0,0\\nCN,2020-07-26,7,7,0,0,0,0\\nCT,2020-07-26,631,630,0,0,1,0\\nEX,2020-07-26,7,7,0,0,0,0\\nGA,2020-07-26,9,9,0,0,0,0\\nIB,2020-07-26,48,48,0,0,0,0\\nMC,2020-07-26,49,49,0,0,0,0\\nMD,2020-07-26,259,247,0,12,0,0\\nML,2020-07-26,4,4,0,0,0,0\\nNC,2020-07-26,79,79,0,0,0,0\\nPV,2020-07-26,179,163,0,16,0,0\\nRI,2020-07-26,1,1,0,0,0,0\\nVC,2020-07-26,124,124,0,0,0,0\\nAN,2020-07-27,143,143,0,0,0,0\\nAR,2020-07-27,574,574,0,0,0,0\\nAS,2020-07-27,6,6,0,0,0,0\\nCB,2020-07-27,6,6,0,0,0,0\\nCE,2020-07-27,0,0,0,0,0,0\\nCL,2020-07-27,70,68,0,0,2,0\\nCM,2020-07-27,53,53,0,0,0,0\\nCN,2020-07-27,9,9,0,0,0,0\\nCT,2020-07-27,1107,1096,0,0,11,0\\nEX,2020-07-27,9,9,0,0,0,0\\nGA,2020-07-27,24,24,0,0,0,0\\nIB,2020-07-27,40,40,0,0,0,0\\nMC,2020-07-27,60,60,0,0,0,0\\nMD,2020-07-27,512,502,0,10,0,0\\nML,2020-07-27,1,1,0,0,0,0\\nNC,2020-07-27,52,52,0,0,0,0\\nPV,2020-07-27,233,216,0,17,0,0\\nRI,2020-07-27,8,8,0,0,0,0\\nVC,2020-07-27,207,207,0,0,0,0\\nAN,2020-07-28,148,148,0,0,0,0\\nAR,2020-07-28,517,517,0,0,0,0\\nAS,2020-07-28,13,13,0,0,0,0\\nCB,2020-07-28,7,7,0,0,0,0\\nCE,2020-07-28,0,0,0,0,0,0\\nCL,2020-07-28,87,87,0,0,0,0\\nCM,2020-07-28,60,60,0,0,0,0\\nCN,2020-07-28,9,9,0,0,0,0\\nCT,2020-07-28,1162,1157,0,0,5,0\\nEX,2020-07-28,21,21,0,0,0,0\\nGA,2020-07-28,36,36,0,0,0,0\\nIB,2020-07-28,52,52,0,0,0,0\\nMC,2020-07-28,74,74,0,0,0,0\\nMD,2020-07-28,597,584,0,13,0,0\\nML,2020-07-28,1,1,0,0,0,0\\nNC,2020-07-28,40,40,0,0,0,0\\nPV,2020-07-28,243,224,0,19,0,0\\nRI,2020-07-28,9,9,0,0,0,0\\nVC,2020-07-28,192,192,0,0,0,0\\nAN,2020-07-29,153,153,0,0,0,0\\nAR,2020-07-29,525,525,0,0,0,0\\nAS,2020-07-29,15,15,0,0,0,0\\nCB,2020-07-29,10,10,0,0,0,0\\nCE,2020-07-29,0,0,0,0,0,0\\nCL,2020-07-29,76,76,0,0,0,0\\nCM,2020-07-29,56,53,0,3,0,0\\nCN,2020-07-29,6,6,0,0,0,0\\nCT,2020-07-29,1229,1214,0,0,13,2\\nEX,2020-07-29,17,17,0,0,0,0\\nGA,2020-07-29,27,27,0,0,0,0\\nIB,2020-07-29,55,55,0,0,0,0\\nMC,2020-07-29,89,89,0,0,0,0\\nMD,2020-07-29,550,539,0,11,0,0\\nML,2020-07-29,1,1,0,0,0,0\\nNC,2020-07-29,62,62,0,0,0,0\\nPV,2020-07-29,219,206,0,13,0,0\\nRI,2020-07-29,4,4,0,0,0,0\\nVC,2020-07-29,276,276,0,0,0,0\\nAN,2020-07-30,209,209,0,0,0,0\\nAR,2020-07-30,490,490,0,0,0,0\\nAS,2020-07-30,12,12,0,0,0,0\\nCB,2020-07-30,26,26,0,0,0,0\\nCE,2020-07-30,0,0,0,0,0,0\\nCL,2020-07-30,74,73,0,0,1,0\\nCM,2020-07-30,48,48,0,0,0,0\\nCN,2020-07-30,12,12,0,0,0,0\\nCT,2020-07-30,1132,1126,0,0,5,1\\nEX,2020-07-30,20,20,0,0,0,0\\nGA,2020-07-30,32,32,0,0,0,0\\nIB,2020-07-30,77,77,0,0,0,0\\nMC,2020-07-30,64,64,0,0,0,0\\nMD,2020-07-30,592,576,0,16,0,0\\nML,2020-07-30,4,4,0,0,0,0\\nNC,2020-07-30,52,52,0,0,0,0\\nPV,2020-07-30,170,153,0,17,0,0\\nRI,2020-07-30,1,1,0,0,0,0\\nVC,2020-07-30,247,247,0,0,0,0\\nAN,2020-07-31,260,260,0,0,0,0\\nAR,2020-07-31,495,495,0,0,0,0\\nAS,2020-07-31,12,12,0,0,0,0\\nCB,2020-07-31,16,16,0,0,0,0\\nCE,2020-07-31,0,0,0,0,0,0\\nCL,2020-07-31,149,149,0,0,0,0\\nCM,2020-07-31,74,74,0,0,0,0\\nCN,2020-07-31,16,16,0,0,0,0\\nCT,2020-07-31,1287,1278,0,0,8,1\\nEX,2020-07-31,38,38,0,0,0,0\\nGA,2020-07-31,33,33,0,0,0,0\\nIB,2020-07-31,78,78,0,0,0,0\\nMC,2020-07-31,55,55,0,0,0,0\\nMD,2020-07-31,743,737,0,6,0,0\\nML,2020-07-31,0,0,0,0,0,0\\nNC,2020-07-31,72,72,0,0,0,0\\nPV,2020-07-31,191,179,0,12,0,0\\nRI,2020-07-31,7,7,0,0,0,0\\nVC,2020-07-31,246,246,0,0,0,0\\nAN,2020-08-01,248,248,0,0,0,0\\nAR,2020-08-01,827,827,0,0,0,0\\nAS,2020-08-01,17,17,0,0,0,0\\nCB,2020-08-01,38,37,0,0,0,1\\nCE,2020-08-01,0,0,0,0,0,0\\nCL,2020-08-01,90,90,0,0,0,0\\nCM,2020-08-01,57,57,0,0,0,0\\nCN,2020-08-01,30,30,0,0,0,0\\nCT,2020-08-01,796,794,0,0,2,0\\nEX,2020-08-01,18,18,0,0,0,0\\nGA,2020-08-01,39,39,0,0,0,0\\nIB,2020-08-01,117,117,0,0,0,0\\nMC,2020-08-01,82,82,0,0,0,0\\nMD,2020-08-01,698,688,0,10,0,0\\nML,2020-08-01,8,8,0,0,0,0\\nNC,2020-08-01,88,88,0,0,0,0\\nPV,2020-08-01,252,226,0,26,0,0\\nRI,2020-08-01,4,4,0,0,0,0\\nVC,2020-08-01,284,283,0,1,0,0\\nAN,2020-08-02,213,213,0,0,0,0\\nAR,2020-08-02,447,447,0,0,0,0\\nAS,2020-08-02,11,11,0,0,0,0\\nCB,2020-08-02,23,23,0,0,0,0\\nCE,2020-08-02,2,2,0,0,0,0\\nCL,2020-08-02,93,93,0,0,0,0\\nCM,2020-08-02,66,66,0,0,0,0\\nCN,2020-08-02,29,29,0,0,0,0\\nCT,2020-08-02,515,515,0,0,0,0\\nEX,2020-08-02,21,21,0,0,0,0\\nGA,2020-08-02,43,43,0,0,0,0\\nIB,2020-08-02,99,99,0,0,0,0\\nMC,2020-08-02,61,61,0,0,0,0\\nMD,2020-08-02,605,593,0,12,0,0\\nML,2020-08-02,4,4,0,0,0,0\\nNC,2020-08-02,84,84,0,0,0,0\\nPV,2020-08-02,309,294,0,15,0,0\\nRI,2020-08-02,5,4,0,0,1,0\\nVC,2020-08-02,204,204,0,0,0,0\\nAN,2020-08-03,292,292,0,0,0,0\\nAR,2020-08-03,460,460,0,0,0,0\\nAS,2020-08-03,12,12,0,0,0,0\\nCB,2020-08-03,41,41,0,0,0,0\\nCE,2020-08-03,0,0,0,0,0,0\\nCL,2020-08-03,124,123,0,0,1,0\\nCM,2020-08-03,79,79,0,0,0,0\\nCN,2020-08-03,38,38,0,0,0,0\\nCT,2020-08-03,1011,1009,0,0,2,0\\nEX,2020-08-03,21,21,0,0,0,0\\nGA,2020-08-03,76,76,0,0,0,0\\nIB,2020-08-03,155,155,0,0,0,0\\nMC,2020-08-03,74,74,0,0,0,0\\nMD,2020-08-03,993,972,0,21,0,0\\nML,2020-08-03,4,4,0,0,0,0\\nNC,2020-08-03,106,106,0,0,0,0\\nPV,2020-08-03,444,427,0,17,0,0\\nRI,2020-08-03,10,9,0,0,1,0\\nVC,2020-08-03,276,276,0,0,0,0\\nAN,2020-08-04,285,285,0,0,0,0\\nAR,2020-08-04,531,530,0,0,1,0\\nAS,2020-08-04,19,19,0,0,0,0\\nCB,2020-08-04,49,49,0,0,0,0\\nCE,2020-08-04,0,0,0,0,0,0\\nCL,2020-08-04,205,205,0,0,0,0\\nCM,2020-08-04,101,100,0,1,0,0\\nCN,2020-08-04,54,54,0,0,0,0\\nCT,2020-08-04,1118,1115,0,0,3,0\\nEX,2020-08-04,16,16,0,0,0,0\\nGA,2020-08-04,109,109,0,0,0,0\\nIB,2020-08-04,172,172,0,0,0,0\\nMC,2020-08-04,97,97,0,0,0,0\\nMD,2020-08-04,1133,1118,0,15,0,0\\nML,2020-08-04,5,5,0,0,0,0\\nNC,2020-08-04,84,84,0,0,0,0\\nPV,2020-08-04,407,385,0,22,0,0\\nRI,2020-08-04,8,8,0,0,0,0\\nVC,2020-08-04,357,357,0,0,0,0\\nAN,2020-08-05,367,367,0,0,0,0\\nAR,2020-08-05,428,428,0,0,0,0\\nAS,2020-08-05,38,38,0,0,0,0\\nCB,2020-08-05,32,32,0,0,0,0\\nCE,2020-08-05,0,0,0,0,0,0\\nCL,2020-08-05,232,232,0,0,0,0\\nCM,2020-08-05,98,98,0,0,0,0\\nCN,2020-08-05,73,72,0,1,0,0\\nCT,2020-08-05,1097,1093,0,0,4,0\\nEX,2020-08-05,35,35,0,0,0,0\\nGA,2020-08-05,79,79,0,0,0,0\\nIB,2020-08-05,169,169,0,0,0,0\\nMC,2020-08-05,64,64,0,0,0,0\\nMD,2020-08-05,1126,1114,0,12,0,0\\nML,2020-08-05,1,1,0,0,0,0\\nNC,2020-08-05,82,82,0,0,0,0\\nPV,2020-08-05,403,373,0,30,0,0\\nRI,2020-08-05,27,27,0,0,0,0\\nVC,2020-08-05,381,381,0,0,0,0\\nAN,2020-08-06,373,373,0,0,0,0\\nAR,2020-08-06,520,520,0,0,0,0\\nAS,2020-08-06,39,39,0,0,0,0\\nCB,2020-08-06,45,45,0,0,0,0\\nCE,2020-08-06,1,1,0,0,0,0\\nCL,2020-08-06,175,175,0,0,0,0\\nCM,2020-08-06,118,118,0,0,0,0\\nCN,2020-08-06,77,77,0,0,0,0\\nCT,2020-08-06,1028,1023,0,0,5,0\\nEX,2020-08-06,31,31,0,0,0,0\\nGA,2020-08-06,75,75,0,0,0,0\\nIB,2020-08-06,173,173,0,0,0,0\\nMC,2020-08-06,61,61,0,0,0,0\\nMD,2020-08-06,1131,1120,0,11,0,0\\nML,2020-08-06,3,3,0,0,0,0\\nNC,2020-08-06,87,87,0,0,0,0\\nPV,2020-08-06,381,361,0,20,0,0\\nRI,2020-08-06,16,16,0,0,0,0\\nVC,2020-08-06,327,327,0,0,0,0\\nAN,2020-08-07,456,456,0,0,0,0\\nAR,2020-08-07,550,550,0,0,0,0\\nAS,2020-08-07,28,28,0,0,0,0\\nCB,2020-08-07,44,44,0,0,0,0\\nCE,2020-08-07,1,1,0,0,0,0\\nCL,2020-08-07,256,255,0,0,1,0\\nCM,2020-08-07,111,111,0,0,0,0\\nCN,2020-08-07,69,69,0,0,0,0\\nCT,2020-08-07,1271,1269,0,0,2,0\\nEX,2020-08-07,46,46,0,0,0,0\\nGA,2020-08-07,98,98,0,0,0,0\\nIB,2020-08-07,196,196,0,0,0,0\\nMC,2020-08-07,109,109,0,0,0,0\\nMD,2020-08-07,1412,1395,0,17,0,0\\nML,2020-08-07,5,5,0,0,0,0\\nNC,2020-08-07,114,114,0,0,0,0\\nPV,2020-08-07,311,277,0,34,0,0\\nRI,2020-08-07,21,21,0,0,0,0\\nVC,2020-08-07,357,356,0,1,0,0\\nAN,2020-08-08,376,376,0,0,0,0\\nAR,2020-08-08,501,501,0,0,0,0\\nAS,2020-08-08,23,23,0,0,0,0\\nCB,2020-08-08,43,43,0,0,0,0\\nCE,2020-08-08,2,2,0,0,0,0\\nCL,2020-08-08,189,189,0,0,0,0\\nCM,2020-08-08,141,141,0,0,0,0\\nCN,2020-08-08,68,68,0,0,0,0\\nCT,2020-08-08,770,770,0,0,0,0\\nEX,2020-08-08,20,20,0,0,0,0\\nGA,2020-08-08,111,111,0,0,0,0\\nIB,2020-08-08,191,191,0,0,0,0\\nMC,2020-08-08,87,87,0,0,0,0\\nMD,2020-08-08,1021,1014,0,7,0,0\\nML,2020-08-08,3,3,0,0,0,0\\nNC,2020-08-08,91,91,0,0,0,0\\nPV,2020-08-08,318,295,0,23,0,0\\nRI,2020-08-08,12,12,0,0,0,0\\nVC,2020-08-08,325,325,0,0,0,0\\nAN,2020-08-09,327,327,0,0,0,0\\nAR,2020-08-09,296,296,0,0,0,0\\nAS,2020-08-09,35,35,0,0,0,0\\nCB,2020-08-09,28,28,0,0,0,0\\nCE,2020-08-09,1,1,0,0,0,0\\nCL,2020-08-09,271,270,0,0,1,0\\nCM,2020-08-09,118,117,0,1,0,0\\nCN,2020-08-09,89,89,0,0,0,0\\nCT,2020-08-09,578,578,0,0,0,0\\nEX,2020-08-09,10,10,0,0,0,0\\nGA,2020-08-09,113,113,0,0,0,0\\nIB,2020-08-09,177,177,0,0,0,0\\nMC,2020-08-09,95,95,0,0,0,0\\nMD,2020-08-09,978,963,0,15,0,0\\nML,2020-08-09,5,5,0,0,0,0\\nNC,2020-08-09,118,118,0,0,0,0\\nPV,2020-08-09,545,525,0,20,0,0\\nRI,2020-08-09,20,20,0,0,0,0\\nVC,2020-08-09,272,272,0,0,0,0\\nAN,2020-08-10,467,467,0,0,0,0\\nAR,2020-08-10,564,564,0,0,0,0\\nAS,2020-08-10,26,26,0,0,0,0\\nCB,2020-08-10,43,43,0,0,0,0\\nCE,2020-08-10,2,2,0,0,0,0\\nCL,2020-08-10,239,238,0,0,1,0\\nCM,2020-08-10,181,181,0,0,0,0\\nCN,2020-08-10,140,140,0,0,0,0\\nCT,2020-08-10,1186,1181,0,0,5,0\\nEX,2020-08-10,27,27,0,0,0,0\\nGA,2020-08-10,170,170,0,0,0,0\\nIB,2020-08-10,326,326,0,0,0,0\\nMC,2020-08-10,124,124,0,0,0,0\\nMD,2020-08-10,1538,1511,0,27,0,0\\nML,2020-08-10,14,14,0,0,0,0\\nNC,2020-08-10,97,97,0,0,0,0\\nPV,2020-08-10,523,503,0,20,0,0\\nRI,2020-08-10,55,55,0,0,0,0\\nVC,2020-08-10,427,427,0,0,0,0\\nAN,2020-08-11,519,519,0,0,0,0\\nAR,2020-08-11,380,380,0,0,0,0\\nAS,2020-08-11,27,27,0,0,0,0\\nCB,2020-08-11,74,74,0,0,0,0\\nCE,2020-08-11,4,4,0,0,0,0\\nCL,2020-08-11,258,258,0,0,0,0\\nCM,2020-08-11,204,204,0,0,0,0\\nCN,2020-08-11,155,155,0,0,0,0\\nCT,2020-08-11,1116,1111,0,0,5,0\\nEX,2020-08-11,34,34,0,0,0,0\\nGA,2020-08-11,140,140,0,0,0,0\\nIB,2020-08-11,267,267,0,0,0,0\\nMC,2020-08-11,122,122,0,0,0,0\\nMD,2020-08-11,1959,1946,0,13,0,0\\nML,2020-08-11,9,9,0,0,0,0\\nNC,2020-08-11,123,123,0,0,0,0\\nPV,2020-08-11,601,564,0,37,0,0\\nRI,2020-08-11,69,69,0,0,0,0\\nVC,2020-08-11,427,427,0,0,0,0\\nAN,2020-08-12,592,592,0,0,0,0\\nAR,2020-08-12,435,435,0,0,0,0\\nAS,2020-08-12,26,26,0,0,0,0\\nCB,2020-08-12,53,53,0,0,0,0\\nCE,2020-08-12,2,2,0,0,0,0\\nCL,2020-08-12,312,312,0,0,0,0\\nCM,2020-08-12,215,214,0,1,0,0\\nCN,2020-08-12,183,183,0,0,0,0\\nCT,2020-08-12,1180,1177,0,0,3,0\\nEX,2020-08-12,72,72,0,0,0,0\\nGA,2020-08-12,144,144,0,0,0,0\\nIB,2020-08-12,292,292,0,0,0,0\\nMC,2020-08-12,142,142,0,0,0,0\\nMD,2020-08-12,1786,1777,0,9,0,0\\nML,2020-08-12,9,9,0,0,0,0\\nNC,2020-08-12,94,94,0,0,0,0\\nPV,2020-08-12,595,551,0,44,0,0\\nRI,2020-08-12,55,55,0,0,0,0\\nVC,2020-08-12,472,472,0,0,0,0\\nAN,2020-08-13,637,637,0,0,0,0\\nAR,2020-08-13,408,408,0,0,0,0\\nAS,2020-08-13,17,17,0,0,0,0\\nCB,2020-08-13,45,45,0,0,0,0\\nCE,2020-08-13,4,4,0,0,0,0\\nCL,2020-08-13,325,325,0,0,0,0\\nCM,2020-08-13,258,258,0,0,0,0\\nCN,2020-08-13,148,148,0,0,0,0\\nCT,2020-08-13,1105,1101,0,0,3,1\\nEX,2020-08-13,64,64,0,0,0,0\\nGA,2020-08-13,130,130,0,0,0,0\\nIB,2020-08-13,313,313,0,0,0,0\\nMC,2020-08-13,195,195,0,0,0,0\\nMD,2020-08-13,1741,1734,0,7,0,0\\nML,2020-08-13,1,1,0,0,0,0\\nNC,2020-08-13,90,90,0,0,0,0\\nPV,2020-08-13,411,386,0,25,0,0\\nRI,2020-08-13,58,58,0,0,0,0\\nVC,2020-08-13,459,459,0,0,0,0\\nAN,2020-08-14,730,730,0,0,0,0\\nAR,2020-08-14,437,437,0,0,0,0\\nAS,2020-08-14,22,22,0,0,0,0\\nCB,2020-08-14,58,58,0,0,0,0\\nCE,2020-08-14,9,9,0,0,0,0\\nCL,2020-08-14,380,380,0,0,0,0\\nCM,2020-08-14,213,213,0,0,0,0\\nCN,2020-08-14,196,195,0,0,0,1\\nCT,2020-08-14,1213,1208,0,0,5,0\\nEX,2020-08-14,47,47,0,0,0,0\\nGA,2020-08-14,132,131,0,1,0,0\\nIB,2020-08-14,328,328,0,0,0,0\\nMC,2020-08-14,181,181,0,0,0,0\\nMD,2020-08-14,2275,2269,0,6,0,0\\nML,2020-08-14,6,6,0,0,0,0\\nNC,2020-08-14,87,87,0,0,0,0\\nPV,2020-08-14,319,299,0,20,0,0\\nRI,2020-08-14,59,59,0,0,0,0\\nVC,2020-08-14,535,535,0,0,0,0\\nAN,2020-08-15,633,633,0,0,0,0\\nAR,2020-08-15,377,377,0,0,0,0\\nAS,2020-08-15,29,29,0,0,0,0\\nCB,2020-08-15,56,56,0,0,0,0\\nCE,2020-08-15,8,8,0,0,0,0\\nCL,2020-08-15,289,288,0,0,1,0\\nCM,2020-08-15,204,204,0,0,0,0\\nCN,2020-08-15,210,210,0,0,0,0\\nCT,2020-08-15,848,848,0,0,0,0\\nEX,2020-08-15,30,30,0,0,0,0\\nGA,2020-08-15,153,153,0,0,0,0\\nIB,2020-08-15,288,287,1,0,0,0\\nMC,2020-08-15,175,175,0,0,0,0\\nMD,2020-08-15,1207,1200,0,7,0,0\\nML,2020-08-15,12,12,0,0,0,0\\nNC,2020-08-15,121,121,0,0,0,0\\nPV,2020-08-15,552,521,0,31,0,0\\nRI,2020-08-15,52,52,0,0,0,0\\nVC,2020-08-15,424,424,0,0,0,0\\nAN,2020-08-16,584,584,0,0,0,0\\nAR,2020-08-16,296,295,0,0,1,0\\nAS,2020-08-16,24,24,0,0,0,0\\nCB,2020-08-16,63,63,0,0,0,0\\nCE,2020-08-16,1,1,0,0,0,0\\nCL,2020-08-16,303,303,0,0,0,0\\nCM,2020-08-16,180,179,0,0,1,0\\nCN,2020-08-16,150,150,0,0,0,0\\nCT,2020-08-16,760,759,0,0,1,0\\nEX,2020-08-16,38,38,0,0,0,0\\nGA,2020-08-16,147,147,0,0,0,0\\nIB,2020-08-16,261,261,0,0,0,0\\nMC,2020-08-16,132,132,0,0,0,0\\nMD,2020-08-16,941,937,0,4,0,0\\nML,2020-08-16,4,4,0,0,0,0\\nNC,2020-08-16,80,80,0,0,0,0\\nPV,2020-08-16,581,549,0,32,0,0\\nRI,2020-08-16,55,55,0,0,0,0\\nVC,2020-08-16,369,369,0,0,0,0\\nAN,2020-08-17,747,747,0,0,0,0\\nAR,2020-08-17,340,340,0,0,0,0\\nAS,2020-08-17,22,22,0,0,0,0\\nCB,2020-08-17,61,61,0,0,0,0\\nCE,2020-08-17,15,15,0,0,0,0\\nCL,2020-08-17,347,347,0,0,0,0\\nCM,2020-08-17,263,263,0,0,0,0\\nCN,2020-08-17,242,242,0,0,0,0\\nCT,2020-08-17,1252,1229,0,0,23,0\\nEX,2020-08-17,53,53,0,0,0,0\\nGA,2020-08-17,253,253,0,0,0,0\\nIB,2020-08-17,377,377,0,0,0,0\\nMC,2020-08-17,222,222,0,0,0,0\\nMD,2020-08-17,1533,1531,0,2,0,0\\nML,2020-08-17,10,10,0,0,0,0\\nNC,2020-08-17,91,91,0,0,0,0\\nPV,2020-08-17,703,675,0,28,0,0\\nRI,2020-08-17,75,75,0,0,0,0\\nVC,2020-08-17,571,571,0,0,0,0\\nAN,2020-08-18,819,819,0,0,0,0\\nAR,2020-08-18,396,396,0,0,0,0\\nAS,2020-08-18,30,30,0,0,0,0\\nCB,2020-08-18,80,80,0,0,0,0\\nCE,2020-08-18,7,7,0,0,0,0\\nCL,2020-08-18,401,401,0,0,0,0\\nCM,2020-08-18,290,289,0,1,0,0\\nCN,2020-08-18,233,233,0,0,0,0\\nCT,2020-08-18,1313,1304,0,0,9,0\\nEX,2020-08-18,80,80,0,0,0,0\\nGA,2020-08-18,248,248,0,0,0,0\\nIB,2020-08-18,333,333,0,0,0,0\\nMC,2020-08-18,189,189,0,0,0,0\\nMD,2020-08-18,2705,2704,0,1,0,0\\nML,2020-08-18,8,8,0,0,0,0\\nNC,2020-08-18,103,103,0,0,0,0\\nPV,2020-08-18,607,581,0,26,0,0\\nRI,2020-08-18,84,84,0,0,0,0\\nVC,2020-08-18,568,568,0,0,0,0\\nAN,2020-08-19,751,751,0,0,0,0\\nAR,2020-08-19,341,341,0,0,0,0\\nAS,2020-08-19,29,29,0,0,0,0\\nCB,2020-08-19,58,58,0,0,0,0\\nCE,2020-08-19,0,0,0,0,0,0\\nCL,2020-08-19,407,407,0,0,0,0\\nCM,2020-08-19,303,303,0,0,0,0\\nCN,2020-08-19,194,194,0,0,0,0\\nCT,2020-08-19,1181,1171,0,0,10,0\\nEX,2020-08-19,98,98,0,0,0,0\\nGA,2020-08-19,235,235,0,0,0,0\\nIB,2020-08-19,305,305,0,0,0,0\\nMC,2020-08-19,205,205,0,0,0,0\\nMD,2020-08-19,2933,2931,0,2,0,0\\nML,2020-08-19,7,7,0,0,0,0\\nNC,2020-08-19,114,114,0,0,0,0\\nPV,2020-08-19,679,653,0,26,0,0\\nRI,2020-08-19,87,87,0,0,0,0\\nVC,2020-08-19,585,585,0,0,0,0\\nAN,2020-08-20,852,852,0,0,0,0\\nAR,2020-08-20,339,339,0,0,0,0\\nAS,2020-08-20,32,32,0,0,0,0\\nCB,2020-08-20,69,69,0,0,0,0\\nCE,2020-08-20,4,4,0,0,0,0\\nCL,2020-08-20,513,509,0,2,2,0\\nCM,2020-08-20,342,342,0,0,0,0\\nCN,2020-08-20,231,231,0,0,0,0\\nCT,2020-08-20,1367,1362,0,0,5,0\\nEX,2020-08-20,82,82,0,0,0,0\\nGA,2020-08-20,222,222,0,0,0,0\\nIB,2020-08-20,305,305,0,0,0,0\\nMC,2020-08-20,235,235,0,0,0,0\\nMD,2020-08-20,2671,2671,0,0,0,0\\nML,2020-08-20,9,9,0,0,0,0\\nNC,2020-08-20,102,102,0,0,0,0\\nPV,2020-08-20,476,462,0,14,0,0\\nRI,2020-08-20,79,79,0,0,0,0\\nVC,2020-08-20,600,600,0,0,0,0\\nAN,2020-08-21,914,914,0,0,0,0\\nAR,2020-08-21,279,279,0,0,0,0\\nAS,2020-08-21,33,33,0,0,0,0\\nCB,2020-08-21,81,81,0,0,0,0\\nCE,2020-08-21,7,7,0,0,0,0\\nCL,2020-08-21,402,401,0,0,1,0\\nCM,2020-08-21,385,385,0,0,0,0\\nCN,2020-08-21,247,247,0,0,0,0\\nCT,2020-08-21,1367,1356,0,0,11,0\\nEX,2020-08-21,90,90,0,0,0,0\\nGA,2020-08-21,194,194,0,0,0,0\\nIB,2020-08-21,278,278,0,0,0,0\\nMC,2020-08-21,284,284,0,0,0,0\\nMD,2020-08-21,3904,3903,0,1,0,0\\nML,2020-08-21,15,15,0,0,0,0\\nNC,2020-08-21,147,147,0,0,0,0\\nPV,2020-08-21,417,397,0,20,0,0\\nRI,2020-08-21,69,69,0,0,0,0\\nVC,2020-08-21,662,662,0,0,0,0\\nAN,2020-08-22,819,819,0,0,0,0\\nAR,2020-08-22,291,291,0,0,0,0\\nAS,2020-08-22,36,36,0,0,0,0\\nCB,2020-08-22,85,85,0,0,0,0\\nCE,2020-08-22,12,12,0,0,0,0\\nCL,2020-08-22,279,279,0,0,0,0\\nCM,2020-08-22,323,323,0,0,0,0\\nCN,2020-08-22,267,267,0,0,0,0\\nCT,2020-08-22,836,834,0,0,2,0\\nEX,2020-08-22,89,89,0,0,0,0\\nGA,2020-08-22,288,288,0,0,0,0\\nIB,2020-08-22,217,217,0,0,0,0\\nMC,2020-08-22,275,275,0,0,0,0\\nMD,2020-08-22,1523,1518,0,5,0,0\\nML,2020-08-22,7,7,0,0,0,0\\nNC,2020-08-22,109,109,0,0,0,0\\nPV,2020-08-22,564,529,0,35,0,0\\nRI,2020-08-22,86,86,0,0,0,0\\nVC,2020-08-22,596,596,0,0,0,0\\nAN,2020-08-23,771,771,0,0,0,0\\nAR,2020-08-23,196,196,0,0,0,0\\nAS,2020-08-23,43,43,0,0,0,0\\nCB,2020-08-23,64,64,0,0,0,0\\nCE,2020-08-23,6,6,0,0,0,0\\nCL,2020-08-23,294,293,0,0,1,0\\nCM,2020-08-23,307,306,0,1,0,0\\nCN,2020-08-23,213,213,0,0,0,0\\nCT,2020-08-23,776,776,0,0,0,0\\nEX,2020-08-23,69,69,0,0,0,0\\nGA,2020-08-23,253,253,0,0,0,0\\nIB,2020-08-23,194,194,0,0,0,0\\nMC,2020-08-23,241,241,0,0,0,0\\nMD,2020-08-23,1103,1102,0,1,0,0\\nML,2020-08-23,16,16,0,0,0,0\\nNC,2020-08-23,122,122,0,0,0,0\\nPV,2020-08-23,732,695,0,37,0,0\\nRI,2020-08-23,95,95,0,0,0,0\\nVC,2020-08-23,462,462,0,0,0,0\\nAN,2020-08-24,878,878,0,0,0,0\\nAR,2020-08-24,259,259,0,0,0,0\\nAS,2020-08-24,51,51,0,0,0,0\\nCB,2020-08-24,75,75,0,0,0,0\\nCE,2020-08-24,10,9,0,0,1,0\\nCL,2020-08-24,470,466,0,0,4,0\\nCM,2020-08-24,401,401,0,0,0,0\\nCN,2020-08-24,290,290,0,0,0,0\\nCT,2020-08-24,1419,1413,0,0,6,0\\nEX,2020-08-24,80,80,0,0,0,0\\nGA,2020-08-24,265,265,0,0,0,0\\nIB,2020-08-24,252,252,0,0,0,0\\nMC,2020-08-24,270,270,0,0,0,0\\nMD,2020-08-24,1825,1821,0,4,0,0\\nML,2020-08-24,17,17,0,0,0,0\\nNC,2020-08-24,134,134,0,0,0,0\\nPV,2020-08-24,780,740,0,40,0,0\\nRI,2020-08-24,74,74,0,0,0,0\\nVC,2020-08-24,693,693,0,0,0,0\\nAN,2020-08-25,920,919,0,1,0,0\\nAR,2020-08-25,292,292,0,0,0,0\\nAS,2020-08-25,39,39,0,0,0,0\\nCB,2020-08-25,84,84,0,0,0,0\\nCE,2020-08-25,11,11,0,0,0,0\\nCL,2020-08-25,512,512,0,0,0,0\\nCM,2020-08-25,398,397,0,0,1,0\\nCN,2020-08-25,297,297,0,0,0,0\\nCT,2020-08-25,1288,1283,0,0,5,0\\nEX,2020-08-25,110,110,0,0,0,0\\nGA,2020-08-25,315,315,0,0,0,0\\nIB,2020-08-25,266,266,0,0,0,0\\nMC,2020-08-25,305,305,0,0,0,0\\nMD,2020-08-25,3728,3723,0,5,0,0\\nML,2020-08-25,15,15,0,0,0,0\\nNC,2020-08-25,152,152,0,0,0,0\\nPV,2020-08-25,867,825,0,42,0,0\\nRI,2020-08-25,88,88,0,0,0,0\\nVC,2020-08-25,595,595,0,0,0,0\\nAN,2020-08-26,1030,1030,0,0,0,0\\nAR,2020-08-26,258,258,0,0,0,0\\nAS,2020-08-26,36,36,0,0,0,0\\nCB,2020-08-26,84,84,0,0,0,0\\nCE,2020-08-26,8,8,0,0,0,0\\nCL,2020-08-26,435,433,0,0,2,0\\nCM,2020-08-26,451,451,0,0,0,0\\nCN,2020-08-26,301,300,0,1,0,0\\nCT,2020-08-26,1446,1434,0,0,11,1\\nEX,2020-08-26,97,97,0,0,0,0\\nGA,2020-08-26,259,259,0,0,0,0\\nIB,2020-08-26,284,284,0,0,0,0\\nMC,2020-08-26,312,312,0,0,0,0\\nMD,2020-08-26,3100,3094,0,6,0,0\\nML,2020-08-26,10,10,0,0,0,0\\nNC,2020-08-26,280,280,0,0,0,0\\nPV,2020-08-26,727,690,0,37,0,0\\nRI,2020-08-26,121,121,0,0,0,0\\nVC,2020-08-26,683,683,0,0,0,0\\nAN,2020-08-27,1049,1049,0,0,0,0\\nAR,2020-08-27,222,222,0,0,0,0\\nAS,2020-08-27,37,37,0,0,0,0\\nCB,2020-08-27,71,71,0,0,0,0\\nCE,2020-08-27,6,6,0,0,0,0\\nCL,2020-08-27,580,578,0,0,2,0\\nCM,2020-08-27,501,501,0,0,0,0\\nCN,2020-08-27,306,306,0,0,0,0\\nCT,2020-08-27,1362,1356,0,0,6,0\\nEX,2020-08-27,86,86,0,0,0,0\\nGA,2020-08-27,273,273,0,0,0,0\\nIB,2020-08-27,235,235,0,0,0,0\\nMC,2020-08-27,347,347,0,0,0,0\\nMD,2020-08-27,3220,3213,0,7,0,0\\nML,2020-08-27,6,6,0,0,0,0\\nNC,2020-08-27,149,149,0,0,0,0\\nPV,2020-08-27,500,478,0,22,0,0\\nRI,2020-08-27,79,79,0,0,0,0\\nVC,2020-08-27,571,570,0,1,0,0\\nAN,2020-08-28,1060,1060,0,0,0,0\\nAR,2020-08-28,292,292,0,0,0,0\\nAS,2020-08-28,45,45,0,0,0,0\\nCB,2020-08-28,144,144,0,0,0,0\\nCE,2020-08-28,4,4,0,0,0,0\\nCL,2020-08-28,526,526,0,0,0,0\\nCM,2020-08-28,491,491,0,0,0,0\\nCN,2020-08-28,281,281,0,0,0,0\\nCT,2020-08-28,1342,1336,0,0,6,0\\nEX,2020-08-28,139,139,0,0,0,0\\nGA,2020-08-28,229,229,0,0,0,0\\nIB,2020-08-28,260,260,0,0,0,0\\nMC,2020-08-28,358,357,0,0,0,1\\nMD,2020-08-28,4424,4414,0,10,0,0\\nML,2020-08-28,16,16,0,0,0,0\\nNC,2020-08-28,157,157,0,0,0,0\\nPV,2020-08-28,517,484,0,33,0,0\\nRI,2020-08-28,87,87,0,0,0,0\\nVC,2020-08-28,676,676,0,0,0,0\\nAN,2020-08-29,908,908,0,0,0,0\\nAR,2020-08-29,262,262,0,0,0,0\\nAS,2020-08-29,31,31,0,0,0,0\\nCB,2020-08-29,81,81,0,0,0,0\\nCE,2020-08-29,7,7,0,0,0,0\\nCL,2020-08-29,516,516,0,0,0,0\\nCM,2020-08-29,389,389,0,0,0,0\\nCN,2020-08-29,281,281,0,0,0,0\\nCT,2020-08-29,736,736,0,0,0,0\\nEX,2020-08-29,101,99,0,0,0,2\\nGA,2020-08-29,247,247,0,0,0,0\\nIB,2020-08-29,229,229,0,0,0,0\\nMC,2020-08-29,341,340,1,0,0,0\\nMD,2020-08-29,1745,1737,0,8,0,0\\nML,2020-08-29,20,20,0,0,0,0\\nNC,2020-08-29,157,157,0,0,0,0\\nPV,2020-08-29,550,518,0,32,0,0\\nRI,2020-08-29,86,85,0,0,0,1\\nVC,2020-08-29,641,641,0,0,0,0\\nAN,2020-08-30,810,810,0,0,0,0\\nAR,2020-08-30,194,194,0,0,0,0\\nAS,2020-08-30,46,46,0,0,0,0\\nCB,2020-08-30,123,123,0,0,0,0\\nCE,2020-08-30,10,10,0,0,0,0\\nCL,2020-08-30,334,334,0,0,0,0\\nCM,2020-08-30,348,348,0,0,0,0\\nCN,2020-08-30,275,275,0,0,0,0\\nCT,2020-08-30,673,671,0,0,2,0\\nEX,2020-08-30,122,122,0,0,0,0\\nGA,2020-08-30,252,252,0,0,0,0\\nIB,2020-08-30,169,169,0,0,0,0\\nMC,2020-08-30,321,321,0,0,0,0\\nMD,2020-08-30,1591,1583,0,8,0,0\\nML,2020-08-30,11,11,0,0,0,0\\nNC,2020-08-30,103,103,0,0,0,0\\nPV,2020-08-30,599,562,0,37,0,0\\nRI,2020-08-30,85,85,0,0,0,0\\nVC,2020-08-30,387,387,0,0,0,0\\nAN,2020-08-31,1000,1000,0,0,0,0\\nAR,2020-08-31,323,323,0,0,0,0\\nAS,2020-08-31,37,37,0,0,0,0\\nCB,2020-08-31,149,149,0,0,0,0\\nCE,2020-08-31,14,14,0,0,0,0\\nCL,2020-08-31,344,343,0,1,0,0\\nCM,2020-08-31,481,481,0,0,0,0\\nCN,2020-08-31,295,295,0,0,0,0\\nCT,2020-08-31,1248,1245,0,0,3,0\\nEX,2020-08-31,102,101,0,0,1,0\\nGA,2020-08-31,244,244,0,0,0,0\\nIB,2020-08-31,239,239,0,0,0,0\\nMC,2020-08-31,344,344,0,0,0,0\\nMD,2020-08-31,2166,2150,0,16,0,0\\nML,2020-08-31,15,15,0,0,0,0\\nNC,2020-08-31,208,208,0,0,0,0\\nPV,2020-08-31,728,676,0,52,0,0\\nRI,2020-08-31,62,62,0,0,0,0\\nVC,2020-08-31,503,503,0,0,0,0\\nAN,2020-09-01,1176,1176,0,0,0,0\\nAR,2020-09-01,292,292,0,0,0,0\\nAS,2020-09-01,64,64,0,0,0,0\\nCB,2020-09-01,162,162,0,0,0,0\\nCE,2020-09-01,9,9,0,0,0,0\\nCL,2020-09-01,519,519,0,0,0,0\\nCM,2020-09-01,587,587,0,0,0,0\\nCN,2020-09-01,276,276,0,0,0,0\\nCT,2020-09-01,1384,1372,0,0,12,0\\nEX,2020-09-01,121,121,0,0,0,0\\nGA,2020-09-01,250,250,0,0,0,0\\nIB,2020-09-01,232,232,0,0,0,0\\nMC,2020-09-01,430,430,0,0,0,0\\nMD,2020-09-01,4288,4265,0,23,0,0\\nML,2020-09-01,35,35,0,0,0,0\\nNC,2020-09-01,215,215,0,0,0,0\\nPV,2020-09-01,784,733,0,51,0,0\\nRI,2020-09-01,94,94,0,0,0,0\\nVC,2020-09-01,570,570,0,0,0,0\\nAN,2020-09-02,1052,1052,0,0,0,0\\nAR,2020-09-02,270,270,0,0,0,0\\nAS,2020-09-02,56,56,0,0,0,0\\nCB,2020-09-02,113,113,0,0,0,0\\nCE,2020-09-02,8,8,0,0,0,0\\nCL,2020-09-02,511,510,0,0,1,0\\nCM,2020-09-02,658,658,0,0,0,0\\nCN,2020-09-02,258,256,0,2,0,0\\nCT,2020-09-02,1235,1226,0,0,9,0\\nEX,2020-09-02,146,146,0,0,0,0\\nGA,2020-09-02,259,259,0,0,0,0\\nIB,2020-09-02,185,184,1,0,0,0\\nMC,2020-09-02,435,435,0,0,0,0\\nMD,2020-09-02,3925,3893,0,32,0,0\\nML,2020-09-02,28,28,0,0,0,0\\nNC,2020-09-02,176,176,0,0,0,0\\nPV,2020-09-02,641,611,0,30,0,0\\nRI,2020-09-02,89,89,0,0,0,0\\nVC,2020-09-02,612,612,0,0,0,0\\nAN,2020-09-03,1043,1043,0,0,0,0\\nAR,2020-09-03,329,329,0,0,0,0\\nAS,2020-09-03,88,88,0,0,0,0\\nCB,2020-09-03,74,74,0,0,0,0\\nCE,2020-09-03,5,5,0,0,0,0\\nCL,2020-09-03,612,612,0,0,0,0\\nCM,2020-09-03,636,636,0,0,0,0\\nCN,2020-09-03,259,259,0,0,0,0\\nCT,2020-09-03,1259,1252,0,0,7,0\\nEX,2020-09-03,174,173,0,0,0,1\\nGA,2020-09-03,209,209,0,0,0,0\\nIB,2020-09-03,187,186,1,0,0,0\\nMC,2020-09-03,377,377,0,0,0,0\\nMD,2020-09-03,3864,3840,0,24,0,0\\nML,2020-09-03,20,20,0,0,0,0\\nNC,2020-09-03,204,204,0,0,0,0\\nPV,2020-09-03,522,502,0,20,0,0\\nRI,2020-09-03,113,113,0,0,0,0\\nVC,2020-09-03,532,532,0,0,0,0\\nAN,2020-09-04,1339,1339,0,0,0,0\\nAR,2020-09-04,313,313,0,0,0,0\\nAS,2020-09-04,36,36,0,0,0,0\\nCB,2020-09-04,87,87,0,0,0,0\\nCE,2020-09-04,9,9,0,0,0,0\\nCL,2020-09-04,592,586,0,0,6,0\\nCM,2020-09-04,639,639,0,0,0,0\\nCN,2020-09-04,272,272,0,0,0,0\\nCT,2020-09-04,1402,1392,0,0,10,0\\nEX,2020-09-04,148,148,0,0,0,0\\nGA,2020-09-04,263,263,0,0,0,0\\nIB,2020-09-04,146,146,0,0,0,0\\nMC,2020-09-04,372,372,0,0,0,0\\nMD,2020-09-04,4645,4627,0,18,0,0\\nML,2020-09-04,22,22,0,0,0,0\\nNC,2020-09-04,214,214,0,0,0,0\\nPV,2020-09-04,446,420,0,26,0,0\\nRI,2020-09-04,95,95,0,0,0,0\\nVC,2020-09-04,623,623,0,0,0,0\\nAN,2020-09-05,1053,1053,0,0,0,0\\nAR,2020-09-05,331,331,0,0,0,0\\nAS,2020-09-05,53,53,0,0,0,0\\nCB,2020-09-05,34,34,0,0,0,0\\nCE,2020-09-05,6,6,0,0,0,0\\nCL,2020-09-05,552,551,0,0,1,0\\nCM,2020-09-05,570,570,0,0,0,0\\nCN,2020-09-05,240,240,0,0,0,0\\nCT,2020-09-05,833,831,0,0,2,0\\nEX,2020-09-05,143,143,0,0,0,0\\nGA,2020-09-05,260,260,0,0,0,0\\nIB,2020-09-05,145,145,0,0,0,0\\nMC,2020-09-05,389,389,0,0,0,0\\nMD,2020-09-05,2652,2636,0,16,0,0\\nML,2020-09-05,13,13,0,0,0,0\\nNC,2020-09-05,246,246,0,0,0,0\\nPV,2020-09-05,637,600,0,37,0,0\\nRI,2020-09-05,85,85,0,0,0,0\\nVC,2020-09-05,540,540,0,0,0,0\\nAN,2020-09-06,883,883,0,0,0,0\\nAR,2020-09-06,252,252,0,0,0,0\\nAS,2020-09-06,30,30,0,0,0,0\\nCB,2020-09-06,162,162,0,0,0,0\\nCE,2020-09-06,11,11,0,0,0,0\\nCL,2020-09-06,553,553,0,0,0,0\\nCM,2020-09-06,424,424,0,0,0,0\\nCN,2020-09-06,182,182,0,0,0,0\\nCT,2020-09-06,618,616,0,0,2,0\\nEX,2020-09-06,124,124,0,0,0,0\\nGA,2020-09-06,253,253,0,0,0,0\\nIB,2020-09-06,112,111,1,0,0,0\\nMC,2020-09-06,290,290,0,0,0,0\\nMD,2020-09-06,2301,2284,0,17,0,0\\nML,2020-09-06,18,18,0,0,0,0\\nNC,2020-09-06,192,192,0,0,0,0\\nPV,2020-09-06,638,604,0,34,0,0\\nRI,2020-09-06,49,49,0,0,0,0\\nVC,2020-09-06,392,392,0,0,0,0\\nAN,2020-09-07,879,878,0,1,0,0\\nAR,2020-09-07,333,333,0,0,0,0\\nAS,2020-09-07,49,49,0,0,0,0\\nCB,2020-09-07,166,166,0,0,0,0\\nCE,2020-09-07,6,6,0,0,0,0\\nCL,2020-09-07,530,527,0,1,2,0\\nCM,2020-09-07,570,569,0,0,1,0\\nCN,2020-09-07,200,200,0,0,0,0\\nCT,2020-09-07,1101,1096,0,0,5,0\\nEX,2020-09-07,134,134,0,0,0,0\\nGA,2020-09-07,245,245,0,0,0,0\\nIB,2020-09-07,183,183,0,0,0,0\\nMC,2020-09-07,381,381,0,0,0,0\\nMD,2020-09-07,3067,3034,0,33,0,0\\nML,2020-09-07,16,16,0,0,0,0\\nNC,2020-09-07,321,321,0,0,0,0\\nPV,2020-09-07,642,609,0,33,0,0\\nRI,2020-09-07,102,102,0,0,0,0\\nVC,2020-09-07,558,558,0,0,0,0\\nAN,2020-09-08,1088,1088,0,0,0,0\\nAR,2020-09-08,375,375,0,0,0,0\\nAS,2020-09-08,49,49,0,0,0,0\\nCB,2020-09-08,162,162,0,0,0,0\\nCE,2020-09-08,15,15,0,0,0,0\\nCL,2020-09-08,660,659,0,0,1,0\\nCM,2020-09-08,630,630,0,0,0,0\\nCN,2020-09-08,204,203,0,1,0,0\\nCT,2020-09-08,1174,1167,0,0,7,0\\nEX,2020-09-08,132,132,0,0,0,0\\nGA,2020-09-08,226,226,0,0,0,0\\nIB,2020-09-08,152,151,1,0,0,0\\nMC,2020-09-08,421,421,0,0,0,0\\nMD,2020-09-08,4548,4520,0,28,0,0\\nML,2020-09-08,26,26,0,0,0,0\\nNC,2020-09-08,272,272,0,0,0,0\\nPV,2020-09-08,720,678,0,42,0,0\\nRI,2020-09-08,84,84,0,0,0,0\\nVC,2020-09-08,583,583,0,0,0,0\\nAN,2020-09-09,1276,1276,0,0,0,0\\nAR,2020-09-09,367,367,0,0,0,0\\nAS,2020-09-09,68,68,0,0,0,0\\nCB,2020-09-09,86,86,0,0,0,0\\nCE,2020-09-09,4,4,0,0,0,0\\nCL,2020-09-09,636,636,0,0,0,0\\nCM,2020-09-09,707,707,0,0,0,0\\nCN,2020-09-09,229,229,0,0,0,0\\nCT,2020-09-09,1176,1166,0,0,10,0\\nEX,2020-09-09,216,215,0,0,0,1\\nGA,2020-09-09,202,202,0,0,0,0\\nIB,2020-09-09,148,145,3,0,0,0\\nMC,2020-09-09,393,393,0,0,0,0\\nMD,2020-09-09,4881,4847,0,34,0,0\\nML,2020-09-09,42,42,0,0,0,0\\nNC,2020-09-09,307,307,0,0,0,0\\nPV,2020-09-09,540,516,0,24,0,0\\nRI,2020-09-09,102,102,0,0,0,0\\nVC,2020-09-09,567,567,0,0,0,0\\nAN,2020-09-10,1191,1191,0,0,0,0\\nAR,2020-09-10,343,341,0,1,1,0\\nAS,2020-09-10,53,53,0,0,0,0\\nCB,2020-09-10,85,85,0,0,0,0\\nCE,2020-09-10,9,9,0,0,0,0\\nCL,2020-09-10,859,859,0,0,0,0\\nCM,2020-09-10,836,835,0,0,1,0\\nCN,2020-09-10,233,233,0,0,0,0\\nCT,2020-09-10,1368,1363,0,0,5,0\\nEX,2020-09-10,225,225,0,0,0,0\\nGA,2020-09-10,271,271,0,0,0,0\\nIB,2020-09-10,164,164,0,0,0,0\\nMC,2020-09-10,426,426,0,0,0,0\\nMD,2020-09-10,4340,4320,0,20,0,0\\nML,2020-09-10,38,38,0,0,0,0\\nNC,2020-09-10,313,313,0,0,0,0\\nPV,2020-09-10,347,323,0,24,0,0\\nRI,2020-09-10,87,87,0,0,0,0\\nVC,2020-09-10,588,588,0,0,0,0\\nAN,2020-09-11,1413,1413,0,0,0,0\\nAR,2020-09-11,446,446,0,0,0,0\\nAS,2020-09-11,72,72,0,0,0,0\\nCB,2020-09-11,76,76,0,0,0,0\\nCE,2020-09-11,19,19,0,0,0,0\\nCL,2020-09-11,896,896,0,0,0,0\\nCM,2020-09-11,714,713,0,1,0,0\\nCN,2020-09-11,194,194,0,0,0,0\\nCT,2020-09-11,828,827,0,0,1,0\\nEX,2020-09-11,212,211,0,0,0,1\\nGA,2020-09-11,195,195,0,0,0,0\\nIB,2020-09-11,157,157,0,0,0,0\\nMC,2020-09-11,447,447,0,0,0,0\\nMD,2020-09-11,5256,5231,0,25,0,0\\nML,2020-09-11,26,26,0,0,0,0\\nNC,2020-09-11,313,313,0,0,0,0\\nPV,2020-09-11,317,293,0,24,0,0\\nRI,2020-09-11,104,104,0,0,0,0\\nVC,2020-09-11,576,576,0,0,0,0\\nAN,2020-09-12,1022,1022,0,0,0,0\\nAR,2020-09-12,380,380,0,0,0,0\\nAS,2020-09-12,64,64,0,0,0,0\\nCB,2020-09-12,67,67,0,0,0,0\\nCE,2020-09-12,7,7,0,0,0,0\\nCL,2020-09-12,651,651,0,0,0,0\\nCM,2020-09-12,689,689,0,0,0,0\\nCN,2020-09-12,221,221,0,0,0,0\\nCT,2020-09-12,937,937,0,0,0,0\\nEX,2020-09-12,192,192,0,0,0,0\\nGA,2020-09-12,200,200,0,0,0,0\\nIB,2020-09-12,110,110,0,0,0,0\\nMC,2020-09-12,448,447,0,0,0,1\\nMD,2020-09-12,3103,3077,0,26,0,0\\nML,2020-09-12,28,28,0,0,0,0\\nNC,2020-09-12,281,281,0,0,0,0\\nPV,2020-09-12,464,426,0,38,0,0\\nRI,2020-09-12,142,142,0,0,0,0\\nVC,2020-09-12,445,445,0,0,0,0\\nAN,2020-09-13,859,858,0,1,0,0\\nAR,2020-09-13,363,363,0,0,0,0\\nAS,2020-09-13,74,74,0,0,0,0\\nCB,2020-09-13,119,119,0,0,0,0\\nCE,2020-09-13,5,5,0,0,0,0\\nCL,2020-09-13,600,600,0,0,0,0\\nCM,2020-09-13,541,541,0,0,0,0\\nCN,2020-09-13,161,160,0,1,0,0\\nCT,2020-09-13,693,688,0,0,5,0\\nEX,2020-09-13,177,177,0,0,0,0\\nGA,2020-09-13,219,219,0,0,0,0\\nIB,2020-09-13,122,122,0,0,0,0\\nMC,2020-09-13,372,372,0,0,0,0\\nMD,2020-09-13,2399,2379,0,20,0,0\\nML,2020-09-13,17,17,0,0,0,0\\nNC,2020-09-13,321,321,0,0,0,0\\nPV,2020-09-13,568,517,0,51,0,0\\nRI,2020-09-13,111,111,0,0,0,0\\nVC,2020-09-13,396,396,0,0,0,0\\nAN,2020-09-14,1045,1045,0,0,0,0\\nAR,2020-09-14,359,359,0,0,0,0\\nAS,2020-09-14,91,91,0,0,0,0\\nCB,2020-09-14,72,72,0,0,0,0\\nCE,2020-09-14,12,12,0,0,0,0\\nCL,2020-09-14,662,661,0,0,1,0\\nCM,2020-09-14,716,716,0,0,0,0\\nCN,2020-09-14,167,166,0,1,0,0\\nCT,2020-09-14,1273,1272,0,0,1,0\\nEX,2020-09-14,248,247,0,0,0,1\\nGA,2020-09-14,229,229,0,0,0,0\\nIB,2020-09-14,179,178,1,0,0,0\\nMC,2020-09-14,556,556,0,0,0,0\\nMD,2020-09-14,3530,3497,0,33,0,0\\nML,2020-09-14,21,21,0,0,0,0\\nNC,2020-09-14,354,354,0,0,0,0\\nPV,2020-09-14,577,531,0,46,0,0\\nRI,2020-09-14,111,111,0,0,0,0\\nVC,2020-09-14,539,539,0,0,0,0\\nAN,2020-09-15,1057,1056,0,1,0,0\\nAR,2020-09-15,363,362,0,1,0,0\\nAS,2020-09-15,90,90,0,0,0,0\\nCB,2020-09-15,119,119,0,0,0,0\\nCE,2020-09-15,10,10,0,0,0,0\\nCL,2020-09-15,844,843,0,0,1,0\\nCM,2020-09-15,772,771,0,1,0,0\\nCN,2020-09-15,185,184,0,1,0,0\\nCT,2020-09-15,1400,1388,0,0,10,2\\nEX,2020-09-15,219,219,0,0,0,0\\nGA,2020-09-15,229,229,0,0,0,0\\nIB,2020-09-15,212,212,0,0,0,0\\nMC,2020-09-15,514,514,0,0,0,0\\nMD,2020-09-15,4770,4752,0,18,0,0\\nML,2020-09-15,11,11,0,0,0,0\\nNC,2020-09-15,319,319,0,0,0,0\\nPV,2020-09-15,640,593,0,47,0,0\\nRI,2020-09-15,134,134,0,0,0,0\\nVC,2020-09-15,473,473,0,0,0,0\\nAN,2020-09-16,1399,1396,0,3,0,0\\nAR,2020-09-16,353,353,0,0,0,0\\nAS,2020-09-16,75,75,0,0,0,0\\nCB,2020-09-16,67,67,0,0,0,0\\nCE,2020-09-16,7,7,0,0,0,0\\nCL,2020-09-16,782,778,0,2,2,0\\nCM,2020-09-16,809,809,0,0,0,0\\nCN,2020-09-16,152,152,0,0,0,0\\nCT,2020-09-16,1511,1506,0,0,5,0\\nEX,2020-09-16,295,295,0,0,0,0\\nGA,2020-09-16,253,253,0,0,0,0\\nIB,2020-09-16,199,199,0,0,0,0\\nMC,2020-09-16,467,466,0,0,1,0\\nMD,2020-09-16,4471,4460,0,11,0,0\\nML,2020-09-16,9,9,0,0,0,0\\nNC,2020-09-16,326,326,0,0,0,0\\nPV,2020-09-16,509,464,0,45,0,0\\nRI,2020-09-16,136,136,0,0,0,0\\nVC,2020-09-16,527,527,0,0,0,0\\nAN,2020-09-17,1268,1265,0,3,0,0\\nAR,2020-09-17,407,407,0,0,0,0\\nAS,2020-09-17,97,97,0,0,0,0\\nCB,2020-09-17,75,75,0,0,0,0\\nCE,2020-09-17,10,10,0,0,0,0\\nCL,2020-09-17,818,814,0,2,2,0\\nCM,2020-09-17,789,788,0,1,0,0\\nCN,2020-09-17,169,169,0,0,0,0\\nCT,2020-09-17,1244,1239,0,0,5,0\\nEX,2020-09-17,292,292,0,0,0,0\\nGA,2020-09-17,238,238,0,0,0,0\\nIB,2020-09-17,173,173,0,0,0,0\\nMC,2020-09-17,451,451,0,0,0,0\\nMD,2020-09-17,4456,4448,0,8,0,0\\nML,2020-09-17,12,12,0,0,0,0\\nNC,2020-09-17,298,298,0,0,0,0\\nPV,2020-09-17,425,391,0,34,0,0\\nRI,2020-09-17,112,112,0,0,0,0\\nVC,2020-09-17,479,479,0,0,0,0\\nAN,2020-09-18,1520,1515,0,5,0,0\\nAR,2020-09-18,351,350,0,1,0,0\\nAS,2020-09-18,83,83,0,0,0,0\\nCB,2020-09-18,63,63,0,0,0,0\\nCE,2020-09-18,19,19,0,0,0,0\\nCL,2020-09-18,894,892,0,1,1,0\\nCM,2020-09-18,844,843,0,1,0,0\\nCN,2020-09-18,187,186,0,1,0,0\\nCT,2020-09-18,1450,1438,0,0,12,0\\nEX,2020-09-18,319,319,0,0,0,0\\nGA,2020-09-18,223,223,0,0,0,0\\nIB,2020-09-18,139,139,0,0,0,0\\nMC,2020-09-18,490,490,0,0,0,0\\nMD,2020-09-18,6743,6726,0,17,0,0\\nML,2020-09-18,10,10,0,0,0,0\\nNC,2020-09-18,327,327,0,0,0,0\\nPV,2020-09-18,352,320,0,32,0,0\\nRI,2020-09-18,78,78,0,0,0,0\\nVC,2020-09-18,456,456,0,0,0,0\\nAN,2020-09-19,1127,1125,0,2,0,0\\nAR,2020-09-19,346,345,0,1,0,0\\nAS,2020-09-19,69,69,0,0,0,0\\nCB,2020-09-19,69,69,0,0,0,0\\nCE,2020-09-19,11,11,0,0,0,0\\nCL,2020-09-19,716,714,0,1,1,0\\nCM,2020-09-19,670,669,0,1,0,0\\nCN,2020-09-19,177,177,0,0,0,0\\nCT,2020-09-19,847,842,0,0,5,0\\nEX,2020-09-19,201,201,0,0,0,0\\nGA,2020-09-19,282,282,0,0,0,0\\nIB,2020-09-19,119,119,0,0,0,0\\nMC,2020-09-19,455,454,0,0,0,1\\nMD,2020-09-19,2364,2344,0,20,0,0\\nML,2020-09-19,26,26,0,0,0,0\\nNC,2020-09-19,224,224,0,0,0,0\\nPV,2020-09-19,403,368,0,35,0,0\\nRI,2020-09-19,70,70,0,0,0,0\\nVC,2020-09-19,404,404,0,0,0,0\\nAN,2020-09-20,807,804,0,3,0,0\\nAR,2020-09-20,242,242,0,0,0,0\\nAS,2020-09-20,80,80,0,0,0,0\\nCB,2020-09-20,68,68,0,0,0,0\\nCE,2020-09-20,9,9,0,0,0,0\\nCL,2020-09-20,659,656,0,3,0,0\\nCM,2020-09-20,495,494,0,1,0,0\\nCN,2020-09-20,147,147,0,0,0,0\\nCT,2020-09-20,790,788,0,0,2,0\\nEX,2020-09-20,185,184,0,1,0,0\\nGA,2020-09-20,216,216,0,0,0,0\\nIB,2020-09-20,106,106,0,0,0,0\\nMC,2020-09-20,322,322,0,0,0,0\\nMD,2020-09-20,1918,1886,0,32,0,0\\nML,2020-09-20,22,22,0,0,0,0\\nNC,2020-09-20,292,292,0,0,0,0\\nPV,2020-09-20,531,474,0,57,0,0\\nRI,2020-09-20,95,95,0,0,0,0\\nVC,2020-09-20,327,327,0,0,0,0\\nAN,2020-09-21,1076,1070,0,6,0,0\\nAR,2020-09-21,354,354,0,0,0,0\\nAS,2020-09-21,120,120,0,0,0,0\\nCB,2020-09-21,66,66,0,0,0,0\\nCE,2020-09-21,20,20,0,0,0,0\\nCL,2020-09-21,653,648,0,5,0,0\\nCM,2020-09-21,616,615,0,1,0,0\\nCN,2020-09-21,244,243,0,1,0,0\\nCT,2020-09-21,1497,1435,0,0,62,0\\nEX,2020-09-21,216,216,0,0,0,0\\nGA,2020-09-21,248,248,0,0,0,0\\nIB,2020-09-21,127,126,0,1,0,0\\nMC,2020-09-21,483,483,0,0,0,0\\nMD,2020-09-21,3114,3042,0,72,0,0\\nML,2020-09-21,33,33,0,0,0,0\\nNC,2020-09-21,375,375,0,0,0,0\\nPV,2020-09-21,431,378,0,53,0,0\\nRI,2020-09-21,79,79,0,0,0,0\\nVC,2020-09-21,435,435,0,0,0,0\\nAN,2020-09-22,1268,1256,0,12,0,0\\nAR,2020-09-22,304,304,0,0,0,0\\nAS,2020-09-22,147,147,0,0,0,0\\nCB,2020-09-22,68,68,0,0,0,0\\nCE,2020-09-22,21,21,0,0,0,0\\nCL,2020-09-22,736,726,0,8,2,0\\nCM,2020-09-22,717,715,0,2,0,0\\nCN,2020-09-22,172,172,0,0,0,0\\nCT,2020-09-22,1283,1276,0,0,7,0\\nEX,2020-09-22,217,216,0,1,0,0\\nGA,2020-09-22,238,238,0,0,0,0\\nIB,2020-09-22,116,115,0,1,0,0\\nMC,2020-09-22,477,477,0,0,0,0\\nMD,2020-09-22,5337,5246,0,91,0,0\\nML,2020-09-22,44,44,0,0,0,0\\nNC,2020-09-22,356,356,0,0,0,0\\nPV,2020-09-22,445,413,0,32,0,0\\nRI,2020-09-22,82,82,0,0,0,0\\nVC,2020-09-22,486,485,0,1,0,0\\nAN,2020-09-23,1315,1303,0,12,0,0\\nAR,2020-09-23,302,302,0,0,0,0\\nAS,2020-09-23,76,76,0,0,0,0\\nCB,2020-09-23,48,48,0,0,0,0\\nCE,2020-09-23,14,14,0,0,0,0\\nCL,2020-09-23,812,808,0,4,0,0\\nCM,2020-09-23,732,731,0,1,0,0\\nCN,2020-09-23,127,125,0,2,0,0\\nCT,2020-09-23,1303,1294,0,0,9,0\\nEX,2020-09-23,203,203,0,0,0,0\\nGA,2020-09-23,199,199,0,0,0,0\\nIB,2020-09-23,102,102,0,0,0,0\\nMC,2020-09-23,427,426,0,0,0,1\\nMD,2020-09-23,4793,4685,0,108,0,0\\nML,2020-09-23,32,32,0,0,0,0\\nNC,2020-09-23,320,320,0,0,0,0\\nPV,2020-09-23,541,488,0,53,0,0\\nRI,2020-09-23,101,100,0,1,0,0\\nVC,2020-09-23,462,460,0,2,0,0\\nAN,2020-09-24,1354,1326,0,28,0,0\\nAR,2020-09-24,359,359,0,0,0,0\\nAS,2020-09-24,73,73,0,0,0,0\\nCB,2020-09-24,33,33,0,0,0,0\\nCE,2020-09-24,18,17,0,0,1,0\\nCL,2020-09-24,869,863,0,6,0,0\\nCM,2020-09-24,690,689,0,1,0,0\\nCN,2020-09-24,167,167,0,0,0,0\\nCT,2020-09-24,984,982,0,0,2,0\\nEX,2020-09-24,271,270,0,1,0,0\\nGA,2020-09-24,183,183,0,0,0,0\\nIB,2020-09-24,99,99,0,0,0,0\\nMC,2020-09-24,569,566,0,3,0,0\\nMD,2020-09-24,4372,4231,0,141,0,0\\nML,2020-09-24,36,36,0,0,0,0\\nNC,2020-09-24,267,267,0,0,0,0\\nPV,2020-09-24,394,365,0,29,0,0\\nRI,2020-09-24,112,111,0,0,0,1\\nVC,2020-09-24,415,415,0,0,0,0\\nAN,2020-09-25,1413,1372,0,41,0,0\\nAR,2020-09-25,342,341,0,1,0,0\\nAS,2020-09-25,73,73,0,0,0,0\\nCB,2020-09-25,62,62,0,0,0,0\\nCE,2020-09-25,21,21,0,0,0,0\\nCL,2020-09-25,836,835,0,0,1,0\\nCM,2020-09-25,700,696,0,4,0,0\\nCN,2020-09-25,156,153,0,3,0,0\\nCT,2020-09-25,1262,1260,0,0,2,0\\nEX,2020-09-25,166,166,0,0,0,0\\nGA,2020-09-25,169,169,0,0,0,0\\nIB,2020-09-25,109,109,0,0,0,0\\nMC,2020-09-25,434,432,0,1,1,0\\nMD,2020-09-25,4989,4823,0,166,0,0\\nML,2020-09-25,33,33,0,0,0,0\\nNC,2020-09-25,324,324,0,0,0,0\\nPV,2020-09-25,325,288,0,37,0,0\\nRI,2020-09-25,79,79,0,0,0,0\\nVC,2020-09-25,442,441,0,1,0,0\\nAN,2020-09-26,1292,1274,0,18,0,0\\nAR,2020-09-26,300,300,0,0,0,0\\nAS,2020-09-26,66,66,0,0,0,0\\nCB,2020-09-26,27,27,0,0,0,0\\nCE,2020-09-26,25,25,0,0,0,0\\nCL,2020-09-26,595,592,0,2,1,0\\nCM,2020-09-26,568,566,0,2,0,0\\nCN,2020-09-26,164,163,0,1,0,0\\nCT,2020-09-26,796,795,0,0,1,0\\nEX,2020-09-26,144,143,0,1,0,0\\nGA,2020-09-26,157,157,0,0,0,0\\nIB,2020-09-26,87,86,0,1,0,0\\nMC,2020-09-26,383,382,0,1,0,0\\nMD,2020-09-26,2078,1914,0,164,0,0\\nML,2020-09-26,26,26,0,0,0,0\\nNC,2020-09-26,268,268,0,0,0,0\\nPV,2020-09-26,446,396,0,50,0,0\\nRI,2020-09-26,60,60,0,0,0,0\\nVC,2020-09-26,369,369,0,0,0,0\\nAN,2020-09-27,787,767,0,20,0,0\\nAR,2020-09-27,298,298,0,0,0,0\\nAS,2020-09-27,140,140,0,0,0,0\\nCB,2020-09-27,43,43,0,0,0,0\\nCE,2020-09-27,14,14,0,0,0,0\\nCL,2020-09-27,393,389,0,3,1,0\\nCM,2020-09-27,428,426,0,2,0,0\\nCN,2020-09-27,148,146,0,2,0,0\\nCT,2020-09-27,716,715,0,0,1,0\\nEX,2020-09-27,123,122,0,1,0,0\\nGA,2020-09-27,174,174,0,0,0,0\\nIB,2020-09-27,76,76,0,0,0,0\\nMC,2020-09-27,353,353,0,0,0,0\\nMD,2020-09-27,1718,1550,0,168,0,0\\nML,2020-09-27,33,33,0,0,0,0\\nNC,2020-09-27,241,240,0,1,0,0\\nPV,2020-09-27,432,372,0,60,0,0\\nRI,2020-09-27,80,80,0,0,0,0\\nVC,2020-09-27,262,262,0,0,0,0\\nAN,2020-09-28,960,907,0,53,0,0\\nAR,2020-09-28,326,326,0,0,0,0\\nAS,2020-09-28,104,104,0,0,0,0\\nCB,2020-09-28,53,53,0,0,0,0\\nCE,2020-09-28,31,31,0,0,0,0\\nCL,2020-09-28,624,613,0,9,2,0\\nCM,2020-09-28,587,584,0,3,0,0\\nCN,2020-09-28,142,141,0,1,0,0\\nCT,2020-09-28,1462,1458,0,0,4,0\\nEX,2020-09-28,143,141,0,1,1,0\\nGA,2020-09-28,204,204,0,0,0,0\\nIB,2020-09-28,81,80,0,1,0,0\\nMC,2020-09-28,393,391,0,2,0,0\\nMD,2020-09-28,2858,2507,0,351,0,0\\nML,2020-09-28,32,32,0,0,0,0\\nNC,2020-09-28,353,352,0,1,0,0\\nPV,2020-09-28,455,412,0,43,0,0\\nRI,2020-09-28,95,95,0,0,0,0\\nVC,2020-09-28,430,430,0,0,0,0\\nAN,2020-09-29,1302,1237,0,65,0,0\\nAR,2020-09-29,347,346,0,1,0,0\\nAS,2020-09-29,76,76,0,0,0,0\\nCB,2020-09-29,55,55,0,0,0,0\\nCE,2020-09-29,20,20,0,0,0,0\\nCL,2020-09-29,830,823,0,7,0,0\\nCM,2020-09-29,502,495,0,7,0,0\\nCN,2020-09-29,161,160,0,1,0,0\\nCT,2020-09-29,1568,1565,0,0,3,0\\nEX,2020-09-29,179,176,0,3,0,0\\nGA,2020-09-29,199,199,0,0,0,0\\nIB,2020-09-29,78,77,0,1,0,0\\nMC,2020-09-29,382,382,0,0,0,0\\nMD,2020-09-29,3846,3463,0,383,0,0\\nML,2020-09-29,36,36,0,0,0,0\\nNC,2020-09-29,291,290,0,1,0,0\\nPV,2020-09-29,448,419,0,29,0,0\\nRI,2020-09-29,76,76,0,0,0,0\\nVC,2020-09-29,408,407,0,1,0,0\\nAN,2020-09-30,1472,1378,0,94,0,0\\nAR,2020-09-30,310,310,0,0,0,0\\nAS,2020-09-30,77,77,0,0,0,0\\nCB,2020-09-30,41,41,0,0,0,0\\nCE,2020-09-30,13,13,0,0,0,0\\nCL,2020-09-30,807,794,0,11,2,0\\nCM,2020-09-30,640,630,0,10,0,0\\nCN,2020-09-30,149,147,0,2,0,0\\nCT,2020-09-30,1542,1539,0,0,3,0\\nEX,2020-09-30,169,168,0,0,0,1\\nGA,2020-09-30,233,233,0,0,0,0\\nIB,2020-09-30,54,54,0,0,0,0\\nMC,2020-09-30,444,442,0,2,0,0\\nMD,2020-09-30,3040,2532,0,508,0,0\\nML,2020-09-30,42,42,0,0,0,0\\nNC,2020-09-30,271,269,0,2,0,0\\nPV,2020-09-30,376,322,0,54,0,0\\nRI,2020-09-30,87,86,0,1,0,0\\nVC,2020-09-30,464,463,0,1,0,0\\nAN,2020-10-01,1630,1530,0,100,0,0\\nAR,2020-10-01,369,365,0,4,0,0\\nAS,2020-10-01,92,92,0,0,0,0\\nCB,2020-10-01,66,66,0,0,0,0\\nCE,2020-10-01,24,22,0,2,0,0\\nCL,2020-10-01,929,904,0,22,3,0\\nCM,2020-10-01,607,595,0,11,1,0\\nCN,2020-10-01,166,165,0,1,0,0\\nCT,2020-10-01,1799,1793,0,0,6,0\\nEX,2020-10-01,184,184,0,0,0,0\\nGA,2020-10-01,273,273,0,0,0,0\\nIB,2020-10-01,176,176,0,0,0,0\\nMC,2020-10-01,403,397,0,6,0,0\\nMD,2020-10-01,2870,2301,0,569,0,0\\nML,2020-10-01,39,39,0,0,0,0\\nNC,2020-10-01,326,322,0,4,0,0\\nPV,2020-10-01,308,284,0,24,0,0\\nRI,2020-10-01,81,81,0,0,0,0\\nVC,2020-10-01,479,466,0,13,0,0\\nAN,2020-10-02,1753,1581,0,172,0,0\\nAR,2020-10-02,403,402,0,1,0,0\\nAS,2020-10-02,104,104,0,0,0,0\\nCB,2020-10-02,36,36,0,0,0,0\\nCE,2020-10-02,23,22,0,1,0,0\\nCL,2020-10-02,893,876,0,16,1,0\\nCM,2020-10-02,612,589,0,22,1,0\\nCN,2020-10-02,150,147,0,3,0,0\\nCT,2020-10-02,1942,1923,0,0,19,0\\nEX,2020-10-02,184,177,0,5,1,1\\nGA,2020-10-02,226,225,0,1,0,0\\nIB,2020-10-02,155,153,2,0,0,0\\nMC,2020-10-02,416,411,0,5,0,0\\nMD,2020-10-02,3066,2343,0,723,0,0\\nML,2020-10-02,38,37,0,1,0,0\\nNC,2020-10-02,256,256,0,0,0,0\\nPV,2020-10-02,376,347,0,29,0,0\\nRI,2020-10-02,71,71,0,0,0,0\\nVC,2020-10-02,463,462,0,1,0,0\\nAN,2020-10-03,1384,1274,0,110,0,0\\nAR,2020-10-03,336,336,0,0,0,0\\nAS,2020-10-03,71,71,0,0,0,0\\nCB,2020-10-03,44,44,0,0,0,0\\nCE,2020-10-03,17,17,0,0,0,0\\nCL,2020-10-03,568,541,0,27,0,0\\nCM,2020-10-03,478,458,0,20,0,0\\nCN,2020-10-03,128,127,0,1,0,0\\nCT,2020-10-03,1143,1115,0,0,28,0\\nEX,2020-10-03,127,126,0,1,0,0\\nGA,2020-10-03,210,210,0,0,0,0\\nIB,2020-10-03,133,133,0,0,0,0\\nMC,2020-10-03,395,389,0,6,0,0\\nMD,2020-10-03,1816,1239,0,577,0,0\\nML,2020-10-03,36,35,0,1,0,0\\nNC,2020-10-03,299,292,0,7,0,0\\nPV,2020-10-03,450,400,0,50,0,0\\nRI,2020-10-03,76,76,0,0,0,0\\nVC,2020-10-03,411,410,0,1,0,0\\nAN,2020-10-04,1110,1011,0,99,0,0\\nAR,2020-10-04,331,330,0,1,0,0\\nAS,2020-10-04,92,92,0,0,0,0\\nCB,2020-10-04,34,34,0,0,0,0\\nCE,2020-10-04,17,17,0,0,0,0\\nCL,2020-10-04,795,760,0,35,0,0\\nCM,2020-10-04,382,362,0,20,0,0\\nCN,2020-10-04,90,89,0,1,0,0\\nCT,2020-10-04,1008,998,0,0,10,0\\nEX,2020-10-04,142,138,0,2,1,1\\nGA,2020-10-04,242,242,0,0,0,0\\nIB,2020-10-04,88,88,0,0,0,0\\nMC,2020-10-04,371,369,0,2,0,0\\nMD,2020-10-04,1474,885,0,589,0,0\\nML,2020-10-04,36,35,0,1,0,0\\nNC,2020-10-04,316,312,0,4,0,0\\nPV,2020-10-04,476,431,0,45,0,0\\nRI,2020-10-04,70,70,0,0,0,0\\nVC,2020-10-04,379,378,0,1,0,0\\nAN,2020-10-05,1582,1366,0,216,0,0\\nAR,2020-10-05,420,415,0,5,0,0\\nAS,2020-10-05,112,112,0,0,0,0\\nCB,2020-10-05,37,37,0,0,0,0\\nCE,2020-10-05,29,29,0,0,0,0\\nCL,2020-10-05,1075,1011,0,62,2,0\\nCM,2020-10-05,608,579,0,28,1,0\\nCN,2020-10-05,125,121,0,4,0,0\\nCT,2020-10-05,2047,2043,0,0,4,0\\nEX,2020-10-05,180,175,1,4,0,0\\nGA,2020-10-05,423,423,0,0,0,0\\nIB,2020-10-05,112,112,0,0,0,0\\nMC,2020-10-05,457,444,0,12,0,1\\nMD,2020-10-05,2532,1443,0,1089,0,0\\nML,2020-10-05,55,54,0,1,0,0\\nNC,2020-10-05,426,413,0,13,0,0\\nPV,2020-10-05,490,450,0,40,0,0\\nRI,2020-10-05,81,80,0,1,0,0\\nVC,2020-10-05,597,594,0,3,0,0\\nAN,2020-10-06,2069,1733,0,336,0,0\\nAR,2020-10-06,488,485,0,3,0,0\\nAS,2020-10-06,203,203,0,0,0,0\\nCB,2020-10-06,61,61,0,0,0,0\\nCE,2020-10-06,20,20,0,0,0,0\\nCL,2020-10-06,1157,1089,0,67,1,0\\nCM,2020-10-06,653,605,0,48,0,0\\nCN,2020-10-06,118,117,0,1,0,0\\nCT,2020-10-06,2273,2259,0,0,14,0\\nEX,2020-10-06,228,225,0,3,0,0\\nGA,2020-10-06,363,363,0,0,0,0\\nIB,2020-10-06,112,112,0,0,0,0\\nMC,2020-10-06,469,458,0,10,0,1\\nMD,2020-10-06,2658,1731,0,927,0,0\\nML,2020-10-06,42,41,0,1,0,0\\nNC,2020-10-06,401,388,0,13,0,0\\nPV,2020-10-06,624,572,0,52,0,0\\nRI,2020-10-06,138,137,0,1,0,0\\nVC,2020-10-06,658,645,0,13,0,0\\nAN,2020-10-07,2109,1750,0,359,0,0\\nAR,2020-10-07,515,502,0,13,0,0\\nAS,2020-10-07,291,291,0,0,0,0\\nCB,2020-10-07,58,58,0,0,0,0\\nCE,2020-10-07,24,23,0,1,0,0\\nCL,2020-10-07,1027,974,0,53,0,0\\nCM,2020-10-07,630,576,0,54,0,0\\nCN,2020-10-07,128,127,0,1,0,0\\nCT,2020-10-07,2334,2328,0,0,6,0\\nEX,2020-10-07,200,199,0,1,0,0\\nGA,2020-10-07,310,309,0,1,0,0\\nIB,2020-10-07,103,102,0,1,0,0\\nMC,2020-10-07,489,478,0,10,0,1\\nMD,2020-10-07,2514,1467,0,1047,0,0\\nML,2020-10-07,47,47,0,0,0,0\\nNC,2020-10-07,484,474,0,10,0,0\\nPV,2020-10-07,598,555,0,43,0,0\\nRI,2020-10-07,112,110,0,2,0,0\\nVC,2020-10-07,596,592,0,4,0,0\\nAN,2020-10-08,2340,1995,0,345,0,0\\nAR,2020-10-08,492,486,0,6,0,0\\nAS,2020-10-08,201,201,0,0,0,0\\nCB,2020-10-08,47,47,0,0,0,0\\nCE,2020-10-08,34,34,0,0,0,0\\nCL,2020-10-08,925,876,0,47,2,0\\nCM,2020-10-08,640,580,0,60,0,0\\nCN,2020-10-08,138,135,0,3,0,0\\nCT,2020-10-08,2734,2721,0,0,11,2\\nEX,2020-10-08,231,223,0,7,0,1\\nGA,2020-10-08,332,331,0,1,0,0\\nIB,2020-10-08,103,102,0,1,0,0\\nMC,2020-10-08,422,406,0,16,0,0\\nMD,2020-10-08,2381,1443,0,938,0,0\\nML,2020-10-08,61,56,0,5,0,0\\nNC,2020-10-08,457,447,0,10,0,0\\nPV,2020-10-08,398,372,0,26,0,0\\nRI,2020-10-08,104,103,0,1,0,0\\nVC,2020-10-08,711,706,0,5,0,0\\nAN,2020-10-09,2508,1994,0,514,0,0\\nAR,2020-10-09,546,534,0,12,0,0\\nAS,2020-10-09,178,178,0,0,0,0\\nCB,2020-10-09,59,59,0,0,0,0\\nCE,2020-10-09,24,24,0,0,0,0\\nCL,2020-10-09,906,875,0,29,2,0\\nCM,2020-10-09,721,651,0,69,1,0\\nCN,2020-10-09,129,126,0,3,0,0\\nCT,2020-10-09,3050,3039,0,0,10,1\\nEX,2020-10-09,235,227,0,8,0,0\\nGA,2020-10-09,295,295,0,0,0,0\\nIB,2020-10-09,107,107,0,0,0,0\\nMC,2020-10-09,499,481,0,13,0,5\\nMD,2020-10-09,2480,1486,0,994,0,0\\nML,2020-10-09,48,47,0,1,0,0\\nNC,2020-10-09,516,501,0,15,0,0\\nPV,2020-10-09,575,541,0,34,0,0\\nRI,2020-10-09,124,120,0,4,0,0\\nVC,2020-10-09,653,651,0,2,0,0\\nAN,2020-10-10,1999,1655,0,344,0,0\\nAR,2020-10-10,535,518,0,17,0,0\\nAS,2020-10-10,186,186,0,0,0,0\\nCB,2020-10-10,75,75,0,0,0,0\\nCE,2020-10-10,30,30,0,0,0,0\\nCL,2020-10-10,965,915,0,48,2,0\\nCM,2020-10-10,582,524,0,58,0,0\\nCN,2020-10-10,125,123,0,2,0,0\\nCT,2020-10-10,2059,2057,0,0,2,0\\nEX,2020-10-10,216,210,0,6,0,0\\nGA,2020-10-10,290,290,0,0,0,0\\nIB,2020-10-10,98,98,0,0,0,0\\nMC,2020-10-10,408,392,0,16,0,0\\nMD,2020-10-10,1674,927,0,747,0,0\\nML,2020-10-10,58,56,0,2,0,0\\nNC,2020-10-10,513,502,0,11,0,0\\nPV,2020-10-10,468,418,0,50,0,0\\nRI,2020-10-10,109,106,0,3,0,0\\nVC,2020-10-10,573,564,0,9,0,0\\nAN,2020-10-11,1349,1043,0,306,0,0\\nAR,2020-10-11,476,470,0,6,0,0\\nAS,2020-10-11,189,189,0,0,0,0\\nCB,2020-10-11,73,73,0,0,0,0\\nCE,2020-10-11,22,22,0,0,0,0\\nCL,2020-10-11,675,600,0,75,0,0\\nCM,2020-10-11,405,353,0,51,1,0\\nCN,2020-10-11,101,99,0,2,0,0\\nCT,2020-10-11,1576,1575,0,0,1,0\\nEX,2020-10-11,183,180,1,2,0,0\\nGA,2020-10-11,255,252,0,2,1,0\\nIB,2020-10-11,86,86,0,0,0,0\\nMC,2020-10-11,407,395,0,10,0,2\\nMD,2020-10-11,1408,750,0,658,0,0\\nML,2020-10-11,42,41,0,1,0,0\\nNC,2020-10-11,504,494,0,10,0,0\\nPV,2020-10-11,691,653,0,38,0,0\\nRI,2020-10-11,110,105,0,5,0,0\\nVC,2020-10-11,486,477,0,9,0,0\\nAN,2020-10-12,1427,1069,0,358,0,0\\nAR,2020-10-12,471,452,0,19,0,0\\nAS,2020-10-12,198,198,0,0,0,0\\nCB,2020-10-12,78,78,0,0,0,0\\nCE,2020-10-12,20,18,0,2,0,0\\nCL,2020-10-12,1008,934,0,73,1,0\\nCM,2020-10-12,512,458,0,54,0,0\\nCN,2020-10-12,99,97,0,2,0,0\\nCT,2020-10-12,2033,2032,0,0,1,0\\nEX,2020-10-12,198,187,1,10,0,0\\nGA,2020-10-12,375,374,0,1,0,0\\nIB,2020-10-12,58,58,0,0,0,0\\nMC,2020-10-12,501,470,0,31,0,0\\nMD,2020-10-12,1700,885,0,815,0,0\\nML,2020-10-12,72,69,0,3,0,0\\nNC,2020-10-12,514,499,0,15,0,0\\nPV,2020-10-12,860,814,0,46,0,0\\nRI,2020-10-12,139,131,0,8,0,0\\nVC,2020-10-12,666,661,0,5,0,0\\nAN,2020-10-13,2206,1544,0,662,0,0\\nAR,2020-10-13,586,558,0,28,0,0\\nAS,2020-10-13,213,213,0,0,0,0\\nCB,2020-10-13,96,96,0,0,0,0\\nCE,2020-10-13,35,35,0,0,0,0\\nCL,2020-10-13,1187,1048,0,135,4,0\\nCM,2020-10-13,720,612,0,108,0,0\\nCN,2020-10-13,105,103,0,2,0,0\\nCT,2020-10-13,3285,3274,0,0,7,4\\nEX,2020-10-13,240,231,0,9,0,0\\nGA,2020-10-13,366,365,0,1,0,0\\nIB,2020-10-13,60,60,0,0,0,0\\nMC,2020-10-13,539,495,0,43,0,1\\nMD,2020-10-13,2352,1258,0,1094,0,0\\nML,2020-10-13,66,65,0,1,0,0\\nNC,2020-10-13,544,530,0,14,0,0\\nPV,2020-10-13,930,856,0,74,0,0\\nRI,2020-10-13,153,149,0,4,0,0\\nVC,2020-10-13,781,772,0,9,0,0\\nAN,2020-10-14,3111,2342,0,769,0,0\\nAR,2020-10-14,742,696,0,46,0,0\\nAS,2020-10-14,277,277,0,0,0,0\\nCB,2020-10-14,136,136,0,0,0,0\\nCE,2020-10-14,45,45,0,0,0,0\\nCL,2020-10-14,1236,1165,0,70,1,0\\nCM,2020-10-14,771,671,0,100,0,0\\nCN,2020-10-14,108,106,0,2,0,0\\nCT,2020-10-14,3728,3714,0,0,13,1\\nEX,2020-10-14,308,292,2,14,0,0\\nGA,2020-10-14,427,427,0,0,0,0\\nIB,2020-10-14,42,40,2,0,0,0\\nMC,2020-10-14,626,585,0,38,0,3\\nMD,2020-10-14,2206,1293,0,913,0,0\\nML,2020-10-14,71,67,0,4,0,0\\nNC,2020-10-14,567,536,0,31,0,0\\nPV,2020-10-14,821,739,0,82,0,0\\nRI,2020-10-14,146,137,0,9,0,0\\nVC,2020-10-14,1023,1009,0,14,0,0\\nAN,2020-10-15,3330,2525,0,805,0,0\\nAR,2020-10-15,766,677,0,89,0,0\\nAS,2020-10-15,259,259,0,0,0,0\\nCB,2020-10-15,86,86,0,0,0,0\\nCE,2020-10-15,43,42,0,1,0,0\\nCL,2020-10-15,1195,1102,0,92,1,0\\nCM,2020-10-15,822,712,0,110,0,0\\nCN,2020-10-15,112,108,0,4,0,0\\nCT,2020-10-15,3967,3944,0,0,18,5\\nEX,2020-10-15,307,294,1,12,0,0\\nGA,2020-10-15,408,405,0,3,0,0\\nIB,2020-10-15,26,26,0,0,0,0\\nMC,2020-10-15,566,525,0,39,0,2\\nMD,2020-10-15,2160,1187,0,973,0,0\\nML,2020-10-15,81,76,0,5,0,0\\nNC,2020-10-15,499,478,0,21,0,0\\nPV,2020-10-15,735,679,0,56,0,0\\nRI,2020-10-15,169,157,0,12,0,0\\nVC,2020-10-15,956,932,0,24,0,0\\nAN,2020-10-16,3457,2625,0,832,0,0\\nAR,2020-10-16,819,685,0,134,0,0\\nAS,2020-10-16,208,208,0,0,0,0\\nCB,2020-10-16,111,111,0,0,0,0\\nCE,2020-10-16,40,38,0,2,0,0\\nCL,2020-10-16,1323,1182,0,136,5,0\\nCM,2020-10-16,789,655,0,134,0,0\\nCN,2020-10-16,147,144,0,3,0,0\\nCT,2020-10-16,4281,4258,0,0,17,6\\nEX,2020-10-16,315,287,1,27,0,0\\nGA,2020-10-16,412,411,0,0,1,0\\nIB,2020-10-16,36,35,0,1,0,0\\nMC,2020-10-16,645,581,2,62,0,0\\nMD,2020-10-16,2382,1334,0,1048,0,0\\nML,2020-10-16,94,93,0,1,0,0\\nNC,2020-10-16,520,501,0,19,0,0\\nPV,2020-10-16,694,648,0,46,0,0\\nRI,2020-10-16,202,188,0,14,0,0\\nVC,2020-10-16,1045,1022,0,23,0,0\\nAN,2020-10-17,2817,2229,0,588,0,0\\nAR,2020-10-17,668,555,0,113,0,0\\nAS,2020-10-17,181,181,0,0,0,0\\nCB,2020-10-17,128,128,0,0,0,0\\nCE,2020-10-17,42,38,0,4,0,0\\nCL,2020-10-17,1342,1202,0,137,3,0\\nCM,2020-10-17,545,456,0,89,0,0\\nCN,2020-10-17,108,108,0,0,0,0\\nCT,2020-10-17,2910,2894,0,0,7,9\\nEX,2020-10-17,362,338,1,23,0,0\\nGA,2020-10-17,474,470,0,4,0,0\\nIB,2020-10-17,39,39,0,0,0,0\\nMC,2020-10-17,653,588,0,64,0,1\\nMD,2020-10-17,1535,851,0,684,0,0\\nML,2020-10-17,78,77,0,1,0,0\\nNC,2020-10-17,457,438,0,19,0,0\\nPV,2020-10-17,819,769,0,50,0,0\\nRI,2020-10-17,153,138,0,15,0,0\\nVC,2020-10-17,986,957,0,29,0,0\\nAN,2020-10-18,1800,1284,0,516,0,0\\nAR,2020-10-18,723,552,0,171,0,0\\nAS,2020-10-18,270,270,0,0,0,0\\nCB,2020-10-18,168,168,0,0,0,0\\nCE,2020-10-18,41,39,0,2,0,0\\nCL,2020-10-18,1231,1087,0,143,1,0\\nCM,2020-10-18,599,508,0,91,0,0\\nCN,2020-10-18,123,121,0,2,0,0\\nCT,2020-10-18,2691,2684,0,0,5,2\\nEX,2020-10-18,276,239,2,34,1,0\\nGA,2020-10-18,435,432,0,3,0,0\\nIB,2020-10-18,47,46,0,1,0,0\\nMC,2020-10-18,562,474,0,88,0,0\\nMD,2020-10-18,1326,611,0,715,0,0\\nML,2020-10-18,65,62,0,3,0,0\\nNC,2020-10-18,546,527,0,19,0,0\\nPV,2020-10-18,1029,957,0,72,0,0\\nRI,2020-10-18,143,114,0,29,0,0\\nVC,2020-10-18,915,884,0,31,0,0\\nAN,2020-10-19,3439,2363,0,1076,0,0\\nAR,2020-10-19,1080,850,0,229,1,0\\nAS,2020-10-19,325,325,0,0,0,0\\nCB,2020-10-19,185,185,0,0,0,0\\nCE,2020-10-19,66,60,0,6,0,0\\nCL,2020-10-19,1760,1570,0,188,2,0\\nCM,2020-10-19,830,657,0,173,0,0\\nCN,2020-10-19,116,116,0,0,0,0\\nCT,2020-10-19,5279,5272,0,0,7,0\\nEX,2020-10-19,351,287,3,61,0,0\\nGA,2020-10-19,585,575,0,10,0,0\\nIB,2020-10-19,102,97,1,4,0,0\\nMC,2020-10-19,759,637,0,119,0,3\\nMD,2020-10-19,2280,1126,0,1154,0,0\\nML,2020-10-19,90,87,0,3,0,0\\nNC,2020-10-19,734,694,0,40,0,0\\nPV,2020-10-19,1278,1177,0,101,0,0\\nRI,2020-10-19,194,175,0,19,0,0\\nVC,2020-10-19,1334,1277,0,57,0,0\\nAN,2020-10-20,4129,2939,0,1190,0,0\\nAR,2020-10-20,1090,850,0,240,0,0\\nAS,2020-10-20,383,383,0,0,0,0\\nCB,2020-10-20,179,179,0,0,0,0\\nCE,2020-10-20,44,38,0,5,1,0\\nCL,2020-10-20,1857,1586,0,270,1,0\\nCM,2020-10-20,942,792,0,149,1,0\\nCN,2020-10-20,135,132,0,3,0,0\\nCT,2020-10-20,6096,6073,0,1,22,0\\nEX,2020-10-20,457,413,1,43,0,0\\nGA,2020-10-20,674,662,0,12,0,0\\nIB,2020-10-20,117,114,0,3,0,0\\nMC,2020-10-20,743,623,0,118,0,2\\nMD,2020-10-20,2358,1263,0,1095,0,0\\nML,2020-10-20,83,73,0,10,0,0\\nNC,2020-10-20,622,576,0,46,0,0\\nPV,2020-10-20,1255,1154,0,101,0,0\\nRI,2020-10-20,208,195,0,13,0,0\\nVC,2020-10-20,1521,1455,0,66,0,0\\nAN,2020-10-21,4590,3190,0,1400,0,0\\nAR,2020-10-21,1119,855,0,264,0,0\\nAS,2020-10-21,304,304,0,0,0,0\\nCB,2020-10-21,177,177,0,0,0,0\\nCE,2020-10-21,46,41,0,5,0,0\\nCL,2020-10-21,1669,1482,0,186,1,0\\nCM,2020-10-21,982,834,0,148,0,0\\nCN,2020-10-21,121,120,0,1,0,0\\nCT,2020-10-21,5941,5934,0,0,6,1\\nEX,2020-10-21,458,393,2,63,0,0\\nGA,2020-10-21,614,608,0,6,0,0\\nIB,2020-10-21,158,153,3,2,0,0\\nMC,2020-10-21,810,673,1,130,1,5\\nMD,2020-10-21,1988,1126,0,862,0,0\\nML,2020-10-21,100,88,0,12,0,0\\nNC,2020-10-21,590,538,0,52,0,0\\nPV,2020-10-21,1104,1021,0,83,0,0\\nRI,2020-10-21,200,189,0,11,0,0\\nVC,2020-10-21,1481,1388,0,93,0,0\\nAN,2020-10-22,4472,3159,0,1313,0,0\\nAR,2020-10-22,1071,826,0,242,3,0\\nAS,2020-10-22,248,248,0,0,0,0\\nCB,2020-10-22,154,154,0,0,0,0\\nCE,2020-10-22,57,44,0,13,0,0\\nCL,2020-10-22,1559,1390,0,166,3,0\\nCM,2020-10-22,943,780,0,163,0,0\\nCN,2020-10-22,124,123,0,1,0,0\\nCT,2020-10-22,5861,5857,0,0,4,0\\nEX,2020-10-22,446,363,2,81,0,0\\nGA,2020-10-22,612,602,0,10,0,0\\nIB,2020-10-22,180,177,0,3,0,0\\nMC,2020-10-22,792,690,0,100,1,1\\nMD,2020-10-22,1810,1027,0,783,0,0\\nML,2020-10-22,82,73,0,9,0,0\\nNC,2020-10-22,498,458,0,40,0,0\\nPV,2020-10-22,1010,926,0,84,0,0\\nRI,2020-10-22,179,165,0,14,0,0\\nVC,2020-10-22,1435,1355,0,80,0,0\\nAN,2020-10-23,4649,3198,0,1451,0,0\\nAR,2020-10-23,1082,802,0,280,0,0\\nAS,2020-10-23,242,242,0,0,0,0\\nCB,2020-10-23,150,150,0,0,0,0\\nCE,2020-10-23,51,36,0,15,0,0\\nCL,2020-10-23,1658,1423,0,234,1,0\\nCM,2020-10-23,1045,880,0,165,0,0\\nCN,2020-10-23,92,86,0,6,0,0\\nCT,2020-10-23,5683,5673,0,1,9,0\\nEX,2020-10-23,485,405,1,78,0,1\\nGA,2020-10-23,593,582,0,10,1,0\\nIB,2020-10-23,185,181,0,4,0,0\\nMC,2020-10-23,918,753,1,163,1,0\\nMD,2020-10-23,2303,1281,0,1022,0,0\\nML,2020-10-23,93,74,0,19,0,0\\nNC,2020-10-23,505,466,0,39,0,0\\nPV,2020-10-23,1042,940,0,102,0,0\\nRI,2020-10-23,188,183,0,5,0,0\\nVC,2020-10-23,1483,1401,0,82,0,0\\nAN,2020-10-24,3359,2502,0,857,0,0\\nAR,2020-10-24,952,689,0,263,0,0\\nAS,2020-10-24,345,345,0,0,0,0\\nCB,2020-10-24,169,169,0,0,0,0\\nCE,2020-10-24,57,30,0,27,0,0\\nCL,2020-10-24,1436,1263,0,169,4,0\\nCM,2020-10-24,754,626,0,128,0,0\\nCN,2020-10-24,123,117,0,6,0,0\\nCT,2020-10-24,3533,3533,0,0,0,0\\nEX,2020-10-24,459,400,5,53,0,1\\nGA,2020-10-24,716,702,0,14,0,0\\nIB,2020-10-24,183,176,0,7,0,0\\nMC,2020-10-24,788,654,1,131,0,2\\nMD,2020-10-24,1153,641,0,512,0,0\\nML,2020-10-24,88,82,0,6,0,0\\nNC,2020-10-24,578,516,0,62,0,0\\nPV,2020-10-24,1172,1055,0,117,0,0\\nRI,2020-10-24,160,148,0,12,0,0\\nVC,2020-10-24,1309,1202,0,107,0,0\\nAN,2020-10-25,2313,1605,0,708,0,0\\nAR,2020-10-25,894,639,0,255,0,0\\nAS,2020-10-25,409,409,0,0,0,0\\nCB,2020-10-25,159,159,0,0,0,0\\nCE,2020-10-25,49,20,0,29,0,0\\nCL,2020-10-25,1500,1301,0,198,1,0\\nCM,2020-10-25,829,696,0,133,0,0\\nCN,2020-10-25,76,72,0,4,0,0\\nCT,2020-10-25,3200,3199,0,0,1,0\\nEX,2020-10-25,382,325,1,56,0,0\\nGA,2020-10-25,654,644,0,10,0,0\\nIB,2020-10-25,176,173,0,3,0,0\\nMC,2020-10-25,659,516,2,138,1,2\\nMD,2020-10-25,1089,558,0,531,0,0\\nML,2020-10-25,55,46,0,9,0,0\\nNC,2020-10-25,507,433,0,74,0,0\\nPV,2020-10-25,1243,1133,0,110,0,0\\nRI,2020-10-25,131,127,0,4,0,0\\nVC,2020-10-25,1072,962,0,110,0,0\\nAN,2020-10-26,3896,2460,0,1436,0,0\\nAR,2020-10-26,1153,807,0,346,0,0\\nAS,2020-10-26,444,444,0,0,0,0\\nCB,2020-10-26,182,182,0,0,0,0\\nCE,2020-10-26,69,26,0,43,0,0\\nCL,2020-10-26,1935,1685,0,247,3,0\\nCM,2020-10-26,1072,888,0,184,0,0\\nCN,2020-10-26,123,118,0,5,0,0\\nCT,2020-10-26,5354,5344,0,0,9,1\\nEX,2020-10-26,547,461,1,85,0,0\\nGA,2020-10-26,754,737,0,17,0,0\\nIB,2020-10-26,250,246,1,3,0,0\\nMC,2020-10-26,802,595,4,202,0,1\\nMD,2020-10-26,2136,985,0,1151,0,0\\nML,2020-10-26,78,51,0,27,0,0\\nNC,2020-10-26,545,437,0,108,0,0\\nPV,2020-10-26,1380,1263,0,117,0,0\\nRI,2020-10-26,182,172,0,10,0,0\\nVC,2020-10-26,1586,1454,0,132,0,0\\nAN,2020-10-27,4500,2960,0,1540,0,0\\nAR,2020-10-27,1033,703,0,330,0,0\\nAS,2020-10-27,418,418,0,0,0,0\\nCB,2020-10-27,172,172,0,0,0,0\\nCE,2020-10-27,65,36,0,29,0,0\\nCL,2020-10-27,2033,1777,0,248,8,0\\nCM,2020-10-27,1057,846,0,211,0,0\\nCN,2020-10-27,114,105,0,9,0,0\\nCT,2020-10-27,5519,5509,0,0,9,1\\nEX,2020-10-27,476,364,0,112,0,0\\nGA,2020-10-27,817,801,0,15,1,0\\nIB,2020-10-27,189,184,0,5,0,0\\nMC,2020-10-27,880,679,4,197,0,0\\nMD,2020-10-27,2203,1255,0,948,0,0\\nML,2020-10-27,83,49,0,34,0,0\\nNC,2020-10-27,451,370,0,81,0,0\\nPV,2020-10-27,1470,1352,0,118,0,0\\nRI,2020-10-27,187,177,0,10,0,0\\nVC,2020-10-27,1688,1530,0,158,0,0\\nAN,2020-10-28,4682,3221,0,1461,0,0\\nAR,2020-10-28,967,667,0,300,0,0\\nAS,2020-10-28,292,292,0,0,0,0\\nCB,2020-10-28,201,201,0,0,0,0\\nCE,2020-10-28,75,35,0,40,0,0\\nCL,2020-10-28,1832,1668,0,159,5,0\\nCM,2020-10-28,1115,914,0,199,2,0\\nCN,2020-10-28,129,122,0,7,0,0\\nCT,2020-10-28,5162,5153,0,0,9,0\\nEX,2020-10-28,497,411,1,84,0,1\\nGA,2020-10-28,749,740,0,9,0,0\\nIB,2020-10-28,190,184,0,6,0,0\\nMC,2020-10-28,853,661,3,187,2,0\\nMD,2020-10-28,1935,1069,0,866,0,0\\nML,2020-10-28,88,59,0,29,0,0\\nNC,2020-10-28,475,385,0,90,0,0\\nPV,2020-10-28,1164,1047,0,117,0,0\\nRI,2020-10-28,174,168,0,6,0,0\\nVC,2020-10-28,1704,1554,0,150,0,0\\nAN,2020-10-29,4498,3067,0,1431,0,0\\nAR,2020-10-29,968,688,0,280,0,0\\nAS,2020-10-29,205,205,0,0,0,0\\nCB,2020-10-29,183,183,0,0,0,0\\nCE,2020-10-29,70,20,0,50,0,0\\nCL,2020-10-29,1527,1344,0,182,1,0\\nCM,2020-10-29,971,811,0,159,1,0\\nCN,2020-10-29,119,116,0,3,0,0\\nCT,2020-10-29,4786,4783,0,0,3,0\\nEX,2020-10-29,570,433,2,132,0,3\\nGA,2020-10-29,628,616,0,12,0,0\\nIB,2020-10-29,149,144,0,5,0,0\\nMC,2020-10-29,809,607,3,196,2,1\\nMD,2020-10-29,1910,1069,0,841,0,0\\nML,2020-10-29,78,42,0,36,0,0\\nNC,2020-10-29,484,402,0,82,0,0\\nPV,2020-10-29,986,828,0,158,0,0\\nRI,2020-10-29,178,170,0,7,1,0\\nVC,2020-10-29,1665,1560,0,105,0,0\\nAN,2020-10-30,4589,3135,0,1454,0,0\\nAR,2020-10-30,990,693,0,297,0,0\\nAS,2020-10-30,243,243,0,0,0,0\\nCB,2020-10-30,210,210,0,0,0,0\\nCE,2020-10-30,62,15,0,47,0,0\\nCL,2020-10-30,1548,1331,0,214,3,0\\nCM,2020-10-30,869,690,0,179,0,0\\nCN,2020-10-30,118,110,0,8,0,0\\nCT,2020-10-30,5234,5225,0,0,9,0\\nEX,2020-10-30,504,396,0,107,0,1\\nGA,2020-10-30,560,546,0,14,0,0\\nIB,2020-10-30,139,136,0,3,0,0\\nMC,2020-10-30,925,712,4,208,1,0\\nMD,2020-10-30,1987,1118,0,869,0,0\\nML,2020-10-30,91,47,0,44,0,0\\nNC,2020-10-30,428,329,0,99,0,0\\nPV,2020-10-30,1161,984,0,177,0,0\\nRI,2020-10-30,201,191,0,10,0,0\\nVC,2020-10-30,1885,1756,0,129,0,0\\nAN,2020-10-31,3243,2254,0,989,0,0\\nAR,2020-10-31,853,578,0,275,0,0\\nAS,2020-10-31,288,288,0,0,0,0\\nCB,2020-10-31,213,213,0,0,0,0\\nCE,2020-10-31,49,19,0,30,0,0\\nCL,2020-10-31,1412,1233,0,174,5,0\\nCM,2020-10-31,692,566,0,126,0,0\\nCN,2020-10-31,131,127,0,4,0,0\\nCT,2020-10-31,3396,3394,0,0,2,0\\nEX,2020-10-31,380,308,0,71,0,1\\nGA,2020-10-31,636,619,0,17,0,0\\nIB,2020-10-31,95,93,0,2,0,0\\nMC,2020-10-31,877,672,2,202,0,1\\nMD,2020-10-31,1210,608,0,602,0,0\\nML,2020-10-31,54,35,0,19,0,0\\nNC,2020-10-31,415,308,0,107,0,0\\nPV,2020-10-31,1303,1172,0,131,0,0\\nRI,2020-10-31,169,164,0,5,0,0\\nVC,2020-10-31,1513,1405,0,108,0,0\\nAN,2020-11-01,2900,1864,0,1036,0,0\\nAR,2020-11-01,759,507,0,252,0,0\\nAS,2020-11-01,436,436,0,0,0,0\\nCB,2020-11-01,189,189,0,0,0,0\\nCE,2020-11-01,68,13,0,55,0,0\\nCL,2020-11-01,1496,1272,0,220,4,0\\nCM,2020-11-01,630,492,0,138,0,0\\nCN,2020-11-01,134,127,0,7,0,0\\nCT,2020-11-01,2953,2952,0,0,1,0\\nEX,2020-11-01,381,279,0,102,0,0\\nGA,2020-11-01,669,646,0,23,0,0\\nIB,2020-11-01,245,238,0,7,0,0\\nMC,2020-11-01,734,545,1,188,0,0\\nMD,2020-11-01,1142,605,0,537,0,0\\nML,2020-11-01,41,25,0,16,0,0\\nNC,2020-11-01,414,311,0,103,0,0\\nPV,2020-11-01,1392,1214,0,178,0,0\\nRI,2020-11-01,146,140,0,6,0,0\\nVC,2020-11-01,1314,1194,0,120,0,0\\nAN,2020-11-02,2606,1581,0,1025,0,0\\nAR,2020-11-02,789,509,0,280,0,0\\nAS,2020-11-02,583,583,0,0,0,0\\nCB,2020-11-02,263,263,0,0,0,0\\nCE,2020-11-02,54,19,0,35,0,0\\nCL,2020-11-02,1504,1285,0,218,1,0\\nCM,2020-11-02,979,785,0,194,0,0\\nCN,2020-11-02,142,134,0,8,0,0\\nCT,2020-11-02,4914,4905,0,0,8,1\\nEX,2020-11-02,416,344,0,71,0,1\\nGA,2020-11-02,722,709,0,13,0,0\\nIB,2020-11-02,338,317,1,20,0,0\\nMC,2020-11-02,888,627,1,258,2,0\\nMD,2020-11-02,1221,633,0,588,0,0\\nML,2020-11-02,43,18,0,25,0,0\\nNC,2020-11-02,419,290,0,129,0,0\\nPV,2020-11-02,1460,1258,0,202,0,0\\nRI,2020-11-02,188,185,0,3,0,0\\nVC,2020-11-02,1867,1631,0,236,0,0\\nAN,2020-11-03,3929,2049,0,1880,0,0\\nAR,2020-11-03,898,568,0,329,1,0\\nAS,2020-11-03,558,558,0,0,0,0\\nCB,2020-11-03,239,239,0,0,0,0\\nCE,2020-11-03,56,12,0,44,0,0\\nCL,2020-11-03,1851,1566,0,274,11,0\\nCM,2020-11-03,981,755,0,226,0,0\\nCN,2020-11-03,171,161,0,10,0,0\\nCT,2020-11-03,4597,4590,0,0,7,0\\nEX,2020-11-03,406,310,2,94,0,0\\nGA,2020-11-03,570,559,0,11,0,0\\nIB,2020-11-03,328,308,0,20,0,0\\nMC,2020-11-03,949,689,3,255,1,1\\nMD,2020-11-03,2158,1080,0,1078,0,0\\nML,2020-11-03,52,31,0,21,0,0\\nNC,2020-11-03,332,220,0,112,0,0\\nPV,2020-11-03,1396,1170,0,226,0,0\\nRI,2020-11-03,204,197,0,7,0,0\\nVC,2020-11-03,1821,1633,0,188,0,0\\nAN,2020-11-04,4403,2758,0,1645,0,0\\nAR,2020-11-04,846,575,0,271,0,0\\nAS,2020-11-04,290,290,0,0,0,0\\nCB,2020-11-04,222,222,0,0,0,0\\nCE,2020-11-04,54,15,0,39,0,0\\nCL,2020-11-04,1705,1499,0,201,5,0\\nCM,2020-11-04,1015,844,0,171,0,0\\nCN,2020-11-04,128,121,0,7,0,0\\nCT,2020-11-04,4030,4021,0,0,9,0\\nEX,2020-11-04,476,363,0,113,0,0\\nGA,2020-11-04,577,558,0,19,0,0\\nIB,2020-11-04,280,265,5,10,0,0\\nMC,2020-11-04,898,658,1,237,2,0\\nMD,2020-11-04,2030,1165,0,865,0,0\\nML,2020-11-04,39,21,0,18,0,0\\nNC,2020-11-04,344,227,0,117,0,0\\nPV,2020-11-04,1258,1068,0,190,0,0\\nRI,2020-11-04,201,198,0,3,0,0\\nVC,2020-11-04,1809,1640,0,169,0,0\\nAN,2020-11-05,4295,2837,0,1458,0,0\\nAR,2020-11-05,724,479,0,245,0,0\\nAS,2020-11-05,468,468,0,0,0,0\\nCB,2020-11-05,235,235,0,0,0,0\\nCE,2020-11-05,51,9,0,42,0,0\\nCL,2020-11-05,1581,1377,0,203,1,0\\nCM,2020-11-05,849,691,0,158,0,0\\nCN,2020-11-05,135,125,0,10,0,0\\nCT,2020-11-05,4006,3985,0,0,21,0\\nEX,2020-11-05,481,380,0,101,0,0\\nGA,2020-11-05,482,469,0,13,0,0\\nIB,2020-11-05,251,234,2,15,0,0\\nMC,2020-11-05,844,661,3,177,3,0\\nMD,2020-11-05,1758,1011,0,747,0,0\\nML,2020-11-05,39,17,0,22,0,0\\nNC,2020-11-05,277,185,0,92,0,0\\nPV,2020-11-05,1233,986,0,247,0,0\\nRI,2020-11-05,180,177,0,3,0,0\\nVC,2020-11-05,1818,1640,0,178,0,0\\nAN,2020-11-06,4432,2872,0,1560,0,0\\nAR,2020-11-06,759,524,0,235,0,0\\nAS,2020-11-06,294,292,0,2,0,0\\nCB,2020-11-06,199,199,0,0,0,0\\nCE,2020-11-06,55,9,0,46,0,0\\nCL,2020-11-06,1580,1330,0,248,2,0\\nCM,2020-11-06,895,719,0,175,1,0\\nCN,2020-11-06,137,124,0,13,0,0\\nCT,2020-11-06,3770,3757,0,0,13,0\\nEX,2020-11-06,396,292,0,104,0,0\\nGA,2020-11-06,475,462,0,13,0,0\\nIB,2020-11-06,208,184,1,23,0,0\\nMC,2020-11-06,820,625,1,191,3,0\\nMD,2020-11-06,1930,1104,0,826,0,0\\nML,2020-11-06,38,17,0,21,0,0\\nNC,2020-11-06,265,194,0,71,0,0\\nPV,2020-11-06,1192,924,0,268,0,0\\nRI,2020-11-06,191,189,0,2,0,0\\nVC,2020-11-06,1810,1610,0,200,0,0\\nAN,2020-11-07,3231,2236,0,995,0,0\\nAR,2020-11-07,646,486,0,160,0,0\\nAS,2020-11-07,525,523,0,2,0,0\\nCB,2020-11-07,240,240,0,0,0,0\\nCE,2020-11-07,41,13,0,26,2,0\\nCL,2020-11-07,1566,1343,0,221,2,0\\nCM,2020-11-07,612,484,0,128,0,0\\nCN,2020-11-07,125,102,0,23,0,0\\nCT,2020-11-07,2332,2325,0,0,6,1\\nEX,2020-11-07,287,220,0,67,0,0\\nGA,2020-11-07,481,463,0,18,0,0\\nIB,2020-11-07,226,210,0,16,0,0\\nMC,2020-11-07,762,572,1,188,0,1\\nMD,2020-11-07,1244,658,0,586,0,0\\nML,2020-11-07,32,21,0,11,0,0\\nNC,2020-11-07,234,173,0,61,0,0\\nPV,2020-11-07,1241,1029,0,212,0,0\\nRI,2020-11-07,146,139,0,7,0,0\\nVC,2020-11-07,1469,1303,0,166,0,0\\nAN,2020-11-08,2215,1435,0,780,0,0\\nAR,2020-11-08,452,298,0,154,0,0\\nAS,2020-11-08,608,607,0,1,0,0\\nCB,2020-11-08,197,197,0,0,0,0\\nCE,2020-11-08,32,6,0,26,0,0\\nCL,2020-11-08,1285,1057,0,223,5,0\\nCM,2020-11-08,543,415,0,128,0,0\\nCN,2020-11-08,101,71,0,30,0,0\\nCT,2020-11-08,1707,1702,0,0,5,0\\nEX,2020-11-08,297,229,0,68,0,0\\nGA,2020-11-08,504,495,0,9,0,0\\nIB,2020-11-08,150,124,0,26,0,0\\nMC,2020-11-08,512,357,0,152,2,1\\nMD,2020-11-08,1113,561,0,552,0,0\\nML,2020-11-08,23,16,0,7,0,0\\nNC,2020-11-08,209,138,0,71,0,0\\nPV,2020-11-08,1233,1001,0,232,0,0\\nRI,2020-11-08,125,122,1,2,0,0\\nVC,2020-11-08,1100,955,0,145,0,0\\nAN,2020-11-09,3522,2049,0,1473,0,0\\nAR,2020-11-09,640,441,0,199,0,0\\nAS,2020-11-09,674,672,0,2,0,0\\nCB,2020-11-09,230,230,0,0,0,0\\nCE,2020-11-09,31,6,0,25,0,0\\nCL,2020-11-09,1614,1351,0,250,13,0\\nCM,2020-11-09,723,556,0,165,2,0\\nCN,2020-11-09,125,73,0,51,0,1\\nCT,2020-11-09,3093,3085,0,0,7,1\\nEX,2020-11-09,339,255,0,84,0,0\\nGA,2020-11-09,652,630,0,22,0,0\\nIB,2020-11-09,246,210,1,35,0,0\\nMC,2020-11-09,697,496,0,201,0,0\\nMD,2020-11-09,1443,704,0,739,0,0\\nML,2020-11-09,41,20,0,21,0,0\\nNC,2020-11-09,229,144,0,85,0,0\\nPV,2020-11-09,1359,1039,0,320,0,0\\nRI,2020-11-09,148,141,0,7,0,0\\nVC,2020-11-09,1448,1222,0,226,0,0\\nAN,2020-11-10,3926,2603,0,1323,0,0\\nAR,2020-11-10,577,394,0,182,1,0\\nAS,2020-11-10,801,791,0,10,0,0\\nCB,2020-11-10,223,223,0,0,0,0\\nCE,2020-11-10,39,7,0,30,2,0\\nCL,2020-11-10,1532,1311,0,219,2,0\\nCM,2020-11-10,784,609,0,174,1,0\\nCN,2020-11-10,125,87,0,38,0,0\\nCT,2020-11-10,3331,3322,0,0,9,0\\nEX,2020-11-10,347,260,0,87,0,0\\nGA,2020-11-10,597,577,0,20,0,0\\nIB,2020-11-10,213,182,0,31,0,0\\nMC,2020-11-10,662,499,2,160,0,1\\nMD,2020-11-10,1698,858,0,840,0,0\\nML,2020-11-10,36,20,0,16,0,0\\nNC,2020-11-10,209,143,0,66,0,0\\nPV,2020-11-10,1103,802,0,301,0,0\\nRI,2020-11-10,174,169,0,5,0,0\\nVC,2020-11-10,1419,1224,0,195,0,0\\nAN,2020-11-11,3872,2588,0,1284,0,0\\nAR,2020-11-11,575,412,0,163,0,0\\nAS,2020-11-11,443,431,0,12,0,0\\nCB,2020-11-11,227,227,0,0,0,0\\nCE,2020-11-11,24,5,0,19,0,0\\nCL,2020-11-11,1307,1108,0,195,4,0\\nCM,2020-11-11,752,598,0,154,0,0\\nCN,2020-11-11,128,84,0,43,0,1\\nCT,2020-11-11,2635,2620,0,0,15,0\\nEX,2020-11-11,366,296,0,70,0,0\\nGA,2020-11-11,518,504,0,14,0,0\\nIB,2020-11-11,182,160,0,22,0,0\\nMC,2020-11-11,665,529,1,135,0,0\\nMD,2020-11-11,1578,867,0,711,0,0\\nML,2020-11-11,29,18,0,11,0,0\\nNC,2020-11-11,236,142,0,94,0,0\\nPV,2020-11-11,1103,798,0,305,0,0\\nRI,2020-11-11,136,136,0,0,0,0\\nVC,2020-11-11,1584,1406,0,178,0,0\\nAN,2020-11-12,3738,2617,0,1121,0,0\\nAR,2020-11-12,487,371,0,116,0,0\\nAS,2020-11-12,247,240,0,7,0,0\\nCB,2020-11-12,179,179,0,0,0,0\\nCE,2020-11-12,30,8,0,22,0,0\\nCL,2020-11-12,1328,1141,0,185,2,0\\nCM,2020-11-12,643,504,0,139,0,0\\nCN,2020-11-12,108,76,0,32,0,0\\nCT,2020-11-12,2375,2370,0,0,4,1\\nEX,2020-11-12,303,220,0,83,0,0\\nGA,2020-11-12,494,479,0,15,0,0\\nIB,2020-11-12,192,172,1,19,0,0\\nMC,2020-11-12,555,429,0,126,0,0\\nMD,2020-11-12,1334,738,0,596,0,0\\nML,2020-11-12,21,11,0,10,0,0\\nNC,2020-11-12,201,125,0,76,0,0\\nPV,2020-11-12,902,611,0,291,0,0\\nRI,2020-11-12,115,111,0,4,0,0\\nVC,2020-11-12,1420,1241,0,179,0,0\\nAN,2020-11-13,3789,2624,0,1165,0,0\\nAR,2020-11-13,479,347,0,132,0,0\\nAS,2020-11-13,296,275,0,21,0,0\\nCB,2020-11-13,217,216,0,1,0,0\\nCE,2020-11-13,19,4,0,15,0,0\\nCL,2020-11-13,1220,988,0,231,1,0\\nCM,2020-11-13,665,534,0,131,0,0\\nCN,2020-11-13,124,83,0,41,0,0\\nCT,2020-11-13,2400,2381,0,0,17,2\\nEX,2020-11-13,235,167,1,67,0,0\\nGA,2020-11-13,467,452,0,15,0,0\\nIB,2020-11-13,196,175,1,20,0,0\\nMC,2020-11-13,501,367,0,131,0,3\\nMD,2020-11-13,1440,830,0,610,0,0\\nML,2020-11-13,27,15,0,12,0,0\\nNC,2020-11-13,175,121,0,54,0,0\\nPV,2020-11-13,892,552,0,340,0,0\\nRI,2020-11-13,134,129,0,5,0,0\\nVC,2020-11-13,1419,1233,0,186,0,0\\nAN,2020-11-14,2430,1859,0,571,0,0\\nAR,2020-11-14,352,226,0,126,0,0\\nAS,2020-11-14,378,365,0,13,0,0\\nCB,2020-11-14,257,256,0,1,0,0\\nCE,2020-11-14,21,6,0,15,0,0\\nCL,2020-11-14,1250,985,0,261,4,0\\nCM,2020-11-14,544,459,0,85,0,0\\nCN,2020-11-14,116,79,0,37,0,0\\nCT,2020-11-14,1531,1530,0,0,1,0\\nEX,2020-11-14,260,168,0,92,0,0\\nGA,2020-11-14,651,636,0,15,0,0\\nIB,2020-11-14,187,158,2,27,0,0\\nMC,2020-11-14,450,331,1,118,0,0\\nMD,2020-11-14,1070,543,0,527,0,0\\nML,2020-11-14,32,17,0,15,0,0\\nNC,2020-11-14,144,101,0,43,0,0\\nPV,2020-11-14,852,678,0,174,0,0\\nRI,2020-11-14,95,89,0,6,0,0\\nVC,2020-11-14,1210,1060,0,150,0,0\\nAN,2020-11-15,1710,1164,0,546,0,0\\nAR,2020-11-15,312,213,0,99,0,0\\nAS,2020-11-15,452,428,0,24,0,0\\nCB,2020-11-15,166,165,0,1,0,0\\nCE,2020-11-15,25,5,0,19,1,0\\nCL,2020-11-15,1005,824,0,180,1,0\\nCM,2020-11-15,342,239,0,103,0,0\\nCN,2020-11-15,103,65,0,38,0,0\\nCT,2020-11-15,1126,1126,0,0,0,0\\nEX,2020-11-15,124,74,0,49,0,1\\nGA,2020-11-15,530,513,0,17,0,0\\nIB,2020-11-15,144,113,0,31,0,0\\nMC,2020-11-15,310,226,0,84,0,0\\nMD,2020-11-15,966,513,0,453,0,0\\nML,2020-11-15,21,10,0,11,0,0\\nNC,2020-11-15,134,88,0,46,0,0\\nPV,2020-11-15,893,672,0,221,0,0\\nRI,2020-11-15,101,98,0,3,0,0\\nVC,2020-11-15,841,732,0,109,0,0\\nAN,2020-11-16,2721,1622,0,1099,0,0\\nAR,2020-11-16,424,291,0,133,0,0\\nAS,2020-11-16,328,292,0,36,0,0\\nCB,2020-11-16,181,180,0,1,0,0\\nCE,2020-11-16,39,9,0,30,0,0\\nCL,2020-11-16,1150,871,0,279,0,0\\nCM,2020-11-16,628,493,0,135,0,0\\nCN,2020-11-16,104,59,0,45,0,0\\nCT,2020-11-16,2309,2297,0,1,11,0\\nEX,2020-11-16,204,124,0,79,0,1\\nGA,2020-11-16,638,622,0,16,0,0\\nIB,2020-11-16,246,201,1,44,0,0\\nMC,2020-11-16,387,244,0,143,0,0\\nMD,2020-11-16,1477,750,0,727,0,0\\nML,2020-11-16,33,16,0,17,0,0\\nNC,2020-11-16,150,98,0,52,0,0\\nPV,2020-11-16,952,627,0,325,0,0\\nRI,2020-11-16,100,95,0,5,0,0\\nVC,2020-11-16,1328,1095,0,233,0,0\\nAN,2020-11-17,3244,2266,0,978,0,0\\nAR,2020-11-17,362,268,0,94,0,0\\nAS,2020-11-17,349,333,0,16,0,0\\nCB,2020-11-17,148,148,0,0,0,0\\nCE,2020-11-17,32,7,0,25,0,0\\nCL,2020-11-17,1119,938,0,180,1,0\\nCM,2020-11-17,575,476,0,98,1,0\\nCN,2020-11-17,131,83,0,48,0,0\\nCT,2020-11-17,2186,2172,0,0,14,0\\nEX,2020-11-17,240,170,0,70,0,0\\nGA,2020-11-17,500,489,0,11,0,0\\nIB,2020-11-17,188,176,3,9,0,0\\nMC,2020-11-17,431,292,0,138,1,0\\nMD,2020-11-17,1341,725,0,616,0,0\\nML,2020-11-17,37,13,0,24,0,0\\nNC,2020-11-17,143,100,0,43,0,0\\nPV,2020-11-17,889,563,0,326,0,0\\nRI,2020-11-17,112,101,0,11,0,0\\nVC,2020-11-17,1435,1234,0,201,0,0\\nAN,2020-11-18,2700,1866,0,834,0,0\\nAR,2020-11-18,429,338,0,91,0,0\\nAS,2020-11-18,335,308,0,27,0,0\\nCB,2020-11-18,153,153,0,0,0,0\\nCE,2020-11-18,26,5,0,21,0,0\\nCL,2020-11-18,991,799,0,192,0,0\\nCM,2020-11-18,517,430,0,87,0,0\\nCN,2020-11-18,114,62,0,52,0,0\\nCT,2020-11-18,1865,1858,0,0,7,0\\nEX,2020-11-18,209,126,0,83,0,0\\nGA,2020-11-18,496,484,0,12,0,0\\nIB,2020-11-18,253,222,0,31,0,0\\nMC,2020-11-18,351,259,0,92,0,0\\nMD,2020-11-18,1227,661,0,566,0,0\\nML,2020-11-18,32,13,0,19,0,0\\nNC,2020-11-18,153,102,0,51,0,0\\nPV,2020-11-18,713,458,0,255,0,0\\nRI,2020-11-18,105,104,0,1,0,0\\nVC,2020-11-18,1337,1171,0,166,0,0\\nAN,2020-11-19,2337,1676,0,661,0,0\\nAR,2020-11-19,321,236,0,85,0,0\\nAS,2020-11-19,251,237,0,14,0,0\\nCB,2020-11-19,103,102,0,1,0,0\\nCE,2020-11-19,20,3,0,17,0,0\\nCL,2020-11-19,677,534,0,140,3,0\\nCM,2020-11-19,494,403,0,90,1,0\\nCN,2020-11-19,93,57,0,36,0,0\\nCT,2020-11-19,1523,1516,0,0,7,0\\nEX,2020-11-19,189,138,0,51,0,0\\nGA,2020-11-19,423,409,0,14,0,0\\nIB,2020-11-19,271,237,2,32,0,0\\nMC,2020-11-19,273,183,0,90,0,0\\nMD,2020-11-19,1038,559,0,479,0,0\\nML,2020-11-19,28,11,0,17,0,0\\nNC,2020-11-19,135,94,0,41,0,0\\nPV,2020-11-19,563,350,0,213,0,0\\nRI,2020-11-19,96,92,0,4,0,0\\nVC,2020-11-19,1216,1048,0,168,0,0\\nAN,2020-11-20,2331,1639,0,692,0,0\\nAR,2020-11-20,324,231,0,93,0,0\\nAS,2020-11-20,230,204,0,26,0,0\\nCB,2020-11-20,142,141,0,1,0,0\\nCE,2020-11-20,16,4,0,12,0,0\\nCL,2020-11-20,763,513,0,249,1,0\\nCM,2020-11-20,465,396,0,69,0,0\\nCN,2020-11-20,108,65,0,43,0,0\\nCT,2020-11-20,1690,1682,0,0,8,0\\nEX,2020-11-20,171,115,1,55,0,0\\nGA,2020-11-20,456,437,0,18,1,0\\nIB,2020-11-20,274,249,2,23,0,0\\nMC,2020-11-20,243,185,0,58,0,0\\nMD,2020-11-20,1192,690,0,502,0,0\\nML,2020-11-20,27,8,0,19,0,0\\nNC,2020-11-20,130,102,0,28,0,0\\nPV,2020-11-20,585,323,0,262,0,0\\nRI,2020-11-20,96,94,0,2,0,0\\nVC,2020-11-20,1301,1134,0,167,0,0\\nAN,2020-11-21,1623,1282,0,341,0,0\\nAR,2020-11-21,234,155,0,79,0,0\\nAS,2020-11-21,384,370,0,14,0,0\\nCB,2020-11-21,123,122,0,1,0,0\\nCE,2020-11-21,19,7,0,12,0,0\\nCL,2020-11-21,597,438,0,158,1,0\\nCM,2020-11-21,334,257,0,77,0,0\\nCN,2020-11-21,109,65,0,44,0,0\\nCT,2020-11-21,969,969,0,0,0,0\\nEX,2020-11-21,162,115,0,47,0,0\\nGA,2020-11-21,382,369,0,13,0,0\\nIB,2020-11-21,208,187,0,21,0,0\\nMC,2020-11-21,272,207,0,65,0,0\\nMD,2020-11-21,894,479,0,415,0,0\\nML,2020-11-21,14,4,0,10,0,0\\nNC,2020-11-21,101,67,0,34,0,0\\nPV,2020-11-21,602,410,0,192,0,0\\nRI,2020-11-21,80,76,0,4,0,0\\nVC,2020-11-21,973,831,0,142,0,0\\nAN,2020-11-22,1061,712,0,349,0,0\\nAR,2020-11-22,167,106,0,61,0,0\\nAS,2020-11-22,255,233,0,22,0,0\\nCB,2020-11-22,90,88,0,2,0,0\\nCE,2020-11-22,13,1,0,12,0,0\\nCL,2020-11-22,555,327,0,227,1,0\\nCM,2020-11-22,272,187,0,85,0,0\\nCN,2020-11-22,113,75,0,37,0,1\\nCT,2020-11-22,789,789,0,0,0,0\\nEX,2020-11-22,122,75,0,46,1,0\\nGA,2020-11-22,382,372,0,10,0,0\\nIB,2020-11-22,266,234,1,31,0,0\\nMC,2020-11-22,145,103,0,42,0,0\\nMD,2020-11-22,814,433,0,381,0,0\\nML,2020-11-22,14,4,0,10,0,0\\nNC,2020-11-22,128,99,0,29,0,0\\nPV,2020-11-22,438,309,0,129,0,0\\nRI,2020-11-22,75,69,0,6,0,0\\nVC,2020-11-22,720,599,0,121,0,0\\nAN,2020-11-23,1449,940,0,509,0,0\\nAR,2020-11-23,279,193,0,86,0,0\\nAS,2020-11-23,303,282,0,21,0,0\\nCB,2020-11-23,105,103,0,2,0,0\\nCE,2020-11-23,10,1,1,8,0,0\\nCL,2020-11-23,673,430,0,241,2,0\\nCM,2020-11-23,446,340,0,106,0,0\\nCN,2020-11-23,128,84,0,41,0,3\\nCT,2020-11-23,1496,1486,0,0,8,2\\nEX,2020-11-23,216,157,0,58,1,0\\nGA,2020-11-23,438,420,0,18,0,0\\nIB,2020-11-23,326,277,1,48,0,0\\nMC,2020-11-23,233,147,0,86,0,0\\nMD,2020-11-23,1146,585,0,561,0,0\\nML,2020-11-23,21,12,0,9,0,0\\nNC,2020-11-23,135,97,0,38,0,0\\nPV,2020-11-23,616,392,0,224,0,0\\nRI,2020-11-23,95,87,0,8,0,0\\nVC,2020-11-23,1045,848,0,197,0,0\\nAN,2020-11-24,1771,1215,0,556,0,0\\nAR,2020-11-24,264,195,0,69,0,0\\nAS,2020-11-24,261,239,0,22,0,0\\nCB,2020-11-24,88,87,0,1,0,0\\nCE,2020-11-24,9,2,0,7,0,0\\nCL,2020-11-24,524,337,0,185,2,0\\nCM,2020-11-24,459,379,0,80,0,0\\nCN,2020-11-24,130,89,0,39,0,2\\nCT,2020-11-24,1392,1379,0,0,13,0\\nEX,2020-11-24,194,142,1,50,0,1\\nGA,2020-11-24,366,349,0,17,0,0\\nIB,2020-11-24,264,238,1,25,0,0\\nMC,2020-11-24,250,173,1,76,0,0\\nMD,2020-11-24,1299,754,0,545,0,0\\nML,2020-11-24,24,11,0,13,0,0\\nNC,2020-11-24,114,82,0,32,0,0\\nPV,2020-11-24,565,317,0,248,0,0\\nRI,2020-11-24,78,73,0,5,0,0\\nVC,2020-11-24,1130,968,0,162,0,0\\nAN,2020-11-25,1500,1097,0,403,0,0\\nAR,2020-11-25,260,178,0,81,1,0\\nAS,2020-11-25,151,136,0,15,0,0\\nCB,2020-11-25,104,102,0,2,0,0\\nCE,2020-11-25,10,2,0,8,0,0\\nCL,2020-11-25,469,305,0,163,1,0\\nCM,2020-11-25,438,372,0,66,0,0\\nCN,2020-11-25,144,102,0,42,0,0\\nCT,2020-11-25,1385,1379,0,0,5,1\\nEX,2020-11-25,160,120,1,39,0,0\\nGA,2020-11-25,341,316,0,25,0,0\\nIB,2020-11-25,279,241,1,37,0,0\\nMC,2020-11-25,229,176,0,53,0,0\\nMD,2020-11-25,1162,671,0,491,0,0\\nML,2020-11-25,14,9,0,5,0,0\\nNC,2020-11-25,118,92,0,26,0,0\\nPV,2020-11-25,597,333,0,264,0,0\\nRI,2020-11-25,92,91,0,1,0,0\\nVC,2020-11-25,1078,915,0,163,0,0\\nAN,2020-11-26,1374,1003,0,371,0,0\\nAR,2020-11-26,296,220,0,76,0,0\\nAS,2020-11-26,200,186,0,14,0,0\\nCB,2020-11-26,100,97,0,3,0,0\\nCE,2020-11-26,16,4,0,12,0,0\\nCL,2020-11-26,449,267,0,182,0,0\\nCM,2020-11-26,359,305,0,54,0,0\\nCN,2020-11-26,130,83,0,45,0,2\\nCT,2020-11-26,1312,1299,0,0,12,1\\nEX,2020-11-26,162,119,1,42,0,0\\nGA,2020-11-26,316,289,0,27,0,0\\nIB,2020-11-26,248,220,0,28,0,0\\nMC,2020-11-26,239,175,0,63,1,0\\nMD,2020-11-26,960,535,0,425,0,0\\nML,2020-11-26,11,2,0,9,0,0\\nNC,2020-11-26,133,94,0,39,0,0\\nPV,2020-11-26,460,265,0,195,0,0\\nRI,2020-11-26,61,58,0,3,0,0\\nVC,2020-11-26,979,832,0,147,0,0\\nAN,2020-11-27,1556,982,0,574,0,0\\nAR,2020-11-27,323,205,0,118,0,0\\nAS,2020-11-27,148,136,0,12,0,0\\nCB,2020-11-27,119,117,0,2,0,0\\nCE,2020-11-27,10,2,0,8,0,0\\nCL,2020-11-27,624,396,0,226,2,0\\nCM,2020-11-27,395,326,0,68,1,0\\nCN,2020-11-27,130,96,0,33,0,1\\nCT,2020-11-27,1600,1594,0,0,5,1\\nEX,2020-11-27,131,90,1,40,0,0\\nGA,2020-11-27,313,294,0,19,0,0\\nIB,2020-11-27,197,168,1,28,0,0\\nMC,2020-11-27,206,160,0,46,0,0\\nMD,2020-11-27,1234,760,0,474,0,0\\nML,2020-11-27,15,7,0,8,0,0\\nNC,2020-11-27,101,67,0,34,0,0\\nPV,2020-11-27,423,204,0,219,0,0\\nRI,2020-11-27,91,86,0,4,1,0\\nVC,2020-11-27,989,828,0,161,0,0\\nAN,2020-11-28,959,704,0,255,0,0\\nAR,2020-11-28,277,210,0,67,0,0\\nAS,2020-11-28,235,220,0,15,0,0\\nCB,2020-11-28,197,193,0,4,0,0\\nCE,2020-11-28,13,8,0,5,0,0\\nCL,2020-11-28,407,292,0,115,0,0\\nCM,2020-11-28,327,274,0,53,0,0\\nCN,2020-11-28,129,79,0,49,0,1\\nCT,2020-11-28,906,904,0,0,0,2\\nEX,2020-11-28,112,67,0,45,0,0\\nGA,2020-11-28,332,316,0,16,0,0\\nIB,2020-11-28,130,116,0,14,0,0\\nMC,2020-11-28,189,130,1,58,0,0\\nMD,2020-11-28,815,425,0,390,0,0\\nML,2020-11-28,11,4,0,7,0,0\\nNC,2020-11-28,68,51,0,17,0,0\\nPV,2020-11-28,453,290,0,163,0,0\\nRI,2020-11-28,54,50,0,4,0,0\\nVC,2020-11-28,850,698,0,152,0,0\\nAN,2020-11-29,672,434,0,238,0,0\\nAR,2020-11-29,188,135,0,53,0,0\\nAS,2020-11-29,219,209,0,10,0,0\\nCB,2020-11-29,109,107,0,2,0,0\\nCE,2020-11-29,2,1,0,1,0,0\\nCL,2020-11-29,292,149,0,143,0,0\\nCM,2020-11-29,257,200,0,57,0,0\\nCN,2020-11-29,138,86,0,52,0,0\\nCT,2020-11-29,712,711,0,0,0,1\\nEX,2020-11-29,102,60,0,42,0,0\\nGA,2020-11-29,310,282,0,28,0,0\\nIB,2020-11-29,85,62,0,23,0,0\\nMC,2020-11-29,97,59,0,38,0,0\\nMD,2020-11-29,769,377,0,392,0,0\\nML,2020-11-29,7,3,0,4,0,0\\nNC,2020-11-29,80,57,0,23,0,0\\nPV,2020-11-29,466,330,0,136,0,0\\nRI,2020-11-29,37,37,0,0,0,0\\nVC,2020-11-29,562,430,0,132,0,0\\nAN,2020-11-30,1053,636,0,417,0,0\\nAR,2020-11-30,269,193,0,76,0,0\\nAS,2020-11-30,242,218,0,24,0,0\\nCB,2020-11-30,133,133,0,0,0,0\\nCE,2020-11-30,12,4,0,8,0,0\\nCL,2020-11-30,427,245,0,182,0,0\\nCM,2020-11-30,395,299,0,96,0,0\\nCN,2020-11-30,149,84,0,65,0,0\\nCT,2020-11-30,1533,1513,0,0,14,6\\nEX,2020-11-30,153,84,0,69,0,0\\nGA,2020-11-30,364,335,0,29,0,0\\nIB,2020-11-30,62,57,0,5,0,0\\nMC,2020-11-30,164,96,0,68,0,0\\nMD,2020-11-30,1102,556,0,546,0,0\\nML,2020-11-30,21,5,0,16,0,0\\nNC,2020-11-30,80,46,0,34,0,0\\nPV,2020-11-30,515,285,0,230,0,0\\nRI,2020-11-30,56,53,0,3,0,0\\nVC,2020-11-30,920,726,0,194,0,0\\nAN,2020-12-01,1293,880,0,413,0,0\\nAR,2020-12-01,310,228,0,82,0,0\\nAS,2020-12-01,192,176,0,16,0,0\\nCB,2020-12-01,111,109,0,2,0,0\\nCE,2020-12-01,10,3,0,7,0,0\\nCL,2020-12-01,483,331,0,152,0,0\\nCM,2020-12-01,488,399,0,89,0,0\\nCN,2020-12-01,214,152,0,62,0,0\\nCT,2020-12-01,1530,1515,0,0,12,3\\nEX,2020-12-01,151,91,0,60,0,0\\nGA,2020-12-01,318,293,0,25,0,0\\nIB,2020-12-01,377,290,2,85,0,0\\nMC,2020-12-01,198,123,2,73,0,0\\nMD,2020-12-01,1224,717,0,507,0,0\\nML,2020-12-01,21,13,0,8,0,0\\nNC,2020-12-01,85,60,0,25,0,0\\nPV,2020-12-01,441,242,0,199,0,0\\nRI,2020-12-01,67,67,0,0,0,0\\nVC,2020-12-01,1061,883,0,178,0,0\\nAN,2020-12-02,1128,781,0,347,0,0\\nAR,2020-12-02,303,234,0,69,0,0\\nAS,2020-12-02,231,220,0,11,0,0\\nCB,2020-12-02,122,119,0,3,0,0\\nCE,2020-12-02,11,5,0,6,0,0\\nCL,2020-12-02,311,188,0,122,1,0\\nCM,2020-12-02,480,396,0,84,0,0\\nCN,2020-12-02,174,122,0,52,0,0\\nCT,2020-12-02,1430,1414,0,0,12,4\\nEX,2020-12-02,143,86,0,56,0,1\\nGA,2020-12-02,317,298,0,19,0,0\\nIB,2020-12-02,340,274,1,65,0,0\\nMC,2020-12-02,186,135,0,50,1,0\\nMD,2020-12-02,1098,628,0,470,0,0\\nML,2020-12-02,21,3,0,18,0,0\\nNC,2020-12-02,117,90,0,27,0,0\\nPV,2020-12-02,491,274,0,217,0,0\\nRI,2020-12-02,51,47,0,4,0,0\\nVC,2020-12-02,1026,861,0,165,0,0\\nAN,2020-12-03,1004,709,0,295,0,0\\nAR,2020-12-03,184,144,0,40,0,0\\nAS,2020-12-03,123,113,0,10,0,0\\nCB,2020-12-03,79,79,0,0,0,0\\nCE,2020-12-03,9,1,0,8,0,0\\nCL,2020-12-03,354,207,0,147,0,0\\nCM,2020-12-03,383,314,0,69,0,0\\nCN,2020-12-03,160,112,0,47,0,1\\nCT,2020-12-03,1263,1251,0,0,9,3\\nEX,2020-12-03,140,88,0,52,0,0\\nGA,2020-12-03,310,292,0,18,0,0\\nIB,2020-12-03,310,253,1,56,0,0\\nMC,2020-12-03,140,95,0,45,0,0\\nMD,2020-12-03,1004,631,0,373,0,0\\nML,2020-12-03,12,3,0,9,0,0\\nNC,2020-12-03,95,64,0,31,0,0\\nPV,2020-12-03,364,197,0,167,0,0\\nRI,2020-12-03,41,39,0,2,0,0\\nVC,2020-12-03,961,801,0,160,0,0\\nAN,2020-12-04,1070,735,0,335,0,0\\nAR,2020-12-04,209,151,0,58,0,0\\nAS,2020-12-04,113,102,0,11,0,0\\nCB,2020-12-04,84,83,0,1,0,0\\nCE,2020-12-04,6,1,0,5,0,0\\nCL,2020-12-04,369,229,0,140,0,0\\nCM,2020-12-04,445,371,0,73,1,0\\nCN,2020-12-04,231,185,0,46,0,0\\nCT,2020-12-04,1362,1346,0,0,9,7\\nEX,2020-12-04,110,78,0,31,0,1\\nGA,2020-12-04,277,260,0,17,0,0\\nIB,2020-12-04,287,253,0,34,0,0\\nMC,2020-12-04,205,167,0,38,0,0\\nMD,2020-12-04,1021,611,0,410,0,0\\nML,2020-12-04,18,6,0,12,0,0\\nNC,2020-12-04,95,62,0,32,0,1\\nPV,2020-12-04,363,173,0,190,0,0\\nRI,2020-12-04,58,55,0,3,0,0\\nVC,2020-12-04,1044,881,0,163,0,0\\nAN,2020-12-05,807,577,0,230,0,0\\nAR,2020-12-05,201,142,0,59,0,0\\nAS,2020-12-05,113,108,0,5,0,0\\nCB,2020-12-05,82,82,0,0,0,0\\nCE,2020-12-05,7,1,0,6,0,0\\nCL,2020-12-05,230,128,0,101,1,0\\nCM,2020-12-05,280,213,0,67,0,0\\nCN,2020-12-05,178,133,0,44,0,1\\nCT,2020-12-05,890,888,0,0,0,2\\nEX,2020-12-05,122,81,0,41,0,0\\nGA,2020-12-05,358,346,0,12,0,0\\nIB,2020-12-05,254,215,1,38,0,0\\nMC,2020-12-05,150,120,1,29,0,0\\nMD,2020-12-05,735,410,0,325,0,0\\nML,2020-12-05,6,1,0,5,0,0\\nNC,2020-12-05,92,59,0,33,0,0\\nPV,2020-12-05,459,305,0,154,0,0\\nRI,2020-12-05,40,39,0,1,0,0\\nVC,2020-12-05,842,675,0,167,0,0\\nAN,2020-12-06,575,352,0,223,0,0\\nAR,2020-12-06,158,102,0,56,0,0\\nAS,2020-12-06,127,120,0,7,0,0\\nCB,2020-12-06,56,55,0,1,0,0\\nCE,2020-12-06,11,2,0,9,0,0\\nCL,2020-12-06,252,146,0,106,0,0\\nCM,2020-12-06,215,161,0,54,0,0\\nCN,2020-12-06,174,128,0,46,0,0\\nCT,2020-12-06,670,668,0,0,0,2\\nEX,2020-12-06,90,51,1,38,0,0\\nGA,2020-12-06,275,263,0,12,0,0\\nIB,2020-12-06,217,183,0,34,0,0\\nMC,2020-12-06,85,56,1,28,0,0\\nMD,2020-12-06,788,394,0,394,0,0\\nML,2020-12-06,10,4,0,6,0,0\\nNC,2020-12-06,89,63,0,26,0,0\\nPV,2020-12-06,283,185,0,98,0,0\\nRI,2020-12-06,34,32,0,2,0,0\\nVC,2020-12-06,708,542,0,166,0,0\\nAN,2020-12-07,622,362,0,260,0,0\\nAR,2020-12-07,187,114,0,73,0,0\\nAS,2020-12-07,133,127,0,6,0,0\\nCB,2020-12-07,81,77,0,4,0,0\\nCE,2020-12-07,8,0,0,8,0,0\\nCL,2020-12-07,285,183,0,102,0,0\\nCM,2020-12-07,373,299,0,74,0,0\\nCN,2020-12-07,202,143,0,59,0,0\\nCT,2020-12-07,1615,1608,0,0,3,4\\nEX,2020-12-07,110,60,1,49,0,0\\nGA,2020-12-07,322,299,0,23,0,0\\nIB,2020-12-07,277,217,1,59,0,0\\nMC,2020-12-07,136,88,0,48,0,0\\nMD,2020-12-07,1077,553,0,524,0,0\\nML,2020-12-07,12,3,0,9,0,0\\nNC,2020-12-07,97,75,0,22,0,0\\nPV,2020-12-07,450,302,0,148,0,0\\nRI,2020-12-07,41,38,0,3,0,0\\nVC,2020-12-07,918,693,0,225,0,0\\nAN,2020-12-08,604,362,0,242,0,0\\nAR,2020-12-08,176,113,0,63,0,0\\nAS,2020-12-08,167,160,0,7,0,0\\nCB,2020-12-08,68,67,0,1,0,0\\nCE,2020-12-08,4,2,0,2,0,0\\nCL,2020-12-08,261,140,0,121,0,0\\nCM,2020-12-08,380,279,0,100,1,0\\nCN,2020-12-08,150,94,0,56,0,0\\nCT,2020-12-08,970,966,0,0,2,2\\nEX,2020-12-08,122,76,2,44,0,0\\nGA,2020-12-08,312,292,0,20,0,0\\nIB,2020-12-08,304,233,0,71,0,0\\nMC,2020-12-08,124,70,0,54,0,0\\nMD,2020-12-08,1127,560,0,567,0,0\\nML,2020-12-08,8,1,0,7,0,0\\nNC,2020-12-08,83,54,0,29,0,0\\nPV,2020-12-08,460,346,0,114,0,0\\nRI,2020-12-08,38,34,0,4,0,0\\nVC,2020-12-08,963,728,0,235,0,0\\nAN,2020-12-09,921,565,0,356,0,0\\nAR,2020-12-09,213,160,0,53,0,0\\nAS,2020-12-09,104,96,0,8,0,0\\nCB,2020-12-09,87,87,0,0,0,0\\nCE,2020-12-09,10,2,0,8,0,0\\nCL,2020-12-09,354,208,0,146,0,0\\nCM,2020-12-09,504,376,0,128,0,0\\nCN,2020-12-09,205,131,0,74,0,0\\nCT,2020-12-09,2023,2009,0,0,7,7\\nEX,2020-12-09,195,106,0,89,0,0\\nGA,2020-12-09,386,348,0,38,0,0\\nIB,2020-12-09,399,322,2,75,0,0\\nMC,2020-12-09,202,133,1,67,0,1\\nMD,2020-12-09,1521,796,0,725,0,0\\nML,2020-12-09,24,10,0,14,0,0\\nNC,2020-12-09,92,58,0,34,0,0\\nPV,2020-12-09,443,273,0,170,0,0\\nRI,2020-12-09,55,54,0,1,0,0\\nVC,2020-12-09,1233,927,0,306,0,0\\nAN,2020-12-10,1115,786,0,329,0,0\\nAR,2020-12-10,225,167,0,58,0,0\\nAS,2020-12-10,139,133,0,6,0,0\\nCB,2020-12-10,76,74,0,2,0,0\\nCE,2020-12-10,9,1,0,8,0,0\\nCL,2020-12-10,345,206,0,139,0,0\\nCM,2020-12-10,517,407,0,110,0,0\\nCN,2020-12-10,207,146,0,61,0,0\\nCT,2020-12-10,1955,1938,0,0,11,6\\nEX,2020-12-10,203,121,0,81,0,1\\nGA,2020-12-10,388,345,0,43,0,0\\nIB,2020-12-10,347,277,2,68,0,0\\nMC,2020-12-10,222,143,0,78,0,1\\nMD,2020-12-10,1671,985,0,686,0,0\\nML,2020-12-10,21,10,0,11,0,0\\nNC,2020-12-10,105,77,0,28,0,0\\nPV,2020-12-10,423,227,0,196,0,0\\nRI,2020-12-10,46,45,0,1,0,0\\nVC,2020-12-10,1592,1264,0,328,0,0\\nAN,2020-12-11,1270,784,0,486,0,0\\nAR,2020-12-11,258,193,0,65,0,0\\nAS,2020-12-11,121,117,0,4,0,0\\nCB,2020-12-11,69,67,0,2,0,0\\nCE,2020-12-11,9,1,0,8,0,0\\nCL,2020-12-11,335,195,0,138,2,0\\nCM,2020-12-11,542,413,0,129,0,0\\nCN,2020-12-11,206,137,0,69,0,0\\nCT,2020-12-11,2030,2012,0,0,11,7\\nEX,2020-12-11,236,121,0,115,0,0\\nGA,2020-12-11,304,271,0,33,0,0\\nIB,2020-12-11,363,292,1,70,0,0\\nMC,2020-12-11,206,140,0,66,0,0\\nMD,2020-12-11,1928,1117,0,811,0,0\\nML,2020-12-11,15,4,0,11,0,0\\nNC,2020-12-11,85,63,0,22,0,0\\nPV,2020-12-11,388,189,0,199,0,0\\nRI,2020-12-11,54,54,0,0,0,0\\nVC,2020-12-11,1665,1303,0,362,0,0\\nAN,2020-12-12,1019,707,0,312,0,0\\nAR,2020-12-12,191,140,0,51,0,0\\nAS,2020-12-12,118,110,0,8,0,0\\nCB,2020-12-12,77,76,0,1,0,0\\nCE,2020-12-12,6,3,0,3,0,0\\nCL,2020-12-12,270,149,0,121,0,0\\nCM,2020-12-12,416,339,0,77,0,0\\nCN,2020-12-12,237,169,0,68,0,0\\nCT,2020-12-12,1400,1397,0,0,0,3\\nEX,2020-12-12,209,107,1,100,0,1\\nGA,2020-12-12,336,304,0,32,0,0\\nIB,2020-12-12,329,249,4,76,0,0\\nMC,2020-12-12,158,95,0,63,0,0\\nMD,2020-12-12,1310,668,0,642,0,0\\nML,2020-12-12,11,6,0,5,0,0\\nNC,2020-12-12,111,78,0,33,0,0\\nPV,2020-12-12,514,364,0,150,0,0\\nRI,2020-12-12,44,44,0,0,0,0\\nVC,2020-12-12,1488,1170,0,318,0,0\\nAN,2020-12-13,658,391,0,267,0,0\\nAR,2020-12-13,141,95,0,46,0,0\\nAS,2020-12-13,96,89,0,7,0,0\\nCB,2020-12-13,78,77,0,1,0,0\\nCE,2020-12-13,2,0,0,2,0,0\\nCL,2020-12-13,196,124,0,72,0,0\\nCM,2020-12-13,348,261,0,87,0,0\\nCN,2020-12-13,184,125,0,59,0,0\\nCT,2020-12-13,1208,1202,0,0,4,2\\nEX,2020-12-13,205,93,0,112,0,0\\nGA,2020-12-13,366,315,0,51,0,0\\nIB,2020-12-13,327,240,1,86,0,0\\nMC,2020-12-13,126,66,0,60,0,0\\nMD,2020-12-13,1144,514,0,630,0,0\\nML,2020-12-13,5,1,0,4,0,0\\nNC,2020-12-13,73,55,0,18,0,0\\nPV,2020-12-13,326,193,0,133,0,0\\nRI,2020-12-13,43,43,0,0,0,0\\nVC,2020-12-13,1137,817,0,320,0,0\\nAN,2020-12-14,928,548,0,380,0,0\\nAR,2020-12-14,225,154,0,71,0,0\\nAS,2020-12-14,98,88,0,10,0,0\\nCB,2020-12-14,73,70,0,3,0,0\\nCE,2020-12-14,6,2,0,4,0,0\\nCL,2020-12-14,298,185,0,113,0,0\\nCM,2020-12-14,529,395,0,134,0,0\\nCN,2020-12-14,196,118,0,78,0,0\\nCT,2020-12-14,2483,2469,0,0,3,11\\nEX,2020-12-14,321,168,0,152,0,1\\nGA,2020-12-14,438,385,0,53,0,0\\nIB,2020-12-14,492,384,3,105,0,0\\nMC,2020-12-14,197,102,0,95,0,0\\nMD,2020-12-14,1915,990,0,925,0,0\\nML,2020-12-14,28,19,0,9,0,0\\nNC,2020-12-14,87,60,0,27,0,0\\nPV,2020-12-14,491,305,0,186,0,0\\nRI,2020-12-14,76,72,0,3,0,1\\nVC,2020-12-14,1683,1244,0,439,0,0\\nAN,2020-12-15,1123,753,0,370,0,0\\nAR,2020-12-15,214,159,0,55,0,0\\nAS,2020-12-15,94,92,0,2,0,0\\nCB,2020-12-15,68,62,0,6,0,0\\nCE,2020-12-15,8,4,0,4,0,0\\nCL,2020-12-15,360,231,0,129,0,0\\nCM,2020-12-15,576,460,0,116,0,0\\nCN,2020-12-15,269,197,0,72,0,0\\nCT,2020-12-15,2581,2566,0,0,9,6\\nEX,2020-12-15,353,204,0,149,0,0\\nGA,2020-12-15,417,371,0,46,0,0\\nIB,2020-12-15,539,420,1,118,0,0\\nMC,2020-12-15,199,115,0,84,0,0\\nMD,2020-12-15,2055,1196,0,859,0,0\\nML,2020-12-15,26,9,0,17,0,0\\nNC,2020-12-15,85,65,0,20,0,0\\nPV,2020-12-15,406,219,0,187,0,0\\nRI,2020-12-15,64,63,0,1,0,0\\nVC,2020-12-15,1814,1423,0,391,0,0\\nAN,2020-12-16,968,654,0,314,0,0\\nAR,2020-12-16,201,147,0,54,0,0\\nAS,2020-12-16,61,56,0,5,0,0\\nCB,2020-12-16,51,51,0,0,0,0\\nCE,2020-12-16,5,2,0,3,0,0\\nCL,2020-12-16,321,210,0,109,2,0\\nCM,2020-12-16,559,454,0,104,1,0\\nCN,2020-12-16,215,158,0,56,0,1\\nCT,2020-12-16,2437,2418,0,0,15,4\\nEX,2020-12-16,331,185,1,145,0,0\\nGA,2020-12-16,392,354,0,38,0,0\\nIB,2020-12-16,533,405,5,123,0,0\\nMC,2020-12-16,202,138,0,64,0,0\\nMD,2020-12-16,1967,1185,0,782,0,0\\nML,2020-12-16,13,3,0,10,0,0\\nNC,2020-12-16,102,77,0,25,0,0\\nPV,2020-12-16,322,181,0,141,0,0\\nRI,2020-12-16,51,50,0,1,0,0\\nVC,2020-12-16,1985,1596,0,389,0,0\\nAN,2020-12-17,900,615,0,285,0,0\\nAR,2020-12-17,188,136,0,52,0,0\\nAS,2020-12-17,82,75,0,7,0,0\\nCB,2020-12-17,58,54,0,4,0,0\\nCE,2020-12-17,3,0,0,3,0,0\\nCL,2020-12-17,252,154,0,98,0,0\\nCM,2020-12-17,553,441,0,112,0,0\\nCN,2020-12-17,215,161,0,53,0,1\\nCT,2020-12-17,2358,2346,0,0,11,1\\nEX,2020-12-17,271,168,0,102,0,1\\nGA,2020-12-17,338,312,0,26,0,0\\nIB,2020-12-17,519,402,1,116,0,0\\nMC,2020-12-17,180,111,0,69,0,0\\nMD,2020-12-17,1683,1003,0,680,0,0\\nML,2020-12-17,18,5,0,13,0,0\\nNC,2020-12-17,73,55,0,18,0,0\\nPV,2020-12-17,291,173,0,118,0,0\\nRI,2020-12-17,45,45,0,0,0,0\\nVC,2020-12-17,1786,1413,0,373,0,0\\nAN,2020-12-18,1060,719,0,341,0,0\\nAR,2020-12-18,195,140,0,55,0,0\\nAS,2020-12-18,72,65,0,7,0,0\\nCB,2020-12-18,57,54,0,3,0,0\\nCE,2020-12-18,1,0,0,1,0,0\\nCL,2020-12-18,257,157,0,99,1,0\\nCM,2020-12-18,579,460,0,118,1,0\\nCN,2020-12-18,193,135,0,57,0,1\\nCT,2020-12-18,2474,2462,0,0,8,4\\nEX,2020-12-18,341,204,0,136,0,1\\nGA,2020-12-18,320,297,0,23,0,0\\nIB,2020-12-18,512,414,0,98,0,0\\nMC,2020-12-18,164,104,0,59,1,0\\nMD,2020-12-18,2014,1159,0,855,0,0\\nML,2020-12-18,4,1,0,3,0,0\\nNC,2020-12-18,85,56,0,29,0,0\\nPV,2020-12-18,325,174,0,151,0,0\\nRI,2020-12-18,56,54,0,2,0,0\\nVC,2020-12-18,2094,1676,0,418,0,0\\nAN,2020-12-19,680,436,0,244,0,0\\nAR,2020-12-19,171,111,0,60,0,0\\nAS,2020-12-19,102,97,0,5,0,0\\nCB,2020-12-19,52,48,0,4,0,0\\nCE,2020-12-19,6,1,0,5,0,0\\nCL,2020-12-19,216,127,0,89,0,0\\nCM,2020-12-19,418,325,0,93,0,0\\nCN,2020-12-19,241,181,0,60,0,0\\nCT,2020-12-19,1814,1812,0,0,2,0\\nEX,2020-12-19,332,212,0,120,0,0\\nGA,2020-12-19,326,288,0,38,0,0\\nIB,2020-12-19,492,372,2,118,0,0\\nMC,2020-12-19,163,110,0,52,1,0\\nMD,2020-12-19,1371,739,0,632,0,0\\nML,2020-12-19,10,5,0,5,0,0\\nNC,2020-12-19,69,39,0,30,0,0\\nPV,2020-12-19,348,246,0,102,0,0\\nRI,2020-12-19,73,71,0,2,0,0\\nVC,2020-12-19,1650,1282,0,368,0,0\\nAN,2020-12-20,567,304,0,263,0,0\\nAR,2020-12-20,156,113,0,43,0,0\\nAS,2020-12-20,95,89,0,6,0,0\\nCB,2020-12-20,64,62,0,2,0,0\\nCE,2020-12-20,4,1,0,3,0,0\\nCL,2020-12-20,152,95,0,57,0,0\\nCM,2020-12-20,384,268,0,116,0,0\\nCN,2020-12-20,181,126,0,55,0,0\\nCT,2020-12-20,1656,1656,0,0,0,0\\nEX,2020-12-20,282,169,0,113,0,0\\nGA,2020-12-20,299,265,0,34,0,0\\nIB,2020-12-20,418,309,1,108,0,0\\nMC,2020-12-20,132,75,0,57,0,0\\nMD,2020-12-20,1271,633,0,638,0,0\\nML,2020-12-20,7,0,0,7,0,0\\nNC,2020-12-20,71,42,0,29,0,0\\nPV,2020-12-20,319,205,0,114,0,0\\nRI,2020-12-20,42,39,0,3,0,0\\nVC,2020-12-20,1234,879,0,355,0,0\\nAN,2020-12-21,946,536,0,410,0,0\\nAR,2020-12-21,206,148,0,58,0,0\\nAS,2020-12-21,60,55,0,5,0,0\\nCB,2020-12-21,66,64,0,2,0,0\\nCE,2020-12-21,4,0,0,4,0,0\\nCL,2020-12-21,244,152,0,92,0,0\\nCM,2020-12-21,609,445,0,164,0,0\\nCN,2020-12-21,140,97,0,43,0,0\\nCT,2020-12-21,2999,2992,0,0,7,0\\nEX,2020-12-21,355,199,0,155,0,1\\nGA,2020-12-21,374,332,0,42,0,0\\nIB,2020-12-21,505,387,0,118,0,0\\nMC,2020-12-21,240,150,0,90,0,0\\nMD,2020-12-21,1921,958,0,963,0,0\\nML,2020-12-21,17,1,0,16,0,0\\nNC,2020-12-21,95,60,0,35,0,0\\nPV,2020-12-21,349,210,0,139,0,0\\nRI,2020-12-21,56,54,0,2,0,0\\nVC,2020-12-21,1919,1450,0,469,0,0\\nAN,2020-12-22,1076,669,0,407,0,0\\nAR,2020-12-22,211,141,0,70,0,0\\nAS,2020-12-22,59,55,0,4,0,0\\nCB,2020-12-22,61,57,0,4,0,0\\nCE,2020-12-22,7,1,0,6,0,0\\nCL,2020-12-22,275,168,0,106,1,0\\nCM,2020-12-22,689,540,0,149,0,0\\nCN,2020-12-22,206,154,0,52,0,0\\nCT,2020-12-22,3153,3145,0,0,7,1\\nEX,2020-12-22,350,183,0,167,0,0\\nGA,2020-12-22,390,345,0,45,0,0\\nIB,2020-12-22,478,376,0,102,0,0\\nMC,2020-12-22,266,153,0,113,0,0\\nMD,2020-12-22,2006,1203,0,803,0,0\\nML,2020-12-22,13,1,0,12,0,0\\nNC,2020-12-22,88,57,0,31,0,0\\nPV,2020-12-22,333,165,0,168,0,0\\nRI,2020-12-22,62,60,0,2,0,0\\nVC,2020-12-22,2183,1703,0,480,0,0\\nAN,2020-12-23,1142,715,0,427,0,0\\nAR,2020-12-23,216,148,0,68,0,0\\nAS,2020-12-23,57,53,0,4,0,0\\nCB,2020-12-23,70,64,0,6,0,0\\nCE,2020-12-23,5,1,0,4,0,0\\nCL,2020-12-23,253,141,0,112,0,0\\nCM,2020-12-23,672,525,0,147,0,0\\nCN,2020-12-23,152,104,0,48,0,0\\nCT,2020-12-23,2889,2875,0,0,14,0\\nEX,2020-12-23,497,309,0,188,0,0\\nGA,2020-12-23,380,351,0,29,0,0\\nIB,2020-12-23,419,335,1,83,0,0\\nMC,2020-12-23,244,156,0,87,0,1\\nMD,2020-12-23,2148,1425,0,723,0,0\\nML,2020-12-23,22,8,0,14,0,0\\nNC,2020-12-23,116,92,0,24,0,0\\nPV,2020-12-23,253,108,0,145,0,0\\nRI,2020-12-23,73,71,0,2,0,0\\nVC,2020-12-23,2350,1866,0,484,0,0\\nAN,2020-12-24,1002,664,0,338,0,0\\nAR,2020-12-24,262,207,0,55,0,0\\nAS,2020-12-24,80,73,0,7,0,0\\nCB,2020-12-24,75,73,0,2,0,0\\nCE,2020-12-24,8,1,0,7,0,0\\nCL,2020-12-24,222,110,0,112,0,0\\nCM,2020-12-24,555,436,0,119,0,0\\nCN,2020-12-24,193,144,0,49,0,0\\nCT,2020-12-24,2844,2838,0,0,5,1\\nEX,2020-12-24,334,157,0,177,0,0\\nGA,2020-12-24,343,302,0,41,0,0\\nIB,2020-12-24,409,331,0,78,0,0\\nMC,2020-12-24,263,162,0,101,0,0\\nMD,2020-12-24,1293,771,0,522,0,0\\nML,2020-12-24,5,0,0,5,0,0\\nNC,2020-12-24,95,65,0,30,0,0\\nPV,2020-12-24,302,165,0,137,0,0\\nRI,2020-12-24,57,55,0,2,0,0\\nVC,2020-12-24,2104,1670,0,434,0,0\\nAN,2020-12-25,793,467,0,326,0,0\\nAR,2020-12-25,261,166,0,95,0,0\\nAS,2020-12-25,66,56,0,10,0,0\\nCB,2020-12-25,68,65,0,3,0,0\\nCE,2020-12-25,12,1,0,11,0,0\\nCL,2020-12-25,184,88,0,96,0,0\\nCM,2020-12-25,416,300,0,116,0,0\\nCN,2020-12-25,208,157,0,51,0,0\\nCT,2020-12-25,1645,1644,0,0,1,0\\nEX,2020-12-25,287,138,0,149,0,0\\nGA,2020-12-25,307,287,0,20,0,0\\nIB,2020-12-25,359,285,0,74,0,0\\nMC,2020-12-25,231,142,0,89,0,0\\nMD,2020-12-25,1170,577,0,593,0,0\\nML,2020-12-25,9,0,0,9,0,0\\nNC,2020-12-25,79,52,0,27,0,0\\nPV,2020-12-25,226,145,0,81,0,0\\nRI,2020-12-25,62,59,0,3,0,0\\nVC,2020-12-25,1456,1079,0,377,0,0\\nAN,2020-12-26,866,485,0,381,0,0\\nAR,2020-12-26,242,146,0,96,0,0\\nAS,2020-12-26,131,125,0,6,0,0\\nCB,2020-12-26,98,94,0,4,0,0\\nCE,2020-12-26,18,1,0,17,0,0\\nCL,2020-12-26,250,132,0,118,0,0\\nCM,2020-12-26,469,335,0,134,0,0\\nCN,2020-12-26,169,123,0,46,0,0\\nCT,2020-12-26,2038,2036,0,0,2,0\\nEX,2020-12-26,528,310,0,218,0,0\\nGA,2020-12-26,398,351,0,47,0,0\\nIB,2020-12-26,353,267,0,86,0,0\\nMC,2020-12-26,318,183,0,135,0,0\\nMD,2020-12-26,1593,747,0,846,0,0\\nML,2020-12-26,16,7,0,9,0,0\\nNC,2020-12-26,108,79,0,29,0,0\\nPV,2020-12-26,373,258,0,115,0,0\\nRI,2020-12-26,69,68,0,1,0,0\\nVC,2020-12-26,1704,1258,0,446,0,0\\nAN,2020-12-27,959,531,0,428,0,0\\nAR,2020-12-27,238,139,0,99,0,0\\nAS,2020-12-27,125,105,0,20,0,0\\nCB,2020-12-27,95,87,0,8,0,0\\nCE,2020-12-27,12,0,0,12,0,0\\nCL,2020-12-27,311,143,0,168,0,0\\nCM,2020-12-27,635,428,0,207,0,0\\nCN,2020-12-27,196,127,0,69,0,0\\nCT,2020-12-27,1960,1960,0,0,0,0\\nEX,2020-12-27,565,283,0,282,0,0\\nGA,2020-12-27,363,318,0,45,0,0\\nIB,2020-12-27,392,287,0,105,0,0\\nMC,2020-12-27,311,154,1,156,0,0\\nMD,2020-12-27,1509,683,0,826,0,0\\nML,2020-12-27,10,2,0,8,0,0\\nNC,2020-12-27,103,65,0,38,0,0\\nPV,2020-12-27,377,276,0,101,0,0\\nRI,2020-12-27,94,91,0,3,0,0\\nVC,2020-12-27,1749,1234,0,515,0,0\\nAN,2020-12-28,1516,831,0,685,0,0\\nAR,2020-12-28,355,240,0,115,0,0\\nAS,2020-12-28,113,98,0,15,0,0\\nCB,2020-12-28,110,107,0,3,0,0\\nCE,2020-12-28,22,7,0,15,0,0\\nCL,2020-12-28,448,234,0,214,0,0\\nCM,2020-12-28,886,628,0,258,0,0\\nCN,2020-12-28,267,211,0,56,0,0\\nCT,2020-12-28,4111,4105,0,0,6,0\\nEX,2020-12-28,643,286,1,354,0,2\\nGA,2020-12-28,532,460,0,72,0,0\\nIB,2020-12-28,471,346,0,125,0,0\\nMC,2020-12-28,451,227,0,223,0,1\\nMD,2020-12-28,2510,1230,0,1280,0,0\\nML,2020-12-28,33,6,0,27,0,0\\nNC,2020-12-28,145,90,0,55,0,0\\nPV,2020-12-28,388,250,0,138,0,0\\nRI,2020-12-28,120,115,0,5,0,0\\nVC,2020-12-28,2926,2114,0,812,0,0\\nAN,2020-12-29,1518,962,0,556,0,0\\nAR,2020-12-29,316,232,0,84,0,0\\nAS,2020-12-29,91,78,0,13,0,0\\nCB,2020-12-29,114,105,0,9,0,0\\nCE,2020-12-29,22,4,0,18,0,0\\nCL,2020-12-29,484,250,0,234,0,0\\nCM,2020-12-29,984,655,0,328,1,0\\nCN,2020-12-29,222,170,0,52,0,0\\nCT,2020-12-29,4240,4229,0,0,10,1\\nEX,2020-12-29,704,347,0,357,0,0\\nGA,2020-12-29,477,428,0,49,0,0\\nIB,2020-12-29,360,282,0,78,0,0\\nMC,2020-12-29,480,258,0,222,0,0\\nMD,2020-12-29,3103,1653,0,1450,0,0\\nML,2020-12-29,22,10,0,12,0,0\\nNC,2020-12-29,130,96,0,34,0,0\\nPV,2020-12-29,367,201,0,166,0,0\\nRI,2020-12-29,118,112,0,6,0,0\\nVC,2020-12-29,2727,2066,0,661,0,0\\nAN,2020-12-30,1544,910,0,634,0,0\\nAR,2020-12-30,344,240,0,104,0,0\\nAS,2020-12-30,60,51,0,9,0,0\\nCB,2020-12-30,97,92,0,5,0,0\\nCE,2020-12-30,14,0,0,14,0,0\\nCL,2020-12-30,475,234,0,241,0,0\\nCM,2020-12-30,1003,738,0,265,0,0\\nCN,2020-12-30,212,158,0,53,0,1\\nCT,2020-12-30,4040,4038,0,0,2,0\\nEX,2020-12-30,687,347,2,338,0,0\\nGA,2020-12-30,473,418,0,55,0,0\\nIB,2020-12-30,260,209,0,51,0,0\\nMC,2020-12-30,476,275,0,201,0,0\\nMD,2020-12-30,3404,2114,0,1290,0,0\\nML,2020-12-30,28,18,0,10,0,0\\nNC,2020-12-30,118,81,0,37,0,0\\nPV,2020-12-30,346,174,0,172,0,0\\nRI,2020-12-30,123,120,0,3,0,0\\nVC,2020-12-30,2933,2227,0,706,0,0\\nAN,2020-12-31,1610,934,0,676,0,0\\nAR,2020-12-31,359,251,0,108,0,0\\nAS,2020-12-31,130,121,0,9,0,0\\nCB,2020-12-31,107,101,0,6,0,0\\nCE,2020-12-31,15,3,0,12,0,0\\nCL,2020-12-31,489,234,0,255,0,0\\nCM,2020-12-31,1009,765,0,243,1,0\\nCN,2020-12-31,241,193,0,48,0,0\\nCT,2020-12-31,2379,2373,0,0,5,1\\nEX,2020-12-31,701,263,0,435,0,3\\nGA,2020-12-31,492,446,0,46,0,0\\nIB,2020-12-31,183,168,0,15,0,0\\nMC,2020-12-31,553,349,0,204,0,0\\nMD,2020-12-31,1538,857,0,681,0,0\\nML,2020-12-31,38,10,0,28,0,0\\nNC,2020-12-31,95,69,0,26,0,0\\nPV,2020-12-31,381,203,0,178,0,0\\nRI,2020-12-31,142,135,0,7,0,0\\nVC,2020-12-31,2847,2117,0,730,0,0\\nAN,2021-01-01,1426,797,0,629,0,0\\nAR,2021-01-01,281,193,0,88,0,0\\nAS,2021-01-01,141,132,0,9,0,0\\nCB,2021-01-01,152,143,0,9,0,0\\nCE,2021-01-01,23,5,0,18,0,0\\nCL,2021-01-01,550,248,0,302,0,0\\nCM,2021-01-01,846,613,0,233,0,0\\nCN,2021-01-01,211,154,0,57,0,0\\nCT,2021-01-01,1588,1587,0,0,1,0\\nEX,2021-01-01,565,238,0,327,0,0\\nGA,2021-01-01,457,412,0,45,0,0\\nIB,2021-01-01,661,509,0,152,0,0\\nMC,2021-01-01,486,267,0,218,0,1\\nMD,2021-01-01,1279,611,0,668,0,0\\nML,2021-01-01,20,6,0,14,0,0\\nNC,2021-01-01,121,82,0,39,0,0\\nPV,2021-01-01,254,147,0,107,0,0\\nRI,2021-01-01,82,75,0,7,0,0\\nVC,2021-01-01,2653,1963,0,690,0,0\\nAN,2021-01-02,1635,870,0,765,0,0\\nAR,2021-01-02,313,186,0,127,0,0\\nAS,2021-01-02,152,145,0,7,0,0\\nCB,2021-01-02,109,103,0,6,0,0\\nCE,2021-01-02,24,0,0,24,0,0\\nCL,2021-01-02,654,284,0,370,0,0\\nCM,2021-01-02,895,626,0,268,1,0\\nCN,2021-01-02,203,149,0,54,0,0\\nCT,2021-01-02,2013,2011,0,0,0,2\\nEX,2021-01-02,727,316,1,410,0,0\\nGA,2021-01-02,553,486,0,67,0,0\\nIB,2021-01-02,727,562,0,165,0,0\\nMC,2021-01-02,677,349,0,327,1,0\\nMD,2021-01-02,1737,868,0,869,0,0\\nML,2021-01-02,23,7,0,16,0,0\\nNC,2021-01-02,119,80,0,39,0,0\\nPV,2021-01-02,375,255,0,120,0,0\\nRI,2021-01-02,98,93,0,5,0,0\\nVC,2021-01-02,2899,2005,0,894,0,0\\nAN,2021-01-03,1915,1012,0,903,0,0\\nAR,2021-01-03,377,237,0,140,0,0\\nAS,2021-01-03,187,172,0,15,0,0\\nCB,2021-01-03,123,114,0,9,0,0\\nCE,2021-01-03,19,0,0,19,0,0\\nCL,2021-01-03,724,309,0,415,0,0\\nCM,2021-01-03,1052,670,0,382,0,0\\nCN,2021-01-03,209,138,0,71,0,0\\nCT,2021-01-03,1960,1959,0,0,0,1\\nEX,2021-01-03,666,300,0,366,0,0\\nGA,2021-01-03,629,559,0,70,0,0\\nIB,2021-01-03,696,539,0,157,0,0\\nMC,2021-01-03,857,433,3,421,0,0\\nMD,2021-01-03,1372,615,0,757,0,0\\nML,2021-01-03,19,7,0,12,0,0\\nNC,2021-01-03,134,72,0,62,0,0\\nPV,2021-01-03,385,273,0,112,0,0\\nRI,2021-01-03,128,123,0,5,0,0\\nVC,2021-01-03,2801,1910,0,891,0,0\\nAN,2021-01-04,2858,1495,0,1363,0,0\\nAR,2021-01-04,502,342,0,160,0,0\\nAS,2021-01-04,152,142,0,10,0,0\\nCB,2021-01-04,125,122,0,3,0,0\\nCE,2021-01-04,26,2,0,24,0,0\\nCL,2021-01-04,1098,441,0,657,0,0\\nCM,2021-01-04,1462,975,0,486,1,0\\nCN,2021-01-04,269,198,0,71,0,0\\nCT,2021-01-04,3886,3878,0,0,8,0\\nEX,2021-01-04,1059,452,1,604,1,1\\nGA,2021-01-04,759,678,0,81,0,0\\nIB,2021-01-04,790,603,0,187,0,0\\nMC,2021-01-04,1198,583,4,607,2,2\\nMD,2021-01-04,4069,1522,0,2547,0,0\\nML,2021-01-04,42,13,0,29,0,0\\nNC,2021-01-04,162,112,0,50,0,0\\nPV,2021-01-04,450,227,0,223,0,0\\nRI,2021-01-04,132,122,0,10,0,0\\nVC,2021-01-04,3926,2791,0,1135,0,0\\nAN,2021-01-05,3327,1879,0,1448,0,0\\nAR,2021-01-05,504,347,0,157,0,0\\nAS,2021-01-05,190,177,0,13,0,0\\nCB,2021-01-05,136,127,0,9,0,0\\nCE,2021-01-05,25,8,0,17,0,0\\nCL,2021-01-05,1211,535,0,676,0,0\\nCM,2021-01-05,1829,1288,0,541,0,0\\nCN,2021-01-05,224,158,0,64,0,2\\nCT,2021-01-05,4036,4026,0,0,8,2\\nEX,2021-01-05,1140,524,0,615,0,1\\nGA,2021-01-05,823,727,0,96,0,0\\nIB,2021-01-05,635,499,0,136,0,0\\nMC,2021-01-05,1242,604,0,635,0,3\\nMD,2021-01-05,6708,3657,0,3051,0,0\\nML,2021-01-05,51,20,0,31,0,0\\nNC,2021-01-05,150,94,0,56,0,0\\nPV,2021-01-05,603,364,0,239,0,0\\nRI,2021-01-05,166,154,0,12,0,0\\nVC,2021-01-05,4823,3546,0,1277,0,0\\nAN,2021-01-06,2775,1663,0,1112,0,0\\nAR,2021-01-06,425,290,0,135,0,0\\nAS,2021-01-06,158,149,0,9,0,0\\nCB,2021-01-06,145,140,0,5,0,0\\nCE,2021-01-06,18,3,0,15,0,0\\nCL,2021-01-06,1057,494,0,563,0,0\\nCM,2021-01-06,1331,934,0,397,0,0\\nCN,2021-01-06,264,196,0,68,0,0\\nCT,2021-01-06,2078,2075,0,0,2,1\\nEX,2021-01-06,1008,442,1,565,0,0\\nGA,2021-01-06,783,714,0,69,0,0\\nIB,2021-01-06,488,357,0,131,0,0\\nMC,2021-01-06,1279,636,0,643,0,0\\nMD,2021-01-06,1735,1002,0,733,0,0\\nML,2021-01-06,23,8,0,15,0,0\\nNC,2021-01-06,175,117,0,58,0,0\\nPV,2021-01-06,442,265,0,177,0,0\\nRI,2021-01-06,161,154,1,6,0,0\\nVC,2021-01-06,4008,2967,0,1041,0,0\\nAN,2021-01-07,3568,1814,0,1754,0,0\\nAR,2021-01-07,518,368,0,150,0,0\\nAS,2021-01-07,190,176,0,14,0,0\\nCB,2021-01-07,167,154,0,13,0,0\\nCE,2021-01-07,24,3,0,21,0,0\\nCL,2021-01-07,1273,509,0,764,0,0\\nCM,2021-01-07,1810,1270,0,539,1,0\\nCN,2021-01-07,226,160,0,66,0,0\\nCT,2021-01-07,3864,3857,0,0,6,1\\nEX,2021-01-07,1109,447,0,661,0,1\\nGA,2021-01-07,903,790,0,113,0,0\\nIB,2021-01-07,699,537,0,162,0,0\\nMC,2021-01-07,1444,647,3,788,3,3\\nMD,2021-01-07,4176,1583,0,2593,0,0\\nML,2021-01-07,38,11,0,27,0,0\\nNC,2021-01-07,146,100,0,45,0,1\\nPV,2021-01-07,541,301,0,240,0,0\\nRI,2021-01-07,255,242,0,13,0,0\\nVC,2021-01-07,4819,3374,0,1445,0,0\\nAN,2021-01-08,4567,2475,0,2092,0,0\\nAR,2021-01-08,592,408,0,184,0,0\\nAS,2021-01-08,236,218,0,18,0,0\\nCB,2021-01-08,218,209,0,9,0,0\\nCE,2021-01-08,38,4,0,34,0,0\\nCL,2021-01-08,1622,630,0,992,0,0\\nCM,2021-01-08,1785,1305,0,479,1,0\\nCN,2021-01-08,252,192,0,60,0,0\\nCT,2021-01-08,4352,4345,0,0,7,0\\nEX,2021-01-08,1271,524,0,747,0,0\\nGA,2021-01-08,934,850,0,84,0,0\\nIB,2021-01-08,704,521,0,183,0,0\\nMC,2021-01-08,1642,767,4,869,2,0\\nMD,2021-01-08,6113,2970,0,3143,0,0\\nML,2021-01-08,55,21,0,34,0,0\\nNC,2021-01-08,170,103,0,67,0,0\\nPV,2021-01-08,682,408,0,274,0,0\\nRI,2021-01-08,263,253,0,10,0,0\\nVC,2021-01-08,5841,4194,0,1647,0,0\\nAN,2021-01-09,4131,2367,0,1764,0,0\\nAR,2021-01-09,605,412,0,193,0,0\\nAS,2021-01-09,319,298,0,21,0,0\\nCB,2021-01-09,145,144,0,1,0,0\\nCE,2021-01-09,26,4,0,22,0,0\\nCL,2021-01-09,1637,706,0,931,0,0\\nCM,2021-01-09,1686,1228,0,457,1,0\\nCN,2021-01-09,302,211,0,91,0,0\\nCT,2021-01-09,2887,2886,0,0,0,1\\nEX,2021-01-09,1189,489,0,700,0,0\\nGA,2021-01-09,988,866,0,122,0,0\\nIB,2021-01-09,678,507,0,171,0,0\\nMC,2021-01-09,1742,844,2,894,0,2\\nMD,2021-01-09,1997,741,0,1256,0,0\\nML,2021-01-09,40,13,0,27,0,0\\nNC,2021-01-09,200,138,0,62,0,0\\nPV,2021-01-09,551,352,0,199,0,0\\nRI,2021-01-09,282,265,0,17,0,0\\nVC,2021-01-09,5404,3849,0,1555,0,0\\nAN,2021-01-10,3476,1766,0,1710,0,0\\nAR,2021-01-10,544,364,0,180,0,0\\nAS,2021-01-10,288,261,0,27,0,0\\nCB,2021-01-10,141,131,0,10,0,0\\nCE,2021-01-10,22,4,0,18,0,0\\nCL,2021-01-10,1569,603,0,966,0,0\\nCM,2021-01-10,1484,960,0,524,0,0\\nCN,2021-01-10,302,202,0,99,0,1\\nCT,2021-01-10,2396,2396,0,0,0,0\\nEX,2021-01-10,1026,409,1,616,0,0\\nGA,2021-01-10,1049,915,0,134,0,0\\nIB,2021-01-10,593,395,0,198,0,0\\nMC,2021-01-10,1504,709,4,787,0,4\\nMD,2021-01-10,2025,581,0,1444,0,0\\nML,2021-01-10,38,14,0,24,0,0\\nNC,2021-01-10,183,109,0,74,0,0\\nPV,2021-01-10,574,354,0,220,0,0\\nRI,2021-01-10,205,186,0,19,0,0\\nVC,2021-01-10,4167,2813,0,1354,0,0\\nAN,2021-01-11,4920,2283,0,2637,0,0\\nAR,2021-01-11,666,458,0,208,0,0\\nAS,2021-01-11,323,294,0,29,0,0\\nCB,2021-01-11,137,130,0,7,0,0\\nCE,2021-01-11,25,7,0,18,0,0\\nCL,2021-01-11,2302,942,1,1359,0,0\\nCM,2021-01-11,1948,1267,0,678,3,0\\nCN,2021-01-11,324,241,0,83,0,0\\nCT,2021-01-11,4860,4856,0,0,4,0\\nEX,2021-01-11,1329,625,0,704,0,0\\nGA,2021-01-11,1340,1164,0,176,0,0\\nIB,2021-01-11,660,469,0,191,0,0\\nMC,2021-01-11,1849,809,0,1034,3,3\\nMD,2021-01-11,4671,1378,0,3293,0,0\\nML,2021-01-11,57,17,0,40,0,0\\nNC,2021-01-11,186,109,0,77,0,0\\nPV,2021-01-11,669,376,0,293,0,0\\nRI,2021-01-11,279,264,0,15,0,0\\nVC,2021-01-11,5684,3802,0,1882,0,0\\nAN,2021-01-12,5576,3015,0,2561,0,0\\nAR,2021-01-12,732,524,0,208,0,0\\nAS,2021-01-12,343,327,0,16,0,0\\nCB,2021-01-12,168,165,0,3,0,0\\nCE,2021-01-12,27,8,0,19,0,0\\nCL,2021-01-12,2392,994,0,1398,0,0\\nCM,2021-01-12,2167,1542,0,622,3,0\\nCN,2021-01-12,349,244,0,105,0,0\\nCT,2021-01-12,4285,4278,0,0,7,0\\nEX,2021-01-12,1406,692,0,713,0,1\\nGA,2021-01-12,1248,1052,0,196,0,0\\nIB,2021-01-12,682,484,0,198,0,0\\nMC,2021-01-12,1936,871,4,1059,0,2\\nMD,2021-01-12,4789,1378,0,3411,0,0\\nML,2021-01-12,70,23,0,47,0,0\\nNC,2021-01-12,212,150,0,62,0,0\\nPV,2021-01-12,662,374,0,288,0,0\\nRI,2021-01-12,295,275,0,20,0,0\\nVC,2021-01-12,6496,4674,0,1822,0,0\\nAN,2021-01-13,5961,3269,0,2692,0,0\\nAR,2021-01-13,794,603,0,191,0,0\\nAS,2021-01-13,265,241,0,24,0,0\\nCB,2021-01-13,161,152,0,9,0,0\\nCE,2021-01-13,33,3,0,30,0,0\\nCL,2021-01-13,2486,1024,0,1462,0,0\\nCM,2021-01-13,2237,1702,0,534,1,0\\nCN,2021-01-13,312,241,0,70,0,1\\nCT,2021-01-13,4037,4033,0,0,4,0\\nEX,2021-01-13,1124,551,0,573,0,0\\nGA,2021-01-13,1364,1173,0,191,0,0\\nIB,2021-01-13,657,493,0,164,0,0\\nMC,2021-01-13,1645,777,4,856,2,6\\nMD,2021-01-13,4389,1175,0,3214,0,0\\nML,2021-01-13,57,18,0,39,0,0\\nNC,2021-01-13,242,139,0,103,0,0\\nPV,2021-01-13,653,373,0,280,0,0\\nRI,2021-01-13,298,285,0,13,0,0\\nVC,2021-01-13,6723,4984,0,1739,0,0\\nAN,2021-01-14,5704,3038,0,2666,0,0\\nAR,2021-01-14,710,536,0,174,0,0\\nAS,2021-01-14,279,255,0,24,0,0\\nCB,2021-01-14,147,143,0,4,0,0\\nCE,2021-01-14,23,5,0,18,0,0\\nCL,2021-01-14,2324,936,0,1388,0,0\\nCM,2021-01-14,2216,1692,0,524,0,0\\nCN,2021-01-14,301,219,0,82,0,0\\nCT,2021-01-14,3779,3769,0,0,9,1\\nEX,2021-01-14,960,500,2,458,0,0\\nGA,2021-01-14,1293,1092,0,201,0,0\\nIB,2021-01-14,642,461,0,181,0,0\\nMC,2021-01-14,1551,771,3,774,0,3\\nMD,2021-01-14,4445,1522,0,2923,0,0\\nML,2021-01-14,56,18,0,38,0,0\\nNC,2021-01-14,247,151,0,96,0,0\\nPV,2021-01-14,587,310,0,277,0,0\\nRI,2021-01-14,224,215,0,9,0,0\\nVC,2021-01-14,5964,4412,0,1552,0,0\\nAN,2021-01-15,6189,3282,0,2907,0,0\\nAR,2021-01-15,779,564,0,215,0,0\\nAS,2021-01-15,276,242,0,34,0,0\\nCB,2021-01-15,145,131,0,14,0,0\\nCE,2021-01-15,27,4,0,23,0,0\\nCL,2021-01-15,2591,1002,0,1589,0,0\\nCM,2021-01-15,2227,1711,0,514,2,0\\nCN,2021-01-15,272,193,0,79,0,0\\nCT,2021-01-15,3868,3865,0,0,2,1\\nEX,2021-01-15,1290,611,0,676,0,3\\nGA,2021-01-15,1360,1103,0,257,0,0\\nIB,2021-01-15,626,448,0,178,0,0\\nMC,2021-01-15,1633,816,2,809,0,6\\nMD,2021-01-15,5586,2213,0,3373,0,0\\nML,2021-01-15,45,17,0,28,0,0\\nNC,2021-01-15,235,122,0,113,0,0\\nPV,2021-01-15,641,291,0,350,0,0\\nRI,2021-01-15,317,293,0,24,0,0\\nVC,2021-01-15,7011,5284,0,1727,0,0\\nAN,2021-01-16,4045,2313,0,1732,0,0\\nAR,2021-01-16,658,452,0,206,0,0\\nAS,2021-01-16,348,310,0,38,0,0\\nCB,2021-01-16,156,151,0,5,0,0\\nCE,2021-01-16,31,2,0,29,0,0\\nCL,2021-01-16,2171,909,0,1262,0,0\\nCM,2021-01-16,1695,1288,0,407,0,0\\nCN,2021-01-16,258,189,0,69,0,0\\nCT,2021-01-16,2307,2304,0,0,1,2\\nEX,2021-01-16,1011,523,0,487,0,1\\nGA,2021-01-16,1331,1087,0,244,0,0\\nIB,2021-01-16,546,408,0,138,0,0\\nMC,2021-01-16,1475,809,4,660,1,1\\nMD,2021-01-16,3056,1471,0,1585,0,0\\nML,2021-01-16,53,19,0,34,0,0\\nNC,2021-01-16,211,129,0,82,0,0\\nPV,2021-01-16,677,435,0,242,0,0\\nRI,2021-01-16,323,312,0,11,0,0\\nVC,2021-01-16,5110,3720,0,1390,0,0\\nAN,2021-01-17,3092,1663,0,1429,0,0\\nAR,2021-01-17,534,367,0,167,0,0\\nAS,2021-01-17,406,363,0,43,0,0\\nCB,2021-01-17,182,176,0,6,0,0\\nCE,2021-01-17,23,1,1,21,0,0\\nCL,2021-01-17,2285,1034,0,1251,0,0\\nCM,2021-01-17,1065,691,0,374,0,0\\nCN,2021-01-17,231,139,0,92,0,0\\nCT,2021-01-17,1847,1847,0,0,0,0\\nEX,2021-01-17,996,503,0,493,0,0\\nGA,2021-01-17,1379,1096,0,283,0,0\\nIB,2021-01-17,467,341,0,126,0,0\\nMC,2021-01-17,1194,637,4,553,0,0\\nMD,2021-01-17,2297,927,0,1370,0,0\\nML,2021-01-17,47,13,0,34,0,0\\nNC,2021-01-17,207,123,0,84,0,0\\nPV,2021-01-17,709,466,0,243,0,0\\nRI,2021-01-17,277,247,0,30,0,0\\nVC,2021-01-17,3581,2527,0,1054,0,0\\nAN,2021-01-18,4654,1982,0,2672,0,0\\nAR,2021-01-18,632,421,0,211,0,0\\nAS,2021-01-18,505,449,0,56,0,0\\nCB,2021-01-18,204,197,0,7,0,0\\nCE,2021-01-18,42,3,0,39,0,0\\nCL,2021-01-18,2673,1008,0,1665,0,0\\nCM,2021-01-18,1577,1135,0,442,0,0\\nCN,2021-01-18,302,205,0,97,0,0\\nCT,2021-01-18,3949,3940,0,0,6,3\\nEX,2021-01-18,1142,571,0,571,0,0\\nGA,2021-01-18,1786,1400,0,386,0,0\\nIB,2021-01-18,541,416,0,125,0,0\\nMC,2021-01-18,1325,627,2,694,0,2\\nMD,2021-01-18,5215,1867,0,3348,0,0\\nML,2021-01-18,70,16,0,54,0,0\\nNC,2021-01-18,225,135,0,90,0,0\\nPV,2021-01-18,843,474,0,369,0,0\\nRI,2021-01-18,290,263,0,27,0,0\\nVC,2021-01-18,4210,2810,0,1400,0,0\\nAN,2021-01-19,5605,3023,0,2582,0,0\\nAR,2021-01-19,709,509,0,200,0,0\\nAS,2021-01-19,515,449,0,66,0,0\\nCB,2021-01-19,196,188,0,8,0,0\\nCE,2021-01-19,40,4,0,36,0,0\\nCL,2021-01-19,2663,1166,0,1497,0,0\\nCM,2021-01-19,1516,1176,0,340,0,0\\nCN,2021-01-19,288,203,0,85,0,0\\nCT,2021-01-19,3820,3812,0,0,7,1\\nEX,2021-01-19,1227,717,0,510,0,0\\nGA,2021-01-19,1647,1282,0,365,0,0\\nIB,2021-01-19,464,349,0,115,0,0\\nMC,2021-01-19,1229,590,3,634,0,2\\nMD,2021-01-19,6378,3355,0,3023,0,0\\nML,2021-01-19,74,16,0,58,0,0\\nNC,2021-01-19,229,134,0,95,0,0\\nPV,2021-01-19,830,445,0,385,0,0\\nRI,2021-01-19,396,373,0,23,0,0\\nVC,2021-01-19,4511,3113,0,1398,0,0\\nAN,2021-01-20,5673,3126,0,2547,0,0\\nAR,2021-01-20,559,407,0,152,0,0\\nAS,2021-01-20,387,319,0,68,0,0\\nCB,2021-01-20,135,133,0,2,0,0\\nCE,2021-01-20,48,4,0,44,0,0\\nCL,2021-01-20,2735,1292,0,1443,0,0\\nCM,2021-01-20,1607,1299,0,308,0,0\\nCN,2021-01-20,252,189,0,63,0,0\\nCT,2021-01-20,3393,3369,0,0,23,1\\nEX,2021-01-20,855,553,0,302,0,0\\nGA,2021-01-20,1481,1169,0,312,0,0\\nIB,2021-01-20,352,260,0,92,0,0\\nMC,2021-01-20,1069,523,2,542,0,2\\nMD,2021-01-20,4521,2472,0,2049,0,0\\nML,2021-01-20,71,20,0,51,0,0\\nNC,2021-01-20,233,144,0,89,0,0\\nPV,2021-01-20,886,466,0,420,0,0\\nRI,2021-01-20,246,238,0,8,0,0\\nVC,2021-01-20,4688,3551,0,1137,0,0\\nAN,2021-01-21,6149,3573,0,2576,0,0\\nAR,2021-01-21,524,361,0,163,0,0\\nAS,2021-01-21,513,472,0,41,0,0\\nCB,2021-01-21,171,162,0,9,0,0\\nCE,2021-01-21,29,3,0,26,0,0\\nCL,2021-01-21,2013,846,0,1167,0,0\\nCM,2021-01-21,1170,957,0,212,1,0\\nCN,2021-01-21,231,174,0,57,0,0\\nCT,2021-01-21,3147,3142,0,0,5,0\\nEX,2021-01-21,737,417,0,320,0,0\\nGA,2021-01-21,1424,1142,0,282,0,0\\nIB,2021-01-21,318,231,0,87,0,0\\nMC,2021-01-21,747,358,2,387,0,0\\nMD,2021-01-21,3896,2062,0,1834,0,0\\nML,2021-01-21,37,12,0,25,0,0\\nNC,2021-01-21,209,144,0,65,0,0\\nPV,2021-01-21,741,341,0,400,0,0\\nRI,2021-01-21,235,223,0,12,0,0\\nVC,2021-01-21,4076,3076,0,1000,0,0\\nAN,2021-01-22,6472,3865,0,2607,0,0\\nAR,2021-01-22,491,371,0,120,0,0\\nAS,2021-01-22,41,1,0,40,0,0\\nCB,2021-01-22,58,48,0,10,0,0\\nCE,2021-01-22,20,3,0,17,0,0\\nCL,2021-01-22,1130,332,0,798,0,0\\nCM,2021-01-22,833,717,0,116,0,0\\nCN,2021-01-22,123,91,0,32,0,0\\nCT,2021-01-22,2972,2969,0,0,3,0\\nEX,2021-01-22,163,68,0,95,0,0\\nGA,2021-01-22,382,241,0,141,0,0\\nIB,2021-01-22,186,128,0,58,0,0\\nMC,2021-01-22,528,320,1,206,0,1\\nMD,2021-01-22,4665,2910,0,1755,0,0\\nML,2021-01-22,28,8,0,20,0,0\\nNC,2021-01-22,148,95,0,53,0,0\\nPV,2021-01-22,487,76,0,411,0,0\\nRI,2021-01-22,40,36,0,4,0,0\\nVC,2021-01-22,3095,2503,0,592,0,0\\nAN,2021-01-23,3828,2974,0,854,0,0\\nAR,2021-01-23,281,211,0,70,0,0\\nAS,2021-01-23,20,2,0,18,0,0\\nCB,2021-01-23,14,12,0,2,0,0\\nCE,2021-01-23,8,1,0,7,0,0\\nCL,2021-01-23,625,185,0,440,0,0\\nCM,2021-01-23,243,209,0,33,1,0\\nCN,2021-01-23,124,109,0,15,0,0\\nCT,2021-01-23,1089,1089,0,0,0,0\\nEX,2021-01-23,58,17,0,41,0,0\\nGA,2021-01-23,147,109,0,38,0,0\\nIB,2021-01-23,103,87,0,16,0,0\\nMC,2021-01-23,281,219,0,61,0,1\\nMD,2021-01-23,872,488,0,384,0,0\\nML,2021-01-23,23,2,0,21,0,0\\nNC,2021-01-23,85,69,0,16,0,0\\nPV,2021-01-23,239,0,0,239,0,0\\nRI,2021-01-23,40,38,0,2,0,0\\nVC,2021-01-23,1570,1240,0,330,0,0\\nAN,2021-01-24,259,178,0,81,0,0\\nAR,2021-01-24,300,242,0,58,0,0\\nAS,2021-01-24,7,0,0,7,0,0\\nCB,2021-01-24,5,5,0,0,0,0\\nCE,2021-01-24,8,0,0,8,0,0\\nCL,2021-01-24,262,78,0,184,0,0\\nCM,2021-01-24,46,39,0,7,0,0\\nCN,2021-01-24,63,58,0,5,0,0\\nCT,2021-01-24,744,744,0,0,0,0\\nEX,2021-01-24,5,1,0,4,0,0\\nGA,2021-01-24,11,7,0,4,0,0\\nIB,2021-01-24,40,35,0,5,0,0\\nMC,2021-01-24,55,52,0,3,0,0\\nMD,2021-01-24,466,194,0,272,0,0\\nML,2021-01-24,15,4,0,11,0,0\\nNC,2021-01-24,67,64,0,3,0,0\\nPV,2021-01-24,289,3,0,286,0,0\\nRI,2021-01-24,16,15,0,1,0,0\\nVC,2021-01-24,1018,906,0,112,0,0\\nAN,2021-01-25,0,0,0,0,0,0\\nAR,2021-01-25,0,0,0,0,0,0\\nAS,2021-01-25,0,0,0,0,0,0\\nCB,2021-01-25,0,0,0,0,0,0\\nCE,2021-01-25,4,1,0,2,1,0\\nCL,2021-01-25,0,0,0,0,0,0\\nCM,2021-01-25,0,0,0,0,0,0\\nCN,2021-01-25,1,1,0,0,0,0\\nCT,2021-01-25,0,0,0,0,0,0\\nEX,2021-01-25,0,0,0,0,0,0\\nGA,2021-01-25,0,0,0,0,0,0\\nIB,2021-01-25,0,0,0,0,0,0\\nMC,2021-01-25,0,0,0,0,0,0\\nMD,2021-01-25,0,0,0,0,0,0\\nML,2021-01-25,0,0,0,0,0,0\\nNC,2021-01-25,0,0,0,0,0,0\\nPV,2021-01-25,0,0,0,0,0,0\\nRI,2021-01-25,0,0,0,0,0,0\\nVC,2021-01-25,108,84,0,24,0,0\\n'}"
            ]
          },
          "metadata": {},
          "execution_count": 1
        }
      ]
    },
    {
      "cell_type": "markdown",
      "metadata": {
        "id": "3PZfAWZNnZ1t"
      },
      "source": [
        "5.2 Leer el CSV en un Dataframe filtrarlo y salvarlo"
      ]
    },
    {
      "cell_type": "code",
      "metadata": {
        "id": "zhA1hKrIna_I"
      },
      "source": [
        "data = spark.read.csv('casos_diagnostico_ccaa.csv',inferSchema=True, header=True)"
      ],
      "execution_count": 8,
      "outputs": []
    },
    {
      "cell_type": "markdown",
      "metadata": {
        "id": "RmedMj_TnzMd"
      },
      "source": [
        "####5.3 **Ejercicio 3.1) Filtrado del archivo csv, quedándote únicamente con las columnas “ccaa_iso”,“fecha” y “num_casos”**"
      ]
    },
    {
      "cell_type": "code",
      "metadata": {
        "id": "n98D6gmvn0Lb"
      },
      "source": [
        "dataF=data.select(\"ccaa_iso\",\"fecha\",\"num_casos\")"
      ],
      "execution_count": 9,
      "outputs": []
    },
    {
      "cell_type": "markdown",
      "metadata": {
        "id": "B4hAGrPLoYze"
      },
      "source": [
        "####5.4 **Ejercicio 3.2) Guardar solo los datos filtrados**"
      ]
    },
    {
      "cell_type": "code",
      "metadata": {
        "id": "V4Yf0a7LoeDZ"
      },
      "source": [
        "dataF.write.csv(\"casos_diagnostico_ccaa_filtrados.csv\")"
      ],
      "execution_count": 10,
      "outputs": []
    },
    {
      "cell_type": "markdown",
      "metadata": {
        "id": "0IKoEndeosD9"
      },
      "source": [
        "####5.5 Leemos este nuevo archivo en un RDD"
      ]
    },
    {
      "cell_type": "code",
      "metadata": {
        "id": "wsD5stivouk1"
      },
      "source": [
        "rddL=sc.textFile(\"casos_diagnostico_ccaa_filtrados.csv\")\n",
        "rddL.collect()"
      ],
      "execution_count": null,
      "outputs": []
    },
    {
      "cell_type": "markdown",
      "metadata": {
        "id": "uI3Jl3osq1gY"
      },
      "source": [
        "####5.6 **Ejercicio 3.3) Creación de una tabla en Apache Hive partiendo del archivo anterior**"
      ]
    },
    {
      "cell_type": "code",
      "metadata": {
        "colab": {
          "base_uri": "https://localhost:8080/"
        },
        "id": "GKwAiRgMq3KN",
        "outputId": "99287350-a5e5-412c-a896-5210810dbaf8"
      },
      "source": [
        "from pyspark.sql import HiveContext\n",
        "hiveCtx = HiveContext(sc)\n",
        "ex1 = hiveCtx.read.csv(\"casos_diagnostico_ccaa_filtrados.csv\")\n",
        "ex1.registerTempTable(\"ccaa\")\n",
        "results = hiveCtx.sql(\"SELECT * FROM ccaa\").show()"
      ],
      "execution_count": 15,
      "outputs": [
        {
          "output_type": "stream",
          "name": "stderr",
          "text": [
            "/content/spark-3.2.0-bin-hadoop3.2/python/pyspark/sql/context.py:604: FutureWarning: HiveContext is deprecated in Spark 2.0.0. Please use SparkSession.builder.enableHiveSupport().getOrCreate() instead.\n",
            "  FutureWarning\n",
            "/content/spark-3.2.0-bin-hadoop3.2/python/pyspark/sql/dataframe.py:140: FutureWarning: Deprecated in 2.0, use createOrReplaceTempView instead.\n",
            "  FutureWarning\n"
          ]
        },
        {
          "output_type": "stream",
          "name": "stdout",
          "text": [
            "+---+----------+---+\n",
            "|_c0|       _c1|_c2|\n",
            "+---+----------+---+\n",
            "| AN|2020-01-01|  0|\n",
            "| AR|2020-01-01|  0|\n",
            "| AS|2020-01-01|  0|\n",
            "| CB|2020-01-01|  0|\n",
            "| CE|2020-01-01|  1|\n",
            "| CL|2020-01-01|  0|\n",
            "| CM|2020-01-01|  0|\n",
            "| CN|2020-01-01|  0|\n",
            "| CT|2020-01-01|  3|\n",
            "| EX|2020-01-01|  0|\n",
            "| GA|2020-01-01|  0|\n",
            "| IB|2020-01-01|  0|\n",
            "| MC|2020-01-01|  0|\n",
            "| MD|2020-01-01|  3|\n",
            "| ML|2020-01-01|  0|\n",
            "| NC|2020-01-01|  0|\n",
            "| PV|2020-01-01|  0|\n",
            "| RI|2020-01-01|  0|\n",
            "| VC|2020-01-01|  3|\n",
            "| AN|2020-01-02|  0|\n",
            "+---+----------+---+\n",
            "only showing top 20 rows\n",
            "\n"
          ]
        }
      ]
    }
  ]
}